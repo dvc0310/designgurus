{
 "cells": [
  {
   "cell_type": "code",
   "execution_count": 30,
   "metadata": {},
   "outputs": [],
   "source": [
    "class Solution:\n",
    "    def findRange(self, arr, key):\n",
    "        left = self.find_index(arr, key, False)\n",
    "        right = self.find_index(arr, key, True)\n",
    "\n",
    "        return [left, right]\n",
    "    \n",
    "    def find_index(self, arr, key, find_right):\n",
    "        l = 0\n",
    "        r = len(arr) - 1\n",
    "        idx = -1\n",
    "\n",
    "        while l <= r:\n",
    "            m = ((r - l) // 2) + l\n",
    "            if key < arr[m]:\n",
    "                r = m - 1\n",
    "            elif key > arr[m]:\n",
    "                l = m + 1\n",
    "            else:\n",
    "                idx = m\n",
    "                if find_right:\n",
    "                    l = m + 1\n",
    "                else:\n",
    "                    r = m - 1  \n",
    "        \n",
    "        return idx\n"
   ]
  },
  {
   "cell_type": "code",
   "execution_count": 23,
   "metadata": {},
   "outputs": [],
   "source": [
    "class Solution:\n",
    "  def findRange(self, arr, key):\n",
    "    result = [- 1, -1]\n",
    "    result[0] = self.binary_search(arr, key, False)\n",
    "    if result[0] != -1:  # no need to search, if 'key' is not present in the input array\n",
    "      result[1] = self.binary_search(arr, key, True)\n",
    "    return result\n",
    "\n",
    "\n",
    "  # modified Binary Search\n",
    "  def binary_search(self, arr, key, findMaxIndex):\n",
    "    keyIndex = -1\n",
    "    start, end = 0, len(arr) - 1\n",
    "    while start <= end:\n",
    "      mid = start + (end - start) // 2\n",
    "      if key < arr[mid]:\n",
    "        end = mid - 1\n",
    "      elif key > arr[mid]:\n",
    "        start = mid + 1\n",
    "      else:  # key == arr[mid]\n",
    "        keyIndex = mid\n",
    "        if findMaxIndex:\n",
    "          start = mid + 1  # search ahead to find the last index of 'key'\n",
    "        else:\n",
    "          end = mid - 1  # search behind to find the first index of 'key'\n",
    "\n",
    "    return keyIndex\n"
   ]
  },
  {
   "cell_type": "code",
   "execution_count": 31,
   "metadata": {},
   "outputs": [
    {
     "data": {
      "text/plain": [
       "[1, 3]"
      ]
     },
     "execution_count": 31,
     "metadata": {},
     "output_type": "execute_result"
    }
   ],
   "source": [
    "lst = [4, 6, 6, 6, 9]\n",
    "key = 6\n",
    "\n",
    "Solution().findRange(lst, key)"
   ]
  },
  {
   "cell_type": "code",
   "execution_count": 26,
   "metadata": {},
   "outputs": [
    {
     "data": {
      "text/plain": [
       "[3, 3]"
      ]
     },
     "execution_count": 26,
     "metadata": {},
     "output_type": "execute_result"
    }
   ],
   "source": [
    "lst = [1, 3, 8, 10, 15]\n",
    "key = 10\n",
    "\n",
    "Solution().findRange(lst, key)"
   ]
  },
  {
   "cell_type": "code",
   "execution_count": 25,
   "metadata": {},
   "outputs": [
    {
     "data": {
      "text/plain": [
       "[-1, -1]"
      ]
     },
     "execution_count": 25,
     "metadata": {},
     "output_type": "execute_result"
    }
   ],
   "source": [
    "lst = [1, 3, 8, 10, 15]\n",
    "key = 12\n",
    "\n",
    "Solution().findRange(lst, key)"
   ]
  },
  {
   "cell_type": "code",
   "execution_count": 32,
   "metadata": {},
   "outputs": [
    {
     "data": {
      "text/plain": [
       "[1, 8]"
      ]
     },
     "execution_count": 32,
     "metadata": {},
     "output_type": "execute_result"
    }
   ],
   "source": [
    "lst = [0, 1, 1, 1, 1, 1, 1, 1, 1, 8]\n",
    "key = 1\n",
    "\n",
    "Solution().findRange(lst, key)"
   ]
  }
 ],
 "metadata": {
  "kernelspec": {
   "display_name": "3.9.6",
   "language": "python",
   "name": "python3"
  },
  "language_info": {
   "codemirror_mode": {
    "name": "ipython",
    "version": 3
   },
   "file_extension": ".py",
   "mimetype": "text/x-python",
   "name": "python",
   "nbconvert_exporter": "python",
   "pygments_lexer": "ipython3",
   "version": "3.9.6"
  }
 },
 "nbformat": 4,
 "nbformat_minor": 2
}
