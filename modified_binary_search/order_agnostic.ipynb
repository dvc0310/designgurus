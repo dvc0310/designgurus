{
 "cells": [
  {
   "cell_type": "code",
   "execution_count": 50,
   "metadata": {},
   "outputs": [],
   "source": [
    "class Solution:\n",
    "    def search(self, arr, key):\n",
    "        # TODO: Write your code here\n",
    "        l = 0\n",
    "        r = len(arr) - 1\n",
    "        \n",
    "        rev = arr[l] > arr[r]\n",
    "        \n",
    "        while l <= r:\n",
    "            idx = l + (r - l) // 2\n",
    "            if arr[idx] > key:\n",
    "                if rev:\n",
    "                    l = idx + 1\n",
    "                else:\n",
    "                    r = idx - 1\n",
    "            elif  arr[idx] < key:\n",
    "                if rev:\n",
    "                    r = idx - 1\n",
    "                else:\n",
    "                    l = idx + 1\n",
    "            else:\n",
    "                return idx\n",
    "\n",
    "\n",
    "    \n",
    "        return -1  # element not found\n"
   ]
  },
  {
   "cell_type": "code",
   "execution_count": 51,
   "metadata": {},
   "outputs": [
    {
     "data": {
      "text/plain": [
       "4"
      ]
     },
     "execution_count": 51,
     "metadata": {},
     "output_type": "execute_result"
    }
   ],
   "source": [
    "lst = [1, 2, 3, 4, 5, 6, 7]\n",
    "key = 5\n",
    "Solution().search(lst, key)"
   ]
  },
  {
   "cell_type": "code",
   "execution_count": 52,
   "metadata": {},
   "outputs": [
    {
     "data": {
      "text/plain": [
       "2"
      ]
     },
     "execution_count": 52,
     "metadata": {},
     "output_type": "execute_result"
    }
   ],
   "source": [
    "lst = [7,6,5,4,3,2,1]\n",
    "key = 5\n",
    "Solution().search(lst, key)"
   ]
  },
  {
   "cell_type": "code",
   "execution_count": 53,
   "metadata": {},
   "outputs": [
    {
     "data": {
      "text/plain": [
       "3"
      ]
     },
     "execution_count": 53,
     "metadata": {},
     "output_type": "execute_result"
    }
   ],
   "source": [
    "lst = [2, 4, 6, 8, 10, 12]\n",
    "key = 8\n",
    "Solution().search(lst, key)\n",
    "# Expected output: Index 3\n"
   ]
  },
  {
   "cell_type": "code",
   "execution_count": 54,
   "metadata": {},
   "outputs": [
    {
     "data": {
      "text/plain": [
       "-1"
      ]
     },
     "execution_count": 54,
     "metadata": {},
     "output_type": "execute_result"
    }
   ],
   "source": [
    "lst = [1, 2, 3, 4, 5, 6, 7]\n",
    "key = 8\n",
    "Solution().search(lst, key)\n",
    "# Expected output: -1 or some indication that the key is not found\n"
   ]
  },
  {
   "cell_type": "code",
   "execution_count": 55,
   "metadata": {},
   "outputs": [
    {
     "data": {
      "text/plain": [
       "4999"
      ]
     },
     "execution_count": 55,
     "metadata": {},
     "output_type": "execute_result"
    }
   ],
   "source": [
    "lst = [i for i in range(1, 10001)]\n",
    "key = 5000\n",
    "Solution().search(lst, key)\n",
    "# Expected output: Index 4999\n"
   ]
  }
 ],
 "metadata": {
  "kernelspec": {
   "display_name": "Python 3",
   "language": "python",
   "name": "python3"
  },
  "language_info": {
   "codemirror_mode": {
    "name": "ipython",
    "version": 3
   },
   "file_extension": ".py",
   "mimetype": "text/x-python",
   "name": "python",
   "nbconvert_exporter": "python",
   "pygments_lexer": "ipython3",
   "version": "3.9.6"
  }
 },
 "nbformat": 4,
 "nbformat_minor": 2
}
