{
 "cells": [
  {
   "cell_type": "code",
   "execution_count": 24,
   "metadata": {},
   "outputs": [],
   "source": [
    "import math\n",
    "\n",
    "class ArrayReader:\n",
    "  def __init__(self, arr):\n",
    "    self.arr = arr\n",
    "\n",
    "  def get(self, index):\n",
    "    if index >= len(self.arr):\n",
    "      return math.inf\n",
    "    return self.arr[index]\n",
    "\n",
    "class Solution:\n",
    "  def searchInfiniteSortedArray(self, reader, key):\n",
    "    # find the proper bounds first\n",
    "    start, end = 0, 1\n",
    "    while reader.get(end) < key:\n",
    "      newStart = end + 1\n",
    "      end += (end - start + 1) * 2\n",
    "      # increase to double the bounds size\n",
    "      start = newStart\n",
    "\n",
    "    return self.binary_search(reader, key, start, end)\n",
    "\n",
    "\n",
    "  def binary_search(self, reader, key, start, end):\n",
    "    while start <= end:\n",
    "      mid = start + (end - start) // 2\n",
    "      if key < reader.get(mid):\n",
    "        end = mid - 1\n",
    "      elif key > reader.get(mid):\n",
    "        start = mid + 1\n",
    "      else:  # found the key\n",
    "        return mid\n",
    "\n",
    "    return -1"
   ]
  },
  {
   "cell_type": "code",
   "execution_count": 25,
   "metadata": {},
   "outputs": [
    {
     "data": {
      "text/plain": [
       "6"
      ]
     },
     "execution_count": 25,
     "metadata": {},
     "output_type": "execute_result"
    }
   ],
   "source": [
    "arr = ArrayReader([4, 6, 8, 10, 12, 14, 16, 18, 20, 22, 24, 26, 28, 30])\n",
    "key = 16\n",
    "Solution().searchInfiniteSortedArray(arr, key)"
   ]
  },
  {
   "cell_type": "code",
   "execution_count": 26,
   "metadata": {},
   "outputs": [
    {
     "data": {
      "text/plain": [
       "5"
      ]
     },
     "execution_count": 26,
     "metadata": {},
     "output_type": "execute_result"
    }
   ],
   "source": [
    "arr = ArrayReader([-18, -12, -10, 1, 3, 4, 8])\n",
    "key = 4\n",
    "Solution().searchInfiniteSortedArray(arr, key)"
   ]
  },
  {
   "cell_type": "code",
   "execution_count": 27,
   "metadata": {},
   "outputs": [
    {
     "data": {
      "text/plain": [
       "2"
      ]
     },
     "execution_count": 27,
     "metadata": {},
     "output_type": "execute_result"
    }
   ],
   "source": [
    "arr = ArrayReader([-18, -12, -10, 1, 3, 4, 8])\n",
    "key = -10\n",
    "Solution().searchInfiniteSortedArray(arr, key)\n",
    "# Expected output: 2 (index of key -10)\n"
   ]
  },
  {
   "cell_type": "code",
   "execution_count": 28,
   "metadata": {},
   "outputs": [
    {
     "data": {
      "text/plain": [
       "6"
      ]
     },
     "execution_count": 28,
     "metadata": {},
     "output_type": "execute_result"
    }
   ],
   "source": [
    "arr = ArrayReader([-18, -12, -10, 1, 3, 4, 8])\n",
    "key = 8\n",
    "Solution().searchInfiniteSortedArray(arr, key)\n",
    "# Expected output: 6 (index of key 8)\n"
   ]
  },
  {
   "cell_type": "code",
   "execution_count": 29,
   "metadata": {},
   "outputs": [
    {
     "data": {
      "text/plain": [
       "12"
      ]
     },
     "execution_count": 29,
     "metadata": {},
     "output_type": "execute_result"
    }
   ],
   "source": [
    "arr = ArrayReader([1, 3, 5, 7, 9, 11, 13, 15, 17, 19, 21, 23, 25, 27, 29, 31, 33])\n",
    "key = 25\n",
    "Solution().searchInfiniteSortedArray(arr, key)\n",
    "# Expected output: 12 (index of key 25)\n"
   ]
  },
  {
   "cell_type": "code",
   "execution_count": 30,
   "metadata": {},
   "outputs": [
    {
     "data": {
      "text/plain": [
       "-1"
      ]
     },
     "execution_count": 30,
     "metadata": {},
     "output_type": "execute_result"
    }
   ],
   "source": [
    "arr = ArrayReader([])\n",
    "key = 4\n",
    "Solution().searchInfiniteSortedArray(arr, key)\n",
    "# Expected output: -1 (array is empty, key not found)\n"
   ]
  },
  {
   "cell_type": "code",
   "execution_count": 31,
   "metadata": {},
   "outputs": [
    {
     "data": {
      "text/plain": [
       "-1"
      ]
     },
     "execution_count": 31,
     "metadata": {},
     "output_type": "execute_result"
    }
   ],
   "source": [
    "arr = ArrayReader([1, 3, 5, 7, 9, 11, 13, 15, 17, 19, 21, 23, 25, 27, 29, 31, 33])\n",
    "key = -25\n",
    "Solution().searchInfiniteSortedArray(arr, key)\n",
    "# Expected output: 12 (index of key 25)"
   ]
  },
  {
   "cell_type": "code",
   "execution_count": 33,
   "metadata": {},
   "outputs": [
    {
     "data": {
      "text/plain": [
       "1"
      ]
     },
     "execution_count": 33,
     "metadata": {},
     "output_type": "execute_result"
    }
   ],
   "source": [
    "arr = ArrayReader([1, 1, 1, 1, 1, 1, 1, 2])\n",
    "key = 1\n",
    "Solution().searchInfiniteSortedArray(arr, key)\n",
    "# Expected output: 12 (index of key 25)"
   ]
  }
 ],
 "metadata": {
  "kernelspec": {
   "display_name": "3.9.6",
   "language": "python",
   "name": "python3"
  },
  "language_info": {
   "codemirror_mode": {
    "name": "ipython",
    "version": 3
   },
   "file_extension": ".py",
   "mimetype": "text/x-python",
   "name": "python",
   "nbconvert_exporter": "python",
   "pygments_lexer": "ipython3",
   "version": "3.9.6"
  }
 },
 "nbformat": 4,
 "nbformat_minor": 2
}
