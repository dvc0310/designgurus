{
 "cells": [
  {
   "cell_type": "code",
   "execution_count": 9,
   "metadata": {},
   "outputs": [],
   "source": [
    "class Solution:\n",
    "    def searchNextLetter(self, letters, key):\n",
    "        # TODO: Write your code here\n",
    "        idx = self.search(letters, key)\n",
    "        return letters[idx % len(letters)]\n",
    "    \n",
    "    def search(self, letters, key):\n",
    "        l = 0\n",
    "        r = len(letters) - 1\n",
    "        while l <= r:\n",
    "            m = ((r - l) // 2) + l\n",
    "            if letters[m] > key:\n",
    "                r = m - 1\n",
    "            else:\n",
    "                l = m + 1\n",
    "        return l\n"
   ]
  },
  {
   "cell_type": "code",
   "execution_count": 10,
   "metadata": {},
   "outputs": [
    {
     "data": {
      "text/plain": [
       "'a'"
      ]
     },
     "execution_count": 10,
     "metadata": {},
     "output_type": "execute_result"
    }
   ],
   "source": [
    "lst = ['a', 'c', 'f', 'h']\n",
    "key = 'h'\n",
    "Solution().searchNextLetter(lst, key)"
   ]
  }
 ],
 "metadata": {
  "kernelspec": {
   "display_name": "Python 3",
   "language": "python",
   "name": "python3"
  },
  "language_info": {
   "codemirror_mode": {
    "name": "ipython",
    "version": 3
   },
   "file_extension": ".py",
   "mimetype": "text/x-python",
   "name": "python",
   "nbconvert_exporter": "python",
   "pygments_lexer": "ipython3",
   "version": "3.9.6"
  }
 },
 "nbformat": 4,
 "nbformat_minor": 2
}
