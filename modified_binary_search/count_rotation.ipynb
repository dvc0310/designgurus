{
 "cells": [
  {
   "cell_type": "code",
   "execution_count": null,
   "metadata": {},
   "outputs": [],
   "source": [
    "class Solution:\n",
    "  def countRotations(self, arr):\n",
    "    start, end = 0, len(arr) - 1\n",
    "    while start < end:\n",
    "      mid = start + (end - start) // 2\n",
    "\n",
    "      # if mid is greater than the next element\n",
    "      if mid < end and arr[mid] > arr[mid + 1]:\n",
    "        return mid + 1\n",
    "\n",
    "      # if mid is smaller than the previous element\n",
    "      if mid > start and arr[mid - 1] > arr[mid]:\n",
    "        return mid\n",
    "\n",
    "      if arr[start] < arr[mid]:  # left side is sorted, so the pivot is on right side\n",
    "        start = mid + 1\n",
    "      else:  # right side is sorted, so the pivot is on the left side\n",
    "        end = mid - 1\n",
    "\n",
    "    return 0  # the array has not been rotated"
   ]
  },
  {
   "cell_type": "code",
   "execution_count": 41,
   "metadata": {},
   "outputs": [],
   "source": [
    "class Solution:\n",
    "    def countRotations(self, arr):\n",
    "        l = 0\n",
    "        r = len(arr) - 1\n",
    "        while l < r:\n",
    "            m = l + (r - l) // 2\n",
    "            if m - 1 >= 0 and arr[m] < arr[m-1]:\n",
    "                return m\n",
    "            elif arr[m] > arr[m+1]:\n",
    "                return m + 1\n",
    "            \n",
    "            if arr[l] < arr[m]:\n",
    "                l = m\n",
    "            else:\n",
    "                r = m\n",
    "        return 0\n",
    "    \n",
    "\n",
    "\n",
    "\n",
    "sol = Solution()"
   ]
  },
  {
   "cell_type": "code",
   "execution_count": 42,
   "metadata": {},
   "outputs": [
    {
     "data": {
      "text/plain": [
       "2"
      ]
     },
     "execution_count": 42,
     "metadata": {},
     "output_type": "execute_result"
    }
   ],
   "source": [
    "arr = [10, 15, 1, 3, 8]\n",
    "sol.countRotations(arr)"
   ]
  },
  {
   "cell_type": "code",
   "execution_count": 43,
   "metadata": {},
   "outputs": [
    {
     "data": {
      "text/plain": [
       "5"
      ]
     },
     "execution_count": 43,
     "metadata": {},
     "output_type": "execute_result"
    }
   ],
   "source": [
    "arr = [4, 5, 7, 9, 10, -1, 2]\n",
    "sol.countRotations(arr)"
   ]
  },
  {
   "cell_type": "code",
   "execution_count": 44,
   "metadata": {},
   "outputs": [
    {
     "data": {
      "text/plain": [
       "0"
      ]
     },
     "execution_count": 44,
     "metadata": {},
     "output_type": "execute_result"
    }
   ],
   "source": [
    "arr = [1, 3, 8, 10]\n",
    "sol.countRotations(arr)"
   ]
  },
  {
   "cell_type": "code",
   "execution_count": 45,
   "metadata": {},
   "outputs": [
    {
     "data": {
      "text/plain": [
       "1"
      ]
     },
     "execution_count": 45,
     "metadata": {},
     "output_type": "execute_result"
    }
   ],
   "source": [
    "arr = [2, 1]\n",
    "sol.countRotations(arr)"
   ]
  },
  {
   "cell_type": "code",
   "execution_count": 46,
   "metadata": {},
   "outputs": [
    {
     "data": {
      "text/plain": [
       "4"
      ]
     },
     "execution_count": 46,
     "metadata": {},
     "output_type": "execute_result"
    }
   ],
   "source": [
    "arr = [2, 3, 4, 5, 1]\n",
    "sol.countRotations(arr)"
   ]
  }
 ],
 "metadata": {
  "kernelspec": {
   "display_name": "3.9.6",
   "language": "python",
   "name": "python3"
  },
  "language_info": {
   "codemirror_mode": {
    "name": "ipython",
    "version": 3
   },
   "file_extension": ".py",
   "mimetype": "text/x-python",
   "name": "python",
   "nbconvert_exporter": "python",
   "pygments_lexer": "ipython3",
   "version": "3.9.6"
  }
 },
 "nbformat": 4,
 "nbformat_minor": 2
}
