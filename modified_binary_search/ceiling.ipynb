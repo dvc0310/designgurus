{
 "cells": [
  {
   "cell_type": "code",
   "execution_count": 57,
   "metadata": {},
   "outputs": [],
   "source": [
    "class Solution:\n",
    "  def searchCeilingOfANumber(self, arr, key):\n",
    "    l = 0\n",
    "    r = len(arr) - 1\n",
    "\n",
    "    if key > arr[r]:\n",
    "        return -1\n",
    "    if key <= arr[l]:\n",
    "        return 0\n",
    "\n",
    "    while l <= r:\n",
    "        m = l + (r - l) // 2\n",
    "        if arr[m] == key:\n",
    "            return m\n",
    "        if m + 1 <= r and arr[m + 1] > key:\n",
    "            return m + 1\n",
    "        if arr[m] < key:\n",
    "            l = m + 1  \n",
    "        elif arr[m] > key:\n",
    "            r = m - 1\n",
    "    return -1\n"
   ]
  },
  {
   "cell_type": "code",
   "execution_count": 67,
   "metadata": {},
   "outputs": [],
   "source": [
    "class Solution:\n",
    "  def searchCeilingOfANumber(self, arr, key):\n",
    "    n = len(arr)\n",
    "    if key > arr[n - 1]:  # if the 'key' is bigger than the biggest element\n",
    "      return -1\n",
    "\n",
    "    start, end = 0, n - 1\n",
    "    while start <= end:\n",
    "      mid = start + (end - start) // 2\n",
    "      if key < arr[mid]:\n",
    "        end = mid - 1\n",
    "      elif key > arr[mid]:\n",
    "        start = mid + 1\n",
    "      else:  # found the key\n",
    "        return mid\n",
    "\n",
    "    # since the loop is running until 'start <= end', so at the end of the while loop, \n",
    "    # 'start == end+1' we are not able to find the element in the given array, so the next\n",
    "    # big number will be arr[start]\n",
    "    return start\n"
   ]
  },
  {
   "cell_type": "code",
   "execution_count": 68,
   "metadata": {},
   "outputs": [
    {
     "data": {
      "text/plain": [
       "4"
      ]
     },
     "execution_count": 68,
     "metadata": {},
     "output_type": "execute_result"
    }
   ],
   "source": [
    "arr = [1, 3, 8, 10, 15]\n",
    "key = 12\n",
    "Solution().searchCeilingOfANumber(arr, key)"
   ]
  },
  {
   "cell_type": "code",
   "execution_count": 69,
   "metadata": {},
   "outputs": [
    {
     "data": {
      "text/plain": [
       "2"
      ]
     },
     "execution_count": 69,
     "metadata": {},
     "output_type": "execute_result"
    }
   ],
   "source": [
    "arr = [4,6,10]\n",
    "key = 10\n",
    "Solution().searchCeilingOfANumber(arr, key)"
   ]
  },
  {
   "cell_type": "code",
   "execution_count": 70,
   "metadata": {},
   "outputs": [
    {
     "data": {
      "text/plain": [
       "-1"
      ]
     },
     "execution_count": 70,
     "metadata": {},
     "output_type": "execute_result"
    }
   ],
   "source": [
    "arr = [10, 20, 30, 40, 50]\n",
    "key = 55\n",
    "Solution().searchCeilingOfANumber(arr, key)"
   ]
  },
  {
   "cell_type": "code",
   "execution_count": 71,
   "metadata": {},
   "outputs": [
    {
     "data": {
      "text/plain": [
       "4"
      ]
     },
     "execution_count": 71,
     "metadata": {},
     "output_type": "execute_result"
    }
   ],
   "source": [
    "arr = [1, 3, 8, 10, 15]\n",
    "key = 11\n",
    "Solution().searchCeilingOfANumber(arr, key)"
   ]
  },
  {
   "cell_type": "code",
   "execution_count": 72,
   "metadata": {},
   "outputs": [
    {
     "data": {
      "text/plain": [
       "0"
      ]
     },
     "execution_count": 72,
     "metadata": {},
     "output_type": "execute_result"
    }
   ],
   "source": [
    "arr = [1, 3, 8, 10, 15]\n",
    "key = -1\n",
    "Solution().searchCeilingOfANumber(arr, key)"
   ]
  },
  {
   "cell_type": "code",
   "execution_count": 73,
   "metadata": {},
   "outputs": [
    {
     "data": {
      "text/plain": [
       "1"
      ]
     },
     "execution_count": 73,
     "metadata": {},
     "output_type": "execute_result"
    }
   ],
   "source": [
    "arr = [4, 6, 10]\n",
    "key = 6\n",
    "Solution().searchCeilingOfANumber(arr, key)"
   ]
  },
  {
   "cell_type": "code",
   "execution_count": 74,
   "metadata": {},
   "outputs": [
    {
     "data": {
      "text/plain": [
       "0"
      ]
     },
     "execution_count": 74,
     "metadata": {},
     "output_type": "execute_result"
    }
   ],
   "source": [
    "arr = [4, 6, 10]\n",
    "key = 4\n",
    "Solution().searchCeilingOfANumber(arr, key)"
   ]
  },
  {
   "cell_type": "code",
   "execution_count": 75,
   "metadata": {},
   "outputs": [
    {
     "data": {
      "text/plain": [
       "3"
      ]
     },
     "execution_count": 75,
     "metadata": {},
     "output_type": "execute_result"
    }
   ],
   "source": [
    "arr = [1, 3, 5, 7, 9]\n",
    "key = 6\n",
    "Solution().searchCeilingOfANumber(arr, key)"
   ]
  },
  {
   "cell_type": "code",
   "execution_count": 76,
   "metadata": {},
   "outputs": [
    {
     "data": {
      "text/plain": [
       "3"
      ]
     },
     "execution_count": 76,
     "metadata": {},
     "output_type": "execute_result"
    }
   ],
   "source": [
    "arr = [1, 2, 3, 4, 5]\n",
    "key = 4\n",
    "Solution().searchCeilingOfANumber(arr, key)"
   ]
  }
 ],
 "metadata": {
  "kernelspec": {
   "display_name": "Python 3",
   "language": "python",
   "name": "python3"
  },
  "language_info": {
   "codemirror_mode": {
    "name": "ipython",
    "version": 3
   },
   "file_extension": ".py",
   "mimetype": "text/x-python",
   "name": "python",
   "nbconvert_exporter": "python",
   "pygments_lexer": "ipython3",
   "version": "3.9.6"
  }
 },
 "nbformat": 4,
 "nbformat_minor": 2
}
