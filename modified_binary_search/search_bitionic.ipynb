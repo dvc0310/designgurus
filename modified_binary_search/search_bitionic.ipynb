{
 "cells": [
  {
   "cell_type": "code",
   "execution_count": null,
   "metadata": {},
   "outputs": [],
   "source": [
    "class Solution:\n",
    "  def search(self, arr, key):\n",
    "    # TODO: Write your code here\n",
    "    max_idx = self.find_max(arr)\n",
    "    if arr[max_idx] == key:\n",
    "      return max_idx\n",
    "    \n",
    "    increasing = arr[:max_idx]\n",
    "    decreasing = arr[max_idx:]\n",
    "    res1 = self.search_increasing(increasing, key)\n",
    "    res2 = self.search_decreasing(decreasing, key)\n",
    "    if res1 != -1:\n",
    "      return res1\n",
    "    if res2 != -1:\n",
    "      return res2 + len(increasing)\n",
    "    return -1\n",
    "  \n",
    "  def find_max(self, arr):\n",
    "    # TODO: Write your code here\n",
    "    l = 0\n",
    "    r = len(arr) - 1\n",
    "    while l < r:\n",
    "      m = l + (r - l) // 2\n",
    "      if arr[m] > arr[m+1]:\n",
    "        r = m\n",
    "      else:\n",
    "        l = m + 1\n",
    "    return l\n",
    "  \n",
    "  def search_increasing(self, arr, key):\n",
    "    # TODO: Write your code here\n",
    "    l = 0\n",
    "    r = len(arr) - 1\n",
    "    while l <= r:\n",
    "      m = l + ((r - l) // 2)\n",
    "      if arr[m] == key:\n",
    "          return m\n",
    "      if arr[m] > key:\n",
    "        r = m - 1\n",
    "      else:\n",
    "        l = m + 1\n",
    "    return -1\n",
    "  \n",
    "  def search_decreasing(self, arr, key):\n",
    "    # TODO: Write your code here\n",
    "    l = 0\n",
    "    r = len(arr) - 1\n",
    "    while l <= r:\n",
    "      m = l + ((r - l) // 2)\n",
    "      if arr[m] == key:\n",
    "          return m\n",
    "      if arr[m] < key:\n",
    "        r = m - 1\n",
    "      else:\n",
    "        l = m + 1\n",
    "    return -1"
   ]
  },
  {
   "cell_type": "code",
   "execution_count": 27,
   "metadata": {},
   "outputs": [
    {
     "data": {
      "text/plain": [
       "3"
      ]
     },
     "execution_count": 27,
     "metadata": {},
     "output_type": "execute_result"
    }
   ],
   "source": [
    "arr = [1, 3, 8, 4, 3]\n",
    "key = 4\n",
    "Solution().search(arr, key)"
   ]
  },
  {
   "cell_type": "code",
   "execution_count": 28,
   "metadata": {},
   "outputs": [
    {
     "data": {
      "text/plain": [
       "5"
      ]
     },
     "execution_count": 28,
     "metadata": {},
     "output_type": "execute_result"
    }
   ],
   "source": [
    "arr = [1, 3, 8, 9, 11, 12, 14]\n",
    "key = 12\n",
    "\n",
    "Solution().search_increasing(arr, key)"
   ]
  },
  {
   "cell_type": "code",
   "execution_count": 29,
   "metadata": {},
   "outputs": [
    {
     "name": "stdout",
     "output_type": "stream",
     "text": [
      "[1, 3]\n",
      "[8, 4, 3]\n"
     ]
    }
   ],
   "source": [
    "arr = [1, 3, 8, 4, 3]\n",
    "\n",
    "increasing = arr[:2]\n",
    "decreasing = arr[2:]\n",
    "\n",
    "print(increasing)\n",
    "print(decreasing)"
   ]
  }
 ],
 "metadata": {
  "kernelspec": {
   "display_name": "3.9.6",
   "language": "python",
   "name": "python3"
  },
  "language_info": {
   "codemirror_mode": {
    "name": "ipython",
    "version": 3
   },
   "file_extension": ".py",
   "mimetype": "text/x-python",
   "name": "python",
   "nbconvert_exporter": "python",
   "pygments_lexer": "ipython3",
   "version": "3.9.6"
  }
 },
 "nbformat": 4,
 "nbformat_minor": 2
}
