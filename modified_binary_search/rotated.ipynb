{
 "cells": [
  {
   "cell_type": "code",
   "execution_count": 57,
   "metadata": {},
   "outputs": [],
   "source": [
    "class Solution:\n",
    "  def search(self, arr, key):\n",
    "    rotate_idx = self.find_min(arr)\n",
    "    if rotate_idx != -1:\n",
    "      lst1 = arr[:rotate_idx]\n",
    "      lst2 = arr[rotate_idx:]\n",
    "      res1 = self.binary_search(lst1, key)\n",
    "      res2 = self.binary_search(lst2, key) + len(lst1)\n",
    "      if res1 != -1:\n",
    "          return res1\n",
    "      if res2 != -1:\n",
    "          return res2\n",
    "\n",
    "    return self.binary_search(arr, key)\n",
    "\n",
    "  def binary_search(self, arr, key):\n",
    "     l = 0\n",
    "     r = len(arr) - 1\n",
    "     while l <= r:\n",
    "        m = l + (r - l) // 2\n",
    "        if arr[m] < key:\n",
    "          l = m + 1\n",
    "        elif arr[m] > key:\n",
    "          r = m - 1 \n",
    "        else:\n",
    "           return m\n",
    "     return -1\n",
    "  \n",
    "  def find_min(self, arr):\n",
    "    l = 0\n",
    "    r = len(arr) - 1\n",
    "\n",
    "    while l < r:\n",
    "        m = l + (r - l) // 2\n",
    "        if arr[m] < arr[m-1]:\n",
    "            return m\n",
    "        if arr[l] < arr[m]:\n",
    "            l = m\n",
    "        else:\n",
    "            r = m\n",
    "\n",
    "    return -1\n"
   ]
  },
  {
   "cell_type": "code",
   "execution_count": 58,
   "metadata": {},
   "outputs": [
    {
     "data": {
      "text/plain": [
       "2"
      ]
     },
     "execution_count": 58,
     "metadata": {},
     "output_type": "execute_result"
    }
   ],
   "source": [
    "arr = [4, 5, 7, 9, 10, -1, 2]\n",
    "sol = Solution()\n",
    "sol.search(arr, 7)"
   ]
  },
  {
   "cell_type": "code",
   "execution_count": 59,
   "metadata": {},
   "outputs": [
    {
     "data": {
      "text/plain": [
       "0"
      ]
     },
     "execution_count": 59,
     "metadata": {},
     "output_type": "execute_result"
    }
   ],
   "source": [
    "arr = [10, 15, 1, 3, 8]\n",
    "sol = Solution()\n",
    "sol.search(arr, 10)"
   ]
  },
  {
   "cell_type": "code",
   "execution_count": 60,
   "metadata": {},
   "outputs": [
    {
     "data": {
      "text/plain": [
       "5"
      ]
     },
     "execution_count": 60,
     "metadata": {},
     "output_type": "execute_result"
    }
   ],
   "source": [
    "arr = [-1, 2, 4, 5, 7, 9]\n",
    "sol = Solution()\n",
    "sol.search(arr, 9)"
   ]
  },
  {
   "cell_type": "code",
   "execution_count": 61,
   "metadata": {},
   "outputs": [
    {
     "data": {
      "text/plain": [
       "4"
      ]
     },
     "execution_count": 61,
     "metadata": {},
     "output_type": "execute_result"
    }
   ],
   "source": [
    "arr = [4, 5, 6, 7, 0, 1, 2, 3]\n",
    "sol = Solution()\n",
    "sol.search(arr, 0)"
   ]
  }
 ],
 "metadata": {
  "kernelspec": {
   "display_name": "3.9.6",
   "language": "python",
   "name": "python3"
  },
  "language_info": {
   "codemirror_mode": {
    "name": "ipython",
    "version": 3
   },
   "file_extension": ".py",
   "mimetype": "text/x-python",
   "name": "python",
   "nbconvert_exporter": "python",
   "pygments_lexer": "ipython3",
   "version": "3.9.6"
  }
 },
 "nbformat": 4,
 "nbformat_minor": 2
}
