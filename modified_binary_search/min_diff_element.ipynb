{
 "cells": [
  {
   "cell_type": "code",
   "execution_count": 21,
   "metadata": {},
   "outputs": [],
   "source": [
    "class Solution:\n",
    "  def searchMinDiffElement(self, arr, key):\n",
    "    # TODO: Write your code here\n",
    "    l = 0\n",
    "    r = len(arr) - 1\n",
    "    if r == l:\n",
    "        return arr[0]\n",
    "    \n",
    "    while l <= r:\n",
    "        m = l + (r - l) // 2\n",
    "        if key > arr[m]:\n",
    "            l = m + 1\n",
    "        elif key < arr[m]:\n",
    "            r = m - 1\n",
    "        else:\n",
    "            return arr[m]\n",
    "    if r > len(arr) - 1:\n",
    "        r -= 1\n",
    "    if l > len(arr) - 1:\n",
    "        l -= 1\n",
    "    if abs(key - arr[r]) <= abs(key - arr[l]):\n",
    "        return arr[r]\n",
    "    return arr[l]"
   ]
  },
  {
   "cell_type": "code",
   "execution_count": 22,
   "metadata": {},
   "outputs": [
    {
     "data": {
      "text/plain": [
       "4"
      ]
     },
     "execution_count": 22,
     "metadata": {},
     "output_type": "execute_result"
    }
   ],
   "source": [
    "arr = [4, 6, 10]\n",
    "key = 5\n",
    "Solution().searchMinDiffElement(arr, key)"
   ]
  },
  {
   "cell_type": "code",
   "execution_count": 23,
   "metadata": {},
   "outputs": [
    {
     "data": {
      "text/plain": [
       "4"
      ]
     },
     "execution_count": 23,
     "metadata": {},
     "output_type": "execute_result"
    }
   ],
   "source": [
    "arr = [4, 6, 10]\n",
    "key = 4\n",
    "Solution().searchMinDiffElement(arr, key)"
   ]
  },
  {
   "cell_type": "code",
   "execution_count": 24,
   "metadata": {},
   "outputs": [
    {
     "data": {
      "text/plain": [
       "10"
      ]
     },
     "execution_count": 24,
     "metadata": {},
     "output_type": "execute_result"
    }
   ],
   "source": [
    "arr = [4, 6, 10]\n",
    "key = 17\n",
    "Solution().searchMinDiffElement(arr, key)"
   ]
  },
  {
   "cell_type": "code",
   "execution_count": 25,
   "metadata": {},
   "outputs": [
    {
     "data": {
      "text/plain": [
       "10"
      ]
     },
     "execution_count": 25,
     "metadata": {},
     "output_type": "execute_result"
    }
   ],
   "source": [
    "arr = [1, 3, 8, 10, 15]\n",
    "key = 12\n",
    "Solution().searchMinDiffElement(arr, key)"
   ]
  },
  {
   "cell_type": "code",
   "execution_count": 26,
   "metadata": {},
   "outputs": [
    {
     "data": {
      "text/plain": [
       "1"
      ]
     },
     "execution_count": 26,
     "metadata": {},
     "output_type": "execute_result"
    }
   ],
   "source": [
    "arr = [1]\n",
    "key = 12\n",
    "Solution().searchMinDiffElement(arr, key)"
   ]
  }
 ],
 "metadata": {
  "kernelspec": {
   "display_name": "Python 3",
   "language": "python",
   "name": "python3"
  },
  "language_info": {
   "codemirror_mode": {
    "name": "ipython",
    "version": 3
   },
   "file_extension": ".py",
   "mimetype": "text/x-python",
   "name": "python",
   "nbconvert_exporter": "python",
   "pygments_lexer": "ipython3",
   "version": "3.9.6"
  }
 },
 "nbformat": 4,
 "nbformat_minor": 2
}
