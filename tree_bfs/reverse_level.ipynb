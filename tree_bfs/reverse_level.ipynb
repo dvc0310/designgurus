{
 "cells": [
  {
   "cell_type": "code",
   "execution_count": 17,
   "metadata": {},
   "outputs": [],
   "source": [
    "from collections import deque\n",
    "from tree_node import construct_binary_tree, print_tree_structure, TreeNode\n",
    "\n",
    "class Solution:\n",
    "  def traverse(self, root):\n",
    "    result = deque()\n",
    "    # TODO: Write your code here\n",
    "    q = deque()\n",
    "    level = 0\n",
    "    q.append((root, level))\n",
    "    while q:\n",
    "      curr, level = q.popleft()\n",
    "\n",
    "      if len(result) - 1 < level:\n",
    "        result.appendleft([])\n",
    "\n",
    "      result[0].append(curr.val)\n",
    "\n",
    "      if curr.left:\n",
    "        q.append((curr.left, level + 1))\n",
    "      if curr.right:\n",
    "        q.append((curr.right, level + 1))\n",
    "\n",
    "    return list(result)\n",
    "  \n",
    "sol = Solution()"
   ]
  },
  {
   "cell_type": "code",
   "execution_count": 18,
   "metadata": {},
   "outputs": [
    {
     "name": "stdout",
     "output_type": "stream",
     "text": [
      "        \\-- 7\n",
      "    \\-- 3\n",
      "        |-- 6\n",
      "|-- 1\n",
      "        \\-- 5\n",
      "    |-- 2\n",
      "        |-- 4\n"
     ]
    }
   ],
   "source": [
    "arr = [1, 2, 3, 4, 5, 6, 7]\n",
    "binary_tree = construct_binary_tree(arr)\n",
    "print_tree_structure(binary_tree)"
   ]
  },
  {
   "cell_type": "code",
   "execution_count": 19,
   "metadata": {},
   "outputs": [
    {
     "data": {
      "text/plain": [
       "[[4, 5, 6, 7], [2, 3], [1]]"
      ]
     },
     "execution_count": 19,
     "metadata": {},
     "output_type": "execute_result"
    }
   ],
   "source": [
    "sol.traverse(binary_tree)"
   ]
  }
 ],
 "metadata": {
  "kernelspec": {
   "display_name": "3.9.6",
   "language": "python",
   "name": "python3"
  },
  "language_info": {
   "codemirror_mode": {
    "name": "ipython",
    "version": 3
   },
   "file_extension": ".py",
   "mimetype": "text/x-python",
   "name": "python",
   "nbconvert_exporter": "python",
   "pygments_lexer": "ipython3",
   "version": "3.9.6"
  }
 },
 "nbformat": 4,
 "nbformat_minor": 2
}
