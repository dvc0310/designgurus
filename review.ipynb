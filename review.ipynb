{
 "cells": [
  {
   "cell_type": "code",
   "execution_count": 33,
   "metadata": {},
   "outputs": [],
   "source": [
    "class Solution:\n",
    "    def combinationSum(self, candidates, target):\n",
    "        res = []  # To store the final result\n",
    "        self.backtrack(candidates, target, [], 0, res)\n",
    "        # TODO: Write your code here\n",
    "        return res\n",
    "\n",
    "    def backtrack(self, candidates, target, comb, start, res):\n",
    "        if target == 0:\n",
    "            res.append(list(comb))\n",
    "            return\n",
    "        \n",
    "        for i in range(start, len(candidates)):\n",
    "            if target >= candidates[i]:\n",
    "                comb.append(candidates[i])\n",
    "                self.backtrack(candidates, target - candidates[i], comb, i, res)\n",
    "                comb.pop()\n",
    "        "
   ]
  },
  {
   "cell_type": "code",
   "execution_count": 34,
   "metadata": {},
   "outputs": [
    {
     "data": {
      "text/plain": [
       "[[2, 2, 3], [7]]"
      ]
     },
     "execution_count": 34,
     "metadata": {},
     "output_type": "execute_result"
    }
   ],
   "source": [
    "candidates = [2, 3, 6, 7]\n",
    "target = 7  \n",
    "Solution().combinationSum(candidates, target)"
   ]
  },
  {
   "cell_type": "code",
   "execution_count": 35,
   "metadata": {},
   "outputs": [],
   "source": [
    "class Solution:\n",
    "    def getFactors(self, n):\n",
    "    # TODO: Write your code here\n",
    "        res = []\n",
    "        self.backtrack(n, [], 2, res)\n",
    "        return res\n",
    "    \n",
    "    def backtrack(self, target, comb, start, res):\n",
    "        \n",
    "        end = int(target ** .5) + 1\n",
    "        for i in range(start, end):\n",
    "            if target % i == 0:\n",
    "                comb.append(i)\n",
    "                self.backtrack(target // i, comb, i, res)\n",
    "                comb.pop()\n",
    "        \n",
    "        if len(comb) > 0:\n",
    "            comb.append(target)\n",
    "            res.append(list(comb))\n",
    "            comb.pop()\n",
    "    "
   ]
  },
  {
   "cell_type": "code",
   "execution_count": 36,
   "metadata": {},
   "outputs": [
    {
     "data": {
      "text/plain": [
       "[[2, 2, 5], [2, 10], [4, 5]]"
      ]
     },
     "execution_count": 36,
     "metadata": {},
     "output_type": "execute_result"
    }
   ],
   "source": [
    "Solution().getFactors(20)"
   ]
  },
  {
   "cell_type": "code",
   "execution_count": 37,
   "metadata": {},
   "outputs": [],
   "source": [
    "from collections import deque\n",
    "class Solution:\n",
    "    def removeDuplicateLetters(self, s: str) -> str:\n",
    "        # ToDo: Write Your Code Here.\n",
    "        candidates = set()\n",
    "        count = {char: s.count(char) for char in set(s)}\n",
    "\n",
    "        lst = deque()\n",
    "        for i in range(len(s)):\n",
    "            if s[i] not in candidates:\n",
    "                while lst and count[lst[-1]] > 0 and s[i] < lst[-1]:\n",
    "                    candidates.remove(lst.pop())\n",
    "                lst.append(s[i])\n",
    "                candidates.add(s[i])\n",
    "            \n",
    "            count[s[i]] -= 1\n",
    "        \n",
    "        return ''.join(lst)\n",
    "    "
   ]
  },
  {
   "cell_type": "code",
   "execution_count": 38,
   "metadata": {},
   "outputs": [],
   "source": [
    "from collections import Counter\n",
    "\n",
    "class Solution:\n",
    "    def removeDuplicateLetters(self, s: str) -> str:\n",
    "        candidates = set()\n",
    "        counter = Counter(s)\n",
    "        lst = []\n",
    "        for i in range(len(s)):\n",
    "            if s[i] not in candidates:\n",
    "                while lst and lst[-1] > s[i] and counter[lst[-1]] > 0:\n",
    "                    candidates.remove(lst.pop())\n",
    "                lst.append(s[i])\n",
    "                candidates.add(s[i])\n",
    "            counter[s[i]] -= 1\n",
    "        return ''.join(lst)\n"
   ]
  },
  {
   "cell_type": "code",
   "execution_count": 39,
   "metadata": {},
   "outputs": [
    {
     "data": {
      "text/plain": [
       "'acdb'"
      ]
     },
     "execution_count": 39,
     "metadata": {},
     "output_type": "execute_result"
    }
   ],
   "source": [
    "Solution().removeDuplicateLetters('cbacdcbc')"
   ]
  },
  {
   "cell_type": "code",
   "execution_count": 40,
   "metadata": {},
   "outputs": [],
   "source": [
    "from reverse_linked_list.node import Node, print_linked_list\n",
    "\n",
    "class Solution:\n",
    "  def reverse(self, head, p, q):\n",
    "    # TODO: Write your code here\n",
    "    i = 0\n",
    "    tail = None\n",
    "    second_head = head\n",
    "    \n",
    "    while i < p - 1:\n",
    "      tail = second_head\n",
    "      second_head = second_head.next\n",
    "      i += 1\n",
    "  \n",
    "    i = 0\n",
    "    curr = second_head\n",
    "    prev = tail\n",
    "    while i < q - p + 1:\n",
    "      next = curr.next  \n",
    "      curr.next = prev\n",
    "      prev = curr\n",
    "      curr = next\n",
    "      i += 1\n",
    "      \n",
    "    second_head.next = curr\n",
    "    if tail:\n",
    "      tail.next = prev\n",
    "    else:\n",
    "      head = prev\n",
    "      \n",
    "    return head\n",
    "    \n",
    "      "
   ]
  },
  {
   "cell_type": "code",
   "execution_count": 41,
   "metadata": {},
   "outputs": [
    {
     "name": "stdout",
     "output_type": "stream",
     "text": [
      "1 -> 2 -> 3 -> 4 -> 5 -> 6 -> None\n",
      "3 -> 2 -> 1 -> 6 -> 5 -> 4 -> None\n"
     ]
    }
   ],
   "source": [
    "sol = Solution()\n",
    "head = Node(1)\n",
    "head.next = Node(2)\n",
    "head.next.next = Node(3)\n",
    "head.next.next.next = Node(4)\n",
    "head.next.next.next.next = Node(5)\n",
    "head.next.next.next.next.next = Node(6)\n",
    "\n",
    "print_linked_list(head)\n",
    "head = sol.reverse(head, 1, 3)\n",
    "head = sol.reverse(head, 4, 6)\n",
    "\n",
    "print_linked_list(head)"
   ]
  },
  {
   "cell_type": "code",
   "execution_count": 42,
   "metadata": {},
   "outputs": [],
   "source": [
    "from collections import Counter\n",
    "\n",
    "class Solution:\n",
    "    def removeDuplicateLetters(self, s: str) -> str:\n",
    "        candidates = set()\n",
    "        counter = Counter(list(s))\n",
    "        lst = []\n",
    "        for i in range(len(s)):\n",
    "            if s[i] not in candidates:\n",
    "                while lst and lst[-1] > s[i] and counter[s[i]] > 0:\n",
    "                    candidates.remove(lst.pop())\n",
    "                lst.append(s[i])\n",
    "                candidates.add(s[i])\n",
    "            counter[s[i]] -= 1\n",
    "        return ''.join(lst)\n"
   ]
  },
  {
   "cell_type": "code",
   "execution_count": 43,
   "metadata": {},
   "outputs": [
    {
     "data": {
      "text/plain": [
       "'abc'"
      ]
     },
     "execution_count": 43,
     "metadata": {},
     "output_type": "execute_result"
    }
   ],
   "source": [
    "Solution().removeDuplicateLetters('cbacdcbc')"
   ]
  },
  {
   "cell_type": "code",
   "execution_count": 47,
   "metadata": {},
   "outputs": [],
   "source": [
    "from collections import Counter\n",
    "\n",
    "class Solution:\n",
    "    def removeDuplicateLetters(self, s: str) -> str:\n",
    "        # **Candidate Solution Set**\n",
    "        # The input string 's' is the pool of characters to consider.\n",
    "        \n",
    "        # **Initializing Data Structures**\n",
    "        counter = Counter(s)      # Counts the occurrences of each character\n",
    "        candidates = set()        # Tracks characters already in the solution\n",
    "        lst = []                  # ** olution Set (Accumulator)**\n",
    "        \n",
    "        # **Processing Each Candidate**\n",
    "        for char in s:\n",
    "            # Update count since this character is being processed\n",
    "            counter[char] -= 1\n",
    "            \n",
    "            # **Feasibility Check**\n",
    "            if not self.isFeasible(char, candidates):\n",
    "                continue  # Skip if already in solution\n",
    "            \n",
    "            # **Selection Criteria**\n",
    "            self.selectCandidate(lst, candidates, char, counter)\n",
    "        \n",
    "        # **Objective Function**\n",
    "        # The objective of minimizing lexicographical order is achieved\n",
    "        # by constructing 'lst' in the manner above\n",
    "                \n",
    "        # ** Termination Condition**\n",
    "        # After processing all characters, join the list into a string\n",
    "        \n",
    "        return ''.join(lst)\n",
    "    \n",
    "    def isFeasible(self, char, candidates):\n",
    "        # **Feasibility Check**\n",
    "        # Ensures uniqueness by checking if the character is already included\n",
    "        return char not in candidates\n",
    "    \n",
    "    def selectCandidate(self, lst, candidates, char, counter):\n",
    "        # **Selection Criteria**\n",
    "        # Removes characters from 'lst' if they are lexicographically larger\n",
    "        # and will appear again later\n",
    "        while lst and lst[-1] > char and counter[lst[-1]] > 0:\n",
    "            removed_char = lst.pop()\n",
    "            candidates.remove(removed_char)\n",
    "        \n",
    "        # **Adding to Solution Set**\n",
    "        lst.append(char)\n",
    "        candidates.add(char)\n"
   ]
  },
  {
   "cell_type": "code",
   "execution_count": 48,
   "metadata": {},
   "outputs": [
    {
     "data": {
      "text/plain": [
       "'acdb'"
      ]
     },
     "execution_count": 48,
     "metadata": {},
     "output_type": "execute_result"
    }
   ],
   "source": [
    "Solution().removeDuplicateLetters('cbacdcbc')"
   ]
  }
 ],
 "metadata": {
  "kernelspec": {
   "display_name": "Python 3",
   "language": "python",
   "name": "python3"
  },
  "language_info": {
   "codemirror_mode": {
    "name": "ipython",
    "version": 3
   },
   "file_extension": ".py",
   "mimetype": "text/x-python",
   "name": "python",
   "nbconvert_exporter": "python",
   "pygments_lexer": "ipython3",
   "version": "3.9.6"
  }
 },
 "nbformat": 4,
 "nbformat_minor": 2
}
