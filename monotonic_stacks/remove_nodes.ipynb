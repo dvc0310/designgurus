{
 "cells": [
  {
   "cell_type": "code",
   "execution_count": 54,
   "metadata": {},
   "outputs": [],
   "source": [
    "class CustomStack:\n",
    "    def __init__(self):\n",
    "        self.head = None\n",
    "        self.tail = None\n",
    "\n",
    "    def push(self, node):\n",
    "        if not self.head:\n",
    "            self.head = node\n",
    "            self.tail = node\n",
    "        else:\n",
    "            node.next = self.head\n",
    "            self.head = node\n",
    "\n",
    "    def monotonic_push(self, node):\n",
    "        while self.head and self.head.val < node.val:\n",
    "            self.pop()\n",
    "        self.push(node)\n",
    "\n",
    "    def pop(self):\n",
    "        if not self.head:\n",
    "            return None\n",
    "        removed_node = self.head\n",
    "        self.head = self.head.next\n",
    "        if not self.head:\n",
    "            self.tail = None\n",
    "        return removed_node\n",
    "\n",
    "    def reverse(self):\n",
    "        if not self.head:\n",
    "            return\n",
    "\n",
    "        self.tail = self.head\n",
    "        prev = None\n",
    "        curr = self.head\n",
    "\n",
    "        while curr:\n",
    "            next_node = curr.next\n",
    "            curr.next = prev\n",
    "            prev = curr\n",
    "            curr = next_node\n",
    "\n",
    "        self.head = prev\n",
    "\n",
    "class Solution:\n",
    "    def removeNodes(self, head):\n",
    "        stack = CustomStack()\n",
    "        curr = head\n",
    "        while curr:\n",
    "            next_node = curr.next\n",
    "            curr.next = None\n",
    "            stack.monotonic_push(curr)\n",
    "            curr = next_node\n",
    "        stack.reverse()\n",
    "        \n",
    "        return stack.head\n"
   ]
  },
  {
   "cell_type": "code",
   "execution_count": 55,
   "metadata": {},
   "outputs": [],
   "source": [
    "sol = Solution()"
   ]
  },
  {
   "cell_type": "code",
   "execution_count": 56,
   "metadata": {},
   "outputs": [
    {
     "name": "stdout",
     "output_type": "stream",
     "text": [
      "Node(val=7, next=Node(val=4, next=Node(val=2, next=Node(val=1, next=None))))\n"
     ]
    }
   ],
   "source": [
    "from node import list_to_linked_list\n",
    "arr = [5, 3, 7, 4, 2, 1]\n",
    "head = list_to_linked_list(arr)\n",
    "new_lst = sol.removeNodes(head)\n",
    "print(new_lst)"
   ]
  },
  {
   "cell_type": "code",
   "execution_count": 57,
   "metadata": {},
   "outputs": [
    {
     "data": {
      "text/plain": [
       "Node(val=5, next=None)"
      ]
     },
     "execution_count": 57,
     "metadata": {},
     "output_type": "execute_result"
    }
   ],
   "source": [
    "arr = [1,2,3,4,5]\n",
    "head = list_to_linked_list(arr)\n",
    "sol.removeNodes(head)"
   ]
  },
  {
   "cell_type": "code",
   "execution_count": 58,
   "metadata": {},
   "outputs": [
    {
     "data": {
      "text/plain": [
       "Node(val=5, next=Node(val=4, next=Node(val=3, next=Node(val=2, next=Node(val=1, next=None)))))"
      ]
     },
     "execution_count": 58,
     "metadata": {},
     "output_type": "execute_result"
    }
   ],
   "source": [
    "arr = [5,4,3,2,1]\n",
    "head = list_to_linked_list(arr)\n",
    "sol.removeNodes(head)"
   ]
  }
 ],
 "metadata": {
  "kernelspec": {
   "display_name": "3.9.6",
   "language": "python",
   "name": "python3"
  },
  "language_info": {
   "codemirror_mode": {
    "name": "ipython",
    "version": 3
   },
   "file_extension": ".py",
   "mimetype": "text/x-python",
   "name": "python",
   "nbconvert_exporter": "python",
   "pygments_lexer": "ipython3",
   "version": "3.9.6"
  }
 },
 "nbformat": 4,
 "nbformat_minor": 2
}
