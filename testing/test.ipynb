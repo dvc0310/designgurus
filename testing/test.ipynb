{
 "cells": [
  {
   "cell_type": "code",
   "execution_count": 1,
   "metadata": {},
   "outputs": [],
   "source": [
    "\"\"\"Implements a Stack data structure\"\"\"\n",
    "from typing import Any\n",
    "\n",
    "\n",
    "class Stack:\n",
    "    \"\"\"Implements a Stack data structure\"\"\"\n",
    "\n",
    "    def __init__(self):\n",
    "        \"\"\"Constructor\"\"\"\n",
    "        self.items = [] \n",
    "    \n",
    "    def push(self, data: Any) -> None: \n",
    "        \"\"\"Places an item onto the stack\"\"\"\n",
    "        self.items.append(data) \n",
    "    \n",
    "    def pop(self) -> Any:\n",
    "        \"\"\"Removes an item from the stack and returns it\"\"\"\n",
    "        \n",
    "        try:\n",
    "            return self.items.pop()         \n",
    "        except Exception as e:\n",
    "            print(f\"Error type: {type(e).__name__}\")\n",
    "            print(f\"Error message: {e}\")\n",
    "        \n",
    "    def peek(self) -> Any:\n",
    "        \"\"\"Returns the item at the top of the stack without removing it\"\"\"\n",
    "        if self.is_empty():\n",
    "            raise IndexError(\"peek from an empty stack\")\n",
    "        return self.items[-1] \n",
    "        \n",
    "    def is_empty(self) -> bool:\n",
    "        \"\"\"Returns True if the stack is empty, otherwise returns False\"\"\"\n",
    "        return len(self.items) == 0\n"
   ]
  },
  {
   "cell_type": "code",
   "execution_count": 2,
   "metadata": {},
   "outputs": [
    {
     "name": "stdout",
     "output_type": "stream",
     "text": [
      "Error type: IndexError\n",
      "Error message: pop from empty list\n"
     ]
    }
   ],
   "source": [
    "s = Stack()\n",
    "s.pop()"
   ]
  }
 ],
 "metadata": {
  "kernelspec": {
   "display_name": "3.9.6",
   "language": "python",
   "name": "python3"
  },
  "language_info": {
   "codemirror_mode": {
    "name": "ipython",
    "version": 3
   },
   "file_extension": ".py",
   "mimetype": "text/x-python",
   "name": "python",
   "nbconvert_exporter": "python",
   "pygments_lexer": "ipython3",
   "version": "3.9.6"
  }
 },
 "nbformat": 4,
 "nbformat_minor": 2
}
