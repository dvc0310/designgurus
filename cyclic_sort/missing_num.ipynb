{
 "cells": [
  {
   "cell_type": "code",
   "execution_count": 3,
   "metadata": {},
   "outputs": [],
   "source": [
    "class Solution:\n",
    "  def findMissingNumber(self, nums):\n",
    "    n = len(nums)\n",
    "    curr = 0\n",
    "    zero = -1\n",
    "    while curr < n:\n",
    "        if nums[curr] == 0:\n",
    "            zero = curr\n",
    "            curr += 1\n",
    "            continue\n",
    "        if nums[curr] == curr + 1:\n",
    "            curr += 1\n",
    "            continue\n",
    "        val = nums[nums[curr] - 1]\n",
    "        nums[nums[curr] - 1] = nums[curr]\n",
    "        nums[curr] = val       \n",
    "    # TODO: Write your code here\n",
    "    return zero + 1"
   ]
  },
  {
   "cell_type": "code",
   "execution_count": 4,
   "metadata": {},
   "outputs": [
    {
     "data": {
      "text/plain": [
       "7"
      ]
     },
     "execution_count": 4,
     "metadata": {},
     "output_type": "execute_result"
    }
   ],
   "source": [
    "nums = [8, 3, 5, 2, 4, 6, 0, 1]\n",
    "Solution().findMissingNumber(nums)"
   ]
  },
  {
   "cell_type": "code",
   "execution_count": 5,
   "metadata": {},
   "outputs": [
    {
     "data": {
      "text/plain": [
       "2"
      ]
     },
     "execution_count": 5,
     "metadata": {},
     "output_type": "execute_result"
    }
   ],
   "source": [
    "nums = [4, 0, 3, 1]\n",
    "Solution().findMissingNumber(nums)"
   ]
  }
 ],
 "metadata": {
  "kernelspec": {
   "display_name": "3.9.6",
   "language": "python",
   "name": "python3"
  },
  "language_info": {
   "codemirror_mode": {
    "name": "ipython",
    "version": 3
   },
   "file_extension": ".py",
   "mimetype": "text/x-python",
   "name": "python",
   "nbconvert_exporter": "python",
   "pygments_lexer": "ipython3",
   "version": "3.9.6"
  }
 },
 "nbformat": 4,
 "nbformat_minor": 2
}
