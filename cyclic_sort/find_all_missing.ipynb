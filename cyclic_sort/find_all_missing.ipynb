{
 "cells": [
  {
   "cell_type": "code",
   "execution_count": 18,
   "metadata": {},
   "outputs": [],
   "source": [
    "class Solution:\n",
    "  def findNumbers(self, nums):\n",
    "    n = len(nums)\n",
    "    curr = 0\n",
    "    missing = []\n",
    "    correct = set()\n",
    "\n",
    "    while curr < n:\n",
    "        if nums[curr] <= 0 or nums[curr] > n or nums[curr] in correct:\n",
    "            curr += 1\n",
    "            continue\n",
    "        if nums[curr] == curr + 1:\n",
    "            correct.add(nums[curr])\n",
    "            curr += 1\n",
    "            continue\n",
    "        val = nums[nums[curr] - 1]\n",
    "        if val == nums[curr]:\n",
    "            curr += 1\n",
    "            continue\n",
    "        nums[nums[curr] - 1] = nums[curr]\n",
    "        nums[curr] = val       \n",
    "        \n",
    "\n",
    "    for i in range(n):\n",
    "        if i + 1 != nums[i]:\n",
    "            missing.append(i + 1)\n",
    "            \n",
    "    return missing, nums"
   ]
  },
  {
   "cell_type": "code",
   "execution_count": null,
   "metadata": {},
   "outputs": [],
   "source": [
    "class Solution:\n",
    "  def findNumbers(self, nums):\n",
    "    i = 0  # Initialize a pointer for iterating through the list.\n",
    "    while i < len(nums):\n",
    "      j = nums[i] - 1  # Calculate the target index for the current element.\n",
    "      if nums[i] != nums[j]:  # Check if the current element is not in its correct position.\n",
    "        nums[i], nums[j] = nums[j], nums[i]  # Swap the elements to their correct positions.\n",
    "      else:\n",
    "        i += 1  # If the current element is in the correct position, move to the next element.\n",
    "\n",
    "    missingNumbers = []\n",
    "\n",
    "    for i in range(len(nums)):\n",
    "      if nums[i] != i + 1:  # Check if the element at index 'i' is not in the correct position.\n",
    "        missingNumbers.append(i + 1)  # Add the missing number to the list.\n",
    "\n",
    "    return missingNumbers"
   ]
  },
  {
   "cell_type": "code",
   "execution_count": 19,
   "metadata": {},
   "outputs": [
    {
     "data": {
      "text/plain": [
       "([4, 6, 7], [1, 2, 3, 1, 5, 3, 2, 8])"
      ]
     },
     "execution_count": 19,
     "metadata": {},
     "output_type": "execute_result"
    }
   ],
   "source": [
    "nums = [2, 3, 1, 8, 2, 3, 5, 1]\n",
    "Solution().findNumbers(nums)"
   ]
  },
  {
   "cell_type": "code",
   "execution_count": 20,
   "metadata": {},
   "outputs": [
    {
     "data": {
      "text/plain": [
       "([3, 4], [1, 2, 1, 2])"
      ]
     },
     "execution_count": 20,
     "metadata": {},
     "output_type": "execute_result"
    }
   ],
   "source": [
    "nums = [1, 1, 2, 2]\n",
    "Solution().findNumbers(nums)"
   ]
  }
 ],
 "metadata": {
  "kernelspec": {
   "display_name": "3.9.6",
   "language": "python",
   "name": "python3"
  },
  "language_info": {
   "codemirror_mode": {
    "name": "ipython",
    "version": 3
   },
   "file_extension": ".py",
   "mimetype": "text/x-python",
   "name": "python",
   "nbconvert_exporter": "python",
   "pygments_lexer": "ipython3",
   "version": "3.9.6"
  }
 },
 "nbformat": 4,
 "nbformat_minor": 2
}
