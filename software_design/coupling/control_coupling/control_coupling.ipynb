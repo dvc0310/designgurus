{
 "cells": [
  {
   "cell_type": "markdown",
   "metadata": {},
   "source": [
    "# Example 1"
   ]
  },
  {
   "cell_type": "markdown",
   "metadata": {},
   "source": [
    "Below is an example in Python that demonstrates control coupling between two modules.\n",
    "\n",
    "## Module A: The Callee"
   ]
  },
  {
   "cell_type": "code",
   "execution_count": 7,
   "metadata": {},
   "outputs": [],
   "source": [
    "# module_a.py\n",
    "\n",
    "def process_data(data, action_flag):\n",
    "    if action_flag == 'uppercase':\n",
    "        return data.upper()\n",
    "    elif action_flag == 'lowercase':\n",
    "        return data.lower()\n",
    "    elif action_flag == 'capitalize':\n",
    "        return data.capitalize()\n",
    "    else:\n",
    "        raise ValueError(\"Invalid action flag provided.\")\n"
   ]
  },
  {
   "cell_type": "markdown",
   "metadata": {},
   "source": [
    "## Module B: The Caller"
   ]
  },
  {
   "cell_type": "code",
   "execution_count": 8,
   "metadata": {},
   "outputs": [
    {
     "name": "stdout",
     "output_type": "stream",
     "text": [
      "HELLO, WORLD!\n"
     ]
    }
   ],
   "source": [
    "# module_b.py\n",
    "\n",
    "# from module_a import process_data\n",
    "\n",
    "# Control flag dictates the behavior of process_data\n",
    "action_flag = 'uppercase'\n",
    "text = \"Hello, World!\"\n",
    "\n",
    "result = process_data(text, action_flag)\n",
    "print(result)  # Output: HELLO, WORLD!\n"
   ]
  },
  {
   "cell_type": "markdown",
   "metadata": {},
   "source": [
    "## Refactored Example to Reduce Control Coupling"
   ]
  },
  {
   "cell_type": "code",
   "execution_count": 9,
   "metadata": {},
   "outputs": [],
   "source": [
    "# module_a.py\n",
    "\n",
    "def to_uppercase(data):\n",
    "    return data.upper()\n",
    "\n",
    "def to_lowercase(data):\n",
    "    return data.lower()\n",
    "\n",
    "def to_capitalize(data):\n",
    "    return data.capitalize()\n"
   ]
  },
  {
   "cell_type": "code",
   "execution_count": 10,
   "metadata": {},
   "outputs": [
    {
     "name": "stdout",
     "output_type": "stream",
     "text": [
      "HELLO, WORLD!\n"
     ]
    }
   ],
   "source": [
    "# module_b.py\n",
    "\n",
    "# from module_a import to_uppercase\n",
    "\n",
    "text = \"Hello, World!\"\n",
    "\n",
    "# Directly call the required function without control flags\n",
    "result = to_uppercase(text)\n",
    "print(result)  # Output: HELLO, WORLD!\n"
   ]
  },
  {
   "cell_type": "markdown",
   "metadata": {},
   "source": [
    "# Example 2"
   ]
  },
  {
   "cell_type": "markdown",
   "metadata": {},
   "source": [
    "## Scenario:\n",
    "Imagine we have a task executor that decides what type of processing a worker module should perform based on a flag. This is an example of control coupling, as the executor module passes flags to control the behavior of the worker module."
   ]
  },
  {
   "cell_type": "markdown",
   "metadata": {},
   "source": [
    "## Example Code:\n",
    "\n",
    "### Module A: Worker Module"
   ]
  },
  {
   "cell_type": "code",
   "execution_count": 11,
   "metadata": {},
   "outputs": [],
   "source": [
    "# worker_module.py\n",
    "\n",
    "def execute_task(data, task_type):\n",
    "    if task_type == 'process_text':\n",
    "        return process_text(data)\n",
    "    elif task_type == 'process_numbers':\n",
    "        return process_numbers(data)\n",
    "    elif task_type == 'process_json':\n",
    "        return process_json(data)\n",
    "    else:\n",
    "        raise ValueError(\"Invalid task type provided.\")\n",
    "\n",
    "# Internal functions\n",
    "def process_text(data):\n",
    "    return f\"Text processed: {data}\"\n",
    "\n",
    "def process_numbers(data):\n",
    "    return f\"Numbers processed: {sum(data)}\"  # Assumes `data` is a list of numbers\n",
    "\n",
    "def process_json(data):\n",
    "    return f\"JSON keys: {list(data.keys())}\"  # Assumes `data` is a dictionary\n"
   ]
  },
  {
   "cell_type": "markdown",
   "metadata": {},
   "source": [
    "### Module B: Task Executor Module"
   ]
  },
  {
   "cell_type": "code",
   "execution_count": 12,
   "metadata": {},
   "outputs": [
    {
     "name": "stdout",
     "output_type": "stream",
     "text": [
      "Text processed: Hello, Control Coupling!\n",
      "Numbers processed: 10\n"
     ]
    }
   ],
   "source": [
    "# task_executor.py\n",
    "\n",
    "# from worker_module import execute_task\n",
    "\n",
    "# Control flag that dictates the type of task to execute\n",
    "task_type = 'process_text'\n",
    "data = \"Hello, Control Coupling!\"\n",
    "\n",
    "# Execute the task\n",
    "result = execute_task(data, task_type)\n",
    "print(result)  # Output: Text processed: Hello, Control Coupling!\n",
    "\n",
    "# Try another type\n",
    "task_type = 'process_numbers'\n",
    "data = [1, 2, 3, 4]\n",
    "\n",
    "result = execute_task(data, task_type)\n",
    "print(result)  # Output: Numbers processed: 10\n"
   ]
  },
  {
   "cell_type": "markdown",
   "metadata": {},
   "source": [
    "### Explanation:\n",
    "- Control Coupling: Module B (the task executor) passes a task_type flag to Module A (the worker), which uses the flag to determine what operation to perform on data.\n",
    "\n",
    "- Impact of Changes: Adding a new task type requires modifications to Module A to handle the new type and potentially Module B to use it, creating a tighter coupling between them."
   ]
  },
  {
   "cell_type": "markdown",
   "metadata": {},
   "source": [
    "### Potential Refactoring:\n",
    "To reduce control coupling, you could refactor the code so that Module B directly calls specific functions without using control flags.\n",
    "\n",
    "### Refactored Worker Module:"
   ]
  },
  {
   "cell_type": "code",
   "execution_count": 13,
   "metadata": {},
   "outputs": [],
   "source": [
    "# worker_module.py\n",
    "\n",
    "def process_text(data):\n",
    "    return f\"Text processed: {data}\"\n",
    "\n",
    "def process_numbers(data):\n",
    "    return f\"Numbers processed: {sum(data)}\"  # Assumes `data` is a list of numbers\n",
    "\n",
    "def process_json(data):\n",
    "    return f\"JSON keys: {list(data.keys())}\"  # Assumes `data` is a dictionary\n"
   ]
  },
  {
   "cell_type": "markdown",
   "metadata": {},
   "source": [
    "### Refactored Task Executor Module:"
   ]
  },
  {
   "cell_type": "code",
   "execution_count": 14,
   "metadata": {},
   "outputs": [
    {
     "name": "stdout",
     "output_type": "stream",
     "text": [
      "Text processed: Hello, Control Coupling!\n",
      "Numbers processed: 10\n"
     ]
    }
   ],
   "source": [
    "# task_executor.py\n",
    "\n",
    "# from worker_module import process_text, process_numbers\n",
    "\n",
    "# Direct function calls without control flags\n",
    "data = \"Hello, Control Coupling!\"\n",
    "result = process_text(data)\n",
    "print(result)  # Output: Text processed: Hello, Control Coupling!\n",
    "\n",
    "data = [1, 2, 3, 4]\n",
    "result = process_numbers(data)\n",
    "print(result)  # Output: Numbers processed: 10\n"
   ]
  },
  {
   "cell_type": "markdown",
   "metadata": {},
   "source": [
    "## Benefits of Refactoring:\n",
    "- Reduced Control Coupling: Each module is responsible for calling the functions it needs directly, making them less interdependent.\n",
    "\n",
    "- Flexibility: Adding new functions doesn't require changes to existing modules, making the code easier to extend and maintain.\n",
    "\n",
    "- Clarity: The logic flow becomes more straightforward, with each function doing one thing well.\n",
    "This refactoring approach supports better software design by minimizing tight coupling between modules and promoting a more modular and maintainable codebase."
   ]
  }
 ],
 "metadata": {
  "kernelspec": {
   "display_name": "Python 3",
   "language": "python",
   "name": "python3"
  },
  "language_info": {
   "codemirror_mode": {
    "name": "ipython",
    "version": 3
   },
   "file_extension": ".py",
   "mimetype": "text/x-python",
   "name": "python",
   "nbconvert_exporter": "python",
   "pygments_lexer": "ipython3",
   "version": "3.9.6"
  }
 },
 "nbformat": 4,
 "nbformat_minor": 2
}
