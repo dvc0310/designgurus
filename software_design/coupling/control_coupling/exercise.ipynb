{
 "cells": [
  {
   "cell_type": "markdown",
   "metadata": {},
   "source": [
    "## Original"
   ]
  },
  {
   "cell_type": "code",
   "execution_count": 4,
   "metadata": {},
   "outputs": [],
   "source": [
    "# task_manager.py\n",
    "\n",
    "def execute_task(task_type, data):\n",
    "    if task_type == 'send_email':\n",
    "        return send_email(data)\n",
    "    elif task_type == 'generate_report':\n",
    "        return generate_report(data)\n",
    "    elif task_type == 'log_activity':\n",
    "        return log_activity(data)\n",
    "    else:\n",
    "        raise ValueError(\"Invalid task type provided.\")\n",
    "\n",
    "def send_email(data):\n",
    "    return f\"Email sent to {data['recipient']} with subject '{data['subject']}'\"\n",
    "\n",
    "def generate_report(data):\n",
    "    return f\"Report generated with title '{data['title']}'\"\n",
    "\n",
    "def log_activity(data):\n",
    "    return f\"Activity logged with details: {data['details']}\"\n"
   ]
  },
  {
   "cell_type": "markdown",
   "metadata": {},
   "source": [
    "## Modified"
   ]
  },
  {
   "cell_type": "code",
   "execution_count": 7,
   "metadata": {},
   "outputs": [],
   "source": [
    "from abc import ABC, abstractmethod\n",
    "from dataclasses import dataclass\n",
    "\n",
    "@dataclass\n",
    "class DataObject(ABC):\n",
    "    def validate(self):\n",
    "        raise NotImplementedError(\"Subclasses should implement validation logic\")\n",
    "\n",
    "@dataclass\n",
    "class EmailData(DataObject):\n",
    "    recipient: str\n",
    "    subject: str\n",
    "\n",
    "    def validate(self):\n",
    "        if not self.recipient or not self.subject:\n",
    "            raise ValueError(\"Recipient and subject must not be empty\")\n",
    "\n",
    "\n",
    "@dataclass\n",
    "class ReportData(DataObject):\n",
    "    title: str\n",
    "\n",
    "    def validate(self):\n",
    "        if not self.title or len(self.title.strip()) == 0:\n",
    "            raise ValueError(\"Title must not be empty\")\n",
    "\n",
    "\n",
    "@dataclass\n",
    "class LogData(DataObject):\n",
    "    details: str\n",
    "\n",
    "    def validate(self):\n",
    "        if not self.details or len(self.details.strip()) == 0:\n",
    "            raise ValueError(\"Details must not be empty\")\n",
    "\n",
    "class Task(ABC):\n",
    "    @abstractmethod\n",
    "    def execute_task(self, data: DataObject):\n",
    "        pass\n",
    "    \n",
    "class EmailSendTask(Task):\n",
    "    def execute_task(self, data: EmailData):\n",
    "        return f\"Email sent to {data.recipient} with subject '{data.subject}'\"\n",
    "        \n",
    "class ReportGenerationTask(Task):\n",
    "    def execute_task(self, data: ReportData):\n",
    "        return f\"Report generated with title '{data.title}'\"\n",
    "       \n",
    "class LogActivityTask(Task):\n",
    "    def execute_task(self, data: LogData):\n",
    "        return f\"Activity logged with details: {data.details}\"\n",
    "    \n",
    "\n",
    "class TaskFactory:\n",
    "    @staticmethod\n",
    "    def get_task(type):\n",
    "        if type == \"email\":\n",
    "            return EmailSendTask()\n",
    "        elif type == \"report\":\n",
    "            return ReportGenerationTask()\n",
    "        elif type == \"log\":\n",
    "            return LogActivityTask()\n",
    "        else:\n",
    "            None"
   ]
  },
  {
   "cell_type": "code",
   "execution_count": 8,
   "metadata": {},
   "outputs": [
    {
     "name": "stdout",
     "output_type": "stream",
     "text": [
      "Email sent to user@example.com with subject 'Welcome!'\n"
     ]
    }
   ],
   "source": [
    "# main.py\n",
    "\n",
    "task_type = \"email\"  # The client specifies the type of task they need\n",
    "task = TaskFactory.get_task(task_type)\n",
    "\n",
    "if task:\n",
    "    # Create an instance of the appropriate data class\n",
    "    data = EmailData(recipient='user@example.com', subject='Welcome!')\n",
    "    print(task.execute_task(data))  # Output: Email sent to user@example.com with subject 'Welcome!'\n",
    "else:\n",
    "    print(\"Invalid task type provided.\")\n",
    "\n"
   ]
  },
  {
   "cell_type": "code",
   "execution_count": 9,
   "metadata": {},
   "outputs": [
    {
     "name": "stdout",
     "output_type": "stream",
     "text": [
      "Report generated with title 'Annual Financial Report'\n"
     ]
    }
   ],
   "source": [
    "# Creating a ReportData instance and validating it\n",
    "report_data = ReportData(title=\"Monthly Report\")\n",
    "report_data.validate()  # No error if the title is valid\n",
    "\n",
    "# Creating a LogData instance and validating it\n",
    "log_data = LogData(details=\"User logged in at 10:00 AM\")\n",
    "log_data.validate()  # No error if details are valid\n",
    "\n",
    "\n",
    "# main.py\n",
    "\n",
    "task = ReportGenerationTask()\n",
    "data = ReportData(title=\"Annual Financial Report\")\n",
    "data.validate()  # Ensure the data is valid before executing the task\n",
    "\n",
    "print(task.execute_task(data))  # Output: Report generated with title 'Annual Financial Report'\n"
   ]
  }
 ],
 "metadata": {
  "kernelspec": {
   "display_name": "Python 3",
   "language": "python",
   "name": "python3"
  },
  "language_info": {
   "codemirror_mode": {
    "name": "ipython",
    "version": 3
   },
   "file_extension": ".py",
   "mimetype": "text/x-python",
   "name": "python",
   "nbconvert_exporter": "python",
   "pygments_lexer": "ipython3",
   "version": "3.9.6"
  }
 },
 "nbformat": 4,
 "nbformat_minor": 2
}
