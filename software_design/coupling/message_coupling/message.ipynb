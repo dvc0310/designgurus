{
 "cells": [
  {
   "cell_type": "code",
   "execution_count": null,
   "metadata": {},
   "outputs": [],
   "source": [
    "class NotificationService:\n",
    "    def __init__(self, notifier_type: str):\n",
    "        self.notifier_type = notifier_type\n",
    "\n",
    "    def send(self, message: str):\n",
    "        if self.notifier_type == 'email':\n",
    "            # Directly using a specific implementation\n",
    "            print(f\"Email sent with message: {message}\")\n",
    "        elif self.notifier_type == 'sms':\n",
    "            # Directly using a specific implementation\n",
    "            print(f\"SMS sent with message: {message}\")\n",
    "        elif self.notifier_type == 'push':\n",
    "            # Directly using a specific implementation\n",
    "            print(f\"Push notification sent with message: {message}\")\n",
    "        else:\n",
    "            raise ValueError(\"Invalid notifier type\")\n"
   ]
  },
  {
   "cell_type": "code",
   "execution_count": null,
   "metadata": {},
   "outputs": [],
   "source": [
    "# from notification_service import NotificationService\n",
    "\n",
    "# Create a notification service for different types\n",
    "email_service = NotificationService('email')\n",
    "sms_service = NotificationService('sms')\n",
    "push_service = NotificationService('push')\n",
    "\n",
    "# Send notifications\n",
    "email_service.send(\"This is an email message.\")\n",
    "sms_service.send(\"This is an SMS message.\")\n",
    "push_service.send(\"This is a push notification.\")\n"
   ]
  },
  {
   "cell_type": "code",
   "execution_count": 1,
   "metadata": {},
   "outputs": [],
   "source": [
    "from abc import ABC, abstractmethod\n",
    "\n",
    "class Notifier(ABC):\n",
    "    @abstractmethod\n",
    "    def send_notification(self, message: str):\n",
    "        pass\n",
    "\n",
    "class EmailNotifier(Notifier):\n",
    "    def send_notification(self, message: str):\n",
    "        print(f\"Email sent with message: {message}\")\n",
    "\n",
    "class SMSNotifier(Notifier):\n",
    "    def send_notification(self, message: str):\n",
    "        print(f\"SMS sent with message: {message}\")\n",
    "\n",
    "class PushNotifier(Notifier):\n",
    "    def send_notification(self, message: str):\n",
    "        print(f\"Push notification sent with message: {message}\")\n",
    "\n",
    "class NotificationService:\n",
    "    def __init__(self, notifier: Notifier):\n",
    "        self.notifier = notifier\n",
    "\n",
    "    def send(self, message: str):\n",
    "        self.notifier.send_notification(message)\n"
   ]
  },
  {
   "cell_type": "code",
   "execution_count": 2,
   "metadata": {},
   "outputs": [
    {
     "name": "stdout",
     "output_type": "stream",
     "text": [
      "Email sent with message: This is an email message.\n",
      "SMS sent with message: This is an SMS message.\n",
      "Push notification sent with message: This is a push notification.\n"
     ]
    }
   ],
   "source": [
    "# from notifier import EmailNotifier, SMSNotifier, PushNotifier\n",
    "# from notification_service import NotificationService\n",
    "\n",
    "# Create instances of different notifiers\n",
    "email_notifier = EmailNotifier()\n",
    "sms_notifier = SMSNotifier()\n",
    "push_notifier = PushNotifier()\n",
    "\n",
    "# Create a notification service for each type\n",
    "email_service = NotificationService(email_notifier)\n",
    "sms_service = NotificationService(sms_notifier)\n",
    "push_service = NotificationService(push_notifier)\n",
    "\n",
    "# Send notifications\n",
    "email_service.send(\"This is an email message.\")\n",
    "sms_service.send(\"This is an SMS message.\")\n",
    "push_service.send(\"This is a push notification.\")\n"
   ]
  }
 ],
 "metadata": {
  "kernelspec": {
   "display_name": "Python 3",
   "language": "python",
   "name": "python3"
  },
  "language_info": {
   "codemirror_mode": {
    "name": "ipython",
    "version": 3
   },
   "file_extension": ".py",
   "mimetype": "text/x-python",
   "name": "python",
   "nbconvert_exporter": "python",
   "pygments_lexer": "ipython3",
   "version": "3.9.6"
  }
 },
 "nbformat": 4,
 "nbformat_minor": 2
}
