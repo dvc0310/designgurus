{
 "cells": [
  {
   "cell_type": "markdown",
   "metadata": {},
   "source": [
    "## Example\n",
    "\n",
    "Here's an example of content coupling:"
   ]
  },
  {
   "cell_type": "code",
   "execution_count": 1,
   "metadata": {},
   "outputs": [],
   "source": [
    "class Order:\n",
    "    def __init__(self, order_id, customer_name):\n",
    "        self._order_id = order_id  # Intended to be private\n",
    "        self._customer_name = customer_name  # Intended to be private\n",
    "\n",
    "    def display_order(self):\n",
    "        print(f\"Order ID: {self._order_id}, Customer Name: {self._customer_name}\")\n"
   ]
  },
  {
   "cell_type": "code",
   "execution_count": 2,
   "metadata": {},
   "outputs": [],
   "source": [
    "#from order import Order\n",
    "\n",
    "class OrderManager:\n",
    "    def change_order_details(self, order: Order, new_order_id, new_customer_name):\n",
    "        # Directly accessing and modifying the private attributes of the Order class\n",
    "        order._order_id = new_order_id\n",
    "        order._customer_name = new_customer_name\n",
    "        print(\"Order details updated directly.\")\n"
   ]
  },
  {
   "cell_type": "code",
   "execution_count": 3,
   "metadata": {},
   "outputs": [
    {
     "name": "stdout",
     "output_type": "stream",
     "text": [
      "Order details updated directly.\n",
      "Order ID: 54321, Customer Name: Jane Smith\n"
     ]
    }
   ],
   "source": [
    "#from order import Order\n",
    "#from order_manager import OrderManager\n",
    "\n",
    "# Create an order instance\n",
    "order = Order(order_id=\"12345\", customer_name=\"John Doe\")\n",
    "\n",
    "# Create an OrderManager instance and update the order details\n",
    "manager = OrderManager()\n",
    "manager.change_order_details(order, new_order_id=\"54321\", new_customer_name=\"Jane Smith\")\n",
    "\n",
    "# Display the updated order\n",
    "order.display_order()\n"
   ]
  },
  {
   "cell_type": "markdown",
   "metadata": {},
   "source": [
    "## Why refactoring is hard with content coupling\n",
    "\n",
    "Suppose that you want to change class variables. Observes what happens to the OrderManager class:"
   ]
  },
  {
   "cell_type": "code",
   "execution_count": 4,
   "metadata": {},
   "outputs": [],
   "source": [
    "# order.py (Refactored)\n",
    "class Order:\n",
    "    def __init__(self, order_id, customer_name):\n",
    "        self._id = order_id  # Renamed from _order_id\n",
    "        self._name = customer_name  # Renamed from _customer_name\n",
    "\n",
    "    def display_order(self):\n",
    "        print(f\"Order ID: {self._id}, Customer Name: {self._name}\")\n",
    "\n",
    "# order_manager.py\n",
    "\n",
    "class OrderManager:\n",
    "    def change_order_details(self, order: Order, new_order_id, new_customer_name):\n",
    "        # Directly accessing and modifying the private attributes of the Order class\n",
    "        order._order_id = new_order_id # this no longer works because of conetnt coupling !\n",
    "        order._customer_name = new_customer_name\n",
    "        print(\"Order details updated directly.\")\n"
   ]
  },
  {
   "cell_type": "markdown",
   "metadata": {},
   "source": [
    "Since _order_id is no longer the correct name, self._id and self._name does not update."
   ]
  },
  {
   "cell_type": "code",
   "execution_count": 5,
   "metadata": {},
   "outputs": [
    {
     "name": "stdout",
     "output_type": "stream",
     "text": [
      "Order details updated directly.\n",
      "Order ID: 12345, Customer Name: John Doe\n"
     ]
    }
   ],
   "source": [
    "try:# Create an order instance\n",
    "    order = Order(order_id=\"12345\", customer_name=\"John Doe\")\n",
    "\n",
    "    # Create an OrderManager instance and update the order details\n",
    "    manager = OrderManager()\n",
    "    manager.change_order_details(order, new_order_id=\"54321\", new_customer_name=\"Jane Smith\") # name did not update!\n",
    "\n",
    "    # Display the updated order\n",
    "    order.display_order()\n",
    "except Exception as e:\n",
    "    print(e)"
   ]
  },
  {
   "cell_type": "markdown",
   "metadata": {},
   "source": [
    "## Fix\n",
    "\n",
    "If we use setters and getters, and we want to update the class variable names, OrderManager is not affected. Observe:"
   ]
  },
  {
   "cell_type": "code",
   "execution_count": 6,
   "metadata": {},
   "outputs": [],
   "source": [
    "class Order:\n",
    "    def __init__(self, order_id, customer_name):\n",
    "        self._id = order_id\n",
    "        self._name = customer_name\n",
    "\n",
    "    def get_order_id(self):\n",
    "        return self._id\n",
    "\n",
    "    def set_order_id(self, order_id):\n",
    "        self._id = order_id\n",
    "\n",
    "    def get_customer_name(self):\n",
    "        return self._name\n",
    "\n",
    "    def set_customer_name(self, customer_name):\n",
    "        self._name = customer_name\n",
    "\n",
    "    def display_order(self):\n",
    "        print(f\"Order ID: {self._id}, Customer Name: {self._name}\")\n",
    "\n",
    "\n",
    "class OrderManager:\n",
    "    def change_order_details(self, order: Order, new_order_id, new_customer_name):\n",
    "        # Use public setter methods to modify the Order attributes\n",
    "        order.set_order_id(new_order_id)\n",
    "        order.set_customer_name(new_customer_name)\n",
    "        print(\"Order details updated via public methods.\")"
   ]
  },
  {
   "cell_type": "markdown",
   "metadata": {},
   "source": [
    "As you can see, the below code works properly."
   ]
  },
  {
   "cell_type": "code",
   "execution_count": 7,
   "metadata": {},
   "outputs": [
    {
     "name": "stdout",
     "output_type": "stream",
     "text": [
      "Order details updated via public methods.\n",
      "Order ID: 54321, Customer Name: Jane Smith\n"
     ]
    }
   ],
   "source": [
    "\n",
    "# Create an order instance\n",
    "order = Order(order_id=\"12345\", customer_name=\"John Doe\")\n",
    "\n",
    "# Create an OrderManager instance and update the order details\n",
    "manager = OrderManager()\n",
    "manager.change_order_details(order, new_order_id=\"54321\", new_customer_name=\"Jane Smith\")\n",
    "\n",
    "# Display the updated order\n",
    "order.display_order()\n"
   ]
  }
 ],
 "metadata": {
  "kernelspec": {
   "display_name": "Python 3",
   "language": "python",
   "name": "python3"
  },
  "language_info": {
   "codemirror_mode": {
    "name": "ipython",
    "version": 3
   },
   "file_extension": ".py",
   "mimetype": "text/x-python",
   "name": "python",
   "nbconvert_exporter": "python",
   "pygments_lexer": "ipython3",
   "version": "3.9.6"
  }
 },
 "nbformat": 4,
 "nbformat_minor": 2
}
