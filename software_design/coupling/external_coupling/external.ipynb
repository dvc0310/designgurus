{
 "cells": [
  {
   "cell_type": "markdown",
   "metadata": {},
   "source": [
    "**External coupling** refers to a situation where a module relies on external systems, APIs, or data formats that it has little to no control over. This type of coupling can make code difficult to maintain or adapt when those external dependencies change.\n",
    "\n",
    "### Example Scenario:\n",
    "Imagine a system that integrates with an **external payment processing API**. The module in your code is tightly coupled to this external API, making it vulnerable to changes in the API’s structure, data format, or requirements.\n"
   ]
  },
  {
   "cell_type": "markdown",
   "metadata": {},
   "source": [
    "\n",
    "### Code Example of External Coupling:\n"
   ]
  },
  {
   "cell_type": "markdown",
   "metadata": {},
   "source": [
    "\n",
    "#### `payment_processor.py` (Tightly Coupled to External API)\n"
   ]
  },
  {
   "cell_type": "code",
   "execution_count": 1,
   "metadata": {},
   "outputs": [],
   "source": [
    "import requests\n",
    "\n",
    "class PaymentProcessor:\n",
    "    def __init__(self, api_url, api_key):\n",
    "        self.api_url = api_url\n",
    "        self.api_key = api_key\n",
    "\n",
    "    def process_payment(self, payment_details):\n",
    "        # Directly using the structure expected by the external API\n",
    "        payload = {\n",
    "            'amount': payment_details['amount'],\n",
    "            'currency': payment_details['currency'],\n",
    "            'card_number': payment_details['card_number'],\n",
    "            'card_expiry': payment_details['card_expiry'],\n",
    "            'card_cvc': payment_details['card_cvc']\n",
    "        }\n",
    "        \n",
    "        headers = {\n",
    "            'Authorization': f'Bearer {self.api_key}',\n",
    "            'Content-Type': 'application/json'\n",
    "        }\n",
    "        \n",
    "        response = requests.post(self.api_url, json=payload, headers=headers)\n",
    "        \n",
    "        if response.status_code == 200:\n",
    "            print(\"Payment processed successfully\")\n",
    "            return response.json()\n",
    "        else:\n",
    "            print(\"Failed to process payment\")\n",
    "            return response.text"
   ]
  },
  {
   "cell_type": "markdown",
   "metadata": {},
   "source": [
    "\n",
    "### Explanation:\n",
    "- **External Coupling**: The `PaymentProcessor` class is tightly coupled to the external payment processing API. It relies on the API's URL, data format (e.g., JSON structure), and authentication method (Bearer token).\n",
    "- **Vulnerable to Changes**: If the API's structure changes (e.g., new required fields, different authentication headers, or changes in response format), the `PaymentProcessor` class will break or need significant updates.\n",
    "- **Hard to Test**: Testing this class requires access to the external API, which can complicate unit tests and make them slower or less reliable.\n",
    "\n",
    "### Problems with External Coupling:\n",
    "1. **Maintenance Issues**: When the external API updates its requirements or data format, your code must be updated, which can lead to high maintenance costs.\n",
    "2. **Testing Challenges**: You may need to use mocks or stubs to test your module, which can make tests more complex and less reliable.\n",
    "3. **Adaptability**: If you decide to switch to a different payment provider, you need to refactor your code significantly to accommodate the new provider's format and requirements.\n",
    "\n",
    "### Solution to Reduce External Coupling:\n",
    "To reduce external coupling, introduce an **adapter pattern** that abstracts the external API and provides a uniform interface for the rest of the application. This way, if the external API changes, you only need to update the adapter.\n",
    "\n",
    "#### Refactored Code Using an Adapter:\n",
    "\n",
    "**`payment_adapter.py` (Adapter for the External API)**\n"
   ]
  },
  {
   "cell_type": "code",
   "execution_count": null,
   "metadata": {},
   "outputs": [],
   "source": [
    "import requests\n",
    "\n",
    "class PaymentAdapter:\n",
    "    def __init__(self, api_url, api_key):\n",
    "        self.api_url = api_url\n",
    "        self.api_key = api_key\n",
    "\n",
    "    def send_payment_request(self, payment_data):\n",
    "        payload = self._format_payload(payment_data)\n",
    "        headers = self._build_headers()\n",
    "\n",
    "        response = requests.post(self.api_url, json=payload, headers=headers)\n",
    "\n",
    "        return self._handle_response(response)\n",
    "\n",
    "    def _format_payload(self, payment_data):\n",
    "        # Maps internal data to external API's expected structure\n",
    "        return {\n",
    "            'amount': payment_data.amount,\n",
    "            'currency': payment_data.currency,\n",
    "            'card_number': payment_data.card_number,\n",
    "            'card_expiry': payment_data.card_expiry,\n",
    "            'card_cvc': payment_data.card_cvc\n",
    "        }\n",
    "\n",
    "    def _build_headers(self):\n",
    "        return {\n",
    "            'Authorization': f'Bearer {self.api_key}',\n",
    "            'Content-Type': 'application/json'\n",
    "        }\n",
    "\n",
    "    def _handle_response(self, response):\n",
    "        if response.status_code == 200:\n",
    "            print(\"Payment processed successfully\")\n",
    "            return response.json()\n",
    "        else:\n",
    "            print(\"Failed to process payment\")\n",
    "            return response.text\n",
    "\n",
    "class PaymentProcessor:\n",
    "    def __init__(self, adapter):\n",
    "        self.adapter = adapter\n",
    "\n",
    "    def process_payment(self, payment_details):\n",
    "        return self.adapter.send_payment_request(payment_details)\n",
    "\n",
    "#from payment_adapter import PaymentAdapter\n",
    "#from payment_processor import PaymentProcessor\n",
    "\n",
    "# External API details\n",
    "api_url = \"https://api.paymentprovider.com/v1/payments\"\n",
    "api_key = \"your_api_key_here\"\n",
    "\n",
    "# Create the adapter and processor\n",
    "adapter = PaymentAdapter(api_url, api_key)\n",
    "processor = PaymentProcessor(adapter)\n",
    "\n",
    "# Payment details object (this would typically come from your app's logic)\n",
    "payment_details = {\n",
    "    'amount': 100.0,\n",
    "    'currency': 'USD',\n",
    "    'card_number': '4111111111111111',\n",
    "    'card_expiry': '12/24',\n",
    "    'card_cvc': '123'\n",
    "}\n",
    "\n",
    "# Process the payment\n",
    "processor.process_payment(payment_details)"
   ]
  },
  {
   "cell_type": "markdown",
   "metadata": {},
   "source": [
    "\n",
    "### Benefits of Using an Adapter:\n",
    "1. **Single Point of Change**: If the external API changes, only the `PaymentAdapter` needs to be updated.\n",
    "2. **Improved Testability**: You can mock the `PaymentAdapter` during testing without needing to hit the real external API.\n",
    "3. **Flexibility**: If you switch to a different payment provider, you can implement a new adapter for the new provider without changing the `PaymentProcessor` logic.\n",
    "4. **Reduced External Coupling**: The `PaymentProcessor` class no longer depends directly on the external API's details. It relies on the adapter, which abstracts those details.\n",
    "\n",
    "This approach maintains a clean separation between your application logic and external dependencies, making your codebase more maintainable and adaptable to changes."
   ]
  }
 ],
 "metadata": {
  "kernelspec": {
   "display_name": "Python 3",
   "language": "python",
   "name": "python3"
  },
  "language_info": {
   "codemirror_mode": {
    "name": "ipython",
    "version": 3
   },
   "file_extension": ".py",
   "mimetype": "text/x-python",
   "name": "python",
   "nbconvert_exporter": "python",
   "pygments_lexer": "ipython3",
   "version": "3.9.6"
  }
 },
 "nbformat": 4,
 "nbformat_minor": 2
}
