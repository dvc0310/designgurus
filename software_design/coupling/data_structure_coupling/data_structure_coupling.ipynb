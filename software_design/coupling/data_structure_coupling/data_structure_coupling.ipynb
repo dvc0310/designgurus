{
 "cells": [
  {
   "cell_type": "markdown",
   "metadata": {},
   "source": [
    "# Example Scenario:\n",
    "\n",
    "Imagine two modules, one for updating user information and another for displaying user information, both depending on the same dictionary structure."
   ]
  },
  {
   "cell_type": "code",
   "execution_count": 15,
   "metadata": {},
   "outputs": [],
   "source": [
    "# user_updater.py\n",
    "\n",
    "def update_user_info(user_data, new_info):\n",
    "    # Assumes user_data has a specific structure with 'name' and 'email' keys\n",
    "    user_data['name'] = new_info.get('name', user_data['name'])\n",
    "    user_data['email'] = new_info.get('email', user_data['email'])\n",
    "    return user_data\n",
    "\n",
    "# user_display.py\n",
    "\n",
    "def display_user_info(user_data):\n",
    "    # Assumes user_data has 'name' and 'email' keys\n",
    "    print(f\"Name: {user_data['name']}\")\n",
    "    print(f\"Email: {user_data['email']}\")\n"
   ]
  },
  {
   "cell_type": "code",
   "execution_count": 16,
   "metadata": {},
   "outputs": [
    {
     "name": "stdout",
     "output_type": "stream",
     "text": [
      "Name: Jane Doe\n",
      "Email: john.doe@example.com\n"
     ]
    }
   ],
   "source": [
    "# main.py\n",
    "\n",
    "user_data = {\n",
    "    'name': 'John Doe',\n",
    "    'email': 'john.doe@example.com',\n",
    "    'age': 30  # Assume this is an additional key in the dictionary\n",
    "}\n",
    "\n",
    "# Update the user's info\n",
    "updated_user_data = update_user_info(user_data, {'name': 'Jane Doe'})\n",
    "\n",
    "# Display the updated user's info\n",
    "display_user_info(updated_user_data)\n"
   ]
  },
  {
   "cell_type": "markdown",
   "metadata": {},
   "source": [
    "# Refactored Data"
   ]
  },
  {
   "cell_type": "code",
   "execution_count": 17,
   "metadata": {},
   "outputs": [],
   "source": [
    "# user_data.py\n",
    "\n",
    "# user_data.py\n",
    "\n",
    "from dataclasses import dataclass, field\n",
    "import re\n",
    "\n",
    "@dataclass\n",
    "class UserData:\n",
    "    name: str\n",
    "    email: str\n",
    "    age: int  # Additional fields as needed\n",
    "\n",
    "    def update_info(self, **kwargs):\n",
    "        for key, value in kwargs.items():\n",
    "            if hasattr(self, key) and value is not None:\n",
    "                if key == 'email' and not self._is_valid_email(value):\n",
    "                    raise ValueError(\"Invalid email format\")\n",
    "                setattr(self, key, value)\n",
    "\n",
    "    @staticmethod\n",
    "    def _is_valid_email(email: str) -> bool:\n",
    "        pattern = r'^[a-zA-Z0-9_.+-]+@[a-zA-Z0-9-]+\\.[a-zA-Z0-9-.]+$'\n",
    "        return re.match(pattern, email) is not None\n",
    "\n",
    "# user_updater.py\n",
    "\n",
    "def update_user_info(user: UserData, **kwargs):\n",
    "    user.update_info(**kwargs)\n",
    "    return user\n",
    "\n",
    "\n",
    "# user_display.py\n",
    "\n",
    "def display_user_info(user: UserData):\n",
    "    print(f\"Name: {user.name}\")\n",
    "    print(f\"Email: {user.email}\")\n",
    "    print(f\"Age: {user.age}\")\n",
    "\n"
   ]
  },
  {
   "cell_type": "code",
   "execution_count": null,
   "metadata": {},
   "outputs": [
    {
     "name": "stdout",
     "output_type": "stream",
     "text": [
      "Name: John Doe\n",
      "Email: John.Doe.GOAT@example.com\n",
      "Age: 30\n"
     ]
    }
   ],
   "source": [
    "# main.py\n",
    "\n",
    "# from user_data import UserData\n",
    "# from user_updater import update_user_info\n",
    "# from user_display import display_user_info\n",
    "\n",
    "# Create an instance of UserData\n",
    "user = UserData(name='John Doe', email='john.doe@example.com', age=30)\n",
    "\n",
    "# Update the user's email directly using a keyword argument\n",
    "try:\n",
    "    updated_user = update_user_info(user, email='John.Doe.GOAT@example.com')\n",
    "except ValueError as e:\n",
    "    print(f\"Error: {e}\")\n",
    "\n",
    "# Display the updated user's info\n",
    "display_user_info(updated_user)\n"
   ]
  }
 ],
 "metadata": {
  "kernelspec": {
   "display_name": "Python 3",
   "language": "python",
   "name": "python3"
  },
  "language_info": {
   "codemirror_mode": {
    "name": "ipython",
    "version": 3
   },
   "file_extension": ".py",
   "mimetype": "text/x-python",
   "name": "python",
   "nbconvert_exporter": "python",
   "pygments_lexer": "ipython3",
   "version": "3.9.6"
  }
 },
 "nbformat": 4,
 "nbformat_minor": 2
}
