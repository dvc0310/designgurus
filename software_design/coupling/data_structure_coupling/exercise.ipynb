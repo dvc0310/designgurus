{
 "cells": [
  {
   "cell_type": "code",
   "execution_count": 22,
   "metadata": {},
   "outputs": [
    {
     "name": "stdout",
     "output_type": "stream",
     "text": [
      "Processing order 12345 for Alice Johnson\n",
      "Total items: 4\n",
      "Order Summary for 12345\n",
      "Item: Laptop, Quantity: 1\n",
      "Item: Mouse, Quantity: 2\n",
      "Item: Keyboard, Quantity: 1\n"
     ]
    }
   ],
   "source": [
    "# order_processor.py\n",
    "\n",
    "def process_order(order_data):\n",
    "    # Assumes order_data has keys: 'order_id', 'customer_name', 'items'\n",
    "    print(f\"Processing order {order_data['order_id']} for {order_data['customer_name']}\")\n",
    "    total_items = sum(item['quantity'] for item in order_data['items'])\n",
    "    print(f\"Total items: {total_items}\")\n",
    "\n",
    "# order_summary.py\n",
    "\n",
    "def display_order_summary(order_data):\n",
    "    # Assumes order_data has keys: 'order_id', 'customer_name', 'items'\n",
    "    print(f\"Order Summary for {order_data['order_id']}\")\n",
    "    for item in order_data['items']:\n",
    "        print(f\"Item: {item['name']}, Quantity: {item['quantity']}\")\n",
    "\n",
    "\n",
    "# Sample order data structured as a dictionary\n",
    "order_data = {\n",
    "    'order_id': '12345',\n",
    "    'customer_name': 'Alice Johnson',\n",
    "    'items': [\n",
    "        {'name': 'Laptop', 'quantity': 1},\n",
    "        {'name': 'Mouse', 'quantity': 2},\n",
    "        {'name': 'Keyboard', 'quantity': 1}\n",
    "    ]\n",
    "}\n",
    "\n",
    "# Process the order using the initial dictionary structure\n",
    "process_order(order_data)\n",
    "\n",
    "# Display the order summary using the initial dictionary structure\n",
    "display_order_summary(order_data)"
   ]
  },
  {
   "cell_type": "markdown",
   "metadata": {},
   "source": [
    "## Refactored"
   ]
  },
  {
   "cell_type": "code",
   "execution_count": 30,
   "metadata": {},
   "outputs": [],
   "source": [
    "\n",
    "from dataclasses import dataclass\n",
    "\n",
    "@dataclass\n",
    "class Item:\n",
    "    name: str\n",
    "    quantity: int\n",
    "\n",
    "@dataclass\n",
    "class Order:\n",
    "    order_id: str\n",
    "    customer_name : str\n",
    "    items: list[Item]\n",
    "    \n",
    "    def update_info(self, **kwargs):\n",
    "        for key, value in kwargs.items():\n",
    "            if hasattr(self, key) and value is not None:\n",
    "                setattr(self, key, value)\n",
    "\n",
    "    def addItem(self, item: Item):\n",
    "        self.items.append(item)\n",
    "        \n",
    "\n",
    "def display_order_info(order: Order):\n",
    "    print(f\"Order ID: {order.order_id}\")\n",
    "    print(f\"Customer Name: {order.customer_name}\")\n",
    "    print(f\"Orders: {order.items}\")\n",
    "    \n",
    "def update_order_info(order: Order, **kwargs):\n",
    "    order.update_info(**kwargs)\n",
    "    return order\n"
   ]
  },
  {
   "cell_type": "code",
   "execution_count": 31,
   "metadata": {},
   "outputs": [
    {
     "name": "stdout",
     "output_type": "stream",
     "text": [
      "Order ID: 513543\n",
      "Customer Name: David\n",
      "Orders: [Item(name='Laptop', quantity=3), Item(name='Laptop 2', quantity=1), Item(name='Laptop 3', quantity=2)]\n"
     ]
    }
   ],
   "source": [
    "order = Order(customer_name=\"David\", order_id=\"513543\", items=[])\n",
    "order.addItem(Item(name=\"Laptop\", quantity=3))\n",
    "order.addItem(Item(name=\"Laptop 2\", quantity=1))\n",
    "order.addItem(Item(name=\"Laptop 3\", quantity=2))\n",
    "\n",
    "display_order_info(order)"
   ]
  },
  {
   "cell_type": "code",
   "execution_count": 32,
   "metadata": {},
   "outputs": [
    {
     "name": "stdout",
     "output_type": "stream",
     "text": [
      "Order ID: 513543\n",
      "Customer Name: David C.\n",
      "Orders: [Item(name='Laptop', quantity=3), Item(name='Laptop 2', quantity=1), Item(name='Laptop 3', quantity=2)]\n"
     ]
    }
   ],
   "source": [
    "try:\n",
    "    updated_order = update_order_info(order, customer_name=\"David C.\")\n",
    "except Exception as e:\n",
    "    print(f\"Error: {e}\")\n",
    "\n",
    "# Display the updated user's info\n",
    "display_order_info(updated_order)"
   ]
  }
 ],
 "metadata": {
  "kernelspec": {
   "display_name": "Python 3",
   "language": "python",
   "name": "python3"
  },
  "language_info": {
   "codemirror_mode": {
    "name": "ipython",
    "version": 3
   },
   "file_extension": ".py",
   "mimetype": "text/x-python",
   "name": "python",
   "nbconvert_exporter": "python",
   "pygments_lexer": "ipython3",
   "version": "3.9.6"
  }
 },
 "nbformat": 4,
 "nbformat_minor": 2
}
