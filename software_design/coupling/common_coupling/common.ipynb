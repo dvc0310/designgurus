{
 "cells": [
  {
   "cell_type": "markdown",
   "metadata": {},
   "source": [
    "Common coupling occurs when two or more modules share global data, leading to a situation where changes to the global data can affect all modules that use it. This type of coupling can make the code more difficult to maintain and debug because any module can modify the shared data, creating unexpected side effects in other modules."
   ]
  },
  {
   "cell_type": "markdown",
   "metadata": {},
   "source": [
    "## Example of Common Coupling:"
   ]
  },
  {
   "cell_type": "code",
   "execution_count": 39,
   "metadata": {},
   "outputs": [],
   "source": [
    "# shared_data.py\n",
    "global_config = {\n",
    "    'app_mode': 'development',\n",
    "    'max_connections': 10,\n",
    "    'log_level': 'info'\n",
    "}\n"
   ]
  },
  {
   "cell_type": "code",
   "execution_count": 40,
   "metadata": {},
   "outputs": [],
   "source": [
    "# module_a.py\n",
    "# from shared_data import global_config\n",
    "\n",
    "def modify_config(new_mode, new_log_level):\n",
    "    global_config['app_mode'] = new_mode\n",
    "    global_config['log_level'] = new_log_level\n",
    "    print(f\"Module A modified app_mode to {new_mode} and log_level to {new_log_level}\")\n"
   ]
  },
  {
   "cell_type": "code",
   "execution_count": 41,
   "metadata": {},
   "outputs": [],
   "source": [
    "# module_b.py\n",
    "# from shared_data import global_config\n",
    "\n",
    "def read_config():\n",
    "    print(f\"Module B reads config: app_mode={global_config['app_mode']}, log_level={global_config['log_level']}\")\n"
   ]
  },
  {
   "cell_type": "code",
   "execution_count": 42,
   "metadata": {},
   "outputs": [
    {
     "name": "stdout",
     "output_type": "stream",
     "text": [
      "Module B reads config: app_mode=development, log_level=info\n",
      "Module A modified app_mode to production and log_level to debug\n",
      "Module B reads config: app_mode=production, log_level=debug\n"
     ]
    }
   ],
   "source": [
    "# main.py\n",
    "# from module_a import modify_config\n",
    "# from module_b import read_config\n",
    "\n",
    "# Initial read of the config in Module B\n",
    "read_config()  # Output: Module B reads config: app_mode=development, log_level=info\n",
    "\n",
    "# Modify the config in Module A\n",
    "modify_config(new_mode='production', new_log_level='debug')\n",
    "\n",
    "# Read the updated config in Module B\n",
    "read_config()  # Output: Module B reads config: app_mode=production, log_level=debug\n"
   ]
  },
  {
   "cell_type": "markdown",
   "metadata": {},
   "source": [
    "## Refactoring Issue"
   ]
  },
  {
   "cell_type": "markdown",
   "metadata": {},
   "source": [
    "\n",
    "Let's modify the common coupled example to illustrate why it could be problematic. Suppose we need to add new keys or change the structure of the global_config dictionary. I'll show how this impacts the modules and creates challenges."
   ]
  },
  {
   "cell_type": "markdown",
   "metadata": {},
   "source": [
    "### Modified shared_data.py:\n",
    "Suppose we decide to change global_config to include a nested structure for logging information, like this:"
   ]
  },
  {
   "cell_type": "code",
   "execution_count": 43,
   "metadata": {},
   "outputs": [],
   "source": [
    "# shared_data.py\n",
    "global_config = {\n",
    "    'app_mode': 'development',\n",
    "    'max_connections': 10,\n",
    "    'logging': {\n",
    "        'level': 'info',\n",
    "        'file_path': '/var/log/app.log'\n",
    "    }\n",
    "}\n"
   ]
  },
  {
   "cell_type": "code",
   "execution_count": 44,
   "metadata": {},
   "outputs": [],
   "source": [
    "# module_a.py (Original)\n",
    "# from shared_data import global_config\n",
    "\n",
    "def modify_config(new_mode, new_log_level):\n",
    "    # This will fail or cause unintended issues\n",
    "    global_config['app_mode'] = new_mode\n",
    "    global_config['log_level'] = new_log_level  # This key no longer exists and will create a new key\n",
    "    print(f\"Module A modified app_mode to {new_mode} and log_level to {new_log_level}\")\n",
    "\n",
    "# module_b.py (Original)\n",
    "# from shared_data import global_config\n",
    "\n",
    "def read_config():\n",
    "    # This will either fail or not display updated logging details correctly\n",
    "    print(f\"Module B reads config: app_mode={global_config['app_mode']}, log_level={global_config['log_level']}\")\n",
    "    # KeyError because 'log_level' was moved to the nested 'logging' dictionary\n"
   ]
  },
  {
   "cell_type": "code",
   "execution_count": 45,
   "metadata": {},
   "outputs": [
    {
     "name": "stdout",
     "output_type": "stream",
     "text": [
      "Initial config read:\n",
      "'log_level'\n"
     ]
    }
   ],
   "source": [
    "# Initial read of the config in Module B\n",
    "try:\n",
    "    print(\"Initial config read:\")\n",
    "    read_config()  # Output: Module B reads config: app_mode=development, log_level=info\n",
    "\n",
    "    # Modify the config in Module A\n",
    "    print(\"\\nModifying config in Module A...\")\n",
    "    modify_config(new_mode='production', new_log_level='debug')\n",
    "\n",
    "    # Read the updated config in Module B\n",
    "    print(\"\\nUpdated config read:\")\n",
    "    read_config()  # Output: Module B reads config: app_mode=production, log_level=debug\n",
    "except Exception as e:\n",
    "    print(e)"
   ]
  },
  {
   "cell_type": "markdown",
   "metadata": {},
   "source": [
    "\n",
    "\n",
    "### Impact of the Change:\n",
    "1. **Key Errors**: `module_b.py` will raise a `KeyError` when trying to access `global_config['log_level']`, as this key no longer exists at the top level. It has been moved to `global_config['logging']['level']`.\n",
    "2. **Data Inconsistencies**: `module_a.py` updates `global_config['log_level']`, which now creates a new key at the top level, leading to inconsistencies in how the configuration is represented and read across modules.\n",
    "3. **Widespread Changes Needed**: To accommodate the new structure, every module that accesses `global_config` must be updated to use the new nested structure (`global_config['logging']['level']`).\n",
    "4. **Error-Prone Refactoring**: Finding and updating all instances where `global_config` is used is error-prone and time-consuming, increasing the chance of missing references and introducing bugs.\n",
    "\n",
    "### Refactored Version to Handle Changes:\n",
    "To handle these changes more gracefully, refactor the code to use a `ConfigManager` class:\n"
   ]
  },
  {
   "cell_type": "code",
   "execution_count": 46,
   "metadata": {},
   "outputs": [],
   "source": [
    "class ConfigManager:\n",
    "    def __init__(self):\n",
    "        self._config = {\n",
    "            'app_mode': 'development',\n",
    "            'max_connections': 10,\n",
    "            'logging': {\n",
    "                'level': 'info',\n",
    "                'file_path': '/var/log/app.log'\n",
    "            }\n",
    "        }\n",
    "\n",
    "    def get_config(self):\n",
    "        return self._config\n",
    "\n",
    "    def get_value(self, *keys):\n",
    "        \"\"\"Safely get a nested value from the configuration.\"\"\"\n",
    "        config_section = self._config\n",
    "        for key in keys:\n",
    "            if isinstance(config_section, dict) and key in config_section:\n",
    "                config_section = config_section[key]\n",
    "            else:\n",
    "                raise KeyError(f\"Configuration key {' -> '.join(keys)} not found.\")\n",
    "        return config_section\n",
    "\n",
    "    def set_value(self, value, *keys):\n",
    "        \"\"\"Safely set a nested value in the configuration.\"\"\"\n",
    "        config_section = self._config\n",
    "        for key in keys[:-1]:\n",
    "            if key not in config_section or not isinstance(config_section[key], dict):\n",
    "                config_section[key] = {}\n",
    "            config_section = config_section[key]\n",
    "        config_section[keys[-1]] = value\n",
    "\n",
    "    def get_logging_level(self):\n",
    "        return self.get_value('logging', 'level')\n",
    "\n",
    "    def set_logging_level(self, level):\n",
    "        self.set_value(level, 'logging', 'level')\n",
    "\n",
    "    def set_app_mode(self, app_mode):\n",
    "        self._config['app_mode'] = app_mode\n",
    "\n",
    "    def get_app_mode(self):\n",
    "        return self._config['app_mode']\n",
    "\n",
    "\n",
    "# module_a.py (Refactored)\n",
    "def modify_config(config_manager, new_mode, new_log_level):\n",
    "    config_manager.set_app_mode(new_mode)  # Use specific method for setting app mode\n",
    "    config_manager.set_logging_level(new_log_level)  # Use specific method for setting logging level\n",
    "    print(f\"Module A modified app_mode to {new_mode} and log_level to {new_log_level}\")\n",
    "\n",
    "# module_b.py (Refactored)\n",
    "def read_config(config_manager):\n",
    "    app_mode = config_manager.get_app_mode()  # Use specific method for reading app mode\n",
    "    log_level = config_manager.get_logging_level()  # Use specific method for reading logging level\n",
    "    print(f\"Module B reads config: app_mode={app_mode}, log_level={log_level}\")\n",
    "\n"
   ]
  },
  {
   "cell_type": "code",
   "execution_count": 47,
   "metadata": {},
   "outputs": [
    {
     "name": "stdout",
     "output_type": "stream",
     "text": [
      "Initial config read:\n",
      "Module B reads config: app_mode=development, log_level=info\n",
      "\n",
      "Modifying config in Module A...\n",
      "Module A modified app_mode to production and log_level to debug\n",
      "\n",
      "Updated config read:\n",
      "Module B reads config: app_mode=production, log_level=debug\n"
     ]
    }
   ],
   "source": [
    "# Initial read of the config in Module B\n",
    "try:\n",
    "    config = ConfigManager()\n",
    "    print(\"Initial config read:\")\n",
    "    read_config(config)  # Output: Module B reads config: app_mode=development, log_level=info\n",
    "\n",
    "    # Modify the config in Module A\n",
    "    print(\"\\nModifying config in Module A...\")\n",
    "    modify_config(config_manager=config, new_mode='production', new_log_level='debug')\n",
    "\n",
    "    # Read the updated config in Module B\n",
    "    print(\"\\nUpdated config read:\")\n",
    "    read_config(config)  # Output: Module B reads config: app_mode=production, log_level=debug\n",
    "except Exception as e:\n",
    "    print(e)"
   ]
  }
 ],
 "metadata": {
  "kernelspec": {
   "display_name": "Python 3",
   "language": "python",
   "name": "python3"
  },
  "language_info": {
   "codemirror_mode": {
    "name": "ipython",
    "version": 3
   },
   "file_extension": ".py",
   "mimetype": "text/x-python",
   "name": "python",
   "nbconvert_exporter": "python",
   "pygments_lexer": "ipython3",
   "version": "3.9.6"
  }
 },
 "nbformat": 4,
 "nbformat_minor": 2
}
