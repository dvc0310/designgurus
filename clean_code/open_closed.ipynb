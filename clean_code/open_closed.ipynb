{
 "cells": [
  {
   "cell_type": "markdown",
   "metadata": {},
   "source": [
    "# Exercise: Notification System\n",
    "You are tasked with building a Notification System that sends notifications through different channels, such as email and SMS. Currently, the system supports only email notifications, but the company wants to extend it to support SMS and possibly other channels in the future.\n",
    "\n",
    "Here is the initial implementation that violates the Open-Closed Principle because it requires modifying existing code to add new notification types:"
   ]
  },
  {
   "cell_type": "markdown",
   "metadata": {},
   "source": [
    "### Original"
   ]
  },
  {
   "cell_type": "code",
   "execution_count": 1,
   "metadata": {},
   "outputs": [
    {
     "name": "stdout",
     "output_type": "stream",
     "text": [
      "Sending email: Hello, User!\n",
      "Sending SMS: Hello, User!\n"
     ]
    }
   ],
   "source": [
    "class Notification:\n",
    "    def send_notification(self, message, method):\n",
    "        if method == 'email':\n",
    "            self.send_email(message)\n",
    "        elif method == 'sms':\n",
    "            self.send_sms(message)\n",
    "        else:\n",
    "            print(\"Unsupported notification method.\")\n",
    "\n",
    "    def send_email(self, message):\n",
    "        print(f\"Sending email: {message}\")\n",
    "\n",
    "    def send_sms(self, message):\n",
    "        print(f\"Sending SMS: {message}\")\n",
    "\n",
    "# Usage\n",
    "notifier = Notification()\n",
    "notifier.send_notification(\"Hello, User!\", \"email\")\n",
    "notifier.send_notification(\"Hello, User!\", \"sms\")"
   ]
  },
  {
   "cell_type": "markdown",
   "metadata": {},
   "source": [
    "### Modified"
   ]
  },
  {
   "cell_type": "code",
   "execution_count": 2,
   "metadata": {},
   "outputs": [
    {
     "name": "stdout",
     "output_type": "stream",
     "text": [
      "Sending email: Hello via Email!\n",
      "Sending SMS: Hello via SMS!\n",
      "Sending push notification: Hello via Push Notification!\n"
     ]
    }
   ],
   "source": [
    "from abc import ABC, abstractmethod\n",
    "\n",
    "class Message(ABC):\n",
    "    @abstractmethod\n",
    "    def send_message(self, message: str) -> None:\n",
    "        pass\n",
    "\n",
    "class EmailMessage(Message):\n",
    "    def send_message(self, message: str) -> None:\n",
    "        print(f\"Sending email: {message}\")\n",
    "        \n",
    "class SMSMessage(Message):\n",
    "    def send_message(self, message: str) -> None:\n",
    "        print(f\"Sending SMS: {message}\")\n",
    "\n",
    "class PushNotificationMessage(Message):\n",
    "    def send_message(self, message: str) -> None:\n",
    "        print(f\"Sending push notification: {message}\")\n",
    "        \n",
    "class Notification:\n",
    "    def __init__(self, message_type: Message):\n",
    "        self.message_type = message_type\n",
    "\n",
    "    def send_notification(self, message: str):\n",
    "        self.message_type.send_message(message)\n",
    "\n",
    "\n",
    "# Usage\n",
    "email_notifier = Notification(EmailMessage())\n",
    "sms_notifier = Notification(SMSMessage())\n",
    "push_notifier = Notification(PushNotificationMessage())\n",
    "\n",
    "email_notifier.send_notification(\"Hello via Email!\")\n",
    "sms_notifier.send_notification(\"Hello via SMS!\")\n",
    "push_notifier.send_notification(\"Hello via Push Notification!\")\n"
   ]
  },
  {
   "cell_type": "markdown",
   "metadata": {},
   "source": [
    "# Exercise: Payment Processing System\n",
    "You are building a Payment Processing System for an e-commerce platform. The system currently only handles payments through credit cards but needs to be extended to support other payment methods like PayPal, Bank Transfer, and potentially other methods in the future.\n",
    "\n",
    "Here’s the initial implementation that violates the Open-Closed Principle because it requires modifying existing code to add new payment methods:"
   ]
  },
  {
   "cell_type": "code",
   "execution_count": 3,
   "metadata": {},
   "outputs": [
    {
     "name": "stdout",
     "output_type": "stream",
     "text": [
      "Processing credit card payment of $100\n",
      "Processing PayPal payment of $150\n"
     ]
    }
   ],
   "source": [
    "class PaymentProcessor:\n",
    "    def process_payment(self, amount, method):\n",
    "        if method == 'credit_card':\n",
    "            self.process_credit_card(amount)\n",
    "        elif method == 'paypal':\n",
    "            self.process_paypal(amount)\n",
    "        else:\n",
    "            print(\"Unsupported payment method.\")\n",
    "\n",
    "    def process_credit_card(self, amount):\n",
    "        print(f\"Processing credit card payment of ${amount}\")\n",
    "\n",
    "    def process_paypal(self, amount):\n",
    "        print(f\"Processing PayPal payment of ${amount}\")\n",
    "\n",
    "# Usage\n",
    "processor = PaymentProcessor()\n",
    "processor.process_payment(100, 'credit_card')\n",
    "processor.process_payment(150, 'paypal')\n"
   ]
  },
  {
   "cell_type": "code",
   "execution_count": 4,
   "metadata": {},
   "outputs": [
    {
     "name": "stdout",
     "output_type": "stream",
     "text": [
      "Processing credit card payment of $100\n",
      "Processing PayPal payment of $200\n",
      "Processing bank transfer payment of $300\n"
     ]
    }
   ],
   "source": [
    "from abc import ABC, abstractmethod\n",
    "\n",
    "class Payment(ABC):\n",
    "    @abstractmethod\n",
    "    def process_payment(self) -> None:\n",
    "        pass\n",
    "    \n",
    "class CreditCardPayment(Payment):\n",
    "    def __init__(self, amount: float):\n",
    "        self.amount = amount\n",
    "        \n",
    "    def process_payment(self) -> None:\n",
    "        print(f\"Processing credit card payment of ${self.amount}\")\n",
    "\n",
    "class PayPalPayment(Payment):\n",
    "    def __init__(self, amount: float):\n",
    "        self.amount = amount\n",
    "        \n",
    "    def process_payment(self) -> None:\n",
    "        print(f\"Processing PayPal payment of ${self.amount}\")\n",
    "\n",
    "class BankTransferPayment(Payment):\n",
    "    def __init__(self, amount: float):\n",
    "        self.amount = amount\n",
    "\n",
    "    def process_payment(self) -> None:\n",
    "        print(f\"Processing bank transfer payment of ${self.amount}\")\n",
    "\n",
    "class PaymentProcessor:\n",
    "    def process_payment(self, payment: Payment) -> None:\n",
    "        if isinstance(payment, Payment):\n",
    "            payment.process_payment()\n",
    "        else:\n",
    "            print(\"Invalid payment method.\")\n",
    "            \n",
    "        \n",
    "# Usage\n",
    "credit_card = CreditCardPayment(100)\n",
    "paypal = PayPalPayment(200)\n",
    "bank_transfer = BankTransferPayment(300)\n",
    "\n",
    "processor = PaymentProcessor()\n",
    "processor.process_payment(credit_card)\n",
    "processor.process_payment(paypal)\n",
    "processor.process_payment(bank_transfer)"
   ]
  }
 ],
 "metadata": {
  "kernelspec": {
   "display_name": "Python 3",
   "language": "python",
   "name": "python3"
  },
  "language_info": {
   "codemirror_mode": {
    "name": "ipython",
    "version": 3
   },
   "file_extension": ".py",
   "mimetype": "text/x-python",
   "name": "python",
   "nbconvert_exporter": "python",
   "pygments_lexer": "ipython3",
   "version": "3.9.6"
  }
 },
 "nbformat": 4,
 "nbformat_minor": 2
}
