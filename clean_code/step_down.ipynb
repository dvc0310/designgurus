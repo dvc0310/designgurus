{
 "cells": [
  {
   "cell_type": "markdown",
   "metadata": {},
   "source": [
    "# Problem 1: Refactor a Complex Class\n",
    "You have a class that handles user registration. The register_user method is performing too many tasks at once. Refactor it to make the code cleaner and more modular."
   ]
  },
  {
   "cell_type": "markdown",
   "metadata": {},
   "source": [
    "### Original"
   ]
  },
  {
   "cell_type": "code",
   "execution_count": null,
   "metadata": {},
   "outputs": [],
   "source": [
    "class UserRegistration:\n",
    "    def register_user(self, user_info):\n",
    "        # Step 1: Validate user input\n",
    "        if 'email' not in user_info or 'password' not in user_info:\n",
    "            raise ValueError(\"Invalid input\")\n",
    "\n",
    "        # Step 2: Hash the password\n",
    "        hashed_password = self.hash_password(user_info['password'])\n",
    "\n",
    "        # Step 3: Save user to the database\n",
    "        user_info['password'] = hashed_password\n",
    "        self.save_user(user_info)\n",
    "\n",
    "        # Step 4: Send a confirmation email\n",
    "        self.send_confirmation_email(user_info['email'])\n",
    "\n",
    "    def hash_password(self, password):\n",
    "        # Password hashing logic\n",
    "        return password + \"_hashed\"\n",
    "\n",
    "    def save_user(self, user_info):\n",
    "        # Database saving logic here\n",
    "        pass\n",
    "\n",
    "    def send_confirmation_email(self, email):\n",
    "        # Email sending logic here\n",
    "        pass\n"
   ]
  },
  {
   "cell_type": "markdown",
   "metadata": {},
   "source": [
    "### Modified"
   ]
  },
  {
   "cell_type": "code",
   "execution_count": null,
   "metadata": {},
   "outputs": [],
   "source": [
    "class UserRegistration:\n",
    "    def register_user(self, user_info):\n",
    "        self.validate_user_info(user_info)\n",
    "        self.prepare_user_for_saving(user_info)\n",
    "        self.save_user_to_db(user_info)\n",
    "        self.send_confirmation_email(user_info['email'])\n",
    "\n",
    "    def validate_user_info(self, user_info):\n",
    "        if 'email' not in user_info or 'password' not in user_info:\n",
    "            raise ValueError(\"Invalid input\")\n",
    "\n",
    "    def prepare_user_for_saving(self, user_info):\n",
    "        # High-level method to prepare user info (including hashing the password)\n",
    "        user_info['password'] = self.hash_password(user_info['password'])\n",
    "\n",
    "    def hash_password(self, password):\n",
    "        return password + \"_hashed\"\n",
    "\n",
    "    def save_user_to_db(self, user_info):\n",
    "        # Logic for saving the user to the database\n",
    "        pass\n",
    "\n",
    "    def send_confirmation_email(self, email):\n",
    "        # Logic for sending confirmation email\n",
    "        pass\n"
   ]
  },
  {
   "cell_type": "markdown",
   "metadata": {},
   "source": [
    "# Problem 2: Simplify Long Conditionals\n",
    "This function contains long conditionals, which can be difficult to read and maintain. Refactor it by breaking down the conditions into smaller functions."
   ]
  },
  {
   "cell_type": "markdown",
   "metadata": {},
   "source": [
    "### Original"
   ]
  },
  {
   "cell_type": "code",
   "execution_count": null,
   "metadata": {},
   "outputs": [],
   "source": [
    "def process_payment(payment_type, amount):\n",
    "    if payment_type == \"credit_card\":\n",
    "        if amount > 1000:\n",
    "            print(\"Credit card payment over limit\")\n",
    "        else:\n",
    "            print(f\"Processing credit card payment of {amount}\")\n",
    "    elif payment_type == \"paypal\":\n",
    "        if amount < 10:\n",
    "            print(\"Paypal payment too low\")\n",
    "        else:\n",
    "            print(f\"Processing Paypal payment of {amount}\")\n",
    "    elif payment_type == \"bank_transfer\":\n",
    "        if amount > 5000:\n",
    "            print(\"Bank transfer over limit\")\n",
    "        else:\n",
    "            print(f\"Processing bank transfer payment of {amount}\")\n",
    "    else:\n",
    "        raise ValueError(\"Invalid payment type\")\n"
   ]
  },
  {
   "cell_type": "markdown",
   "metadata": {},
   "source": [
    "### Modified"
   ]
  },
  {
   "cell_type": "code",
   "execution_count": null,
   "metadata": {},
   "outputs": [],
   "source": [
    "from abc import ABC, abstractmethod\n",
    "\n",
    "class PaymentAuthorizer(ABC):\n",
    "    @abstractmethod\n",
    "    def authorize_payment(self, amount: float) -> None:\n",
    "        pass\n",
    "\n",
    "class CreditCardAuthorizer(PaymentAuthorizer):\n",
    "    def authorize_payment(self, amount: float) -> None:\n",
    "        if amount > 1000:\n",
    "            print(\"Credit card payment over limit\")\n",
    "        else:\n",
    "            print(f\"Processing credit card payment of {amount}\")\n",
    "\n",
    "class PayPalAuthorizer(PaymentAuthorizer):\n",
    "    def authorize_payment(self, amount: float) -> None:\n",
    "        if amount < 10:\n",
    "            print(\"Paypal payment too low\")\n",
    "        else:\n",
    "            print(f\"Processing Paypal payment of {amount}\")\n",
    "\n",
    "class BankTransferAuthorizer(PaymentAuthorizer):\n",
    "    def authorize_payment(self, amount: float) -> None:\n",
    "        if amount > 5000:\n",
    "            print(\"Bank transfer over limit\")\n",
    "        else:\n",
    "            print(f\"Processing bank transfer payment of {amount}\")\n",
    "\n",
    "def process_payment(payment_type: str, amount: float) -> None:\n",
    "    authorizers = {\n",
    "        \"credit_card\": CreditCardAuthorizer(),\n",
    "        \"paypal\": PayPalAuthorizer(),\n",
    "        \"bank_transfer\": BankTransferAuthorizer()\n",
    "    }\n",
    "    authorizer = authorizers.get(payment_type)\n",
    "    \n",
    "    if authorizer:\n",
    "        authorizer.authorize_payment(amount)\n",
    "    else:\n",
    "        raise ValueError(f\"Invalid payment type: {payment_type}\")\n"
   ]
  },
  {
   "cell_type": "markdown",
   "metadata": {},
   "source": [
    "# Problem 3: Refactor Nested Logic\n",
    "Here’s a piece of code that has too much logic nested inside loops and conditionals. Break it down by applying the stepdown rule."
   ]
  },
  {
   "cell_type": "markdown",
   "metadata": {},
   "source": [
    "### Original"
   ]
  },
  {
   "cell_type": "code",
   "execution_count": null,
   "metadata": {},
   "outputs": [],
   "source": [
    "def clean_data(data):\n",
    "    cleaned_data = []\n",
    "    for record in data:\n",
    "        if record['active'] and record['valid']:\n",
    "            # Apply some transformation\n",
    "            transformed_record = {\n",
    "                'name': record['name'].upper(),\n",
    "                'age': record['age'] + 1\n",
    "            }\n",
    "            cleaned_data.append(transformed_record)\n",
    "    return cleaned_data\n"
   ]
  },
  {
   "cell_type": "markdown",
   "metadata": {},
   "source": [
    "### Modified"
   ]
  },
  {
   "cell_type": "code",
   "execution_count": null,
   "metadata": {},
   "outputs": [],
   "source": [
    "def clean_data(data):\n",
    "    cleaned_data = []\n",
    "    for record in data:\n",
    "        if check_active_and_valid(record):\n",
    "            cleaned_data.append(transform_record(record))\n",
    "    return cleaned_data\n",
    "\n",
    "def check_active_and_valid(record):\n",
    "    return record['active'] and record['valid']\n",
    "\n",
    "def transform_record(record):\n",
    "    return {\n",
    "        'name': record['name'].upper(),\n",
    "        'age': record['age'] + 1\n",
    "    }"
   ]
  },
  {
   "cell_type": "markdown",
   "metadata": {},
   "source": [
    "# Problem 4: Reduce Duplication in Code\n",
    "This code repeats logic for generating URLs for different environments. Refactor it to reduce duplication by applying the stepdown rule."
   ]
  },
  {
   "cell_type": "code",
   "execution_count": null,
   "metadata": {},
   "outputs": [],
   "source": [
    "def get_service_url(environment):\n",
    "    if environment == 'development':\n",
    "        return 'http://dev.service.com/api'\n",
    "    elif environment == 'staging':\n",
    "        return 'http://staging.service.com/api'\n",
    "    elif environment == 'production':\n",
    "        return 'http://service.com/api'\n",
    "    else:\n",
    "        raise ValueError(\"Unknown environment\")\n"
   ]
  },
  {
   "cell_type": "code",
   "execution_count": null,
   "metadata": {},
   "outputs": [],
   "source": [
    "def get_service_url(environment):\n",
    "    environments = {\n",
    "        'development': 'http://dev.service.com/api',\n",
    "        'staging' : 'http://staging.service.com/api',\n",
    "        'production': 'http://service.com/api'\n",
    "    }\n",
    "    link = environments.get(environment)\n",
    "    if link:\n",
    "        return link\n",
    "    else:\n",
    "        raise ValueError(\"Unknown environment\")"
   ]
  },
  {
   "cell_type": "markdown",
   "metadata": {},
   "source": [
    "# Problem 5: Break Down a Long Function with Multiple Responsibilities\n",
    "The following function is responsible for fetching data from an API, parsing the response, and then saving it to a file. Break this down into smaller, more focused functions."
   ]
  },
  {
   "cell_type": "markdown",
   "metadata": {},
   "source": [
    "### Original"
   ]
  },
  {
   "cell_type": "code",
   "execution_count": null,
   "metadata": {},
   "outputs": [],
   "source": [
    "import requests, json\n",
    "\n",
    "def fetch_and_save_data(api_url, file_path):\n",
    "    # Fetch data from API\n",
    "    response = requests.get(api_url)\n",
    "    if response.status_code != 200:\n",
    "        raise ValueError(\"Failed to fetch data\")\n",
    "\n",
    "    # Parse the data\n",
    "    data = response.json()\n",
    "\n",
    "    # Save data to a file\n",
    "    with open(file_path, 'w') as file:\n",
    "        json.dump(data, file)\n"
   ]
  },
  {
   "cell_type": "markdown",
   "metadata": {},
   "source": [
    "### Modified"
   ]
  },
  {
   "cell_type": "code",
   "execution_count": null,
   "metadata": {},
   "outputs": [],
   "source": [
    "import requests, json\n",
    "\n",
    "def fetch_and_save_data(api_url, file_path):\n",
    "    try:\n",
    "        response = fetch_data(api_url)\n",
    "        data = get_parsed_data(response)\n",
    "        save_data(data, file_path)\n",
    "    except Exception as e:\n",
    "        print(f\"Error occurred: {e}\")\n",
    "\n",
    "def fetch_data(api_url):\n",
    "    response = get_response(api_url)\n",
    "    validate_data(response)\n",
    "    return response\n",
    "\n",
    "def get_response(api_url):\n",
    "    try:\n",
    "        return requests.get(api_url)\n",
    "    except requests.exceptions.RequestException as e:\n",
    "        raise ValueError(f\"Network error occurred: {e}\")\n",
    "\n",
    "def validate_data(response):\n",
    "    if response.status_code != 200:\n",
    "        raise ValueError(\"Failed to fetch data\")\n",
    "\n",
    "def get_parsed_data(response):\n",
    "    try:\n",
    "        return response.json()\n",
    "    except json.JSONDecodeError:\n",
    "        raise ValueError(\"Failed to parse JSON data\")\n",
    "\n",
    "\n",
    "def save_data(data, file_path):\n",
    "    try:\n",
    "        with open(file_path, 'w') as file:\n",
    "            json.dump(data, file)\n",
    "    except IOError as e:\n",
    "        raise ValueError(f\"Failed to save data: {e}\")"
   ]
  }
 ],
 "metadata": {
  "kernelspec": {
   "display_name": "Python 3",
   "language": "python",
   "name": "python3"
  },
  "language_info": {
   "name": "python",
   "version": "3.9.6"
  }
 },
 "nbformat": 4,
 "nbformat_minor": 2
}
