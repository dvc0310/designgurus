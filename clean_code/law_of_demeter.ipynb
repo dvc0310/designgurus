{
 "cells": [
  {
   "cell_type": "code",
   "execution_count": 10,
   "metadata": {},
   "outputs": [
    {
     "name": "stdout",
     "output_type": "stream",
     "text": [
      "Springfield\n"
     ]
    }
   ],
   "source": [
    "class Address:\n",
    "    def __init__(self, street, city, zipcode):\n",
    "        self.street = street\n",
    "        self.city = city\n",
    "        self.zipcode = zipcode\n",
    "\n",
    "class Company:\n",
    "    def __init__(self, address):\n",
    "        self.address = address\n",
    "\n",
    "    def get_city(self):\n",
    "        return self.address.city\n",
    "\n",
    "class Employee:\n",
    "    def __init__(self, name, company):\n",
    "        self.name = name\n",
    "        self.company = company\n",
    "\n",
    "    def get_company_city(self):\n",
    "        return self.company.get_city()\n",
    "\n",
    "# Refactored code using the new method\n",
    "employee = Employee(\"Alice\", Company(Address(\"123 Elm St\", \"Springfield\", \"12345\")))\n",
    "print(employee.get_company_city())  # Output: Springfield\n",
    "\n"
   ]
  },
  {
   "cell_type": "code",
   "execution_count": 11,
   "metadata": {},
   "outputs": [],
   "source": [
    "class Engine:\n",
    "    def __init__(self, horsepower):\n",
    "        self.horsepower = horsepower\n",
    "        \n",
    "    def get_horsepower(self):\n",
    "        return self.horsepower\n",
    "\n",
    "class Car:\n",
    "    def __init__(self, engine: Engine):\n",
    "        self.engine = engine\n",
    "    \n",
    "    def get_horsepower(self):\n",
    "        return self.engine.get_horsepower()\n",
    "\n",
    "class Driver:\n",
    "    def __init__(self, car: Car):\n",
    "        self.car = car\n",
    "        \n",
    "    def get_horsepower(self):\n",
    "        return self.car.get_horsepower()\n",
    "\n"
   ]
  },
  {
   "cell_type": "code",
   "execution_count": 12,
   "metadata": {},
   "outputs": [
    {
     "name": "stdout",
     "output_type": "stream",
     "text": [
      "200\n"
     ]
    }
   ],
   "source": [
    "engine = Engine(horsepower=200)\n",
    "car = Car(engine=engine)\n",
    "driver = Driver(car=car)\n",
    "\n",
    "print(driver.get_horsepower())  # Output: 200\n"
   ]
  },
  {
   "cell_type": "code",
   "execution_count": 13,
   "metadata": {},
   "outputs": [],
   "source": [
    "class Book:\n",
    "    def __init__(self, title, author):\n",
    "        self.title = title\n",
    "        self.author = author\n",
    "    \n",
    "    def get_author(self):\n",
    "        return self.author\n",
    "    \n",
    "    def get_title(self):\n",
    "        return self.title\n",
    "    \n",
    "class Library:\n",
    "    def __init__(self):\n",
    "        self.books: list[Book] = []\n",
    "\n",
    "    def add_book(self, book: Book):\n",
    "        self.books.append(book)\n",
    "    \n",
    "    def find_author(self, title):\n",
    "        for book in self.books:\n",
    "            if book.get_title() == title:\n",
    "                return book.get_author()\n",
    "\n",
    "class Patron:\n",
    "    def __init__(self, library: Library):\n",
    "        self.library = library\n",
    "    \n",
    "    def find_author(self, title):\n",
    "        return self.library.find_author(title)\n",
    "\n"
   ]
  },
  {
   "cell_type": "code",
   "execution_count": 14,
   "metadata": {},
   "outputs": [
    {
     "name": "stdout",
     "output_type": "stream",
     "text": [
      "George Orwell\n",
      "Aldous Huxley\n"
     ]
    }
   ],
   "source": [
    "# Create library and add books\n",
    "library = Library()\n",
    "library.add_book(Book(\"1984\", \"George Orwell\"))\n",
    "library.add_book(Book(\"Brave New World\", \"Aldous Huxley\"))\n",
    "\n",
    "# Patron looks up the author\n",
    "patron = Patron(library)\n",
    "print(patron.find_author(\"1984\"))  # Output: George Orwell\n",
    "print(patron.find_author(\"Brave New World\"))  # Output: Aldous Huxley\n"
   ]
  },
  {
   "cell_type": "code",
   "execution_count": 15,
   "metadata": {},
   "outputs": [],
   "source": [
    "class Professor:\n",
    "    def __init__(self, name):\n",
    "        self.name = name\n",
    "    \n",
    "    def get_name(self):\n",
    "        return self.name\n",
    "\n",
    "class Department:\n",
    "    def __init__(self):\n",
    "        self.professors: list[Professor] = []\n",
    "\n",
    "    def add_professor(self, professor: Professor):\n",
    "        self.professors.append(professor)\n",
    "\n",
    "    def find_professor(self, professor_name: str):\n",
    "        for prof in self.professors:\n",
    "            if prof.get_name() == professor_name:\n",
    "                return prof\n",
    "        return \"Not Found\"\n",
    "\n",
    "class Student:\n",
    "    def __init__(self, department: Department):\n",
    "        self.department = department\n",
    "\n",
    "    def find_professor(self, professor: Professor):\n",
    "        return self.department.find_professor(professor)\n",
    "    \n"
   ]
  },
  {
   "cell_type": "code",
   "execution_count": 16,
   "metadata": {},
   "outputs": [
    {
     "name": "stdout",
     "output_type": "stream",
     "text": [
      "<__main__.Professor object at 0x000001A13AF88610>\n",
      "Not Found\n"
     ]
    }
   ],
   "source": [
    "# Create a department and add professors\n",
    "department = Department()\n",
    "professor1 = Professor(\"Dr. Smith\")\n",
    "professor2 = Professor(\"Dr. Jones\")\n",
    "department.add_professor(professor1)\n",
    "department.add_professor(professor2)\n",
    "\n",
    "# Create a student associated with the department\n",
    "student = Student(department)\n",
    "\n",
    "# Student searches for a professor by name\n",
    "print(student.find_professor(\"Dr. Smith\"))  # Output: <Professor object at ...>\n",
    "print(student.find_professor(\"Dr. Johnson\"))  # Output: Not Found\n"
   ]
  }
 ],
 "metadata": {
  "kernelspec": {
   "display_name": "Python 3",
   "language": "python",
   "name": "python3"
  },
  "language_info": {
   "codemirror_mode": {
    "name": "ipython",
    "version": 3
   },
   "file_extension": ".py",
   "mimetype": "text/x-python",
   "name": "python",
   "nbconvert_exporter": "python",
   "pygments_lexer": "ipython3",
   "version": "3.9.6"
  }
 },
 "nbformat": 4,
 "nbformat_minor": 2
}
