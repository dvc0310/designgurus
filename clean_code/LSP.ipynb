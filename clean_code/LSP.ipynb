{
 "cells": [
  {
   "cell_type": "markdown",
   "metadata": {},
   "source": [
    "# Problem: Vehicle and Engine Types\n",
    "You are developing a simulation for different types of vehicles. The base class Vehicle has a method start_engine() that initializes the engine. There are several subclasses:\n",
    "\n",
    "- Vehicle: Base class with a start_engine() method.\n",
    "- Car: Inherits from Vehicle, uses an internal combustion engine.\n",
    "- ElectricCar: Inherits from Car, uses an electric motor.\n",
    "- Bicycle: Inherits from Vehicle, but does not have an engine.\n",
    "\n",
    "Initial Code (Violating LSP):"
   ]
  },
  {
   "cell_type": "code",
   "execution_count": 1,
   "metadata": {},
   "outputs": [
    {
     "name": "stdout",
     "output_type": "stream",
     "text": [
      "Car engine started\n",
      "Electric motor started\n",
      "No motor.\n"
     ]
    }
   ],
   "source": [
    "class Vehicle:\n",
    "    def start_engine(self):\n",
    "        print(\"Starting engine...\")\n",
    "\n",
    "class Car(Vehicle):\n",
    "    def start_engine(self):\n",
    "        print(\"Car engine started\")\n",
    "\n",
    "class ElectricCar(Car):\n",
    "    def start_engine(self):\n",
    "        print(\"Electric motor started\")\n",
    "\n",
    "class Bicycle(Vehicle):\n",
    "    def start_engine(self):\n",
    "        raise NotImplementedError(\"Bicycles don't have an engine!\")\n",
    "\n",
    "# Test the classes\n",
    "vehicles = [Car(), ElectricCar(), Bicycle()]\n",
    "\n",
    "for vehicle in vehicles:\n",
    "    try:\n",
    "        vehicle.start_engine()  # Problem: Bicycle raises an error\n",
    "    except:\n",
    "        print(f'No motor.')"
   ]
  },
  {
   "cell_type": "markdown",
   "metadata": {},
   "source": [
    "### Modified"
   ]
  },
  {
   "cell_type": "code",
   "execution_count": 2,
   "metadata": {},
   "outputs": [
    {
     "name": "stdout",
     "output_type": "stream",
     "text": [
      "Car engine started\n",
      "Electric motor started\n",
      "Bicycle doesn't need an engine, you start pedaling instead!\n"
     ]
    }
   ],
   "source": [
    "from abc import ABC, abstractmethod\n",
    "\n",
    "# Define an interface using an abstract base class\n",
    "class EngineInterface(ABC):\n",
    "    \n",
    "    @abstractmethod\n",
    "    def start_engine(self):\n",
    "        pass  # Abstract method, must be implemented by subclasses\n",
    "\n",
    "# Define the Vehicle base class\n",
    "class Vehicle(ABC):\n",
    "    \n",
    "    @abstractmethod\n",
    "    def start(self):\n",
    "        pass  # Abstract method to ensure all vehicles can \"start\" in some way\n",
    "    \n",
    "\n",
    "# Implementing the Car class which uses an engine\n",
    "class Car(Vehicle, EngineInterface):\n",
    "    def start(self):\n",
    "        self.start_engine()\n",
    "        \n",
    "    def start_engine(self):\n",
    "        print(\"Car engine started\")\n",
    "\n",
    "# Implementing ElectricCar class which also uses an engine\n",
    "class ElectricCar(Vehicle, EngineInterface):\n",
    "    def start(self):\n",
    "        self.start_engine()\n",
    "        \n",
    "    def start_engine(self):\n",
    "        print(\"Electric motor started\")\n",
    "        \n",
    "# Bicycle doesn't use an engine, so it doesn't implement the EngineInterface\n",
    "class Bicycle(Vehicle):\n",
    "    def start(self):\n",
    "        print(\"Bicycle doesn't need an engine, you start pedaling instead!\")\n",
    "\n",
    "# Now you can test the classes\n",
    "vehicles = [Car(), ElectricCar(), Bicycle()]\n",
    "\n",
    "for vehicle in vehicles:\n",
    "    try:\n",
    "        vehicle.start() \n",
    "    except:\n",
    "        print(f'{vehicle} doesn\\'t have a motor.')"
   ]
  },
  {
   "cell_type": "markdown",
   "metadata": {},
   "source": [
    "\n",
    "# Problem: Shape Drawing System\n",
    "\n",
    "You are tasked with developing a system for drawing various shapes. The base class is `Shape`, and there are different shape subclasses like `Circle`, `Square`, and `Line`. The `Shape` class has a method `draw()`, which all subclasses must implement. Some shapes, like `Circle` and `Square`, also have an `area()` method because they have an area, but a `Line` does not.\n",
    "\n",
    "### Initial Requirements:\n",
    "1. **Shape Class**: All shapes must implement a `draw()` method that defines how the shape is drawn on the screen.\n",
    "2. **Circle and Square**: Both of these shapes must also have an `area()` method because they have a measurable area.\n",
    "3. **Line**: A line can be drawn, but it does not have an area.\n",
    "\n",
    "### Tasks:\n",
    "\n",
    "1. **Initial Code**: Start by writing the initial code that does **not** adhere to the Liskov Substitution Principle. Include all shapes inheriting from `Shape`, with each implementing `draw()` and `area()`, even if `Line` doesn't have an area.\n",
    "   \n",
    "2. **Identify the Violation**: Explain why this violates the LSP when `Line` is substituted for a `Shape`.\n",
    "\n",
    "3. **Refactor the Design**: Refactor the class hierarchy so that all shapes can be substituted for `Shape` without violating LSP. Use proper abstractions to ensure only shapes with an area implement the `area()` method.\n",
    "\n",
    "4. **Implement the Refactored Code**: Write the refactored code where the design adheres to LSP.\n",
    "\n",
    "---\n",
    "\n",
    "### Hints:\n",
    "\n",
    "- Use abstract base classes (interfaces) to segregate shape-related responsibilities, such as drawing and calculating the area.\n",
    "- Ensure that only shapes capable of having an area (like `Circle` and `Square`) implement the `area()` method, while shapes like `Line` do not need to implement this method."
   ]
  },
  {
   "cell_type": "markdown",
   "metadata": {},
   "source": [
    "### Initial"
   ]
  },
  {
   "cell_type": "code",
   "execution_count": 3,
   "metadata": {},
   "outputs": [
    {
     "name": "stdout",
     "output_type": "stream",
     "text": [
      "Drawing a circle\n",
      "Area: 78.5\n",
      "Drawing a square\n",
      "Area: 16\n",
      "Drawing a line\n",
      "A line does not have an area\n"
     ]
    }
   ],
   "source": [
    "from abc import ABC, abstractmethod\n",
    "\n",
    "class Shape(ABC):\n",
    "    @abstractmethod\n",
    "    def draw(self):\n",
    "        pass\n",
    "    \n",
    "    @abstractmethod\n",
    "    def area(self):\n",
    "        pass\n",
    "\n",
    "class Circle(Shape):\n",
    "    def __init__(self, radius):\n",
    "        self.radius = radius\n",
    "    \n",
    "    def draw(self):\n",
    "        print(\"Drawing a circle\")\n",
    "    \n",
    "    def area(self):\n",
    "        return 3.14 * self.radius ** 2\n",
    "\n",
    "class Square(Shape):\n",
    "    def __init__(self, side_length):\n",
    "        self.side_length = side_length\n",
    "    \n",
    "    def draw(self):\n",
    "        print(\"Drawing a square\")\n",
    "    \n",
    "    def area(self):\n",
    "        return self.side_length ** 2\n",
    "\n",
    "class Line(Shape):\n",
    "    def __init__(self, length):\n",
    "        self.length = length\n",
    "    \n",
    "    def draw(self):\n",
    "        print(\"Drawing a line\")\n",
    "    \n",
    "    def area(self):\n",
    "        raise NotImplementedError(\"A line does not have an area\")\n",
    "\n",
    "# Test the classes\n",
    "shapes = [Circle(5), Square(4), Line(10)]\n",
    "\n",
    "for shape in shapes:\n",
    "    shape.draw()\n",
    "    try:\n",
    "        print(f\"Area: {shape.area()}\")\n",
    "    except Exception as e:\n",
    "        print(e)\n"
   ]
  },
  {
   "cell_type": "markdown",
   "metadata": {},
   "source": [
    "### Modified"
   ]
  },
  {
   "cell_type": "code",
   "execution_count": 4,
   "metadata": {},
   "outputs": [
    {
     "name": "stdout",
     "output_type": "stream",
     "text": [
      "Drawing a circle\n",
      "Area: 78.5\n",
      "Drawing a square\n",
      "Area: 16\n",
      "Drawing a line\n",
      "Area: A line does not have an area\n"
     ]
    }
   ],
   "source": [
    "from abc import ABC, abstractmethod\n",
    "\n",
    "class TwoDimensionalInterface(ABC):\n",
    "    @abstractmethod\n",
    "    def area(self):\n",
    "        pass    \n",
    "\n",
    "class Shape(ABC):\n",
    "    @abstractmethod\n",
    "    def draw(self):\n",
    "        pass\n",
    "    \n",
    "    @abstractmethod\n",
    "    def shape_info(self):\n",
    "        pass\n",
    "\n",
    "class Circle(Shape, TwoDimensionalInterface):\n",
    "    def __init__(self, radius):\n",
    "        self.radius = radius\n",
    "    \n",
    "    def draw(self):\n",
    "        print(\"Drawing a circle\")\n",
    "    \n",
    "    def area(self):\n",
    "        return 3.14 * self.radius ** 2\n",
    "    \n",
    "    def shape_info(self):\n",
    "        return self.area()\n",
    "\n",
    "class Square(Shape, TwoDimensionalInterface):\n",
    "    def __init__(self, side_length):\n",
    "        self.side_length = side_length\n",
    "    \n",
    "    def draw(self):\n",
    "        print(\"Drawing a square\")\n",
    "    \n",
    "    def area(self):\n",
    "        return self.side_length ** 2\n",
    "    \n",
    "    def shape_info(self):\n",
    "        return self.area()\n",
    "\n",
    "class Line(Shape):\n",
    "    def __init__(self, length):\n",
    "        self.length = length\n",
    "    \n",
    "    def draw(self):\n",
    "        print(\"Drawing a line\")\n",
    "    \n",
    "    def shape_info(self):\n",
    "        return \"A line does not have an area\"\n",
    "\n",
    "# Test the classes\n",
    "shapes = [Circle(5), Square(4), Line(10)]\n",
    "\n",
    "for shape in shapes:\n",
    "    shape.draw()\n",
    "    print(f\"Area: {shape.shape_info()}\")\n"
   ]
  }
 ],
 "metadata": {
  "kernelspec": {
   "display_name": "Python 3",
   "language": "python",
   "name": "python3"
  },
  "language_info": {
   "codemirror_mode": {
    "name": "ipython",
    "version": 3
   },
   "file_extension": ".py",
   "mimetype": "text/x-python",
   "name": "python",
   "nbconvert_exporter": "python",
   "pygments_lexer": "ipython3",
   "version": "3.9.6"
  }
 },
 "nbformat": 4,
 "nbformat_minor": 2
}
