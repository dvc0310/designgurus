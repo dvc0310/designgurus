{
 "cells": [
  {
   "cell_type": "code",
   "execution_count": 9,
   "metadata": {},
   "outputs": [],
   "source": [
    "class Solution:\n",
    "    def maxUniqueSplit(self, s: str) -> int:\n",
    "        self.max = 0\n",
    "        self.backtrack(s, set(), 0, 0)\n",
    "        return self.max\n",
    "    \n",
    "    def backtrack(self, s, curr_set,  start, curr_count):\n",
    "        if start >= len(s):\n",
    "            self.max = max(self.max, curr_count)\n",
    "            return\n",
    "        \n",
    "        for end in range(start, len(s)):\n",
    "            if s[start:end+1] not in curr_set:\n",
    "                curr_set.add(s[start:end+1])\n",
    "                curr_count += 1\n",
    "                self.backtrack(s, curr_set, end + 1, curr_count)\n",
    "                curr_set.remove(s[start:end+1])\n",
    "                curr_count -= 1\n",
    "            "
   ]
  },
  {
   "cell_type": "code",
   "execution_count": 11,
   "metadata": {},
   "outputs": [
    {
     "data": {
      "text/plain": [
       "4"
      ]
     },
     "execution_count": 11,
     "metadata": {},
     "output_type": "execute_result"
    }
   ],
   "source": [
    "s = \"abcabc\" \n",
    "Solution().maxUniqueSplit(s)"
   ]
  }
 ],
 "metadata": {
  "kernelspec": {
   "display_name": "3.9.6",
   "language": "python",
   "name": "python3"
  },
  "language_info": {
   "codemirror_mode": {
    "name": "ipython",
    "version": 3
   },
   "file_extension": ".py",
   "mimetype": "text/x-python",
   "name": "python",
   "nbconvert_exporter": "python",
   "pygments_lexer": "ipython3",
   "version": "3.9.6"
  }
 },
 "nbformat": 4,
 "nbformat_minor": 2
}
