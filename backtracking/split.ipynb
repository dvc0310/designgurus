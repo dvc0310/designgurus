{
 "cells": [
  {
   "cell_type": "code",
   "execution_count": 17,
   "metadata": {},
   "outputs": [],
   "source": [
    "class Solution:\n",
    "    def maxUniqueSplit(self, s: str) -> int:\n",
    "        # Initialize the maximum unique substring count\n",
    "        self.max_count = 0\n",
    "        self.backtrack(s, 0, set(), 0)\n",
    "        return self.max_count\n",
    "\n",
    "    def backtrack(self, s, start, uniq_set, curr_count):\n",
    "        # Base case: if we've reached the end of the string\n",
    "        if start == len(s):\n",
    "            # Update max_count if we've found a higher count of unique substrings\n",
    "            self.max_count = max(self.max_count, curr_count)\n",
    "            return\n",
    "\n",
    "        # Try all possible substrings starting from `start` and ending anywhere\n",
    "        for end in range(start + 1, len(s) + 1):\n",
    "            substring = s[start:end]\n",
    "            \n",
    "            # Only proceed if substring is not already in our unique set\n",
    "            if substring not in uniq_set:\n",
    "                # Add substring to the unique set and increase the current count\n",
    "                uniq_set.add(substring)\n",
    "                self.backtrack(s, end, uniq_set, curr_count + 1)\n",
    "                # Backtrack: remove the substring and try the next possibility\n",
    "                uniq_set.remove(substring)\n",
    "\n"
   ]
  },
  {
   "cell_type": "code",
   "execution_count": 18,
   "metadata": {},
   "outputs": [
    {
     "data": {
      "text/plain": [
       "4"
      ]
     },
     "execution_count": 18,
     "metadata": {},
     "output_type": "execute_result"
    }
   ],
   "source": [
    "s = 'abcabc'\n",
    "Solution().maxUniqueSplit(s)"
   ]
  }
 ],
 "metadata": {
  "kernelspec": {
   "display_name": "Python 3",
   "language": "python",
   "name": "python3"
  },
  "language_info": {
   "codemirror_mode": {
    "name": "ipython",
    "version": 3
   },
   "file_extension": ".py",
   "mimetype": "text/x-python",
   "name": "python",
   "nbconvert_exporter": "python",
   "pygments_lexer": "ipython3",
   "version": "3.9.6"
  }
 },
 "nbformat": 4,
 "nbformat_minor": 2
}
