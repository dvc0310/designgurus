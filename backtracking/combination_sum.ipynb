{
 "cells": [
  {
   "cell_type": "code",
   "execution_count": 7,
   "metadata": {},
   "outputs": [],
   "source": [
    "class Solution:\n",
    "    def combinationSum(self, candidates, target):\n",
    "        res = []  # To store the final result\n",
    "        # TODO: Write your code here\n",
    "        self.backtrack(candidates, 0, target, [], res)\n",
    "        \n",
    "        return res\n",
    "    \n",
    "    def backtrack(self, candidates, start, target, comb, res):\n",
    "        \n",
    "        # Base Case\n",
    "        if target == 0:\n",
    "            res.append(list(comb))\n",
    "            return\n",
    "        \n",
    "        # Backtrack / Accumulate\n",
    "        for i in range(start, len(candidates)):\n",
    "            \n",
    "            # Check to decide whether to backtrack or not\n",
    "            if target >= candidates[i]:\n",
    "                \n",
    "                # Accumulate\n",
    "                comb.append(candidates[i])\n",
    "                \n",
    "                # Recurse\n",
    "                self.backtrack(candidates, i, target - candidates[i], comb, res)\n",
    "                \n",
    "                # Go back\n",
    "                comb.pop()\n"
   ]
  },
  {
   "cell_type": "code",
   "execution_count": null,
   "metadata": {},
   "outputs": [],
   "source": [
    "class Solution:\n",
    "    def combinationSum(self, candidates, target):\n",
    "        res = []  # To store the final result\n",
    "        # TODO: Write your code here\n",
    "        self.backtrack(candidates, 0, target, [], res)\n",
    "    \n",
    "    def backtrack(self, candidates, start_idx, target, combinations, res):\n",
    "        if target == 0:\n",
    "            res.append(list(combinations))\n",
    "            return\n",
    "        \n",
    "        for i in range(start_idx, len(candidates)):\n",
    "            if candidates[i] <= target:\n",
    "                combinations.append(candidates[i])\n",
    "                self.backtrack(candidates, i, target - combinations[i], combinations, res)\n",
    "                combinations.pop()\n",
    "        return"
   ]
  },
  {
   "cell_type": "markdown",
   "metadata": {},
   "source": [
    "# Review"
   ]
  },
  {
   "cell_type": "code",
   "execution_count": 1,
   "metadata": {},
   "outputs": [],
   "source": [
    "class Solution:\n",
    "    def combinationSum(self, candidates, target):\n",
    "        res = []  # To store the final result\n",
    "        # TODO: Write your code here\n",
    "        self.backtrack(candidates, 0, [], target, res)\n",
    "        return res\n",
    "    \n",
    "    def backtrack(self, candidates, start, currLst, target, res):\n",
    "        # base case\n",
    "        if target == 0:\n",
    "            res.append(list(currLst))\n",
    "            return\n",
    "        \n",
    "        for i in range(start, len(candidates)):\n",
    "            if target - candidates[i] > 0:\n",
    "                currLst.append(candidates[i])\n",
    "                self.backtrack(candidates, i, currLst, target - candidates[i], res)\n",
    "                currLst.pop()\n",
    "    \n",
    "    \n",
    "\n"
   ]
  },
  {
   "cell_type": "code",
   "execution_count": 2,
   "metadata": {},
   "outputs": [
    {
     "data": {
      "text/plain": [
       "[[2, 2, 3], [7]]"
      ]
     },
     "execution_count": 2,
     "metadata": {},
     "output_type": "execute_result"
    }
   ],
   "source": [
    "candidates = [2, 3, 6, 7]\n",
    "target = 7\n",
    "\n",
    "Solution().combinationSum(candidates, target)"
   ]
  }
 ],
 "metadata": {
  "kernelspec": {
   "display_name": "Python 3",
   "language": "python",
   "name": "python3"
  },
  "language_info": {
   "codemirror_mode": {
    "name": "ipython",
    "version": 3
   },
   "file_extension": ".py",
   "mimetype": "text/x-python",
   "name": "python",
   "nbconvert_exporter": "python",
   "pygments_lexer": "ipython3",
   "version": "3.9.6"
  }
 },
 "nbformat": 4,
 "nbformat_minor": 2
}
