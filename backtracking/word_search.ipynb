{
 "cells": [
  {
   "cell_type": "code",
   "execution_count": 19,
   "metadata": {},
   "outputs": [],
   "source": [
    "class Solution:\n",
    "    def exist(self, board, word):\n",
    "        word = list(word)\n",
    "        for row in range(len(board)):\n",
    "            for col in range(len(board[0])):\n",
    "                if board[row][col] == word[0]:\n",
    "                    if self.dfs(word, board, row, col,  0):\n",
    "                        return True\n",
    "\n",
    "        return False\n",
    "    \n",
    "    def get_neighbors(self, row, col, board):\n",
    "        directions = [(row - 1, col), (row + 1, col), (row, col - 1), (row, col + 1)]\n",
    "        neighbors = []\n",
    "        for c_row, c_col in directions:\n",
    "            if c_row < 0 or c_row >= len(board) or c_col < 0 or c_col >= len(board[0]):\n",
    "                continue\n",
    "            if board[c_row][c_col] == '.':\n",
    "                continue\n",
    "            neighbors.append((c_row, c_col))\n",
    "        return neighbors\n",
    "    \n",
    "    def dfs(self, word, board, row, col, curr):\n",
    "        if word[curr] != board[row][col]:\n",
    "            return False\n",
    "        if len(word) - 1 == curr:\n",
    "            return True\n",
    "        temp1 = board[row][col] \n",
    "        board[row][col] = '.'\n",
    "        for n_row, n_col in self.get_neighbors(row, col, board):\n",
    "            temp2 = board[n_row][n_col]\n",
    "            if self.dfs(word, board, n_row, n_col, curr + 1):\n",
    "                return True\n",
    "            board[n_row][n_col] = temp2\n",
    "        board[row][col] = temp1\n",
    "        return False\n",
    "\n"
   ]
  },
  {
   "cell_type": "code",
   "execution_count": 22,
   "metadata": {},
   "outputs": [
    {
     "data": {
      "text/plain": [
       "True"
      ]
     },
     "execution_count": 22,
     "metadata": {},
     "output_type": "execute_result"
    }
   ],
   "source": [
    "word =\"ABCCED\"\n",
    "board=[\n",
    "    [ 'A', 'B', 'C', 'E' ],\n",
    "    ['S', 'F', 'C', 'S' ],\n",
    "    [ 'A', 'D', 'E', 'E' ]\n",
    "    ]\n",
    "\n",
    "Solution().exist(board, word)"
   ]
  }
 ],
 "metadata": {
  "kernelspec": {
   "display_name": "Python 3",
   "language": "python",
   "name": "python3"
  },
  "language_info": {
   "codemirror_mode": {
    "name": "ipython",
    "version": 3
   },
   "file_extension": ".py",
   "mimetype": "text/x-python",
   "name": "python",
   "nbconvert_exporter": "python",
   "pygments_lexer": "ipython3",
   "version": "3.9.6"
  }
 },
 "nbformat": 4,
 "nbformat_minor": 2
}
