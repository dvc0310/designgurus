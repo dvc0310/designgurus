{
 "cells": [
  {
   "cell_type": "code",
   "execution_count": 69,
   "metadata": {},
   "outputs": [],
   "source": [
    "class Solution:\n",
    "    def getFactors(self, n):\n",
    "        # TODO: Write your code here\n",
    "        res = []\n",
    "        end = n\n",
    "        self.helper(2, n, [], res, end)\n",
    "        return res\n",
    "\n",
    "    def helper(self, start, target, comb, res, end):\n",
    "        if target == 1:\n",
    "            if len(comb) > 1:\n",
    "                res.append(list(comb))\n",
    "            return\n",
    "        \n",
    "        for i in range(start, end):\n",
    "            if target % i == 0 and target // i >= 1:\n",
    "                comb.append(i)\n",
    "                self.helper(start, target // i, comb, res, end)\n",
    "                comb.pop()\n",
    "        \n",
    "\n"
   ]
  },
  {
   "cell_type": "code",
   "execution_count": 78,
   "metadata": {},
   "outputs": [],
   "source": [
    "class Solution:\n",
    "    def getFactors(self, n):\n",
    "        res = []\n",
    "        self.helper(2, n, [], res, n)\n",
    "        return res\n",
    "\n",
    "    def helper(self, start, target, comb, res, n):\n",
    "        if target == 1:  # Ensure at least two factors\n",
    "            if len(comb) > 1:\n",
    "                res.append(list(comb))\n",
    "            return\n",
    "        \n",
    "        end = int(target ** 0.5) + 1\n",
    "        for i in range(start, end):\n",
    "            if target % i == 0 and target // i >= 1:\n",
    "                comb.append(i)\n",
    "                self.helper(i, target // i, comb, res, n)\n",
    "                comb.pop()\n",
    "\n",
    "        if target >= start and target != n:\n",
    "            comb.append(target)\n",
    "            res.append(list(comb))\n",
    "            comb.pop()\n"
   ]
  },
  {
   "cell_type": "code",
   "execution_count": 9,
   "metadata": {},
   "outputs": [],
   "source": [
    "class Solution:\n",
    "  def getAllFactors(self, n, start, curr, result):\n",
    "      # Base Case (Termination Condition)\n",
    "      if start > int(n ** 0.5):\n",
    "          return result\n",
    "      \n",
    "      # Pre-Processing (Setup for Iteration)\n",
    "      end = int(n ** 0.5) + 1\n",
    "      \n",
    "      for i in range(start, end):\n",
    "          if n % i == 0:\n",
    "              # Pre-Processing (Validation & Preparation)\n",
    "              curr.append(i)\n",
    "              res = curr + [n // i]\n",
    "              result.append(res)\n",
    "\n",
    "              # Recursive Case (Reduction Step)\n",
    "              self.getAllFactors(n // i, i, curr, result)\n",
    "\n",
    "              # Post-Processing (Backtracking)\n",
    "              curr.pop()\n",
    "\n",
    "      return result\n",
    "\n",
    "\n",
    "  def getFactors(self, n):\n",
    "    return self.getAllFactors(n, 2, [], [])"
   ]
  },
  {
   "cell_type": "code",
   "execution_count": 10,
   "metadata": {},
   "outputs": [
    {
     "data": {
      "text/plain": [
       "[[2, 9], [2, 3, 3], [3, 6]]"
      ]
     },
     "execution_count": 10,
     "metadata": {},
     "output_type": "execute_result"
    }
   ],
   "source": [
    "n = 8\n",
    "Solution().getFactors(18)"
   ]
  }
 ],
 "metadata": {
  "kernelspec": {
   "display_name": "3.9.6",
   "language": "python",
   "name": "python3"
  },
  "language_info": {
   "codemirror_mode": {
    "name": "ipython",
    "version": 3
   },
   "file_extension": ".py",
   "mimetype": "text/x-python",
   "name": "python",
   "nbconvert_exporter": "python",
   "pygments_lexer": "ipython3",
   "version": "3.9.6"
  }
 },
 "nbformat": 4,
 "nbformat_minor": 2
}
