{
 "cells": [
  {
   "cell_type": "code",
   "execution_count": 11,
   "metadata": {},
   "outputs": [],
   "source": [
    "class Solution:\n",
    "  def getAllFactors(self, n, start, curr, result):\n",
    "    for i in range(start, int(n**0.5) + 1):\n",
    "      if n % i == 0:\n",
    "        curr.append(i) \n",
    "        result.append(list(curr + [n // i]))\n",
    "        self.getAllFactors(n // i, i, curr, result)\n",
    "        curr.pop() \n",
    "    return result\n",
    "\n",
    "\n",
    "  def getFactors(self, n):\n",
    "    return self.getAllFactors(n, 2, [], [])\n",
    "\n"
   ]
  },
  {
   "cell_type": "code",
   "execution_count": 12,
   "metadata": {},
   "outputs": [
    {
     "data": {
      "text/plain": [
       "[[2, 9], [2, 3, 3], [3, 6]]"
      ]
     },
     "execution_count": 12,
     "metadata": {},
     "output_type": "execute_result"
    }
   ],
   "source": [
    "n = 8\n",
    "Solution().getFactors(18)"
   ]
  },
  {
   "cell_type": "code",
   "execution_count": 13,
   "metadata": {},
   "outputs": [],
   "source": [
    "class Solution:\n",
    "    def getFactors(self, n):\n",
    "        if n <= 1:\n",
    "            return []\n",
    "\n",
    "        result = []\n",
    "        stack = [(n, 2, [])]\n",
    "\n",
    "        while stack:\n",
    "            current_n, start, current_curr = stack.pop()\n",
    "\n",
    "            for i in range(start, int(current_n ** 0.5) + 1):\n",
    "                if current_n % i == 0:\n",
    "                    new_curr = current_curr + [i]\n",
    "                    result.append(new_curr + [current_n // i])\n",
    "                    stack.append((current_n, i + 1, current_curr))\n",
    "                    stack.append((current_n // i, i, new_curr))\n",
    "                    break\n",
    "\n",
    "        return result\n"
   ]
  },
  {
   "cell_type": "code",
   "execution_count": 14,
   "metadata": {},
   "outputs": [
    {
     "data": {
      "text/plain": [
       "[[2, 9], [2, 3, 3], [3, 6]]"
      ]
     },
     "execution_count": 14,
     "metadata": {},
     "output_type": "execute_result"
    }
   ],
   "source": [
    "n = 8\n",
    "Solution().getFactors(18)"
   ]
  },
  {
   "cell_type": "code",
   "execution_count": 1,
   "metadata": {},
   "outputs": [],
   "source": [
    "class Solution:\n",
    "    def getFactors(self, n):\n",
    "        result = []\n",
    "        # Stack will hold tuples of (num, start, curr)\n",
    "        stack = [(n, 2, [])]\n",
    "        \n",
    "        while stack:\n",
    "            num, start, curr = stack.pop()\n",
    "            \n",
    "            # Just like the recursive call: for i in range(start, int(sqrt(num))+1)\n",
    "            limit = int(num**0.5)\n",
    "            for i in range(start, limit + 1):\n",
    "                if num % i == 0:\n",
    "                    \n",
    "                    # We found a factorization: curr + [i, num // i]\n",
    "                    new_combination = curr + [i]\n",
    "                    result.append(new_combination + [num // i])\n",
    "                    \n",
    "                    # Instead of a recursive call, push the new state to the stack\n",
    "                    # This mimics: self.getAllFactors(num//i, i, curr, result)\n",
    "                    stack.append((num // i, i, new_combination))\n",
    "        \n",
    "        return result\n"
   ]
  },
  {
   "cell_type": "code",
   "execution_count": 3,
   "metadata": {},
   "outputs": [
    {
     "data": {
      "text/plain": [
       "[[2, 9], [3, 6], [2, 3, 3]]"
      ]
     },
     "execution_count": 3,
     "metadata": {},
     "output_type": "execute_result"
    }
   ],
   "source": [
    "n = 8\n",
    "Solution().getFactors(18)"
   ]
  }
 ],
 "metadata": {
  "kernelspec": {
   "display_name": "3.9.6",
   "language": "python",
   "name": "python3"
  },
  "language_info": {
   "codemirror_mode": {
    "name": "ipython",
    "version": 3
   },
   "file_extension": ".py",
   "mimetype": "text/x-python",
   "name": "python",
   "nbconvert_exporter": "python",
   "pygments_lexer": "ipython3",
   "version": "3.9.6"
  }
 },
 "nbformat": 4,
 "nbformat_minor": 2
}
