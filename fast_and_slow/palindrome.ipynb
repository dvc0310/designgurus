{
 "cells": [
  {
   "cell_type": "code",
   "execution_count": 54,
   "metadata": {},
   "outputs": [],
   "source": [
    "class Node:\n",
    "    def __init__(self, value, next=None):\n",
    "        self.val = value\n",
    "        self.next = next\n",
    "    def __repr__(self):\n",
    "        return f\"Node(val={self.val}, next={repr(self.next)})\"\n",
    "    \n",
    "def print_linked_list(head):\n",
    "    current = head\n",
    "    visited = set()\n",
    "    \n",
    "    while current is not None:\n",
    "        if current in visited:  # Checking the actual node object, not its value\n",
    "            print(f\"{current.val} -> Cycle detected!\")\n",
    "            return\n",
    "        print(current.val, end=\" -> \")\n",
    "        visited.add(current)  # Add the node itself (not the value) to the set\n",
    "        current = current.next\n",
    "    \n",
    "    print(\"None\")\n"
   ]
  },
  {
   "cell_type": "code",
   "execution_count": 30,
   "metadata": {},
   "outputs": [],
   "source": [
    "class Solution:\n",
    "    def isPalindrome(self, head):\n",
    "        lst = []\n",
    "        slow = head\n",
    "        fast = head\n",
    "        while fast and fast.next:\n",
    "            lst.append(slow.val)\n",
    "            slow = slow.next\n",
    "            fast = fast.next.next\n",
    "        if fast:\n",
    "            slow = slow.next\n",
    "        while lst and slow:\n",
    "            c = lst.pop()\n",
    "            if slow.val != c:\n",
    "                return False\n",
    "            slow = slow.next\n",
    "        return True\n",
    "    "
   ]
  },
  {
   "cell_type": "code",
   "execution_count": 62,
   "metadata": {},
   "outputs": [],
   "source": [
    "class Solution:\n",
    "    def isPalindrome(self, head):\n",
    "        slow = head\n",
    "        fast = head\n",
    "        while fast and fast.next:\n",
    "            slow = slow.next\n",
    "            fast = fast.next.next\n",
    "        \n",
    "        rev_head = self.reverse(slow)\n",
    "        \n",
    "        while rev_head and head:\n",
    "            if rev_head.val != head.val:\n",
    "                return False\n",
    "            rev_head = rev_head.next\n",
    "            head = head.next\n",
    "            \n",
    "        return True\n",
    "    \n",
    "    def reverse(self, head):\n",
    "        prev = None\n",
    "        while head:\n",
    "            next = head.next\n",
    "            head.next = prev\n",
    "            prev = head\n",
    "            head = next\n",
    "        head = prev\n",
    "            \n",
    "        return head\n",
    "        \n",
    "    \n",
    "        #print_linked_list(temp)\n",
    "    "
   ]
  },
  {
   "cell_type": "markdown",
   "metadata": {},
   "source": [
    "## Review"
   ]
  },
  {
   "cell_type": "code",
   "execution_count": 17,
   "metadata": {},
   "outputs": [],
   "source": [
    "from node import Node, print_linked_list\n",
    "\n",
    "class Solution:\n",
    "    def isPalindrome(self, head):\n",
    "        fast = head\n",
    "        slow = head\n",
    "        \n",
    "        while fast and fast.next:\n",
    "            slow = slow.next\n",
    "            fast = fast.next.next\n",
    "            \n",
    "        second_half_head = self.reverse(slow)\n",
    "        first_half_head = head\n",
    "        \n",
    "        while first_half_head and second_half_head:\n",
    "            if second_half_head.val != first_half_head.val:\n",
    "                return False\n",
    "            second_half_head = second_half_head.next\n",
    "            first_half_head = first_half_head.next\n",
    "            \n",
    "        return True\n",
    "\n",
    "    def reverse(self, head):\n",
    "        prev = None\n",
    "        while head:\n",
    "            next_node = head.next\n",
    "            head.next = prev\n",
    "            prev = head\n",
    "            head = next_node\n",
    "        return prev"
   ]
  },
  {
   "cell_type": "code",
   "execution_count": 18,
   "metadata": {},
   "outputs": [
    {
     "name": "stdout",
     "output_type": "stream",
     "text": [
      "2 -> 4 -> 6 -> 6 -> 4 -> 2 -> None\n"
     ]
    },
    {
     "data": {
      "text/plain": [
       "True"
      ]
     },
     "execution_count": 18,
     "metadata": {},
     "output_type": "execute_result"
    }
   ],
   "source": [
    "sol = Solution()\n",
    "head = Node(2)\n",
    "head.next = Node(4)\n",
    "head.next.next = Node(6)\n",
    "head.next.next.next = Node(6)\n",
    "head.next.next.next.next = Node(4)\n",
    "head.next.next.next.next.next = Node(2)\n",
    "\n",
    "print_linked_list(head)\n",
    "sol.isPalindrome(head)"
   ]
  },
  {
   "cell_type": "code",
   "execution_count": 19,
   "metadata": {},
   "outputs": [
    {
     "data": {
      "text/plain": [
       "True"
      ]
     },
     "execution_count": 19,
     "metadata": {},
     "output_type": "execute_result"
    }
   ],
   "source": [
    "sol = Solution()\n",
    "head = Node(2)\n",
    "head.next = Node(4)\n",
    "head.next.next = Node(6)\n",
    "head.next.next.next = Node(4)\n",
    "head.next.next.next.next = Node(2)\n",
    "#head.next.next.next.next.next = Node(2)\n",
    "\n",
    "sol.isPalindrome(head)"
   ]
  },
  {
   "cell_type": "code",
   "execution_count": 20,
   "metadata": {},
   "outputs": [
    {
     "data": {
      "text/plain": [
       "True"
      ]
     },
     "execution_count": 20,
     "metadata": {},
     "output_type": "execute_result"
    }
   ],
   "source": [
    "sol = Solution()\n",
    "head = Node(2)\n",
    "\n",
    "sol.isPalindrome(head)"
   ]
  },
  {
   "cell_type": "code",
   "execution_count": 21,
   "metadata": {},
   "outputs": [
    {
     "data": {
      "text/plain": [
       "True"
      ]
     },
     "execution_count": 21,
     "metadata": {},
     "output_type": "execute_result"
    }
   ],
   "source": [
    "sol = Solution()\n",
    "head = Node(2)\n",
    "head.next = Node(2)\n",
    "head.next.next = Node(2)\n",
    "\n",
    "\n",
    "sol.isPalindrome(head)"
   ]
  },
  {
   "cell_type": "code",
   "execution_count": 22,
   "metadata": {},
   "outputs": [
    {
     "data": {
      "text/plain": [
       "False"
      ]
     },
     "execution_count": 22,
     "metadata": {},
     "output_type": "execute_result"
    }
   ],
   "source": [
    "sol = Solution()\n",
    "head = Node(1)\n",
    "head.next = Node(2)\n",
    "\n",
    "\n",
    "sol.isPalindrome(head)"
   ]
  },
  {
   "cell_type": "code",
   "execution_count": 23,
   "metadata": {},
   "outputs": [
    {
     "data": {
      "text/plain": [
       "True"
      ]
     },
     "execution_count": 23,
     "metadata": {},
     "output_type": "execute_result"
    }
   ],
   "source": [
    "sol = Solution()\n",
    "head = Node(2)\n",
    "head.next = Node(2)\n",
    "\n",
    "\n",
    "sol.isPalindrome(head)"
   ]
  },
  {
   "cell_type": "code",
   "execution_count": 24,
   "metadata": {},
   "outputs": [
    {
     "data": {
      "text/plain": [
       "Node(val=4, next=Node(val=2, next=Node(val=4, next=Node(val=2, next=None))))"
      ]
     },
     "execution_count": 24,
     "metadata": {},
     "output_type": "execute_result"
    }
   ],
   "source": [
    "sol = Solution()\n",
    "head = Node(2)\n",
    "head.next = Node(4)\n",
    "head.next.next = Node(2)\n",
    "head.next.next.next = Node(4)\n",
    "#head.next.next.next.next.next = Node(2)\n",
    "\n",
    "sol.reverse(head)"
   ]
  },
  {
   "cell_type": "code",
   "execution_count": 25,
   "metadata": {},
   "outputs": [
    {
     "data": {
      "text/plain": [
       "False"
      ]
     },
     "execution_count": 25,
     "metadata": {},
     "output_type": "execute_result"
    }
   ],
   "source": [
    "sol = Solution()\n",
    "head = Node(2)\n",
    "head.next = Node(4)\n",
    "head.next.next = Node(2)\n",
    "head.next.next.next = Node(4)\n",
    "sol.isPalindrome(head)"
   ]
  }
 ],
 "metadata": {
  "kernelspec": {
   "display_name": "Python 3",
   "language": "python",
   "name": "python3"
  },
  "language_info": {
   "codemirror_mode": {
    "name": "ipython",
    "version": 3
   },
   "file_extension": ".py",
   "mimetype": "text/x-python",
   "name": "python",
   "nbconvert_exporter": "python",
   "pygments_lexer": "ipython3",
   "version": "3.9.6"
  }
 },
 "nbformat": 4,
 "nbformat_minor": 2
}
