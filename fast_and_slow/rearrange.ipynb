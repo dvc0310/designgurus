{
 "cells": [
  {
   "cell_type": "code",
   "execution_count": 9,
   "metadata": {},
   "outputs": [],
   "source": [
    "from node import Node\n",
    "\n",
    "class Solution:\n",
    "    def reorder(self, head):\n",
    "        first_head, second_head = self.findMiddle(head)\n",
    "        second_head = self.reverse(second_head)\n",
    "\n",
    "        while second_head.next:\n",
    "            first_next = first_head.next\n",
    "            second_next = second_head.next\n",
    "\n",
    "            first_head.next = second_head\n",
    "            second_head.next = first_next\n",
    "            \n",
    "            first_head = first_next\n",
    "            second_head = second_next\n",
    "\n",
    "        return head\n",
    "\n",
    "    def reverse(self, head):\n",
    "        prev = None\n",
    "    \n",
    "        while head:\n",
    "            next = head.next\n",
    "            head.next = prev\n",
    "            prev = head\n",
    "            head = next\n",
    "\n",
    "        return prev\n",
    "    \n",
    "    def findMiddle(self, head):\n",
    "        slow = head\n",
    "        fast = head\n",
    "\n",
    "        while fast and fast.next:\n",
    "            slow = slow.next\n",
    "            fast = fast.next.next\n",
    "\n",
    "        first_half = head\n",
    "        second_half = slow\n",
    "\n",
    "        return first_half, second_half"
   ]
  },
  {
   "cell_type": "code",
   "execution_count": 10,
   "metadata": {},
   "outputs": [
    {
     "data": {
      "text/plain": [
       "Node(val=2, next=Node(val=12, next=Node(val=4, next=Node(val=10, next=Node(val=6, next=Node(val=8, next=None))))))"
      ]
     },
     "execution_count": 10,
     "metadata": {},
     "output_type": "execute_result"
    }
   ],
   "source": [
    "sol = Solution()\n",
    "head = Node(2)\n",
    "head.next = Node(4)\n",
    "head.next.next = Node(6)\n",
    "head.next.next.next = Node(8)\n",
    "head.next.next.next.next = Node(10)\n",
    "head.next.next.next.next.next = Node(12)\n",
    "\n",
    "sol.reorder(head)"
   ]
  },
  {
   "cell_type": "code",
   "execution_count": 11,
   "metadata": {},
   "outputs": [
    {
     "data": {
      "text/plain": [
       "Node(val=2, next=Node(val=10, next=Node(val=4, next=Node(val=8, next=Node(val=6, next=None)))))"
      ]
     },
     "execution_count": 11,
     "metadata": {},
     "output_type": "execute_result"
    }
   ],
   "source": [
    "sol = Solution()\n",
    "head = Node(2)\n",
    "head.next = Node(4)\n",
    "head.next.next = Node(6)\n",
    "head.next.next.next = Node(8)\n",
    "head.next.next.next.next = Node(10)\n",
    "\n",
    "sol.reorder(head)"
   ]
  },
  {
   "cell_type": "code",
   "execution_count": 13,
   "metadata": {},
   "outputs": [
    {
     "data": {
      "text/plain": [
       "Node(val=2, next=Node(val=6, next=Node(val=4, next=None)))"
      ]
     },
     "execution_count": 13,
     "metadata": {},
     "output_type": "execute_result"
    }
   ],
   "source": [
    "sol = Solution()\n",
    "head = Node(2)\n",
    "head.next = Node(4)\n",
    "head.next.next = Node(6)\n",
    "\n",
    "sol.reorder(head)"
   ]
  }
 ],
 "metadata": {
  "kernelspec": {
   "display_name": "3.9.6",
   "language": "python",
   "name": "python3"
  },
  "language_info": {
   "codemirror_mode": {
    "name": "ipython",
    "version": 3
   },
   "file_extension": ".py",
   "mimetype": "text/x-python",
   "name": "python",
   "nbconvert_exporter": "python",
   "pygments_lexer": "ipython3",
   "version": "3.9.6"
  }
 },
 "nbformat": 4,
 "nbformat_minor": 2
}
