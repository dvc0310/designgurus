{
 "cells": [
  {
   "cell_type": "code",
   "execution_count": 16,
   "metadata": {},
   "outputs": [],
   "source": [
    "class Solution:\n",
    "    def loopExists(self, arr):\n",
    "        # Function to check if a loop exists in the array\n",
    "        visited = [False] * len(arr)\n",
    "        for i in range(len(arr)):\n",
    "            if not visited[i] and self.detect_cycle(arr, i, visited):\n",
    "                return True\n",
    "        return False\n",
    "\n",
    "    def move(self, arr, curr):\n",
    "        # Move forward or backward in a circular manner\n",
    "        arr_len = len(arr)\n",
    "        return (curr + arr[curr]) % arr_len\n",
    "\n",
    "    def check_same_direction(self, positive, arr, idx):\n",
    "        # Check if the movement is in the same direction\n",
    "        return (arr[idx] > 0) if positive else (arr[idx] < 0)\n",
    "\n",
    "    def detect_cycle(self, arr, start, visited):\n",
    "        slow, fast = start, start\n",
    "        positive = arr[start] > 0\n",
    "\n",
    "        while True:\n",
    "            # Move slow once\n",
    "            if not self.check_same_direction(positive, arr, slow):\n",
    "                return False\n",
    "            slow = self.move(arr, slow)\n",
    "            visited[slow] = True\n",
    "\n",
    "            # Move fast twice\n",
    "            for _ in range(2):\n",
    "                if not self.check_same_direction(positive, arr, fast):\n",
    "                    return False\n",
    "                prev = fast\n",
    "                fast = self.move(arr, fast)\n",
    "                if prev == fast:  # If fast meets itself, there's no cycle\n",
    "                    return False\n",
    "                visited[fast] = True\n",
    "\n",
    "            # Check if slow meets fast (cycle detected)\n",
    "            if slow == fast:\n",
    "                return True\n"
   ]
  },
  {
   "cell_type": "code",
   "execution_count": 17,
   "metadata": {},
   "outputs": [
    {
     "data": {
      "text/plain": [
       "False"
      ]
     },
     "execution_count": 17,
     "metadata": {},
     "output_type": "execute_result"
    }
   ],
   "source": [
    "arr = [3,2,-2,5,6]\n",
    "sol = Solution()\n",
    "sol.loopExists(arr)"
   ]
  },
  {
   "cell_type": "code",
   "execution_count": 18,
   "metadata": {},
   "outputs": [
    {
     "data": {
      "text/plain": [
       "True"
      ]
     },
     "execution_count": 18,
     "metadata": {},
     "output_type": "execute_result"
    }
   ],
   "source": [
    "arr = [2, 2, -1, 2]\n",
    "sol = Solution()\n",
    "sol.loopExists(arr)"
   ]
  },
  {
   "cell_type": "code",
   "execution_count": 19,
   "metadata": {},
   "outputs": [
    {
     "data": {
      "text/plain": [
       "False"
      ]
     },
     "execution_count": 19,
     "metadata": {},
     "output_type": "execute_result"
    }
   ],
   "source": [
    "arr = [2, 1, -1, -2]\n",
    "sol = Solution()\n",
    "sol.loopExists(arr)"
   ]
  },
  {
   "cell_type": "code",
   "execution_count": 20,
   "metadata": {},
   "outputs": [
    {
     "data": {
      "text/plain": [
       "True"
      ]
     },
     "execution_count": 20,
     "metadata": {},
     "output_type": "execute_result"
    }
   ],
   "source": [
    "arr = [-2, -2, 1, -2, -1]\n",
    "sol = Solution()\n",
    "sol.loopExists(arr)"
   ]
  },
  {
   "cell_type": "code",
   "execution_count": 21,
   "metadata": {},
   "outputs": [
    {
     "name": "stdout",
     "output_type": "stream",
     "text": [
      "True\n",
      "True\n",
      "False\n"
     ]
    }
   ],
   "source": [
    "sol = Solution()\n",
    "print(sol.loopExists([1, 2, -1, 2, 2]))\n",
    "print(sol.loopExists([2, 2, -1, 2]))\n",
    "print(sol.loopExists([2, 1, -1, -2]))\n"
   ]
  }
 ],
 "metadata": {
  "kernelspec": {
   "display_name": "Python 3",
   "language": "python",
   "name": "python3"
  },
  "language_info": {
   "codemirror_mode": {
    "name": "ipython",
    "version": 3
   },
   "file_extension": ".py",
   "mimetype": "text/x-python",
   "name": "python",
   "nbconvert_exporter": "python",
   "pygments_lexer": "ipython3",
   "version": "3.9.6"
  }
 },
 "nbformat": 4,
 "nbformat_minor": 2
}
