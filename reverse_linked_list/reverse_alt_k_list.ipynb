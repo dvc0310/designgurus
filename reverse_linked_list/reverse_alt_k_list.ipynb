{
 "cells": [
  {
   "cell_type": "code",
   "execution_count": 10,
   "metadata": {},
   "outputs": [],
   "source": [
    "from node import Node, print_linked_list\n",
    "\n",
    "class Solution:\n",
    "    def reverse(self, head, k):\n",
    "        # TODO: Write your code here\n",
    "        i = 1\n",
    "        head, tail = self.reverse_sublist(head, None, k)\n",
    "        if not tail.next:\n",
    "            return head\n",
    "        \n",
    "        while tail and tail.next:\n",
    "            if i % 2 == 0:\n",
    "                _, tail = self.reverse_sublist(tail.next, tail, k)\n",
    "            else:\n",
    "                j = 0\n",
    "                while j < k and tail:\n",
    "                    tail = tail.next\n",
    "                    j += 1 \n",
    "            i += 1\n",
    "        return head\n",
    "    \n",
    "    def reverse_sublist(self, head, tail, p):\n",
    "        second_head = head\n",
    "        prev = tail\n",
    "        curr = head\n",
    "        \n",
    "        i = 0\n",
    "        while i < p and curr:\n",
    "            next = curr.next\n",
    "            curr.next = prev\n",
    "            prev = curr\n",
    "            curr = next\n",
    "            i += 1\n",
    "\n",
    "        second_head.next = curr\n",
    "\n",
    "        if tail:\n",
    "            tail.next = prev\n",
    "        else:        \n",
    "            head = prev\n",
    "        \n",
    "        tail = second_head\n",
    "        return head, tail\n"
   ]
  },
  {
   "cell_type": "code",
   "execution_count": 11,
   "metadata": {},
   "outputs": [
    {
     "name": "stdout",
     "output_type": "stream",
     "text": [
      "2 -> 1 -> 3 -> 4 -> 5 -> 6 -> None\n",
      "1 -> 3 -> 4 -> 5 -> 6 -> None\n"
     ]
    }
   ],
   "source": [
    "sol = Solution()\n",
    "head = Node(1)\n",
    "head.next = Node(2)\n",
    "head.next.next = Node(3)\n",
    "head.next.next.next = Node(4)\n",
    "head.next.next.next.next = Node(5)\n",
    "head.next.next.next.next.next = Node(6)\n",
    "\n",
    "head, tail = sol.reverse_sublist(head, None, 2)\n",
    "print_linked_list(head)\n",
    "print_linked_list(tail)"
   ]
  },
  {
   "cell_type": "code",
   "execution_count": 12,
   "metadata": {},
   "outputs": [
    {
     "name": "stdout",
     "output_type": "stream",
     "text": [
      "3 -> 2 -> 1 -> 4 -> 5 -> 6 -> 8 -> 7 -> None\n"
     ]
    }
   ],
   "source": [
    "sol = Solution()\n",
    "head = Node(1)\n",
    "head.next = Node(2)\n",
    "head.next.next = Node(3)\n",
    "head.next.next.next = Node(4)\n",
    "head.next.next.next.next = Node(5)\n",
    "head.next.next.next.next.next = Node(6)\n",
    "head.next.next.next.next.next.next = Node(7)\n",
    "head.next.next.next.next.next.next.next = Node(8)\n",
    "\n",
    "head = sol.reverse(head, 3)\n",
    "print_linked_list(head)\n"
   ]
  }
 ],
 "metadata": {
  "kernelspec": {
   "display_name": "Python 3",
   "language": "python",
   "name": "python3"
  },
  "language_info": {
   "codemirror_mode": {
    "name": "ipython",
    "version": 3
   },
   "file_extension": ".py",
   "mimetype": "text/x-python",
   "name": "python",
   "nbconvert_exporter": "python",
   "pygments_lexer": "ipython3",
   "version": "3.9.6"
  }
 },
 "nbformat": 4,
 "nbformat_minor": 2
}
