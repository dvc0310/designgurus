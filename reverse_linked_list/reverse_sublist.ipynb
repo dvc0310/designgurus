{
 "cells": [
  {
   "cell_type": "code",
   "execution_count": 595,
   "metadata": {},
   "outputs": [],
   "source": [
    "from node import Node, print_linked_list\n",
    "\n",
    "class Solution:\n",
    "    def reverse(self, head, p, q):\n",
    "        if p == q:\n",
    "            return head\n",
    "\n",
    "        # after skipping 'p-1' nodes, current will point to 'p'th node\n",
    "        current, previous = head, None\n",
    "        i = 0\n",
    "        while current is not None and i < p - 1:\n",
    "            previous = current\n",
    "            current = current.next\n",
    "            i += 1\n",
    "\n",
    "        # we are interested in three parts of the LinkedList, the part before index 'p',\n",
    "        # the part between 'p' and 'q', and the part after index 'q'\n",
    "        last_node_of_first_part = previous\n",
    "        # after reversing the LinkedList 'current' will become the last node of the sub-list\n",
    "        last_node_of_sub_list = current\n",
    "        next = None  # will be used to temporarily store the next node\n",
    "\n",
    "        i = 0\n",
    "        # reverse nodes between 'p' and 'q'\n",
    "        while current is not None and i < q - p + 1:\n",
    "            next = current.next\n",
    "            current.next = previous\n",
    "            previous = current\n",
    "            current = next\n",
    "            i += 1\n",
    "\n",
    "        # connect with the first part\n",
    "        if last_node_of_first_part is not None:\n",
    "            # 'previous' is now the first node of the sub-list\n",
    "            last_node_of_first_part.next = previous\n",
    "        # this means p == 1 i.e., we are changing the first node (head) of the LinkedList\n",
    "        else:\n",
    "            head = previous\n",
    "\n",
    "        # connect with the last part\n",
    "        last_node_of_sub_list.next = current\n",
    "        return head\n",
    "\n",
    "    def get_position(self, head, p):\n",
    "        second_half_head = head\n",
    "        first_half_tail = None\n",
    "        num = p\n",
    "        while num > 1:\n",
    "            first_half_tail = second_half_head\n",
    "            second_half_head = second_half_head.next\n",
    "            num -= 1\n",
    "        return first_half_tail, second_half_head\n",
    "    \n",
    "    def reverse_lst(self, head, stop):\n",
    "        tail = head\n",
    "        prev = None\n",
    "        while head and head != stop:\n",
    "            next = head.next\n",
    "            head.next = prev\n",
    "            prev = head\n",
    "            head = next\n",
    "            \n",
    "        return prev, tail\n",
    "   \n"
   ]
  },
  {
   "cell_type": "code",
   "execution_count": 596,
   "metadata": {},
   "outputs": [
    {
     "name": "stdout",
     "output_type": "stream",
     "text": [
      "1 -> 2 -> 3 -> 4 -> 5 -> 6 -> None\n"
     ]
    }
   ],
   "source": [
    "sol = Solution()\n",
    "head = Node(1)\n",
    "head.next = Node(2)\n",
    "head.next.next = Node(3)\n",
    "head.next.next.next = Node(4)\n",
    "head.next.next.next.next = Node(5)\n",
    "head.next.next.next.next.next = Node(6)\n",
    "\n",
    "print_linked_list(head)"
   ]
  },
  {
   "cell_type": "code",
   "execution_count": 597,
   "metadata": {},
   "outputs": [
    {
     "name": "stdout",
     "output_type": "stream",
     "text": [
      "1 -> 4 -> 3 -> 2 -> 5 -> 6 -> None\n"
     ]
    }
   ],
   "source": [
    "head = sol.reverse(head, 2, 4)\n",
    "print_linked_list(head)"
   ]
  },
  {
   "cell_type": "code",
   "execution_count": 589,
   "metadata": {},
   "outputs": [
    {
     "name": "stdout",
     "output_type": "stream",
     "text": [
      "1 -> 2 -> 3 -> 4 -> 5 -> 6 -> None\n"
     ]
    }
   ],
   "source": [
    "sol = Solution()\n",
    "head = Node(1)\n",
    "head.next = Node(2)\n",
    "head.next.next = Node(3)\n",
    "head.next.next.next = Node(4)\n",
    "head.next.next.next.next = Node(5)\n",
    "head.next.next.next.next.next = Node(6)\n",
    "\n",
    "print_linked_list(head)"
   ]
  },
  {
   "cell_type": "code",
   "execution_count": 590,
   "metadata": {},
   "outputs": [
    {
     "name": "stdout",
     "output_type": "stream",
     "text": [
      "4 -> 3 -> 2 -> 1 -> 5 -> 6 -> None\n"
     ]
    }
   ],
   "source": [
    "head = sol.reverse(head, 1, 4)\n",
    "print_linked_list(head)"
   ]
  },
  {
   "cell_type": "code",
   "execution_count": 591,
   "metadata": {},
   "outputs": [
    {
     "name": "stdout",
     "output_type": "stream",
     "text": [
      "1 -> 2 -> 3 -> 4 -> 5 -> 6 -> None\n"
     ]
    }
   ],
   "source": [
    "sol = Solution()\n",
    "head = Node(1)\n",
    "head.next = Node(2)\n",
    "head.next.next = Node(3)\n",
    "head.next.next.next = Node(4)\n",
    "head.next.next.next.next = Node(5)\n",
    "head.next.next.next.next.next = Node(6)\n",
    "\n",
    "print_linked_list(head)"
   ]
  },
  {
   "cell_type": "code",
   "execution_count": 592,
   "metadata": {},
   "outputs": [
    {
     "name": "stdout",
     "output_type": "stream",
     "text": [
      "1 -> 2 -> 5 -> 4 -> 3 -> 6 -> None\n"
     ]
    }
   ],
   "source": [
    "head = sol.reverse(head, 3, 5)\n",
    "print_linked_list(head)"
   ]
  },
  {
   "cell_type": "code",
   "execution_count": 593,
   "metadata": {},
   "outputs": [
    {
     "name": "stdout",
     "output_type": "stream",
     "text": [
      "1 -> 2 -> 3 -> 4 -> 5 -> 6 -> None\n"
     ]
    }
   ],
   "source": [
    "sol = Solution()\n",
    "head = Node(1)\n",
    "head.next = Node(2)\n",
    "head.next.next = Node(3)\n",
    "head.next.next.next = Node(4)\n",
    "head.next.next.next.next = Node(5)\n",
    "head.next.next.next.next.next = Node(6)\n",
    "\n",
    "print_linked_list(head)"
   ]
  },
  {
   "cell_type": "code",
   "execution_count": 594,
   "metadata": {},
   "outputs": [
    {
     "name": "stdout",
     "output_type": "stream",
     "text": [
      "1 -> 2 -> 3 -> 5 -> 4 -> 6 -> None\n"
     ]
    }
   ],
   "source": [
    "head = sol.reverse(head, 4, 5)\n",
    "print_linked_list(head)"
   ]
  }
 ],
 "metadata": {
  "kernelspec": {
   "display_name": "Python 3",
   "language": "python",
   "name": "python3"
  },
  "language_info": {
   "codemirror_mode": {
    "name": "ipython",
    "version": 3
   },
   "file_extension": ".py",
   "mimetype": "text/x-python",
   "name": "python",
   "nbconvert_exporter": "python",
   "pygments_lexer": "ipython3",
   "version": "3.9.6"
  }
 },
 "nbformat": 4,
 "nbformat_minor": 2
}
