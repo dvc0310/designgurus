{
 "cells": [
  {
   "cell_type": "code",
   "execution_count": 251,
   "metadata": {},
   "outputs": [],
   "source": [
    "from node import Node, print_linked_list\n",
    "\n",
    "class Solution:\n",
    "    def reverse(self, head, k):\n",
    "    # TODO: Write your code here\n",
    "        i = 0\n",
    "        head, tail = self.reverse_sublist(head, None, k)\n",
    "        \n",
    "        if not tail.next:\n",
    "            return head\n",
    "        \n",
    "        while tail.next:\n",
    "            _, tail = self.reverse_sublist(tail.next, tail, k)\n",
    "            i += 1\n",
    "            \n",
    "        return head\n",
    "\n",
    "    def reverse_sublist(self, head, tail, p):\n",
    "        # TODO: Write your code here\n",
    "        i = 0\n",
    "        second_head = head\n",
    "        curr = second_head\n",
    "        prev = tail\n",
    "        \n",
    "        while i < p and curr:\n",
    "            next = curr.next  \n",
    "            curr.next = prev\n",
    "            prev = curr\n",
    "            curr = next\n",
    "            i += 1\n",
    "        \n",
    "        second_head.next = curr\n",
    "        \n",
    "        if tail:\n",
    "            tail.next = prev\n",
    "        else:\n",
    "            head = prev\n",
    "        tail = second_head\n",
    "        \n",
    "        return head, tail"
   ]
  },
  {
   "cell_type": "code",
   "execution_count": 252,
   "metadata": {},
   "outputs": [],
   "source": [
    "sol = Solution()\n",
    "head = Node(1)\n",
    "head.next = Node(2)\n",
    "head.next.next = Node(3)\n",
    "head.next.next.next = Node(4)\n",
    "head.next.next.next.next = Node(5)\n",
    "head.next.next.next.next.next = Node(6)"
   ]
  },
  {
   "cell_type": "code",
   "execution_count": 253,
   "metadata": {},
   "outputs": [
    {
     "name": "stdout",
     "output_type": "stream",
     "text": [
      "2 -> 1 -> 4 -> 3 -> 6 -> 5 -> None\n"
     ]
    }
   ],
   "source": [
    "head = sol.reverse(head, 2)\n",
    "print_linked_list(head)"
   ]
  },
  {
   "cell_type": "code",
   "execution_count": 254,
   "metadata": {},
   "outputs": [],
   "source": [
    "sol = Solution()\n",
    "head = Node(1)\n",
    "head.next = Node(2)\n",
    "head.next.next = Node(3)\n",
    "head.next.next.next = Node(4)\n",
    "head.next.next.next.next = Node(5)\n",
    "head.next.next.next.next.next = Node(6)\n",
    "head.next.next.next.next.next.next = Node(7)\n"
   ]
  },
  {
   "cell_type": "code",
   "execution_count": 255,
   "metadata": {},
   "outputs": [
    {
     "name": "stdout",
     "output_type": "stream",
     "text": [
      "4 -> 3 -> 2 -> 1 -> 7 -> 6 -> 5 -> None\n"
     ]
    }
   ],
   "source": [
    "head = sol.reverse(head, 4)\n",
    "print_linked_list(head)"
   ]
  },
  {
   "cell_type": "code",
   "execution_count": 256,
   "metadata": {},
   "outputs": [
    {
     "name": "stdout",
     "output_type": "stream",
     "text": [
      "5 -> 4 -> 3 -> 2 -> 1 -> None\n"
     ]
    }
   ],
   "source": [
    "sol = Solution()\n",
    "head = Node(1)\n",
    "head.next = Node(2)\n",
    "head.next.next = Node(3)\n",
    "head.next.next.next = Node(4)\n",
    "head.next.next.next.next = Node(5)\n",
    "\n",
    "head = sol.reverse(head, 5)\n",
    "print_linked_list(head)"
   ]
  }
 ],
 "metadata": {
  "kernelspec": {
   "display_name": "Python 3",
   "language": "python",
   "name": "python3"
  },
  "language_info": {
   "codemirror_mode": {
    "name": "ipython",
    "version": 3
   },
   "file_extension": ".py",
   "mimetype": "text/x-python",
   "name": "python",
   "nbconvert_exporter": "python",
   "pygments_lexer": "ipython3",
   "version": "3.9.6"
  }
 },
 "nbformat": 4,
 "nbformat_minor": 2
}
