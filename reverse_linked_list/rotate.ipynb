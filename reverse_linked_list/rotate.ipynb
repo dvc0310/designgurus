{
 "cells": [
  {
   "cell_type": "code",
   "execution_count": 248,
   "metadata": {},
   "outputs": [],
   "source": [
    "from node import Node, print_linked_list"
   ]
  },
  {
   "cell_type": "code",
   "execution_count": 249,
   "metadata": {},
   "outputs": [],
   "source": [
    "class Solution:\n",
    "  def rotate(self, head, rotations):\n",
    "    if head is None or head.next is None or rotations <= 0:\n",
    "      return head\n",
    "\n",
    "    # find the length and the last node of the list\n",
    "    last_node = head\n",
    "    list_length = 1\n",
    "    while last_node.next is not None:\n",
    "      last_node = last_node.next\n",
    "      list_length += 1\n",
    "\n",
    "    last_node.next = head  # connect the last node with the head to make it a circular list\n",
    "    rotations %= list_length  # no need to do rotations more than the length of the list\n",
    "    skip_length = list_length - rotations\n",
    "    last_node_of_rotated_list = head\n",
    "    i = 0\n",
    "    while i < skip_length - 1:\n",
    "      last_node_of_rotated_list = last_node_of_rotated_list.next\n",
    "      i += 1\n",
    "\n",
    "    # 'last_node_of_rotated_list.next' is pointing to the sub-list of 'k' ending nodes\n",
    "    head = last_node_of_rotated_list.next\n",
    "    last_node_of_rotated_list.next = None\n",
    "    return head"
   ]
  },
  {
   "cell_type": "code",
   "execution_count": 250,
   "metadata": {},
   "outputs": [],
   "source": [
    "sol = Solution()\n",
    "head = Node(1)\n",
    "head.next = Node(2)\n",
    "head.next.next = Node(3)\n",
    "head.next.next.next = Node(4)\n",
    "head.next.next.next.next = Node(5)\n",
    "head.next.next.next.next.next = Node(6)\n"
   ]
  },
  {
   "cell_type": "code",
   "execution_count": 251,
   "metadata": {},
   "outputs": [
    {
     "name": "stdout",
     "output_type": "stream",
     "text": [
      "4 -> 5 -> 6 -> 1 -> 2 -> 3 -> None\n"
     ]
    }
   ],
   "source": [
    "head = sol.rotate(head, 3)\n",
    "print_linked_list(head)\n"
   ]
  },
  {
   "cell_type": "code",
   "execution_count": 252,
   "metadata": {},
   "outputs": [],
   "source": [
    "sol = Solution()\n",
    "head = Node(1)\n",
    "head.next = Node(2)\n",
    "head.next.next = Node(3)\n",
    "head.next.next.next = Node(4)\n",
    "head.next.next.next.next = Node(5)"
   ]
  },
  {
   "cell_type": "code",
   "execution_count": 253,
   "metadata": {},
   "outputs": [
    {
     "name": "stdout",
     "output_type": "stream",
     "text": [
      "3 -> 4 -> 5 -> 1 -> 2 -> None\n"
     ]
    }
   ],
   "source": [
    "head = sol.rotate(head, 8)\n",
    "print_linked_list(head)"
   ]
  },
  {
   "cell_type": "code",
   "execution_count": 254,
   "metadata": {},
   "outputs": [],
   "source": [
    "sol = Solution()\n",
    "head = Node(1)\n",
    "head.next = Node(2)\n",
    "head.next.next = Node(3)\n",
    "head.next.next.next = Node(4)\n",
    "head.next.next.next.next = Node(5)"
   ]
  },
  {
   "cell_type": "code",
   "execution_count": 255,
   "metadata": {},
   "outputs": [
    {
     "name": "stdout",
     "output_type": "stream",
     "text": [
      "3 -> 4 -> 5 -> 1 -> 2 -> None\n"
     ]
    }
   ],
   "source": [
    "head = sol.rotate(head, 8)\n",
    "print_linked_list(head)"
   ]
  },
  {
   "cell_type": "code",
   "execution_count": 256,
   "metadata": {},
   "outputs": [],
   "source": [
    "sol = Solution()\n",
    "head = Node(1)\n",
    "head.next = Node(2)\n",
    "head.next.next = Node(3)\n",
    "head.next.next.next = Node(4)\n",
    "head.next.next.next.next = Node(5)"
   ]
  },
  {
   "cell_type": "code",
   "execution_count": 257,
   "metadata": {},
   "outputs": [
    {
     "name": "stdout",
     "output_type": "stream",
     "text": [
      "4 -> 5 -> 1 -> 2 -> 3 -> None\n"
     ]
    }
   ],
   "source": [
    "head = sol.rotate(head, 2)\n",
    "print_linked_list(head)"
   ]
  }
 ],
 "metadata": {
  "kernelspec": {
   "display_name": "Python 3",
   "language": "python",
   "name": "python3"
  },
  "language_info": {
   "codemirror_mode": {
    "name": "ipython",
    "version": 3
   },
   "file_extension": ".py",
   "mimetype": "text/x-python",
   "name": "python",
   "nbconvert_exporter": "python",
   "pygments_lexer": "ipython3",
   "version": "3.9.6"
  }
 },
 "nbformat": 4,
 "nbformat_minor": 2
}
