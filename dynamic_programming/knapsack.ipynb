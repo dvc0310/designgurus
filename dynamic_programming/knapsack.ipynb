{
 "cells": [
  {
   "cell_type": "markdown",
   "metadata": {},
   "source": [
    "## Brute force method (backtracking)"
   ]
  },
  {
   "cell_type": "code",
   "execution_count": 1,
   "metadata": {},
   "outputs": [],
   "source": [
    "class Solution:\n",
    "    def solveKnapsack(self, profits, weights, capacity):\n",
    "        # TODO: Write your code here\n",
    "        self.memo = {}\n",
    "        self.max_profit = -1\n",
    "        self.backtrack(profits, weights, capacity, 0, 0)\n",
    "        return self.max_profit\n",
    "\n",
    "    def backtrack(self, profits, weights, capacity, acc, idx):\n",
    "        if (idx, capacity) in self.memo:\n",
    "            return\n",
    "        \n",
    "        \n",
    "        if capacity == 0:\n",
    "            self.max_profit = max(acc, self.max_profit)\n",
    "            self.memo[(idx, capacity)] = acc\n",
    "            return\n",
    "            \n",
    "        for i in range(idx, len(profits)):\n",
    "            if capacity - weights[i] < 0:\n",
    "                self.max_profit = max(acc, self.max_profit)\n",
    "                self.memo[(idx, capacity)] = acc\n",
    "                continue\n",
    "            if capacity > 0:\n",
    "                acc += profits[i]\n",
    "                self.backtrack(profits, weights, capacity - weights[i], acc, i+1)\n",
    "                acc -= profits[i]\n",
    "                \n"
   ]
  },
  {
   "cell_type": "code",
   "execution_count": 2,
   "metadata": {},
   "outputs": [
    {
     "data": {
      "text/plain": [
       "22"
      ]
     },
     "execution_count": 2,
     "metadata": {},
     "output_type": "execute_result"
    }
   ],
   "source": [
    "Solution().solveKnapsack([1,6,10,16], [1,2,3,5], 7)"
   ]
  },
  {
   "cell_type": "code",
   "execution_count": 3,
   "metadata": {},
   "outputs": [
    {
     "name": "stdout",
     "output_type": "stream",
     "text": [
      "Test Case 1: 10\n",
      "Test Case 2: 0\n",
      "Test Case 3: 10\n",
      "Test Case 4: 0\n",
      "Test Case 5: 6\n",
      "Test Case 6: 60\n",
      "Test Case 7: 0\n",
      "Test Case 8: 55\n"
     ]
    }
   ],
   "source": [
    "# Testing the 0/1 Knapsack Problem Solution\n",
    "solution = Solution()\n",
    "\n",
    "# Test Case 1: Basic Example\n",
    "profits = [4, 5, 3, 7]\n",
    "weights = [2, 3, 1, 4]\n",
    "capacity = 5\n",
    "print(\"Test Case 1:\", solution.solveKnapsack(profits, weights, capacity))  # Expected: 10\n",
    "\n",
    "# Test Case 2: No Capacity\n",
    "profits = [1, 2, 3]\n",
    "weights = [4, 5, 6]\n",
    "capacity = 0\n",
    "print(\"Test Case 2:\", solution.solveKnapsack(profits, weights, capacity))  # Expected: 0\n",
    "\n",
    "# Test Case 3: Single Item Fits\n",
    "profits = [10]\n",
    "weights = [5]\n",
    "capacity = 5\n",
    "print(\"Test Case 3:\", solution.solveKnapsack(profits, weights, capacity))  # Expected: 10\n",
    "\n",
    "# Test Case 4: Single Item Doesn't Fit\n",
    "profits = [10]\n",
    "weights = [5]\n",
    "capacity = 4\n",
    "print(\"Test Case 4:\", solution.solveKnapsack(profits, weights, capacity))  # Expected: 0\n",
    "\n",
    "# Test Case 5: All Items Fit\n",
    "profits = [1, 2, 3]\n",
    "weights = [1, 1, 1]\n",
    "capacity = 3\n",
    "print(\"Test Case 5:\", solution.solveKnapsack(profits, weights, capacity))  # Expected: 6\n",
    "\n",
    "# Test Case 6: Larger Capacity\n",
    "profits = [10, 20, 30, 40]\n",
    "weights = [1, 2, 3, 8]\n",
    "capacity = 10\n",
    "print(\"Test Case 6:\", solution.solveKnapsack(profits, weights, capacity))  # Expected: 60\n",
    "\n",
    "# Test Case 7: All Items Too Heavy\n",
    "profits = [5, 6, 8]\n",
    "weights = [10, 12, 15]\n",
    "capacity = 5\n",
    "print(\"Test Case 7:\", solution.solveKnapsack(profits, weights, capacity))  # Expected: 0\n",
    "\n",
    "# Test Case 8: Mix of Fit and Non-Fit Items\n",
    "profits = [10, 15, 40]\n",
    "weights = [1, 2, 8]\n",
    "capacity = 10\n",
    "print(\"Test Case 8:\", solution.solveKnapsack(profits, weights, capacity))  # Expected: 55\n"
   ]
  },
  {
   "cell_type": "code",
   "execution_count": null,
   "metadata": {},
   "outputs": [
    {
     "name": "stdout",
     "output_type": "stream",
     "text": [
      "Final Max Profit: 22\n"
     ]
    }
   ],
   "source": [
    "class Solution:\n",
    "    def solveKnapsack(self, profits, weights, capacity):\n",
    "        # Start the recursive helper function and return the result\n",
    "        self.memo = {}\n",
    "        return self.helper(profits, weights, capacity, 0)\n",
    "\n",
    "    def helper(self, profits, weights, capacity, curr):\n",
    "        # Base conditions\n",
    "        if capacity <= 0 or curr >= len(profits):\n",
    "            return 0\n",
    "\n",
    "        if (curr, capacity) in self.memo:\n",
    "            return self.memo[(curr, capacity)]\n",
    "        \n",
    "        # Option 1: Include current item (if it fits)\n",
    "        profit1 = 0\n",
    "        if weights[curr] <= capacity:\n",
    "            profit1 = profits[curr] + self.helper(profits, weights, capacity - weights[curr], curr + 1)\n",
    "\n",
    "        # Option 2: Exclude current item\n",
    "        profit2 = self.helper(profits, weights, capacity, curr + 1)\n",
    "\n",
    "        # Return the maximum profit of the two options\n",
    "        self.memo[(curr, capacity)] = max(profit1, profit2)\n",
    "        return self.memo[(curr, capacity)]\n",
    "\n",
    "    def iterative_knapsack(self, profits, weights, capacity):\n",
    "        memo = {}\n",
    "        stack = [(capacity, 0, False)]  # (capacity, current_index, visited_flag)\n",
    "\n",
    "        while stack:\n",
    "            c, i, visited = stack.pop()\n",
    "            if (c, i) in memo:\n",
    "                continue\n",
    "            if c <= 0 or i >= len(profits):\n",
    "                memo[(c, i)] = 0\n",
    "                continue\n",
    "            if not visited:\n",
    "                stack.append((c, i, True))\n",
    "                stack.append((c, i+1, False))\n",
    "                if weights[i] <= c:\n",
    "                    stack.append((c - weights[i], i+1, False))\n",
    "            else:\n",
    "                exclude_profit = memo[(c, i+1)]\n",
    "                include_profit = 0\n",
    "                if weights[i] <= c:\n",
    "                    include_profit = profits[i] + memo[(c - weights[i], i+1)]\n",
    "                memo[(c, i)] = max(exclude_profit, include_profit)\n",
    "        return memo.get((capacity, 0), 0)\n",
    "\n",
    "\n",
    "# Test it out:\n",
    "profits = [1,6,10,16]\n",
    "weights = [1,2,3,5]\n",
    "capacity = 7\n",
    "\n",
    "print(\"Final Max Profit:\", Solution().iterative_knapsack(profits, weights, capacity))\n"
   ]
  },
  {
   "cell_type": "code",
   "execution_count": 5,
   "metadata": {},
   "outputs": [
    {
     "name": "stdout",
     "output_type": "stream",
     "text": [
      "Test Case 1: 10\n",
      "Test Case 2: 0\n",
      "Test Case 3: 10\n",
      "Test Case 4: 0\n",
      "Test Case 5: 6\n",
      "Test Case 6: 60\n",
      "Test Case 7: 0\n",
      "Test Case 8: 55\n"
     ]
    }
   ],
   "source": [
    "# Testing the 0/1 Knapsack Problem Solution\n",
    "solution = Solution()\n",
    "\n",
    "# Test Case 1: Basic Example\n",
    "profits = [4, 5, 3, 7]\n",
    "weights = [2, 3, 1, 4]\n",
    "capacity = 5\n",
    "print(\"Test Case 1:\", solution.solveKnapsack(profits, weights, capacity))  # Expected: 10\n",
    "\n",
    "# Test Case 2: No Capacity\n",
    "profits = [1, 2, 3]\n",
    "weights = [4, 5, 6]\n",
    "capacity = 0\n",
    "print(\"Test Case 2:\", solution.solveKnapsack(profits, weights, capacity))  # Expected: 0\n",
    "\n",
    "# Test Case 3: Single Item Fits\n",
    "profits = [10]\n",
    "weights = [5]\n",
    "capacity = 5\n",
    "print(\"Test Case 3:\", solution.solveKnapsack(profits, weights, capacity))  # Expected: 10\n",
    "\n",
    "# Test Case 4: Single Item Doesn't Fit\n",
    "profits = [10]\n",
    "weights = [5]\n",
    "capacity = 4\n",
    "print(\"Test Case 4:\", solution.solveKnapsack(profits, weights, capacity))  # Expected: 0\n",
    "\n",
    "# Test Case 5: All Items Fit\n",
    "profits = [1, 2, 3]\n",
    "weights = [1, 1, 1]\n",
    "capacity = 3\n",
    "print(\"Test Case 5:\", solution.solveKnapsack(profits, weights, capacity))  # Expected: 6\n",
    "\n",
    "# Test Case 6: Larger Capacity\n",
    "profits = [10, 20, 30, 40]\n",
    "weights = [1, 2, 3, 8]\n",
    "capacity = 10\n",
    "print(\"Test Case 6:\", solution.solveKnapsack(profits, weights, capacity))  # Expected: 60\n",
    "\n",
    "# Test Case 7: All Items Too Heavy\n",
    "profits = [5, 6, 8]\n",
    "weights = [10, 12, 15]\n",
    "capacity = 5\n",
    "print(\"Test Case 7:\", solution.solveKnapsack(profits, weights, capacity))  # Expected: 0\n",
    "\n",
    "# Test Case 8: Mix of Fit and Non-Fit Items\n",
    "profits = [10, 15, 40]\n",
    "weights = [1, 2, 8]\n",
    "capacity = 10\n",
    "print(\"Test Case 8:\", solution.solveKnapsack(profits, weights, capacity))  # Expected: 55\n"
   ]
  },
  {
   "cell_type": "code",
   "execution_count": 6,
   "metadata": {},
   "outputs": [
    {
     "name": "stdout",
     "output_type": "stream",
     "text": [
      "10\n"
     ]
    }
   ],
   "source": [
    "def knapsack_backtrack(weights, profits, capacity):\n",
    "    # A helper function that tries all combinations of items starting from `start_index`.\n",
    "    def backtrack(start_index, current_capacity, current_profit):\n",
    "        # We'll use a nonlocal variable to track the maximum profit found so far\n",
    "        nonlocal max_profit\n",
    "        \n",
    "        # Update the global max profit if the current profit is greater\n",
    "        if current_profit > max_profit:\n",
    "            max_profit = current_profit\n",
    "\n",
    "        # Try picking each item starting from start_index\n",
    "        for i in range(start_index, len(weights)):\n",
    "            # If the item fits, choose it and explore further\n",
    "            if weights[i] <= current_capacity:\n",
    "                # Choose item i\n",
    "                backtrack(i + 1, current_capacity - weights[i], current_profit + profits[i])\n",
    "                # When we return from backtrack, we have effectively 'un-chosen' the item.\n",
    "                # No separate \"undo\" step is needed since we pass capacities and profits by value.\n",
    "\n",
    "    max_profit = 0\n",
    "    backtrack(0, capacity, 0)\n",
    "    return max_profit\n",
    "\n",
    "# Example usage:\n",
    "weights = [2, 3, 1, 4]\n",
    "profits = [4, 5, 3, 7]\n",
    "capacity = 5\n",
    "print(knapsack_backtrack(weights, profits, capacity))  # Expected output: 10 (for Banana + Melon)\n"
   ]
  }
 ],
 "metadata": {
  "kernelspec": {
   "display_name": "3.9.6",
   "language": "python",
   "name": "python3"
  },
  "language_info": {
   "codemirror_mode": {
    "name": "ipython",
    "version": 3
   },
   "file_extension": ".py",
   "mimetype": "text/x-python",
   "name": "python",
   "nbconvert_exporter": "python",
   "pygments_lexer": "ipython3",
   "version": "3.9.6"
  }
 },
 "nbformat": 4,
 "nbformat_minor": 2
}
