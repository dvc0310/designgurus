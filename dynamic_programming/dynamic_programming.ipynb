{
 "cells": [
  {
   "cell_type": "code",
   "execution_count": 1,
   "metadata": {},
   "outputs": [],
   "source": [
    "def fibonacci(n):\n",
    "    if n <= 1:\n",
    "        return n  # Base cases: F(0) = 0, F(1) = 1\n",
    "    return fibonacci(n - 1) + fibonacci(n - 2)  # Recursive step"
   ]
  },
  {
   "cell_type": "code",
   "execution_count": 2,
   "metadata": {},
   "outputs": [
    {
     "name": "stdout",
     "output_type": "stream",
     "text": [
      "55\n"
     ]
    }
   ],
   "source": [
    "# Example usage:\n",
    "print(fibonacci(10))  # Output: 55"
   ]
  },
  {
   "cell_type": "markdown",
   "metadata": {},
   "source": [
    "## Memoized method"
   ]
  },
  {
   "cell_type": "code",
   "execution_count": 3,
   "metadata": {},
   "outputs": [],
   "source": [
    "class Solution:\n",
    "    def __init__(self):\n",
    "        self.cache = {}\n",
    "    \n",
    "    def fibonacci(self, n):\n",
    "        return self.fib_helper(n)\n",
    "    \n",
    "    def fib_helper(self, n):\n",
    "        if n in self.cache:\n",
    "            return self.cache[n]\n",
    "        \n",
    "        if n == 1 or n == 0:\n",
    "            return n\n",
    "        \n",
    "        left = self.fib_helper(n - 1)\n",
    "        right = self.fib_helper(n - 2)\n",
    "        self.cache[n] = left + right\n",
    "        return left + right"
   ]
  },
  {
   "cell_type": "code",
   "execution_count": 4,
   "metadata": {},
   "outputs": [],
   "source": [
    "class Solution:\n",
    "    def __init__(self):\n",
    "        self.cache = {}\n",
    "        \n",
    "    def fibonacci(self, n):\n",
    "        # Handle simple cases upfront\n",
    "        if n == 0 or n == 1:\n",
    "            return n\n",
    "        \n",
    "        stack = [(n, False)]  # (current_n, visited)\n",
    "        \n",
    "        while stack:\n",
    "            curr, visited = stack.pop()\n",
    "\n",
    "            # If we have the answer cached, just continue\n",
    "            if curr in self.cache:\n",
    "                continue\n",
    "            \n",
    "            if curr == 0 or curr == 1:\n",
    "                # Base case: fib(0)=0, fib(1)=1\n",
    "                self.cache[curr] = curr\n",
    "                continue\n",
    "            \n",
    "            if not visited:\n",
    "                # We haven't computed children yet, so we:\n",
    "                # 1. Re-push the current state with visited=True\n",
    "                stack.append((curr, True))\n",
    "                \n",
    "                # 2. Push children states. We want fib(n-1) computed first,\n",
    "                #    so we push (n-2) first, then (n-1).\n",
    "                stack.append((curr - 2, False))\n",
    "                stack.append((curr - 1, False))\n",
    "            else:\n",
    "                # visited == True means children should be computed by now\n",
    "                # Both fib(curr-1) and fib(curr-2) should be in cache\n",
    "                left = self.cache[curr - 1]\n",
    "                right = self.cache[curr - 2]\n",
    "                self.cache[curr] = left + right\n",
    "        \n",
    "        return self.cache[n]\n"
   ]
  },
  {
   "cell_type": "code",
   "execution_count": 5,
   "metadata": {},
   "outputs": [
    {
     "data": {
      "text/plain": [
       "55"
      ]
     },
     "execution_count": 5,
     "metadata": {},
     "output_type": "execute_result"
    }
   ],
   "source": [
    "Solution().fibonacci(10) "
   ]
  },
  {
   "cell_type": "markdown",
   "metadata": {},
   "source": [
    "## Bottoms up method"
   ]
  },
  {
   "cell_type": "code",
   "execution_count": 6,
   "metadata": {},
   "outputs": [],
   "source": [
    "class Solution:\n",
    "  def fibonacci(self, n):\n",
    "    dp = [0, 1]\n",
    "    for i in range(2, n + 1):\n",
    "      dp.append(dp[i - 1] + dp[i - 2])\n",
    "\n",
    "    return dp[n]\n"
   ]
  },
  {
   "cell_type": "code",
   "execution_count": 7,
   "metadata": {},
   "outputs": [
    {
     "data": {
      "text/plain": [
       "55"
      ]
     },
     "execution_count": 7,
     "metadata": {},
     "output_type": "execute_result"
    }
   ],
   "source": [
    "Solution().fibonacci(10) "
   ]
  },
  {
   "cell_type": "code",
   "execution_count": 8,
   "metadata": {},
   "outputs": [],
   "source": [
    "class Solution:\n",
    "    def maxPathSum(self, grid):\n",
    "        self.memo = {}\n",
    "        return self.helper(grid, 0, 0)\n",
    "    \n",
    "    def helper(self, grid, col, row):\n",
    "        if col == len(grid[0]) - 1 and row == len(grid) - 1:\n",
    "            return grid[row][col]\n",
    "        \n",
    "        if (row, col) in self.memo:\n",
    "            return self.memo[(row, col)]\n",
    "        \n",
    "        down = 0\n",
    "        right = 0\n",
    "        \n",
    "        if row < len(grid) - 1:\n",
    "            down = self.helper(grid, col, row + 1)\n",
    "        if col < len(grid[0]) - 1:\n",
    "            right = self.helper(grid, col + 1, row)\n",
    "        \n",
    "        self.memo[(row, col)] = grid[row][col] + max(down, right)\n",
    "        return self.memo[(row, col)]\n"
   ]
  },
  {
   "cell_type": "code",
   "execution_count": 9,
   "metadata": {},
   "outputs": [],
   "source": [
    "class Solution:\n",
    "    def maxPathSum(self, grid):\n",
    "        rows, cols = len(grid), len(grid[0])\n",
    "        \n",
    "        # Create a DP table with the same dimensions as the grid\n",
    "        dp = [[0] * cols for _ in range(rows)]\n",
    "        \n",
    "        # Base case: bottom-right corner\n",
    "        dp[rows-1][cols-1] = grid[rows-1][cols-1]\n",
    "        \n",
    "        # Fill the last row (can only move right)\n",
    "        for col in range(cols-2, -1, -1):\n",
    "            dp[rows-1][col] = grid[rows-1][col] + dp[rows-1][col+1]\n",
    "        \n",
    "        # Fill the last column (can only move down)\n",
    "        for row in range(rows-2, -1, -1):\n",
    "            dp[row][cols-1] = grid[row][cols-1] + dp[row+1][cols-1]\n",
    "        \n",
    "        # Fill the rest of the grid\n",
    "        for row in range(rows-2, -1, -1):\n",
    "            for col in range(cols-2, -1, -1):\n",
    "                dp[row][col] = grid[row][col] + max(dp[row+1][col], dp[row][col+1])\n",
    "        \n",
    "        # The top-left corner contains the result\n",
    "        return dp[0][0]\n"
   ]
  },
  {
   "cell_type": "code",
   "execution_count": 10,
   "metadata": {},
   "outputs": [
    {
     "data": {
      "text/plain": [
       "22"
      ]
     },
     "execution_count": 10,
     "metadata": {},
     "output_type": "execute_result"
    }
   ],
   "source": [
    "grid = [    \n",
    "    [5, 3, 2, 1],\n",
    "    [1, 2, 10, 1],\n",
    "    [4, 3, 1, 1]\n",
    "]\n",
    "Solution().maxPathSum(grid)"
   ]
  },
  {
   "cell_type": "code",
   "execution_count": null,
   "metadata": {},
   "outputs": [],
   "source": [
    "class Solution:\n",
    "    def initialize(self, grid):\n",
    "        self.rows, self.cols = len(grid), len(grid[0])\n",
    "        self.grid = grid\n",
    "        self.memo = {}\n",
    "        self.mark_revisit = True\n",
    "        self.mark_first_visit = False\n",
    "    \n",
    "    def maxPathSum(self, grid):\n",
    "        self.initialize(grid)\n",
    "        stack = self.initialize_stack()\n",
    "        \n",
    "        while stack:\n",
    "            row, col, visited = stack.pop()\n",
    "\n",
    "            move_right = col + 1\n",
    "            move_down = row + 1\n",
    "            \n",
    "            if (row, col) in self.memo:\n",
    "                continue\n",
    "\n",
    "            if self.at_destination(row, col):\n",
    "                self.memoize_destination(row, col)\n",
    "                continue\n",
    "\n",
    "            if not visited:\n",
    "                stack.append((row, col, self.mark_revisit))\n",
    "\n",
    "                if self.is_within_bounds(row, move_right):\n",
    "                    stack.append((row, move_right, self.mark_first_visit))\n",
    "                    \n",
    "                if self.is_within_bounds(move_down, col):\n",
    "                    stack.append((move_down, col, self.mark_first_visit))\n",
    "            else:\n",
    "                self.compute_max_path(row, col)\n",
    "\n",
    "        return self.memo[(0, 0)]\n",
    "\n",
    "    def at_destination(self, row, col):\n",
    "        return row == self.rows - 1 and col == self.cols - 1\n",
    "\n",
    "    def memoize_destination(self, row, col):\n",
    "        self.memo[(row, col)] = self.grid[row][col]   \n",
    "\n",
    "    def is_within_bounds(self, row, col):\n",
    "        return 0 <= row < self.rows and 0 <= col < self.cols\n",
    "\n",
    "    def compute_max_path(self, row, col):\n",
    "        down = self.memo.get((row + 1, col), float('-inf'))\n",
    "        right = self.memo.get((row, col + 1), float('-inf'))\n",
    "        self.memo[(row, col)] = self.grid[row][col] + max(down, right)\n",
    "\n",
    "    def initialize_stack(self):\n",
    "        return [(0, 0, False)]  # Start from the top-left corner"
   ]
  },
  {
   "cell_type": "code",
   "execution_count": 12,
   "metadata": {},
   "outputs": [
    {
     "data": {
      "text/plain": [
       "22"
      ]
     },
     "execution_count": 12,
     "metadata": {},
     "output_type": "execute_result"
    }
   ],
   "source": [
    "grid = [    \n",
    "    [5, 3, 2, 1],\n",
    "    [1, 2, 10, 1],\n",
    "    [4, 3, 1, 1]\n",
    "]\n",
    "Solution().maxPathSum(grid)"
   ]
  },
  {
   "cell_type": "code",
   "execution_count": null,
   "metadata": {},
   "outputs": [],
   "source": [
    "class Solution:\n",
    "  def solveKnapsack(self, profits, weights, capacity):\n",
    "    # TODO: Write your code here\n",
    "    return -1\n"
   ]
  }
 ],
 "metadata": {
  "kernelspec": {
   "display_name": "3.9.6",
   "language": "python",
   "name": "python3"
  },
  "language_info": {
   "codemirror_mode": {
    "name": "ipython",
    "version": 3
   },
   "file_extension": ".py",
   "mimetype": "text/x-python",
   "name": "python",
   "nbconvert_exporter": "python",
   "pygments_lexer": "ipython3",
   "version": "3.9.6"
  }
 },
 "nbformat": 4,
 "nbformat_minor": 2
}
