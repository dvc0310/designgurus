{
 "cells": [
  {
   "cell_type": "code",
   "execution_count": 63,
   "metadata": {},
   "outputs": [],
   "source": [
    "class Solution(object):\n",
    "    def rob(self, nums):\n",
    "        if not nums:\n",
    "            return 0\n",
    "        self.memo = [-1] * len(nums)\n",
    "        return self.rob_helper(nums, 0)\n",
    "\n",
    "    def rob_helper(self, nums, i):         \n",
    "        if i == len(nums) - 1:\n",
    "            return nums[i]\n",
    "        if i == len(nums):\n",
    "            return 0\n",
    "        if self.memo[i] != -1:\n",
    "            return self.memo[i]   \n",
    "        # Don't rob go to the next house\n",
    "        option1 = self.rob_helper(nums, i + 1)\n",
    "\n",
    "        option2 = nums[i] + self.rob_helper(nums, i + 2)\n",
    "        self.memo[i] = max(option1, option2)\n",
    "        return self.memo[i]\n",
    "    \n",
    "sol = Solution()"
   ]
  },
  {
   "cell_type": "code",
   "execution_count": 64,
   "metadata": {},
   "outputs": [
    {
     "data": {
      "text/plain": [
       "4"
      ]
     },
     "execution_count": 64,
     "metadata": {},
     "output_type": "execute_result"
    }
   ],
   "source": [
    "nums = [2,1,1,2]\n",
    "sol.rob(nums)"
   ]
  },
  {
   "cell_type": "code",
   "execution_count": 65,
   "metadata": {},
   "outputs": [],
   "source": [
    "class Solution(object):\n",
    "    def rob(self, nums):\n",
    "        if not nums:\n",
    "            return 0\n",
    "        dp = [-1] * len(nums)\n",
    "        for i in range(len(nums)-1,-1,-1):\n",
    "            if i < len(nums) - 1:\n",
    "                if i < len(nums) - 2:\n",
    "                    dp[i] = max(nums[i]+dp[i+2], dp[i+1], nums[i])\n",
    "                else:\n",
    "                    dp[i] = max(nums[i], dp[i+1])\n",
    "            else:\n",
    "                dp[i] = nums[i]\n",
    "\n",
    "        \n",
    "        return dp[0]\n",
    "    \n",
    "sol = Solution()"
   ]
  },
  {
   "cell_type": "code",
   "execution_count": 66,
   "metadata": {},
   "outputs": [],
   "source": [
    "class Solution(object):\n",
    "    def rob(self, nums):\n",
    "        if not nums:\n",
    "            return 0\n",
    "        \n",
    "        n = len(nums)\n",
    "        dp = [0] * n  # Initialize dp array with 0\n",
    "        \n",
    "        # Handle base cases explicitly\n",
    "        if n == 1:\n",
    "            return nums[0]\n",
    "        if n == 2:\n",
    "            return max(nums[0], nums[1])\n",
    "        \n",
    "        # Fill the dp array iteratively\n",
    "        dp[n-1] = nums[n-1]\n",
    "        dp[n-2] = max(nums[n-2], nums[n-1])\n",
    "        \n",
    "        for i in range(n-3, -1, -1):\n",
    "            dp[i] = max(nums[i] + dp[i+2], dp[i+1])\n",
    "        \n",
    "        return dp[0]\n",
    "sol2 = Solution()"
   ]
  },
  {
   "cell_type": "code",
   "execution_count": 67,
   "metadata": {},
   "outputs": [
    {
     "data": {
      "text/plain": [
       "4"
      ]
     },
     "execution_count": 67,
     "metadata": {},
     "output_type": "execute_result"
    }
   ],
   "source": [
    "arr = [2, 1,1,2]\n",
    "sol.rob(arr)"
   ]
  },
  {
   "cell_type": "code",
   "execution_count": 68,
   "metadata": {},
   "outputs": [
    {
     "name": "stdout",
     "output_type": "stream",
     "text": [
      "nums: [5], Expected: 5, Got: 5\n",
      "nums: [3, 10], Expected: 10, Got: 10\n",
      "nums: [], Expected: 0, Got: 0\n",
      "nums: [5, 5, 5], Expected: 10, Got: 10\n",
      "nums: [2, 7, 9, 3, 1], Expected: 12, Got: 12\n",
      "nums: [1, 2, 3, 1], Expected: 4, Got: 4\n",
      "nums: [2, 1, 1, 2], Expected: 4, Got: 4\n",
      "nums: [100, 200, 300, 400, 500], Expected: 900, Got: 900\n",
      "nums: [6, 7, 1, 30, 8, 2, 4], Expected: 41, Got: 41\n",
      "nums: [10, 20, 30, 40, 50, 60, 70], Expected: 160, Got: 160\n"
     ]
    }
   ],
   "source": [
    "def test_rob():\n",
    "    solution = Solution()  # Assuming the class `Solution` with method `rob` is defined elsewhere\n",
    "\n",
    "    test_cases = [\n",
    "        # Basic Cases\n",
    "        ([5], 5),  # Single house\n",
    "        ([3, 10], 10),  # Two houses\n",
    "        \n",
    "        # Edge Cases\n",
    "        ([], 0),  # No houses\n",
    "        ([5, 5, 5], 10),  # Equal amounts (rob either the 1st and 3rd or just 2nd)\n",
    "        \n",
    "        # General Cases\n",
    "        ([2, 7, 9, 3, 1], 12),  # Rob 2nd and 4th\n",
    "        ([1, 2, 3, 1], 4),  # Rob 1st and 3rd\n",
    "        ([2, 1, 1, 2], 4),  # Rob 1st and last\n",
    "        \n",
    "        # Larger Inputs\n",
    "        ([100, 200, 300, 400, 500], 900),  # Rob 2nd and 4th\n",
    "        ([6, 7, 1, 30, 8, 2, 4], 41),  # Rob 2nd, 4th, and last\n",
    "        ([10, 20, 30, 40, 50, 60, 70], 160),  # Rob alternate starting from 2nd\n",
    "    ]\n",
    "\n",
    "    for nums, expected in test_cases:\n",
    "        result = solution.rob(nums)\n",
    "        print(f\"nums: {nums}, Expected: {expected}, Got: {result}\")\n",
    "\n",
    "# Uncomment below to run the test cases\n",
    "test_rob()\n"
   ]
  }
 ],
 "metadata": {
  "kernelspec": {
   "display_name": "3.9.6",
   "language": "python",
   "name": "python3"
  },
  "language_info": {
   "codemirror_mode": {
    "name": "ipython",
    "version": 3
   },
   "file_extension": ".py",
   "mimetype": "text/x-python",
   "name": "python",
   "nbconvert_exporter": "python",
   "pygments_lexer": "ipython3",
   "version": "3.9.6"
  }
 },
 "nbformat": 4,
 "nbformat_minor": 2
}
