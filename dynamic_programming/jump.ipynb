{
 "cells": [
  {
   "cell_type": "code",
   "execution_count": 35,
   "metadata": {},
   "outputs": [],
   "source": [
    "class Solution(object):\n",
    "    def jump(self, nums):\n",
    "        n = len(nums)\n",
    "        memo = [-1] * n  # Initialize memoization table\n",
    "        \n",
    "        def jump_helper(curr):\n",
    "            # Base case: If we reach or exceed the last index\n",
    "            if curr >= n - 1:\n",
    "                return 0\n",
    "            \n",
    "            # If the result is already computed, return it\n",
    "            if memo[curr] != -1:\n",
    "                return memo[curr]\n",
    "            \n",
    "            # Initialize minimum jumps to a large value\n",
    "            min_jumps = float('inf')\n",
    "            \n",
    "            # Explore all possible jumps from the current position\n",
    "            max_jump = nums[curr]\n",
    "            for step in range(1, max_jump + 1):\n",
    "                if curr + step < n:  # Ensure within bounds\n",
    "                    min_jumps = min(min_jumps, 1 + jump_helper(curr + step))\n",
    "            \n",
    "            # Store the result in the memo table\n",
    "            memo[curr] = min_jumps\n",
    "            return memo[curr]\n",
    "        \n",
    "        return jump_helper(0)  # Start recursion from index 0\n",
    "\n",
    "\n",
    "\n",
    "        \n",
    "\n",
    "sol = Solution()"
   ]
  },
  {
   "cell_type": "code",
   "execution_count": 36,
   "metadata": {},
   "outputs": [
    {
     "data": {
      "text/plain": [
       "2"
      ]
     },
     "execution_count": 36,
     "metadata": {},
     "output_type": "execute_result"
    }
   ],
   "source": [
    "nums = [2,3,1,1,4]\n",
    "sol.jump(nums)"
   ]
  },
  {
   "cell_type": "code",
   "execution_count": 37,
   "metadata": {},
   "outputs": [
    {
     "name": "stdout",
     "output_type": "stream",
     "text": [
      "nums: [2, 3, 1, 1, 4], Expected: 2, Got: 2\n",
      "nums: [2, 3, 0, 1, 4], Expected: 2, Got: 2\n",
      "nums: [1, 2, 3], Expected: 2, Got: 2\n",
      "nums: [2, 1, 2, 1, 4], Expected: 3, Got: 2\n",
      "nums: [5, 1, 1, 1, 1], Expected: 1, Got: 1\n",
      "nums: [1, 1, 1, 1], Expected: 3, Got: 3\n",
      "nums: [6, 2, 4, 0, 5, 1, 1, 4, 2, 9], Expected: 2, Got: 2\n",
      "nums: [1, 3, 5, 8, 9, 2, 6, 7, 6, 8, 9], Expected: 3, Got: 3\n"
     ]
    }
   ],
   "source": [
    "def driver():\n",
    "    solution = Solution()\n",
    "    \n",
    "    # Example test cases\n",
    "    test_cases = [\n",
    "        ([2, 3, 1, 1, 4], 2),  # Jump to index 1, then to index 4\n",
    "        ([2, 3, 0, 1, 4], 2),  # Jump to index 1, then to index 4\n",
    "        ([1, 2, 3], 2),        # Jump to index 1, then to index 2\n",
    "        ([2, 1, 2, 1, 4], 3),  # Jump to index 2, then to index 4\n",
    "        ([5, 1, 1, 1, 1], 1),  # Single jump from index 0 to the last\n",
    "        ([1, 1, 1, 1], 3),     # Sequential jumps, one at a time\n",
    "        ([6, 2, 4, 0, 5, 1, 1, 4, 2, 9], 2), # Jump to index 1, then index 9\n",
    "        ([1, 3, 5, 8, 9, 2, 6, 7, 6, 8, 9], 3), # Jump to index 2, index 4, then index 10\n",
    "    ]\n",
    "    \n",
    "    for nums, expected in test_cases:\n",
    "        result = solution.jump(nums)\n",
    "        print(f\"nums: {nums}, Expected: {expected}, Got: {result}\")\n",
    "\n",
    "driver()"
   ]
  },
  {
   "cell_type": "code",
   "execution_count": 38,
   "metadata": {},
   "outputs": [
    {
     "name": "stdout",
     "output_type": "stream",
     "text": [
      "2\n",
      "2\n"
     ]
    }
   ],
   "source": [
    "class Solution(object):\n",
    "    def jump(self, nums):\n",
    "        n = len(nums)\n",
    "        if n == 1:\n",
    "            return 0  # Already at the last index\n",
    "        \n",
    "        jumps = 0\n",
    "        end = 0\n",
    "        farthest = 0\n",
    "        \n",
    "        for i in range(n - 1):  # No need to consider the last element since we want to reach it\n",
    "            # Update the farthest reach\n",
    "            farthest = max(farthest, i + nums[i])\n",
    "            \n",
    "            # If we have reached the end of the current range\n",
    "            if i == end:\n",
    "                jumps += 1\n",
    "                end = farthest  # Extend the range to the best next reach\n",
    "                \n",
    "                # If we have already reached or passed the last index\n",
    "                if end >= n - 1:\n",
    "                    break\n",
    "        \n",
    "        return jumps\n",
    "\n",
    "sol = Solution()\n",
    "# Example usage:\n",
    "print(sol.jump([2,3,1,1,4]))  # Output: 2\n",
    "print(sol.jump([2,3,0,1,4]))  # Output: 2\n"
   ]
  },
  {
   "cell_type": "code",
   "execution_count": 39,
   "metadata": {},
   "outputs": [
    {
     "name": "stdout",
     "output_type": "stream",
     "text": [
      "2\n",
      "2\n"
     ]
    }
   ],
   "source": [
    "class Solution(object):\n",
    "    def jump(self, nums):\n",
    "        n = len(nums)\n",
    "        if n == 1:\n",
    "            return 0  # Already at the last index\n",
    "        i = 0\n",
    "        jumps = 0\n",
    "        best_choice = 0\n",
    "        \n",
    "        while i < len(nums) - 1:\n",
    "            best_idx_choice = 1\n",
    "            best_choice = -1\n",
    "            for j in range(1, nums[i]+1):\n",
    "                if j + nums[i+j] > best_choice:\n",
    "                    best_idx_choice = j\n",
    "                    best_choice = j + nums[i+j]\n",
    "                if i + j == len(nums) - 1:\n",
    "                    return jumps + 1\n",
    "            jumps += 1\n",
    "            i += best_idx_choice\n",
    "        \n",
    "        return jumps\n",
    "\n",
    "sol = Solution()\n",
    "# Example usage:\n",
    "print(sol.jump([6, 2, 4, 0, 5, 1, 1, 4, 2, 9]))  # Output: 2\n",
    "print(sol.jump([2,3,0,1,4]))  # Output: 2"
   ]
  },
  {
   "cell_type": "code",
   "execution_count": 42,
   "metadata": {},
   "outputs": [
    {
     "name": "stdout",
     "output_type": "stream",
     "text": [
      "2\n",
      "2\n"
     ]
    }
   ],
   "source": [
    "class Solution(object):\n",
    "    def jump(self, nums):\n",
    "\n",
    "        n = len(nums)\n",
    "        jumps = 0\n",
    "        farthest = 0\n",
    "        current_end = 0\n",
    "        \n",
    "        for i in range(n - 1):  # No need to process the last index\n",
    "            farthest = max(farthest, i + nums[i])\n",
    "            \n",
    "            if i == current_end:  # Need to make a jump\n",
    "                jumps += 1\n",
    "                current_end = farthest\n",
    "            \n",
    "                if current_end >= n - 1:  # Already reached or surpassed the last index\n",
    "                    break\n",
    "        \n",
    "        return jumps\n",
    "sol = Solution()\n",
    "# Example usage:\n",
    "print(sol.jump([6, 2, 4, 0, 5, 1, 1, 4, 2, 9]))  # Output: 2\n",
    "print(sol.jump([2,3,0,1,4]))  # Output: 2"
   ]
  },
  {
   "cell_type": "code",
   "execution_count": 41,
   "metadata": {},
   "outputs": [
    {
     "name": "stdout",
     "output_type": "stream",
     "text": [
      "nums: [2, 3, 1, 1, 4], Expected: 2, Got: 2\n",
      "nums: [2, 3, 0, 1, 4], Expected: 2, Got: 2\n",
      "nums: [1, 2, 3], Expected: 2, Got: 2\n",
      "nums: [2, 1, 2, 1, 4], Expected: 2, Got: 2\n",
      "nums: [5, 1, 1, 1, 1], Expected: 1, Got: 1\n",
      "nums: [1, 1, 1, 1], Expected: 3, Got: 3\n",
      "nums: [6, 2, 4, 0, 5, 1, 1, 4, 2, 9], Expected: 2, Got: 2\n",
      "nums: [1, 3, 5, 8, 9, 2, 6, 7, 6, 8, 9], Expected: 3, Got: 3\n"
     ]
    }
   ],
   "source": [
    "def driver():\n",
    "    solution = Solution()\n",
    "    \n",
    "    # Example test cases\n",
    "    test_cases = [\n",
    "        ([2, 3, 1, 1, 4], 2),  # Jump to index 1, then to index 4\n",
    "        ([2, 3, 0, 1, 4], 2),  # Jump to index 1, then to index 4\n",
    "        ([1, 2, 3], 2),        # Jump to index 1, then to index 2\n",
    "        ([2, 1, 2, 1, 4], 2),  # Jump to index 2, then to index 4\n",
    "        ([5, 1, 1, 1, 1], 1),  # Single jump from index 0 to the last\n",
    "        ([1, 1, 1, 1], 3),     # Sequential jumps, one at a time\n",
    "        ([6, 2, 4, 0, 5, 1, 1, 4, 2, 9], 2), # Jump to index 1, then index 9\n",
    "        ([1, 3, 5, 8, 9, 2, 6, 7, 6, 8, 9], 3), # Jump to index 2, index 4, then index 10\n",
    "    ]\n",
    "    \n",
    "    for nums, expected in test_cases:\n",
    "        result = solution.jump(nums)\n",
    "        print(f\"nums: {nums}, Expected: {expected}, Got: {result}\")\n",
    "\n",
    "driver()"
   ]
  }
 ],
 "metadata": {
  "kernelspec": {
   "display_name": "3.9.6",
   "language": "python",
   "name": "python3"
  },
  "language_info": {
   "codemirror_mode": {
    "name": "ipython",
    "version": 3
   },
   "file_extension": ".py",
   "mimetype": "text/x-python",
   "name": "python",
   "nbconvert_exporter": "python",
   "pygments_lexer": "ipython3",
   "version": "3.9.6"
  }
 },
 "nbformat": 4,
 "nbformat_minor": 2
}
