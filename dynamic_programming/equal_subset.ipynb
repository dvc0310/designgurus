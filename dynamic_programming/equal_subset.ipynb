{
 "cells": [
  {
   "cell_type": "code",
   "execution_count": 7,
   "metadata": {},
   "outputs": [
    {
     "name": "stdout",
     "output_type": "stream",
     "text": [
      "Can partition: True\n",
      "Number of recursive calls: 23\n"
     ]
    }
   ],
   "source": [
    "class Solution:\n",
    "    def __init__(self):\n",
    "        self.memo = {}\n",
    "        self.counter = 0  # Counter for recursive calls\n",
    "        self.found = False\n",
    "\n",
    "    def canPartition(self, nums):\n",
    "        total_sum = sum(nums)\n",
    "        if total_sum % 2 != 0 or not nums:\n",
    "            return False\n",
    "        target = total_sum // 2\n",
    "        return self.helper(nums, 0, target)\n",
    "\n",
    "    def helper(self, nums, i, current_sum):\n",
    "        self.counter += 1\n",
    "        #if self.found:\n",
    "        #    return True\n",
    "        if current_sum == 0:\n",
    "            return True\n",
    "        if current_sum < 0 or i >= len(nums):\n",
    "            return False\n",
    "        if (i, current_sum) in self.memo:\n",
    "            return self.memo[(i, current_sum)]\n",
    "        \n",
    "        include = self.helper(nums, i + 1, current_sum - nums[i])\n",
    "        exclude = self.helper(nums, i + 1, current_sum)\n",
    "        self.memo[(i, current_sum)] = include or exclude\n",
    "        return self.memo[(i, current_sum)]\n",
    "\n",
    "# Usage\n",
    "sol = Solution()\n",
    "result = sol.canPartition([1, 5, 11, 5])\n",
    "print(\"Can partition:\", result)\n",
    "print(\"Number of recursive calls:\", sol.counter)\n"
   ]
  },
  {
   "cell_type": "code",
   "execution_count": 8,
   "metadata": {},
   "outputs": [
    {
     "name": "stdout",
     "output_type": "stream",
     "text": [
      "nums: [1, 5, 11, 5], Expected: True, Got: True\n",
      "6\n",
      "nums: [1, 2, 3, 5], Expected: False, Got: False\n",
      "0\n",
      "nums: [1], Expected: False, Got: False\n",
      "0\n",
      "nums: [4, 4], Expected: True, Got: True\n",
      "2\n",
      "nums: [3, 3, 3, 4, 5], Expected: True, Got: True\n",
      "4\n",
      "nums: [2, 2, 2, 2], Expected: True, Got: True\n",
      "3\n",
      "nums: [1, 1, 1, 1, 1], Expected: False, Got: False\n",
      "0\n",
      "nums: [], Expected: False, Got: True\n",
      "1\n",
      "nums: [100, 100, 100, 100, 100, 100], Expected: True, Got: True\n",
      "4\n",
      "nums: [1, 2, 3, 4, 5, 6, 7], Expected: True, Got: True\n",
      "35\n"
     ]
    }
   ],
   "source": [
    "def test_partition_equal_subset_sum():\n",
    "    solution = Solution()  # Assuming `Solution` contains the method to solve the problem.\n",
    "\n",
    "    test_cases = [\n",
    "        # Test Case 1: Simple positive case\n",
    "        ([1, 5, 11, 5], True),  \n",
    "        # Explanation: Can partition into [1, 5, 5] and [11].\n",
    "\n",
    "        # Test Case 2: Simple negative case\n",
    "        ([1, 2, 3, 5], False),  \n",
    "        # Explanation: Cannot partition into two subsets with equal sum.\n",
    "\n",
    "        # Test Case 3: Single element\n",
    "        ([1], False),  \n",
    "        # Explanation: A single element cannot form two subsets.\n",
    "\n",
    "        # Test Case 4: Two identical elements\n",
    "        ([4, 4], True),  \n",
    "        # Explanation: Can partition into [4] and [4].\n",
    "\n",
    "        # Test Case 5: Large sum possible\n",
    "        ([3, 3, 3, 4, 5], True),  \n",
    "        # Explanation: Can partition into [3, 5] and [3, 4, 3].\n",
    "\n",
    "        # Test Case 6: All elements the same\n",
    "        ([2, 2, 2, 2], True),  \n",
    "        # Explanation: Can partition into [2, 2] and [2, 2].\n",
    "\n",
    "        # Test Case 7: Large odd sum\n",
    "        ([1, 1, 1, 1, 1], False),  \n",
    "        # Explanation: Sum is odd (5), cannot partition into equal subsets.\n",
    "\n",
    "        # Test Case 8: Empty input\n",
    "        ([], False),  \n",
    "        # Explanation: No elements, no subsets.\n",
    "\n",
    "        # Test Case 9: Very large numbers\n",
    "        ([100, 100, 100, 100, 100, 100], True),  \n",
    "        # Explanation: Can partition into two subsets with equal sum.\n",
    "\n",
    "        # Test Case 10: Multiple small numbers\n",
    "        ([1, 2, 3, 4, 5, 6, 7], True),  \n",
    "        # Explanation: Can partition into [1, 6, 7] and [2, 3, 4, 5].\n",
    "\n",
    "    ]\n",
    "\n",
    "    for nums, expected in test_cases:\n",
    "        result = solution.canPartition(nums)  # Assuming `canPartition` is the method.\n",
    "        print(f\"nums: {nums}, Expected: {expected}, Got: {result}\")\n",
    "        print(solution.counter)\n",
    "        solution.counter = 0\n",
    "\n",
    "# Uncomment to run the test\n",
    "test_partition_equal_subset_sum()"
   ]
  },
  {
   "cell_type": "code",
   "execution_count": 10,
   "metadata": {},
   "outputs": [
    {
     "name": "stdout",
     "output_type": "stream",
     "text": [
      "True\n",
      "False\n"
     ]
    }
   ],
   "source": [
    "class Solution:\n",
    "    def canPartition(self, nums):\n",
    "        total_sum = sum(nums)\n",
    "        # If the total sum is odd, it's not possible to partition it into two equal parts\n",
    "        if total_sum % 2 != 0:\n",
    "            return False\n",
    "        \n",
    "        target = total_sum // 2\n",
    "        n = len(nums)\n",
    "        dp = [[False] * (target + 1) for _ in range(n + 1)]\n",
    "        \n",
    "        # Initialize the dp array for sum 0\n",
    "        for i in range(n + 1):\n",
    "            dp[i][0] = True\n",
    "        \n",
    "        # Fill the dp table\n",
    "        for i in range(1, n + 1):\n",
    "            for s in range(1, target + 1):\n",
    "                # If we can achieve the sum s without the current number\n",
    "                if dp[i-1][s]:\n",
    "                    dp[i][s] = True\n",
    "                # If we can achieve the sum s by including the current number\n",
    "                elif s >= nums[i-1]:\n",
    "                    dp[i][s] = dp[i-1][s-nums[i-1]]\n",
    "        \n",
    "        return dp[n][target]\n",
    "\n",
    "# Example usage\n",
    "sol = Solution()\n",
    "print(sol.canPartition([1, 5, 11, 5]))  # True\n",
    "print(sol.canPartition([1, 2, 3, 5]))   # False\n"
   ]
  }
 ],
 "metadata": {
  "kernelspec": {
   "display_name": "3.9.6",
   "language": "python",
   "name": "python3"
  },
  "language_info": {
   "codemirror_mode": {
    "name": "ipython",
    "version": 3
   },
   "file_extension": ".py",
   "mimetype": "text/x-python",
   "name": "python",
   "nbconvert_exporter": "python",
   "pygments_lexer": "ipython3",
   "version": "3.9.6"
  }
 },
 "nbformat": 4,
 "nbformat_minor": 2
}
