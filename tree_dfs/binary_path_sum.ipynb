{
 "cells": [
  {
   "cell_type": "code",
   "execution_count": 5,
   "metadata": {},
   "outputs": [],
   "source": [
    "from tree_node import construct_binary_tree, print_tree_structure\n",
    "\n",
    "class Solution:\n",
    "    def hasPath(self, root, sum):\n",
    "        stack = [(root, sum)]\n",
    "\n",
    "        while stack:\n",
    "            curr, prev_sum = stack.pop()\n",
    "            curr_sum = prev_sum - curr.val\n",
    "\n",
    "            if curr_sum < 0:\n",
    "                continue\n",
    "            elif curr_sum == 0 and not (curr.left or curr.right):\n",
    "                return True\n",
    "                \n",
    "            if curr.right:\n",
    "                stack.append((curr.right, curr_sum))\n",
    "            if curr.left:\n",
    "                stack.append((curr.left, curr_sum))\n",
    "\n",
    "        return False\n",
    "\n",
    "\n",
    "sol = Solution()"
   ]
  },
  {
   "cell_type": "code",
   "execution_count": 6,
   "metadata": {},
   "outputs": [],
   "source": [
    "root = construct_binary_tree([1, 2, 3, 4, 5, 6, 7])\n",
    "S = 10"
   ]
  },
  {
   "cell_type": "code",
   "execution_count": 7,
   "metadata": {},
   "outputs": [
    {
     "name": "stdout",
     "output_type": "stream",
     "text": [
      "        \\-- 7\n",
      "    \\-- 3\n",
      "        |-- 6\n",
      "|-- 1\n",
      "        \\-- 5\n",
      "    |-- 2\n",
      "        |-- 4\n"
     ]
    }
   ],
   "source": [
    "print_tree_structure(root)"
   ]
  },
  {
   "cell_type": "code",
   "execution_count": 8,
   "metadata": {},
   "outputs": [
    {
     "data": {
      "text/plain": [
       "True"
      ]
     },
     "execution_count": 8,
     "metadata": {},
     "output_type": "execute_result"
    }
   ],
   "source": [
    "sol.hasPath(root, S)"
   ]
  },
  {
   "cell_type": "code",
   "execution_count": 9,
   "metadata": {},
   "outputs": [
    {
     "data": {
      "text/plain": [
       "False"
      ]
     },
     "execution_count": 9,
     "metadata": {},
     "output_type": "execute_result"
    }
   ],
   "source": [
    "root = construct_binary_tree([1, 2])\n",
    "S = 1\n",
    "sol.hasPath(root, S)"
   ]
  }
 ],
 "metadata": {
  "kernelspec": {
   "display_name": "3.9.6",
   "language": "python",
   "name": "python3"
  },
  "language_info": {
   "codemirror_mode": {
    "name": "ipython",
    "version": 3
   },
   "file_extension": ".py",
   "mimetype": "text/x-python",
   "name": "python",
   "nbconvert_exporter": "python",
   "pygments_lexer": "ipython3",
   "version": "3.9.6"
  }
 },
 "nbformat": 4,
 "nbformat_minor": 2
}
