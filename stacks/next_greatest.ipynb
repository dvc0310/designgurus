{
 "cells": [
  {
   "cell_type": "code",
   "execution_count": 38,
   "metadata": {},
   "outputs": [],
   "source": [
    "import heapq\n",
    "class Solution2:\n",
    "    def nextLargerElement(self, arr):\n",
    "        res = [-1]*len(arr)\n",
    "        heap = [(arr[0], 0)]\n",
    "        for i in range(1, len(arr)):\n",
    "            while heap  and heap[0][0] < arr[i]:\n",
    "                num, idx = heapq.heappop(heap)\n",
    "                res[idx] = arr[i]\n",
    "                \n",
    "            heapq.heappush(heap, (arr[i], i))\n",
    "\n",
    "            \n",
    "        # ToDo: Write Your Code Here.\n",
    "\n",
    "\n",
    "        return res\n",
    "\n",
    "sol = Solution2()"
   ]
  },
  {
   "cell_type": "code",
   "execution_count": 35,
   "metadata": {},
   "outputs": [],
   "source": [
    "class Solution:\n",
    "    def nextLargerElement(self, arr):\n",
    "        # Initialize an empty stack and a result list with -1 values\n",
    "        s = []\n",
    "        res = [-1] * len(arr)\n",
    "\n",
    "        # Iterate through the array in reverse order\n",
    "        for i in range(len(arr) - 1, -1, -1):\n",
    "            # While the stack is not empty and the top element of the stack is less than or equal to the current element\n",
    "            while s and s[-1] <= arr[i]:\n",
    "                s.pop()  # Pop elements from the stack until the condition is met\n",
    "            \n",
    "            if s: \n",
    "                res[i] = s[-1]  # If the stack is not empty, set the result for the current element to the top element of the stack\n",
    "            s.append(arr[i])  # Push the current element onto the stack\n",
    "\n",
    "        return res\n",
    "\n",
    "# Instantiate the solution class\n",
    "solution = Solution()"
   ]
  },
  {
   "cell_type": "code",
   "execution_count": 36,
   "metadata": {},
   "outputs": [
    {
     "name": "stdout",
     "output_type": "stream",
     "text": [
      "[5, 7, 7, -1, -1]\n"
     ]
    }
   ],
   "source": [
    "# Case 1\n",
    "arr = [4, 5, 2, 7, 3]\n",
    "print(solution.nextLargerElement(arr))  # Expected output: [5, 7, 7, -1, -1]"
   ]
  },
  {
   "cell_type": "code",
   "execution_count": 39,
   "metadata": {},
   "outputs": [
    {
     "name": "stdout",
     "output_type": "stream",
     "text": [
      "[5, 7, 7, -1, -1]\n"
     ]
    }
   ],
   "source": [
    "# Case 1\n",
    "arr = [4, 5, 2, 7, 3]\n",
    "print(sol.nextLargerElement(arr))  # Expected output: [5, 7, 7, -1, -1]"
   ]
  },
  {
   "cell_type": "code",
   "execution_count": 16,
   "metadata": {},
   "outputs": [
    {
     "name": "stdout",
     "output_type": "stream",
     "text": [
      "[5, 7, 7, -1, -1]\n",
      "[2, 3, 4, 5, -1]\n",
      "[-1, -1, -1, -1, -1]\n",
      "[5, 7, 7, 7, -1, -1]\n",
      "[-1, -1, -1, -1]\n",
      "[-1]\n",
      "[7, -1]\n",
      "[-1, -1]\n",
      "[-2, -1, 0, -1]\n",
      "[3, 3, 5, 5, -1]\n",
      "[2, 3, 4, 10, -1]\n",
      "[-1, 2, 3, 4, -1]\n"
     ]
    }
   ],
   "source": [
    "# Instantiate the solution class\n",
    "solution = Solution()\n",
    "\n",
    "# Case 1\n",
    "arr = [4, 5, 2, 7, 3]\n",
    "print(solution.nextLargerElement(arr))  # Expected output: [5, 7, 7, -1, -1]\n",
    "\n",
    "# Case 2\n",
    "arr = [1, 2, 3, 4, 5]\n",
    "print(solution.nextLargerElement(arr))  # Expected output: [2, 3, 4, 5, -1]\n",
    "\n",
    "# Case 3\n",
    "arr = [5, 4, 3, 2, 1]\n",
    "print(solution.nextLargerElement(arr))  # Expected output: [-1, -1, -1, -1, -1]\n",
    "\n",
    "# Case 4\n",
    "arr = [4, 5, 5, 2, 7, 7]\n",
    "print(solution.nextLargerElement(arr))  # Expected output: [5, 7, 7, 7, -1, -1]\n",
    "\n",
    "# Case 5\n",
    "arr = [3, 3, 3, 3]\n",
    "print(solution.nextLargerElement(arr))  # Expected output: [-1, -1, -1, -1]\n",
    "\n",
    "# Case 6\n",
    "arr = [10]\n",
    "print(solution.nextLargerElement(arr))  # Expected output: [-1]\n",
    "\n",
    "# Case 7\n",
    "arr = [3, 7]\n",
    "print(solution.nextLargerElement(arr))  # Expected output: [7, -1]\n",
    "\n",
    "# Case 8\n",
    "arr = [7, 3]\n",
    "print(solution.nextLargerElement(arr))  # Expected output: [-1, -1]\n",
    "\n",
    "# Case 9\n",
    "arr = [-3, -2, -1, 0]\n",
    "print(solution.nextLargerElement(arr))  # Expected output: [-2, -1, 0, -1]\n",
    "\n",
    "# Case 10\n",
    "arr = [2, -1, 3, -4, 5]\n",
    "print(solution.nextLargerElement(arr))  # Expected output: [3, 3, 5, 5, -1]\n",
    "\n",
    "# Case 11\n",
    "arr = [1, 2, 3, 4, 10]\n",
    "print(solution.nextLargerElement(arr))  # Expected output: [2, 3, 4, 10, -1]\n",
    "\n",
    "# Case 12\n",
    "arr = [10, 1, 2, 3, 4]\n",
    "print(solution.nextLargerElement(arr))  # Expected output: [-1, 2, 3, 4, -1]\n"
   ]
  }
 ],
 "metadata": {
  "kernelspec": {
   "display_name": "3.9.6",
   "language": "python",
   "name": "python3"
  },
  "language_info": {
   "codemirror_mode": {
    "name": "ipython",
    "version": 3
   },
   "file_extension": ".py",
   "mimetype": "text/x-python",
   "name": "python",
   "nbconvert_exporter": "python",
   "pygments_lexer": "ipython3",
   "version": "3.9.6"
  }
 },
 "nbformat": 4,
 "nbformat_minor": 2
}
