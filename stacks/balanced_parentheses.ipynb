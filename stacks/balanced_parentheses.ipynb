{
 "cells": [
  {
   "cell_type": "code",
   "execution_count": 3,
   "metadata": {},
   "outputs": [],
   "source": [
    "class Solution:\n",
    "    def isValid(self, s):\n",
    "        # ToDo: Write Your Code Here.\n",
    "        stack = []\n",
    "        for c in s:\n",
    "            if stack and c == \"}\" and stack[-1] == \"{\":\n",
    "                stack.pop()\n",
    "            elif stack and c == \"]\" and stack[-1] == \"[\":\n",
    "                stack.pop()\n",
    "            elif stack and c == \")\" and stack[-1] == \"(\":\n",
    "                stack.pop()\n",
    "            else:\n",
    "                stack.append(c)\n",
    "        return len(stack) == 0\n"
   ]
  },
  {
   "cell_type": "code",
   "execution_count": 4,
   "metadata": {},
   "outputs": [
    {
     "data": {
      "text/plain": [
       "True"
      ]
     },
     "execution_count": 4,
     "metadata": {},
     "output_type": "execute_result"
    }
   ],
   "source": [
    "s = \"{[()]}\"\n",
    "Solution().isValid(s)"
   ]
  },
  {
   "cell_type": "code",
   "execution_count": 7,
   "metadata": {},
   "outputs": [],
   "source": [
    "class Solution:\n",
    "    def reverseString(self, s):\n",
    "       # ToDo: Write Your Code Here.\n",
    "        stack = []\n",
    "        for c in s:\n",
    "            stack.append(c)\n",
    "        final_s = \"\"\n",
    "        while stack:\n",
    "            final_s += stack.pop()\n",
    "        return final_s\n"
   ]
  },
  {
   "cell_type": "code",
   "execution_count": 8,
   "metadata": {},
   "outputs": [
    {
     "data": {
      "text/plain": [
       "'!dlroW ,olleH'"
      ]
     },
     "execution_count": 8,
     "metadata": {},
     "output_type": "execute_result"
    }
   ],
   "source": [
    "s = \"Hello, World!\"\n",
    "Solution().reverseString(s)"
   ]
  }
 ],
 "metadata": {
  "kernelspec": {
   "display_name": "3.9.6",
   "language": "python",
   "name": "python3"
  },
  "language_info": {
   "codemirror_mode": {
    "name": "ipython",
    "version": 3
   },
   "file_extension": ".py",
   "mimetype": "text/x-python",
   "name": "python",
   "nbconvert_exporter": "python",
   "pygments_lexer": "ipython3",
   "version": "3.9.6"
  }
 },
 "nbformat": 4,
 "nbformat_minor": 2
}
