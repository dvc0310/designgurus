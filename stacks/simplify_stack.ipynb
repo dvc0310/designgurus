{
 "cells": [
  {
   "cell_type": "code",
   "execution_count": 40,
   "metadata": {},
   "outputs": [],
   "source": [
    "class Solution:\n",
    "    def simplifyPath(self, path):\n",
    "        # ToDo: Write Your Code Here.\n",
    "        stack = []\n",
    "        for i in range(len(path)):\n",
    "            if not stack or not (stack[-1] == \"/\" and path[i] == \"/\"):\n",
    "                if path[i] != '.':\n",
    "                    stack.append(path[i])\n",
    "            if i < len(path) - 1 and path[i] == '.' and path[i + 1] == '.':\n",
    "                k = 0\n",
    "                while k < 2 and stack:\n",
    "                    stack.pop()\n",
    "                    k += 1\n",
    "        if not stack:\n",
    "            return \"/\"\n",
    "        if stack[-1] == \"/\":\n",
    "            final_stack = stack[:len(stack) - 1]\n",
    "        else:\n",
    "            final_stack = stack\n",
    "        if not final_stack:\n",
    "            final_stack.append(\"/\")\n",
    "            \n",
    "        return ''.join(final_stack)\n"
   ]
  },
  {
   "cell_type": "code",
   "execution_count": 41,
   "metadata": {},
   "outputs": [
    {
     "data": {
      "text/plain": [
       "'/a/b/c'"
      ]
     },
     "execution_count": 41,
     "metadata": {},
     "output_type": "execute_result"
    }
   ],
   "source": [
    "s = \"/a//b////c/d//././/..\"\n",
    "\n",
    "Solution().simplifyPath(s)"
   ]
  },
  {
   "cell_type": "code",
   "execution_count": 42,
   "metadata": {},
   "outputs": [
    {
     "data": {
      "text/plain": [
       "'/home/foo'"
      ]
     },
     "execution_count": 42,
     "metadata": {},
     "output_type": "execute_result"
    }
   ],
   "source": [
    "s = \"/home//foo/\"\n",
    "Solution().simplifyPath(s)"
   ]
  },
  {
   "cell_type": "code",
   "execution_count": 43,
   "metadata": {},
   "outputs": [
    {
     "data": {
      "text/plain": [
       "'/'"
      ]
     },
     "execution_count": 43,
     "metadata": {},
     "output_type": "execute_result"
    }
   ],
   "source": [
    "s = \"/../\"\n",
    "Solution().simplifyPath(s)"
   ]
  },
  {
   "cell_type": "code",
   "execution_count": 44,
   "metadata": {},
   "outputs": [
    {
     "data": {
      "text/plain": [
       "'/a/e'"
      ]
     },
     "execution_count": 44,
     "metadata": {},
     "output_type": "execute_result"
    }
   ],
   "source": [
    "s = \"/a/b/./../c/d/../../e\"\n",
    "Solution().simplifyPath(s)"
   ]
  }
 ],
 "metadata": {
  "kernelspec": {
   "display_name": "3.9.6",
   "language": "python",
   "name": "python3"
  },
  "language_info": {
   "codemirror_mode": {
    "name": "ipython",
    "version": 3
   },
   "file_extension": ".py",
   "mimetype": "text/x-python",
   "name": "python",
   "nbconvert_exporter": "python",
   "pygments_lexer": "ipython3",
   "version": "3.9.6"
  }
 },
 "nbformat": 4,
 "nbformat_minor": 2
}
