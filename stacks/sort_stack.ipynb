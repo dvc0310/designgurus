{
 "cells": [
  {
   "cell_type": "code",
   "execution_count": 10,
   "metadata": {},
   "outputs": [],
   "source": [
    "class Solution:\n",
    "    def sortStack(self,stack):\n",
    "        tempStack = []\n",
    "        # ToDo: Write Your Code Here.\n",
    "        while stack:\n",
    "            while stack and (not tempStack or stack[-1] >= tempStack[-1]):\n",
    "                tempStack.append(stack.pop())\n",
    "            if stack:\n",
    "                temp = stack.pop()\n",
    "                while tempStack and (not stack or temp < tempStack[-1]):\n",
    "                    stack.append(tempStack.pop())\n",
    "                tempStack.append(temp)\n",
    "        return tempStack\n"
   ]
  },
  {
   "cell_type": "code",
   "execution_count": 13,
   "metadata": {},
   "outputs": [
    {
     "data": {
      "text/plain": [
       "[3, 23, 31, 34, 92, 98]"
      ]
     },
     "execution_count": 13,
     "metadata": {},
     "output_type": "execute_result"
    }
   ],
   "source": [
    "sol = Solution()\n",
    "sol.sortStack([34, 3, 31, 98, 92, 23])"
   ]
  }
 ],
 "metadata": {
  "kernelspec": {
   "display_name": "3.9.6",
   "language": "python",
   "name": "python3"
  },
  "language_info": {
   "codemirror_mode": {
    "name": "ipython",
    "version": 3
   },
   "file_extension": ".py",
   "mimetype": "text/x-python",
   "name": "python",
   "nbconvert_exporter": "python",
   "pygments_lexer": "ipython3",
   "version": "3.9.6"
  }
 },
 "nbformat": 4,
 "nbformat_minor": 2
}
