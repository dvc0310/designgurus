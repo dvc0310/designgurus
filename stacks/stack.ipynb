{
 "cells": [
  {
   "cell_type": "code",
   "execution_count": null,
   "metadata": {},
   "outputs": [],
   "source": [
    "class Stack:\n",
    "    class Node:\n",
    "        def __init__(self, data):\n",
    "            self.data = data  # Store the data in this node\n",
    "            self.next = None  # Initialize the next node as None\n",
    "\n",
    "    def __init__(self):\n",
    "        self.top = None  # Initialize the top of the stack as None\n",
    "\n",
    "    def pop(self):\n",
    "        if self.top is None:\n",
    "            raise IndexError(\"pop from empty stack\")  # Raise exception if the stack is empty\n",
    "        item = self.top.data  # Store the top item's data\n",
    "        self.top = self.top.next  # Update the top to be the next node\n",
    "        return item  # Return the popped item\n",
    "\n",
    "    def push(self, item):\n",
    "        t = self.Node(item)  # Create a new node with the provided data\n",
    "        t.next = self.top  # Set the next of this new node to be the current top\n",
    "        self.top = t  # Update the top to be the new node\n",
    "\n",
    "    def peek(self):\n",
    "        if self.top is None:\n",
    "            raise IndexError(\"peek from empty stack\")  # Raise exception if the stack is empty\n",
    "        return self.top.data  # Return the top item's data\n",
    "\n",
    "    def is_empty(self):\n",
    "        return self.top is None  # Return True if the stack is empty, False otherwise\n"
   ]
  }
 ],
 "metadata": {
  "kernelspec": {
   "display_name": "3.9.6",
   "language": "python",
   "name": "python3"
  },
  "language_info": {
   "name": "python",
   "version": "3.9.6"
  }
 },
 "nbformat": 4,
 "nbformat_minor": 2
}
