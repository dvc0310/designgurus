{
 "cells": [
  {
   "cell_type": "code",
   "execution_count": 1,
   "metadata": {},
   "outputs": [],
   "source": [
    "class Solution:\n",
    "    def decimalToBinary(self, num):\n",
    "        stack = []  # Create an empty stack to hold binary digits.\n",
    "        while num > 0:  # Continue the loop until num becomes 0.\n",
    "            stack.append(num % 2)  # Push the remainder of num divided by 2 onto the stack.\n",
    "            num //= 2  # Update num by integer division (floor division) by 2.\n",
    "        return ''.join(str(i) for i in reversed(stack))  # Convert the stack to a binary string.\n"
   ]
  },
  {
   "cell_type": "code",
   "execution_count": null,
   "metadata": {},
   "outputs": [
    {
     "name": "stdout",
     "output_type": "stream",
     "text": [
      "10\n",
      "111\n",
      "10010\n"
     ]
    }
   ],
   "source": [
    "# Test cases\n",
    "sol = Solution()\n",
    "print(sol.decimalToBinary(2))    # Output: \"10\" (Binary representation of 2)\n",
    "print(sol.decimalToBinary(7))    # Output: \"111\" (Binary representation of 7)\n",
    "print(sol.decimalToBinary(18))   # Output: \"10010\" (Binary representation of 18)\n"
   ]
  }
 ],
 "metadata": {
  "kernelspec": {
   "display_name": "3.9.6",
   "language": "python",
   "name": "python3"
  },
  "language_info": {
   "codemirror_mode": {
    "name": "ipython",
    "version": 3
   },
   "file_extension": ".py",
   "mimetype": "text/x-python",
   "name": "python",
   "nbconvert_exporter": "python",
   "pygments_lexer": "ipython3",
   "version": "3.9.6"
  }
 },
 "nbformat": 4,
 "nbformat_minor": 2
}
