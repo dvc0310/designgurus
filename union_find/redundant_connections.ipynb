{
 "cells": [
  {
   "cell_type": "code",
   "execution_count": 9,
   "metadata": {},
   "outputs": [],
   "source": [
    "class UnionFind:\n",
    "    def __init__(self):\n",
    "        self.parent: dict[int, int] = {}  # Dictionary to store parent pointers\n",
    "        self.rank: dict[int, int] = {}    # Dictionary to store ranks\n",
    "\n",
    "    def add_element(self, element: int) -> None:\n",
    "        if element not in self.parent:\n",
    "            self.parent[element] = element  # Each new element is its own parent\n",
    "            self.rank[element] = 1         # Initialize rank to 1\n",
    "\n",
    "    def find(self, element: int) -> int:\n",
    "        self.add_element(element)\n",
    "        return self.find_helper(element)\n",
    "        \n",
    "    def find_helper(self, element: int) -> int:\n",
    "        if self.parent[element] != element:\n",
    "            self.parent[element] = self.find(self.parent[element])  # Path compression\n",
    "        return self.parent[element]\n",
    "    \n",
    "    def union(self, element1: int, element2: int) -> bool:\n",
    "        # Find roots of the elements\n",
    "        root1 = self.find(element1)\n",
    "        root2 = self.find(element2)\n",
    "\n",
    "        if root1 == root2:\n",
    "            return False  # They are already in the same set\n",
    "\n",
    "        # Union by rank\n",
    "        if self.rank[root1] < self.rank[root2]:\n",
    "            self.parent[root1] = root2\n",
    "        elif self.rank[root1] > self.rank[root2]:\n",
    "            self.parent[root2] = root1\n",
    "        else:\n",
    "            self.parent[root2] = root1\n",
    "            self.rank[root1] += 1\n",
    "\n",
    "        return True\n",
    "\n",
    "\n",
    "class Solution:\n",
    "    def findRedundantConnection(self, edges: list[list[int]]) -> list[list[int]]:\n",
    "        uf = UnionFind()\n",
    "        lst: list[list[int]] = []\n",
    "        for x, y in edges:\n",
    "            if not uf.union(x, y):  # If Union fails, the edge is redundant\n",
    "                lst.append([x, y])\n",
    "        return lst\n",
    "\n"
   ]
  },
  {
   "cell_type": "code",
   "execution_count": 10,
   "metadata": {},
   "outputs": [
    {
     "name": "stdout",
     "output_type": "stream",
     "text": [
      "Redundant Connections: [[4, 2]]\n"
     ]
    }
   ],
   "source": [
    "if __name__ == \"__main__\":\n",
    "    # List of edges\n",
    "    edges = [[1, 2], [2, 3], [3, 4], [4, 2], [5, 6]]\n",
    "\n",
    "    # Create a Solution instance and find redundant connections\n",
    "    solution = Solution()\n",
    "    redundant_edges = solution.findRedundantConnection(edges)\n",
    "\n",
    "    print(\"Redundant Connections:\", redundant_edges)\n",
    "\n"
   ]
  },
  {
   "cell_type": "code",
   "execution_count": 11,
   "metadata": {},
   "outputs": [],
   "source": [
    "def test_union_find():\n",
    "    uf = UnionFind()\n",
    "\n",
    "    # Test single element addition\n",
    "    uf.add_element(1)\n",
    "    assert uf.find(1) == 1, \"Single element find failed\"\n",
    "\n",
    "    # Test union and find\n",
    "    uf.union(1, 2)\n",
    "    assert uf.find(1) == uf.find(2), \"Union failed\"\n",
    "    \n",
    "    # Test rank and parent updates\n",
    "    assert uf.rank[uf.find(1)] == 2, \"Rank update failed\"\n",
    "    \n",
    "    # Test union with new elements\n",
    "    uf.union(3, 4)\n",
    "    uf.union(4, 5)\n",
    "    uf.union(1, 3)\n",
    "    assert uf.find(5) == uf.find(1), \"Union across sets failed\"\n",
    "\n",
    "    # Test adding disjoint elements\n",
    "    uf.add_element(6)\n",
    "    assert uf.find(6) == 6, \"Adding disjoint element failed\"\n",
    "\n",
    "    # Test redundant union\n",
    "    assert not uf.union(1, 5), \"Redundant union check failed\"\n",
    "    print(\"UnionFind tests passed.\")\n",
    "\n",
    "def test_solution():\n",
    "    solution = Solution()\n",
    "\n",
    "    # Test case 1: Single redundant connection\n",
    "    edges1 = [[1, 2], [2, 3], [3, 4], [4, 2], [5, 6]]\n",
    "    assert solution.findRedundantConnection(edges1) == [[4, 2]], \"Test case 1 failed\"\n",
    "\n",
    "    # Test case 2: Multiple redundant connections\n",
    "    edges2 = [[1, 2], [1, 3], [3, 4], [4, 5], [5, 1], [2, 6]]\n",
    "    assert solution.findRedundantConnection(edges2) == [[5, 1]], \"Test case 2 failed\"\n",
    "\n",
    "    # Test case 3: No redundant connections\n",
    "    edges3 = [[1, 2], [2, 3], [3, 4], [5, 6]]\n",
    "    assert solution.findRedundantConnection(edges3) == [], \"Test case 3 failed\"\n",
    "\n",
    "    # Test case 4: All nodes connected in a single cycle\n",
    "    edges4 = [[1, 2], [2, 3], [3, 4], [4, 5], [5, 6], [6, 1]]\n",
    "    assert solution.findRedundantConnection(edges4) == [[6, 1]], \"Test case 4 failed\"\n",
    "\n",
    "    # Test case 5: Larger graph with multiple redundant connections\n",
    "    edges5 = [[1, 2], [2, 3], [3, 4], [4, 5], [5, 6], [6, 7], [7, 8], [8, 1], [2, 8]]\n",
    "    assert solution.findRedundantConnection(edges5) == [[8, 1], [2, 8]], \"Test case 5 failed\"\n",
    "\n",
    "    print(\"Solution tests passed.\")\n"
   ]
  },
  {
   "cell_type": "code",
   "execution_count": 12,
   "metadata": {},
   "outputs": [
    {
     "name": "stdout",
     "output_type": "stream",
     "text": [
      "Running tests for UnionFind...\n",
      "UnionFind tests passed.\n",
      "Running tests for Solution...\n",
      "Solution tests passed.\n"
     ]
    }
   ],
   "source": [
    "if __name__ == \"__main__\":\n",
    "    print(\"Running tests for UnionFind...\")\n",
    "    test_union_find()\n",
    "\n",
    "    print(\"Running tests for Solution...\")\n",
    "    test_solution()\n"
   ]
  }
 ],
 "metadata": {
  "kernelspec": {
   "display_name": "3.9.6",
   "language": "python",
   "name": "python3"
  },
  "language_info": {
   "codemirror_mode": {
    "name": "ipython",
    "version": 3
   },
   "file_extension": ".py",
   "mimetype": "text/x-python",
   "name": "python",
   "nbconvert_exporter": "python",
   "pygments_lexer": "ipython3",
   "version": "3.9.6"
  }
 },
 "nbformat": 4,
 "nbformat_minor": 2
}
