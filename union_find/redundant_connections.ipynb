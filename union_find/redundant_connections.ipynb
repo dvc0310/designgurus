{
 "cells": [
  {
   "cell_type": "code",
   "execution_count": 86,
   "metadata": {},
   "outputs": [],
   "source": [
    "# Union-Find Data Structure\n",
    "class UnionFind:\n",
    "    def __init__(self, size):\n",
    "        # Initialize parent array and rank array\n",
    "        self.parent = [i for i in range(size)]  # Each element is its own parent\n",
    "        self.rank = [1] * size  # Rank is initially 1 for all elements\n",
    "\n",
    "    def find(self, x):\n",
    "        # Path compression to make the tree flat\n",
    "        if self.parent[x] != x:\n",
    "            self.parent[x] = self.find(self.parent[x])  # Recursive path compression\n",
    "        return self.parent[x]\n",
    "\n",
    "    def union(self, x, y):\n",
    "        # Union by rank\n",
    "        rootX = self.find(x)\n",
    "        rootY = self.find(y)\n",
    "\n",
    "        if rootX != rootY:\n",
    "            if self.rank[rootX] > self.rank[rootY]:\n",
    "                self.parent[rootY] = rootX\n",
    "            elif self.rank[rootX] < self.rank[rootY]:\n",
    "                self.parent[rootX] = rootY\n",
    "            else:\n",
    "                self.parent[rootY] = rootX\n",
    "                self.rank[rootX] += 1\n",
    "            return True  # Union was successful; no cycle\n",
    "        else:\n",
    "            return False  # Union failed; cycle detected\n",
    "\n",
    "# Solution Class with Corrected `findRedundantConnection` Method\n",
    "class Solution:\n",
    "    def findRedundantConnection(self, edges):\n",
    "        if not edges:\n",
    "            return []\n",
    "\n",
    "        # Determine the maximum node label to initialize Union-Find correctly\n",
    "        max_node = max(max(edge) for edge in edges)\n",
    "        uf = UnionFind(max_node + 1)  # Nodes are labeled from 1 to max_node\n",
    "\n",
    "        redundant_edge = []  # To store the last redundant edge\n",
    "\n",
    "        for edge in edges:\n",
    "            a, b = edge\n",
    "            if not uf.union(a, b):\n",
    "                # If union fails, this edge is redundant\n",
    "                redundant_edge = edge  # Update to the latest redundant edge\n",
    "\n",
    "        return redundant_edge\n",
    "\n"
   ]
  },
  {
   "cell_type": "code",
   "execution_count": 87,
   "metadata": {},
   "outputs": [
    {
     "name": "stdout",
     "output_type": "stream",
     "text": [
      "Redundant Connections: [1, 4]\n"
     ]
    }
   ],
   "source": [
    "if __name__ == \"__main__\":\n",
    "    # List of edges\n",
    "    edges = [[1,2], [1,3], [3,4], [1,4], [1,5]]\n",
    "\n",
    "    # Create a Solution instance and find redundant connections\n",
    "    solution = Solution()\n",
    "    redundant_edges = solution.findRedundantConnection(edges)\n",
    "\n",
    "    print(\"Redundant Connections:\", redundant_edges)\n",
    "\n"
   ]
  },
  {
   "cell_type": "code",
   "execution_count": 88,
   "metadata": {},
   "outputs": [
    {
     "name": "stdout",
     "output_type": "stream",
     "text": [
      "Test Case 1: Basic Example Passed: [1, 4]\n",
      "Test Case 2: Multiple Redundant Edges Passed: [2, 5]\n",
      "Test Case 3: Minimal Input Passed: [2, 3]\n",
      "Test Case 4: Redundant Edge is the Last Edge Passed: [3, 1]\n",
      "Test Case 5: Larger Graph Passed: [10, 5]\n",
      "Test Case 6: No Redundant Edge (Edge Case) Passed: []\n"
     ]
    }
   ],
   "source": [
    "# Test Case 1: Basic Example\n",
    "edges1 = [[1,2], [1,3], [3,4], [1,4], [1,5]]\n",
    "expected1 = [1,4]\n",
    "\n",
    "# Test Case 2: Multiple Redundant Edges (Return the last one)\n",
    "edges2 = [[1,2], [2,3], [3,4], [4,1], [1,5], [2,5]]\n",
    "expected2 = [2,5]\n",
    "\n",
    "# Test Case 3: Minimal Input\n",
    "edges3 = [[1,2], [1,3], [2,3]]\n",
    "expected3 = [2,3]\n",
    "\n",
    "# Test Case 4: Redundant Edge is the Last Edge\n",
    "edges4 = [[1,2], [2,3], [3,1]]\n",
    "expected4 = [3,1]\n",
    "\n",
    "# Test Case 5: Larger Graph\n",
    "edges5 = [\n",
    "    [1,2], [2,3], [3,4], [4,5], [5,6],\n",
    "    [6,3], [6,7], [7,8], [8,9], [9,10],\n",
    "    [10,5]\n",
    "]\n",
    "expected5 = [10,5]\n",
    "\n",
    "# Test Case 6: No Redundant Edge (Edge Case)\n",
    "# According to the problem statement, this shouldn't happen, but let's see the behavior\n",
    "edges6 = [[1,2], [2,3], [3,4], [4,5]]\n",
    "expected6 = []  # As per implementation\n",
    "\n",
    "# List of test cases\n",
    "test_cases = [\n",
    "    (edges1, expected1, \"Test Case 1: Basic Example\"),\n",
    "    (edges2, expected2, \"Test Case 2: Multiple Redundant Edges\"),\n",
    "    (edges3, expected3, \"Test Case 3: Minimal Input\"),\n",
    "    (edges4, expected4, \"Test Case 4: Redundant Edge is the Last Edge\"),\n",
    "    (edges5, expected5, \"Test Case 5: Larger Graph\"),\n",
    "    (edges6, expected6, \"Test Case 6: No Redundant Edge (Edge Case)\")\n",
    "]\n",
    "\n",
    "# Running the Test Cases\n",
    "for edges, expected, description in test_cases:\n",
    "    result = Solution().findRedundantConnection(edges)\n",
    "    assert result == expected, f\"{description} Failed: Expected {expected}, Got {result}\"\n",
    "    print(f\"{description} Passed: {result}\")\n"
   ]
  },
  {
   "cell_type": "code",
   "execution_count": 89,
   "metadata": {},
   "outputs": [],
   "source": [
    "def jump(nums):\n",
    "    farthest = 0\n",
    "    jumps = 0\n",
    "    current = 0\n",
    "    if len(nums) <= 1:\n",
    "        return 0\n",
    "    for i in range(len(nums)):\n",
    "        if nums[i] + i > farthest:\n",
    "            farthest = nums[i] + i \n",
    "        if i == current:\n",
    "            if current == farthest:\n",
    "                return -1\n",
    "            jumps += 1\n",
    "            current = farthest\n",
    "        \n",
    "        if current >= len(nums) - 1:\n",
    "            break\n",
    "        \n",
    "    return jumps if current >= len(nums) - 1 else -1            \n"
   ]
  },
  {
   "cell_type": "code",
   "execution_count": 90,
   "metadata": {},
   "outputs": [
    {
     "name": "stdout",
     "output_type": "stream",
     "text": [
      "Test Case 1: Passed\n",
      "Test Case 2: Passed\n",
      "Test Case 3: Passed\n",
      "Test Case 4: Passed\n",
      "Test Case 5: Passed\n",
      "Test Case 6: Passed\n",
      "Test Case 7: Passed\n",
      "Test Case 8: Passed\n",
      "Test Case 9: Passed\n"
     ]
    }
   ],
   "source": [
    "# Test Cases\n",
    "test_cases = [\n",
    "    # Basic case\n",
    "    ([2, 3, 1, 1, 4], 2),  # Explanation: Jump from index 0 -> 1 -> 4.\n",
    "\n",
    "    # Case with uniform small jumps\n",
    "    ([1, 1, 1, 1], 3),  # Explanation: Jump 1 step at a time, requiring 3 jumps.\n",
    "\n",
    "    # Case with a large jump early\n",
    "    ([10, 1, 1, 1, 1], 1),  # Explanation: One jump from index 0 to the end.\n",
    "\n",
    "    # Case with a zero that can still be passed\n",
    "    ([2, 3, 0, 1, 4], 2),  # Explanation: Jump from index 0 -> 1 -> 4.\n",
    "\n",
    "    # Minimum input size\n",
    "    ([0], 0),  # Explanation: Already at the last index, no jumps needed.\n",
    "\n",
    "    # Case where all elements are the same\n",
    "    ([3, 3, 3, 3, 3], 2),  # Explanation: Jump from index 0 -> 3 -> end.\n",
    "\n",
    "    # Larger case with multiple possible paths\n",
    "    ([2, 3, 1, 1, 2, 4, 2, 0, 1], 4),  # Explanation: 0 -> 1 -> 4 -> 5 -> end.\n",
    "\n",
    "    # Edge case with long input\n",
    "    ([1] * 100, 99),  # Explanation: Requires 99 jumps for 100 steps.\n",
    "\n",
    "    # Case where the optimal jump skips over multiple indices\n",
    "    ([3, 4, 2, 1, 1, 0, 5], -1),  # Explanation: 0 -> 1 -> 6.\n",
    "]\n",
    "\n",
    "# Helper function to test the solution\n",
    "def run_tests(jump_function):\n",
    "    for i, (nums, expected) in enumerate(test_cases):\n",
    "        result = jump_function(nums)\n",
    "        print(f\"Test Case {i + 1}: {'Passed' if result == expected else 'Failed'}\")\n",
    "        if result != expected:\n",
    "            print(f\"  Input: {nums}\")\n",
    "            print(f\"  Expected: {expected}, Got: {result}\")\n",
    "\n",
    "# Run the tests\n",
    "run_tests(jump)"
   ]
  },
  {
   "cell_type": "code",
   "execution_count": 91,
   "metadata": {},
   "outputs": [
    {
     "data": {
      "text/plain": [
       "2"
      ]
     },
     "execution_count": 91,
     "metadata": {},
     "output_type": "execute_result"
    }
   ],
   "source": [
    "nums = [2,3,1,1,4]\n",
    "jump(nums)"
   ]
  },
  {
   "cell_type": "code",
   "execution_count": 92,
   "metadata": {},
   "outputs": [
    {
     "data": {
      "text/plain": [
       "2"
      ]
     },
     "execution_count": 92,
     "metadata": {},
     "output_type": "execute_result"
    }
   ],
   "source": [
    "nums = [2,3,0,1,4]\n",
    "jump(nums)"
   ]
  }
 ],
 "metadata": {
  "kernelspec": {
   "display_name": "3.9.6",
   "language": "python",
   "name": "python3"
  },
  "language_info": {
   "codemirror_mode": {
    "name": "ipython",
    "version": 3
   },
   "file_extension": ".py",
   "mimetype": "text/x-python",
   "name": "python",
   "nbconvert_exporter": "python",
   "pygments_lexer": "ipython3",
   "version": "3.9.6"
  }
 },
 "nbformat": 4,
 "nbformat_minor": 2
}
