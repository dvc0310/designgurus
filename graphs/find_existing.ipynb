{
 "cells": [
  {
   "cell_type": "code",
   "execution_count": null,
   "metadata": {},
   "outputs": [],
   "source": [
    "from collections import defaultdict\n",
    "from graph import create_graph\n",
    "\n",
    "class Solution:\n",
    "    def validPath(self, n: int, edges: list[int], start: int, end: int) -> bool:\n",
    "        # ToDo: Write Your Code Here.\n",
    "        graph = self.create_graph(edges, n)\n",
    "        visited = {key: False for key in range(n)}\n",
    "        stack = [start]\n",
    "        while stack:\n",
    "            vertex = stack.pop()\n",
    "            visited[vertex] = True\n",
    "            if vertex == end:\n",
    "                return True\n",
    "\n",
    "            neighbors = graph[vertex]\n",
    "            \n",
    "            for neighbor in neighbors:\n",
    "                if not visited[neighbor]:\n",
    "                    stack.append(neighbor)\n",
    "\n",
    "        return False\n",
    "    \n",
    "    def create_graph(self, edges, n):\n",
    "        graph = {key:[] for key in range(n)}\n",
    "\n",
    "        for u, v in edges:\n",
    "            graph[u].append(v)\n",
    "            graph[v].append(u)  # If the graph is undirected, include this line. Omit if it's directed.\n",
    "        return graph\n",
    "\n",
    "sol = Solution()"
   ]
  },
  {
   "cell_type": "code",
   "execution_count": 18,
   "metadata": {},
   "outputs": [
    {
     "data": {
      "text/plain": [
       "{0: [1], 1: [0, 2], 2: [1, 3], 3: [2]}"
      ]
     },
     "execution_count": 18,
     "metadata": {},
     "output_type": "execute_result"
    }
   ],
   "source": [
    "n = 4\n",
    "edges = [[0,1],[1,2],[2,3]]\n",
    "start = 0\n",
    "end = 3\n",
    "sol.create_graph(edges, n)"
   ]
  },
  {
   "cell_type": "code",
   "execution_count": 21,
   "metadata": {},
   "outputs": [
    {
     "data": {
      "text/plain": [
       "True"
      ]
     },
     "execution_count": 21,
     "metadata": {},
     "output_type": "execute_result"
    }
   ],
   "source": [
    "sol.validPath(4, edges, start, end)"
   ]
  }
 ],
 "metadata": {
  "kernelspec": {
   "display_name": "3.9.6",
   "language": "python",
   "name": "python3"
  },
  "language_info": {
   "codemirror_mode": {
    "name": "ipython",
    "version": 3
   },
   "file_extension": ".py",
   "mimetype": "text/x-python",
   "name": "python",
   "nbconvert_exporter": "python",
   "pygments_lexer": "ipython3",
   "version": "3.9.6"
  }
 },
 "nbformat": 4,
 "nbformat_minor": 2
}
