{
 "cells": [
  {
   "cell_type": "code",
   "execution_count": 1,
   "metadata": {},
   "outputs": [],
   "source": [
    "class Solution:\n",
    "  def findMissingNumber(self, arr):\n",
    "    n = len(arr) + 1\n",
    "    # find sum of all numbers from 1 to n.\n",
    "    s1 = 0\n",
    "    for i in range (1, n+1):\n",
    "      s1 += i\n",
    "\n",
    "    # subtract all numbers in input from sum.\n",
    "    for i in arr:\n",
    "      s1 -= i\n",
    "    \n",
    "    # s1, now, is the missing number\n",
    "    return s1"
   ]
  },
  {
   "cell_type": "code",
   "execution_count": 2,
   "metadata": {},
   "outputs": [
    {
     "name": "stdout",
     "output_type": "stream",
     "text": [
      "Missing number is:3\n"
     ]
    }
   ],
   "source": [
    "def main():\n",
    "  sol = Solution()\n",
    "  arr = [1, 5, 2, 6, 4] \n",
    "  print('Missing number is:' + str(sol.findMissingNumber(arr)))\n",
    "\n",
    "main()"
   ]
  },
  {
   "cell_type": "code",
   "execution_count": 9,
   "metadata": {},
   "outputs": [],
   "source": [
    "class Solution:\n",
    "    def findMissingNumber(self, arr):\n",
    "        n = len(arr) + 1\n",
    "        expected_numbers = list(range(1, n + 1))\n",
    "        print(f\"### Expected Numbers: {expected_numbers}\\n\")\n",
    "        \n",
    "        # x1 represents XOR of all values from 1 to n\n",
    "        x1 = 1\n",
    "        print(f\"Step 1: Initialize x1 with the first number from expected_numbers:\")\n",
    "        print(f\"    x1 = 1 (binary: {bin(x1)})\\n\")\n",
    "        \n",
    "        for i in range(2, n + 1):\n",
    "            print(f\"Step {i}: XOR current x1 with {i}\")\n",
    "            print(f\"    Current x1: {x1} (binary: {bin(x1)})\")\n",
    "            print(f\"    Number to XOR: {i} (binary: {bin(i)})\")\n",
    "            x1_before = x1\n",
    "            x1 = x1 ^ i\n",
    "            print(f\"    x1 after XOR: {x1_before} ^ {i} = {x1} (binary: {bin(x1)})\\n\")\n",
    "        \n",
    "        print(f\"Final x1 (XOR of all expected numbers): {x1} (binary: {bin(x1)})\\n\")\n",
    "        \n",
    "        # x2 represents XOR of all values in arr\n",
    "        x2 = arr[0]\n",
    "        print(f\"Step 1: Initialize x2 with the first element of the array:\")\n",
    "        print(f\"    x2 = {arr[0]} (binary: {bin(x2)})\\n\")\n",
    "        \n",
    "        for i in range(1, len(arr)):\n",
    "            print(f\"Step {i + 1}: XOR current x2 with arr[{i}] = {arr[i]}\")\n",
    "            print(f\"    Current x2: {x2} (binary: {bin(x2)})\")\n",
    "            print(f\"    Number to XOR: {arr[i]} (binary: {bin(arr[i])})\")\n",
    "            x2_before = x2\n",
    "            x2 = x2 ^ arr[i]\n",
    "            print(f\"    x2 after XOR: {x2_before} ^ {arr[i]} = {x2} (binary: {bin(x2)})\\n\")\n",
    "        \n",
    "        print(f\"Final x2 (XOR of all array elements): {x2} (binary: {bin(x2)})\\n\")\n",
    "        \n",
    "        # missing number is the xor of x1 and x2\n",
    "        print(f\"Step Final: XOR x1 and x2 to find the missing number\")\n",
    "        print(f\"    x1: {x1} (binary: {bin(x1)})\")\n",
    "        print(f\"    x2: {x2} (binary: {bin(x2)})\")\n",
    "        missing_number = x1 ^ x2\n",
    "        print(f\"    Missing Number = x1 ^ x2 = {x1} ^ {x2} = {missing_number} (binary: {bin(missing_number)})\\n\")\n",
    "        \n",
    "        return missing_number"
   ]
  },
  {
   "cell_type": "code",
   "execution_count": 10,
   "metadata": {},
   "outputs": [
    {
     "name": "stdout",
     "output_type": "stream",
     "text": [
      "### Expected Numbers: [1, 2, 3, 4, 5, 6]\n",
      "\n",
      "Step 1: Initialize x1 with the first number from expected_numbers:\n",
      "    x1 = 1 (binary: 0b1)\n",
      "\n",
      "Step 2: XOR current x1 with 2\n",
      "    Current x1: 1 (binary: 0b1)\n",
      "    Number to XOR: 2 (binary: 0b10)\n",
      "    x1 after XOR: 1 ^ 2 = 3 (binary: 0b11)\n",
      "\n",
      "Step 3: XOR current x1 with 3\n",
      "    Current x1: 3 (binary: 0b11)\n",
      "    Number to XOR: 3 (binary: 0b11)\n",
      "    x1 after XOR: 3 ^ 3 = 0 (binary: 0b0)\n",
      "\n",
      "Step 4: XOR current x1 with 4\n",
      "    Current x1: 0 (binary: 0b0)\n",
      "    Number to XOR: 4 (binary: 0b100)\n",
      "    x1 after XOR: 0 ^ 4 = 4 (binary: 0b100)\n",
      "\n",
      "Step 5: XOR current x1 with 5\n",
      "    Current x1: 4 (binary: 0b100)\n",
      "    Number to XOR: 5 (binary: 0b101)\n",
      "    x1 after XOR: 4 ^ 5 = 1 (binary: 0b1)\n",
      "\n",
      "Step 6: XOR current x1 with 6\n",
      "    Current x1: 1 (binary: 0b1)\n",
      "    Number to XOR: 6 (binary: 0b110)\n",
      "    x1 after XOR: 1 ^ 6 = 7 (binary: 0b111)\n",
      "\n",
      "Final x1 (XOR of all expected numbers): 7 (binary: 0b111)\n",
      "\n",
      "Step 1: Initialize x2 with the first element of the array:\n",
      "    x2 = 1 (binary: 0b1)\n",
      "\n",
      "Step 2: XOR current x2 with arr[1] = 5\n",
      "    Current x2: 1 (binary: 0b1)\n",
      "    Number to XOR: 5 (binary: 0b101)\n",
      "    x2 after XOR: 1 ^ 5 = 4 (binary: 0b100)\n",
      "\n",
      "Step 3: XOR current x2 with arr[2] = 2\n",
      "    Current x2: 4 (binary: 0b100)\n",
      "    Number to XOR: 2 (binary: 0b10)\n",
      "    x2 after XOR: 4 ^ 2 = 6 (binary: 0b110)\n",
      "\n",
      "Step 4: XOR current x2 with arr[3] = 6\n",
      "    Current x2: 6 (binary: 0b110)\n",
      "    Number to XOR: 6 (binary: 0b110)\n",
      "    x2 after XOR: 6 ^ 6 = 0 (binary: 0b0)\n",
      "\n",
      "Step 5: XOR current x2 with arr[4] = 4\n",
      "    Current x2: 0 (binary: 0b0)\n",
      "    Number to XOR: 4 (binary: 0b100)\n",
      "    x2 after XOR: 0 ^ 4 = 4 (binary: 0b100)\n",
      "\n",
      "Final x2 (XOR of all array elements): 4 (binary: 0b100)\n",
      "\n",
      "Step Final: XOR x1 and x2 to find the missing number\n",
      "    x1: 7 (binary: 0b111)\n",
      "    x2: 4 (binary: 0b100)\n",
      "    Missing Number = x1 ^ x2 = 7 ^ 4 = 3 (binary: 0b11)\n",
      "\n",
      "Missing number is: 3\n"
     ]
    }
   ],
   "source": [
    "def main():\n",
    "    sol = Solution()\n",
    "    arr = [1, 5, 2, 6, 4] \n",
    "    print('Missing number is: ' + str(sol.findMissingNumber(arr)))\n",
    "\n",
    "main()\n"
   ]
  }
 ],
 "metadata": {
  "kernelspec": {
   "display_name": "Python 3",
   "language": "python",
   "name": "python3"
  },
  "language_info": {
   "codemirror_mode": {
    "name": "ipython",
    "version": 3
   },
   "file_extension": ".py",
   "mimetype": "text/x-python",
   "name": "python",
   "nbconvert_exporter": "python",
   "pygments_lexer": "ipython3",
   "version": "3.9.6"
  }
 },
 "nbformat": 4,
 "nbformat_minor": 2
}
