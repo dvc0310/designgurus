{
 "cells": [
  {
   "cell_type": "code",
   "execution_count": 39,
   "metadata": {},
   "outputs": [],
   "source": [
    "class Solution:\n",
    "  def findSingleNumbers(self, nums):\n",
    "      # get the XOR of the all the numbers\n",
    "      n1xn2 = 0\n",
    "      for num in nums:\n",
    "          n1xn2 ^= num\n",
    "\n",
    "      # get the rightmost bit that is '1'\n",
    "      rightmost_set_bit = 1\n",
    "      while (rightmost_set_bit & n1xn2) == 0:\n",
    "          rightmost_set_bit = rightmost_set_bit << 1\n",
    "      num1, num2 = 0, 0\n",
    "\n",
    "      for num in nums:\n",
    "          if (num & rightmost_set_bit) != 0:  # the bit is set\n",
    "              num1 ^= num\n",
    "          else:  # the bit is not set\n",
    "              num2 ^= num\n",
    "\n",
    "      return [num1, num2]"
   ]
  },
  {
   "cell_type": "code",
   "execution_count": 41,
   "metadata": {},
   "outputs": [
    {
     "name": "stdout",
     "output_type": "stream",
     "text": [
      "Single numbers are:[6, 4]\n",
      "Single numbers are:[3, 1]\n"
     ]
    }
   ],
   "source": [
    "def main():\n",
    "  sol = Solution()\n",
    "  print('Single numbers are:' +\n",
    "        str(sol.findSingleNumbers([1, 4, 2, 1, 3, 5, 6, 2, 3, 5])))\n",
    "  print('Single numbers are:' + str(sol.findSingleNumbers([2, 1, 3, 2])))\n",
    "\n",
    "\n",
    "main()"
   ]
  }
 ],
 "metadata": {
  "kernelspec": {
   "display_name": "3.9.6",
   "language": "python",
   "name": "python3"
  },
  "language_info": {
   "codemirror_mode": {
    "name": "ipython",
    "version": 3
   },
   "file_extension": ".py",
   "mimetype": "text/x-python",
   "name": "python",
   "nbconvert_exporter": "python",
   "pygments_lexer": "ipython3",
   "version": "3.9.6"
  }
 },
 "nbformat": 4,
 "nbformat_minor": 2
}
