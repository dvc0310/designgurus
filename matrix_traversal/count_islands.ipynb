{
 "cells": [
  {
   "cell_type": "code",
   "execution_count": null,
   "metadata": {},
   "outputs": [],
   "source": [
    "class Solution:\n",
    "    def neighbors(self, row, col, maze):\n",
    "        lst = []\n",
    "        directions = [(0, 1), (0, -1), (1, 0), (-1, 0)] \n",
    "\n",
    "        for dr, dc in directions:\n",
    "            new_row, new_col = row + dr, col + dc\n",
    "            if 0 <= new_row < len(maze) and \\\n",
    "               0 <= new_col < len(maze[0]) and \\\n",
    "               maze[new_row][new_col] != 0:\n",
    "                lst.append((new_row, new_col))  # Use tuples for consistency\n",
    "        return lst\n",
    "\n",
    "    def countIslands(self, matrix):\n",
    "        if not matrix or not matrix[0]:\n",
    "            return 0  # Handle empty matrix\n",
    "\n",
    "        totalIslands = 0\n",
    "        rows, cols = len(matrix), len(matrix[0])\n",
    "        visited = set()  # Use a set to track visited indices\n",
    "        \n",
    "        def dfs(r, c):\n",
    "            stack = [(r, c)]\n",
    "            visited.add((r, c))  # Mark as visited when adding to the stack\n",
    "            while stack:\n",
    "                row, col = stack.pop()\n",
    "                for neighbor in self.neighbors(row, col, matrix):\n",
    "                    if neighbor not in visited:\n",
    "                        visited.add(neighbor)  # Mark as visited when adding to the stack\n",
    "                        stack.append(neighbor)\n",
    "\n",
    "        for i in range(rows):\n",
    "            for j in range(cols):\n",
    "                # If the cell is land and not visited, it's part of a new island\n",
    "                if (i, j) not in visited and matrix[i][j] != 0:\n",
    "                    dfs(i, j)\n",
    "                    totalIslands += 1  # Increment island count\n",
    "\n",
    "        return totalIslands\n"
   ]
  }
 ],
 "metadata": {
  "kernelspec": {
   "display_name": "3.9.6",
   "language": "python",
   "name": "python3"
  },
  "language_info": {
   "name": "python",
   "version": "3.9.6"
  }
 },
 "nbformat": 4,
 "nbformat_minor": 2
}
