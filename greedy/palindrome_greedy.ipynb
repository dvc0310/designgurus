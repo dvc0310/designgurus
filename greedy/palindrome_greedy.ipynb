{
 "cells": [
  {
   "cell_type": "code",
   "execution_count": 1,
   "metadata": {},
   "outputs": [],
   "source": [
    "class Solution:\n",
    "    def isPalindromePossible(self, s: str) -> bool:\n",
    "        # ToDo: Write Your Code Here.\n",
    "        deleted = False\n",
    "        l = 0\n",
    "        r = len(s) - 1\n",
    "        \n",
    "        while l <= r:\n",
    "            if s[r] == s[l]:\n",
    "                l += 1\n",
    "                r -= 1\n",
    "            else:\n",
    "                if not deleted:\n",
    "                    if s[r - 1] == s[l]:\n",
    "                        r -= 1\n",
    "                    elif s[l + 1] == s[r]:\n",
    "                        l += 1\n",
    "                    deleted = True\n",
    "                else: \n",
    "                    return False\n",
    "                \n",
    "                \n",
    "        return True\n",
    "\n"
   ]
  },
  {
   "cell_type": "code",
   "execution_count": 2,
   "metadata": {},
   "outputs": [
    {
     "data": {
      "text/plain": [
       "True"
      ]
     },
     "execution_count": 2,
     "metadata": {},
     "output_type": "execute_result"
    }
   ],
   "source": [
    "s = \"racecar\"\n",
    "Solution().isPalindromePossible(s)"
   ]
  },
  {
   "cell_type": "code",
   "execution_count": 3,
   "metadata": {},
   "outputs": [
    {
     "data": {
      "text/plain": [
       "True"
      ]
     },
     "execution_count": 3,
     "metadata": {},
     "output_type": "execute_result"
    }
   ],
   "source": [
    "s = \"abccdba\"\n",
    "Solution().isPalindromePossible(s)"
   ]
  },
  {
   "cell_type": "code",
   "execution_count": 5,
   "metadata": {},
   "outputs": [
    {
     "data": {
      "text/plain": [
       "False"
      ]
     },
     "execution_count": 5,
     "metadata": {},
     "output_type": "execute_result"
    }
   ],
   "source": [
    "s = \"abcdef\"\n",
    "Solution().isPalindromePossible(s)"
   ]
  }
 ],
 "metadata": {
  "kernelspec": {
   "display_name": "3.9.6",
   "language": "python",
   "name": "python3"
  },
  "language_info": {
   "codemirror_mode": {
    "name": "ipython",
    "version": 3
   },
   "file_extension": ".py",
   "mimetype": "text/x-python",
   "name": "python",
   "nbconvert_exporter": "python",
   "pygments_lexer": "ipython3",
   "version": "3.9.6"
  }
 },
 "nbformat": 4,
 "nbformat_minor": 2
}
