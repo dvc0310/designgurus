{
 "cells": [
  {
   "cell_type": "code",
   "execution_count": 28,
   "metadata": {},
   "outputs": [],
   "source": [
    "from collections import Counter, deque\n",
    "\n",
    "def count_characters(s):\n",
    "    counts = Counter(s)\n",
    "    sorted_counts = sorted(counts.items(), key=lambda x: x[0], reverse=True)\n",
    "    return sorted_counts\n",
    "\n",
    "class Solution:\n",
    "    def largestPalindromic(self, num: str) -> str:\n",
    "        # ToDo: Write Your Code Here.\n",
    "        counter = count_characters(num)\n",
    "        left = deque()\n",
    "        right = deque()\n",
    "        \n",
    "        possible_middle = ''\n",
    "        \n",
    "        for num, count in counter:\n",
    "            if count >= 2:\n",
    "                left_count = count // 2\n",
    "                right_count = count // 2\n",
    "                if count % 2 != 0:\n",
    "                    possible_middle = max(possible_middle, num)\n",
    "                while left_count > 0:\n",
    "                    left.append(num)\n",
    "                    left_count -= 1\n",
    "                while right_count > 0:\n",
    "                    right.appendleft(num)\n",
    "                    right_count -= 1 \n",
    "            elif count == 1:\n",
    "                possible_middle = max(possible_middle, num)\n",
    "        \n",
    "        while left and left[0] == '0':\n",
    "            left.pop()\n",
    "            right.popleft()\n",
    "        \n",
    "        if possible_middle:\n",
    "            left.append(possible_middle)\n",
    "        left.extend(right)\n",
    "        \n",
    "        return ''.join(left) if left else '0'\n",
    "\n"
   ]
  },
  {
   "cell_type": "code",
   "execution_count": 29,
   "metadata": {},
   "outputs": [
    {
     "data": {
      "text/plain": [
       "'432141234'"
      ]
     },
     "execution_count": 29,
     "metadata": {},
     "output_type": "execute_result"
    }
   ],
   "source": [
    "num = \"323211444\"\n",
    "Solution().largestPalindromic(num)"
   ]
  },
  {
   "cell_type": "code",
   "execution_count": 30,
   "metadata": {},
   "outputs": [
    {
     "data": {
      "text/plain": [
       "'5'"
      ]
     },
     "execution_count": 30,
     "metadata": {},
     "output_type": "execute_result"
    }
   ],
   "source": [
    "num = \"54321\"\n",
    "Solution().largestPalindromic(num)"
   ]
  },
  {
   "cell_type": "code",
   "execution_count": 31,
   "metadata": {},
   "outputs": [
    {
     "data": {
      "text/plain": [
       "'151'"
      ]
     },
     "execution_count": 31,
     "metadata": {},
     "output_type": "execute_result"
    }
   ],
   "source": [
    "num = \"543211\"\n",
    "Solution().largestPalindromic(num)"
   ]
  },
  {
   "cell_type": "code",
   "execution_count": 32,
   "metadata": {},
   "outputs": [
    {
     "data": {
      "text/plain": [
       "'987789'"
      ]
     },
     "execution_count": 32,
     "metadata": {},
     "output_type": "execute_result"
    }
   ],
   "source": [
    "num = \"998877\"\n",
    "Solution().largestPalindromic(num)"
   ]
  },
  {
   "cell_type": "code",
   "execution_count": 33,
   "metadata": {},
   "outputs": [
    {
     "data": {
      "text/plain": [
       "'9'"
      ]
     },
     "execution_count": 33,
     "metadata": {},
     "output_type": "execute_result"
    }
   ],
   "source": [
    "num = \"98\"\n",
    "Solution().largestPalindromic(num)"
   ]
  },
  {
   "cell_type": "code",
   "execution_count": 34,
   "metadata": {},
   "outputs": [
    {
     "data": {
      "text/plain": [
       "'8'"
      ]
     },
     "execution_count": 34,
     "metadata": {},
     "output_type": "execute_result"
    }
   ],
   "source": [
    "num = \"8\"\n",
    "Solution().largestPalindromic(num)"
   ]
  },
  {
   "cell_type": "code",
   "execution_count": 35,
   "metadata": {},
   "outputs": [
    {
     "data": {
      "text/plain": [
       "'0'"
      ]
     },
     "execution_count": 35,
     "metadata": {},
     "output_type": "execute_result"
    }
   ],
   "source": [
    "num = \"0000000\"\n",
    "Solution().largestPalindromic(num)"
   ]
  },
  {
   "cell_type": "code",
   "execution_count": 36,
   "metadata": {},
   "outputs": [
    {
     "data": {
      "text/plain": [
       "'10000800001'"
      ]
     },
     "execution_count": 36,
     "metadata": {},
     "output_type": "execute_result"
    }
   ],
   "source": [
    "num = \"08000000011\"\n",
    "Solution().largestPalindromic(num)"
   ]
  }
 ],
 "metadata": {
  "kernelspec": {
   "display_name": "3.9.6",
   "language": "python",
   "name": "python3"
  },
  "language_info": {
   "codemirror_mode": {
    "name": "ipython",
    "version": 3
   },
   "file_extension": ".py",
   "mimetype": "text/x-python",
   "name": "python",
   "nbconvert_exporter": "python",
   "pygments_lexer": "ipython3",
   "version": "3.9.6"
  }
 },
 "nbformat": 4,
 "nbformat_minor": 2
}
