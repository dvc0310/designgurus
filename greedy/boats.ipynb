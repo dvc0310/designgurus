{
 "cells": [
  {
   "cell_type": "code",
   "execution_count": 5,
   "metadata": {},
   "outputs": [],
   "source": [
    "class Solution:\n",
    "    def numRescueBoats(self, people, limit):\n",
    "        people.sort()\n",
    "        l = 0\n",
    "        r = len(people) - 1\n",
    "        lst = []\n",
    "        while l < r:\n",
    "            if people[l] + people[r] <= limit:\n",
    "                lst.append([people[l], people[r]])\n",
    "                l += 1\n",
    "                r -= 1\n",
    "            else:\n",
    "                if people[r] <= 100:\n",
    "                    lst.append([people[r]])\n",
    "                    r -= 1\n",
    "            if l == r:\n",
    "                lst.append([people[r]])\n",
    "        return lst"
   ]
  },
  {
   "cell_type": "code",
   "execution_count": 6,
   "metadata": {},
   "outputs": [
    {
     "data": {
      "text/plain": [
       "[[10, 90], [85], [20, 70], [55]]"
      ]
     },
     "execution_count": 6,
     "metadata": {},
     "output_type": "execute_result"
    }
   ],
   "source": [
    "people = [10, 55, 70, 20, 90, 85]\n",
    "limit = 100\n",
    "\n",
    "Solution().numRescueBoats(people, limit)"
   ]
  },
  {
   "cell_type": "code",
   "execution_count": null,
   "metadata": {},
   "outputs": [],
   "source": [
    "class Solution:\n",
    "    def removeDuplicateLetters(self, s: str) -> str:\n",
    "        # Count the frequency of each character\n",
    "        count = {char: s.count(char) for char in set(s)}\n",
    "        candidate_set = set()\n",
    "        result = []\n",
    "        for char in s:\n",
    "            if char not in candidate_set:\n",
    "                self.feasability_function(char, result, count, candidate_set)\n",
    "                self.selection_function(result, char, candidate_set)\n",
    "            count[char] -= 1\n",
    "            \n",
    "        return ''.join(result)\n",
    "    \n",
    "    def feasability_check(self, char, result, count):\n",
    "        not_empty = True if result else False\n",
    "        not_ordered = char < result[-1] if not_empty else False\n",
    "        count_greater_than_zero = count[result[-1]] > 0 if not_empty else False\n",
    "        return not_empty, not_ordered, count_greater_than_zero\n",
    "    \n",
    "    def feasability_function(self, char, result, count, candidate_set):\n",
    "        not_empty, not_ordered, count_greater_than_zero = self.feasability_check(char, result,count)\n",
    "        while not_empty and not_ordered and count_greater_than_zero:\n",
    "            candidate_set.remove(result.pop())\n",
    "            \n",
    "    def selection_function(self, result, char, candidate_set):\n",
    "        result.append(char)\n",
    "        candidate_set.add(char)"
   ]
  },
  {
   "cell_type": "code",
   "execution_count": null,
   "metadata": {},
   "outputs": [],
   "source": [
    "class Solution:\n",
    "    def minAddToMakeValid(self, S: str) -> int:\n",
    "        balance, counter = 0, 0\n",
    "        for char in S:\n",
    "            if char == '(':\n",
    "                balance += 1\n",
    "            else:\n",
    "                balance -= 1\n",
    "                \n",
    "            if balance == -1:\n",
    "                counter += 1  \n",
    "                balance += 1 \n",
    "        return counter + balance  "
   ]
  }
 ],
 "metadata": {
  "kernelspec": {
   "display_name": "Python 3",
   "language": "python",
   "name": "python3"
  },
  "language_info": {
   "codemirror_mode": {
    "name": "ipython",
    "version": 3
   },
   "file_extension": ".py",
   "mimetype": "text/x-python",
   "name": "python",
   "nbconvert_exporter": "python",
   "pygments_lexer": "ipython3",
   "version": "3.9.6"
  }
 },
 "nbformat": 4,
 "nbformat_minor": 2
}
