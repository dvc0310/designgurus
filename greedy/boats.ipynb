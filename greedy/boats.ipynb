{
 "cells": [
  {
   "cell_type": "code",
   "execution_count": 5,
   "metadata": {},
   "outputs": [],
   "source": [
    "class Solution:\n",
    "    def numRescueBoats(self, people, limit):\n",
    "        people.sort()\n",
    "        l = 0\n",
    "        r = len(people) - 1\n",
    "        lst = []\n",
    "        while l < r:\n",
    "            if people[l] + people[r] <= limit:\n",
    "                lst.append([people[l], people[r]])\n",
    "                l += 1\n",
    "                r -= 1\n",
    "            else:\n",
    "                if people[r] <= 100:\n",
    "                    lst.append([people[r]])\n",
    "                    r -= 1\n",
    "            if l == r:\n",
    "                lst.append([people[r]])\n",
    "        return lst"
   ]
  },
  {
   "cell_type": "code",
   "execution_count": 6,
   "metadata": {},
   "outputs": [
    {
     "data": {
      "text/plain": [
       "[[10, 90], [85], [20, 70], [55]]"
      ]
     },
     "execution_count": 6,
     "metadata": {},
     "output_type": "execute_result"
    }
   ],
   "source": [
    "people = [10, 55, 70, 20, 90, 85]\n",
    "limit = 100\n",
    "\n",
    "Solution().numRescueBoats(people, limit)"
   ]
  }
 ],
 "metadata": {
  "kernelspec": {
   "display_name": "Python 3",
   "language": "python",
   "name": "python3"
  },
  "language_info": {
   "codemirror_mode": {
    "name": "ipython",
    "version": 3
   },
   "file_extension": ".py",
   "mimetype": "text/x-python",
   "name": "python",
   "nbconvert_exporter": "python",
   "pygments_lexer": "ipython3",
   "version": "3.9.6"
  }
 },
 "nbformat": 4,
 "nbformat_minor": 2
}
