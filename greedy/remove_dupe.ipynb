{
 "cells": [
  {
   "cell_type": "code",
   "execution_count": 2,
   "metadata": {},
   "outputs": [],
   "source": [
    "class Solution:\n",
    "    def removeDuplicateLetters(self, s: str) -> str:\n",
    "        count = self.initialize_count(s)\n",
    "        candidate_set = set()\n",
    "        result = []\n",
    "        for char in s:\n",
    "            if self.is_feasible(char, candidate_set):\n",
    "                self.objective_function(char, result, candidate_set, count)\n",
    "                self.selection_function(result, char, candidate_set)\n",
    "            count[char] -= 1\n",
    "        return self.solution_function(result)\n",
    "    \n",
    "    def initialize_count(self, s: str) -> dict:\n",
    "        \"\"\"Initialize the count of each character in the string.\"\"\"\n",
    "        return {char: s.count(char) for char in set(s)}\n",
    "    \n",
    "    def is_feasible(self, char: str, candidate_set: set) -> bool:\n",
    "        \"\"\"Feasibility Function: Check if the character can be added.\"\"\"\n",
    "        return char not in candidate_set\n",
    "    \n",
    "    def objective_function(self, char: str, result: list, candidate_set: set, count: dict):\n",
    "        \"\"\"Selection and Objective Function: Update the result to maintain minimal lex order.\"\"\"\n",
    "        #\n",
    "        while self.can_remove_last_char(char, result, count):\n",
    "            removed_char = result.pop()\n",
    "            candidate_set.remove(removed_char)\n",
    "        \n",
    "        \n",
    "    def selection_function(self, result, char, candidate_set):\n",
    "        result.append(char)\n",
    "        candidate_set.add(char)\n",
    "    \n",
    "    def can_remove_last_char(self, char: str, result: list, count: dict) -> bool:\n",
    "        \"\"\"Check if the last character can be removed to achieve a smaller lex order.\"\"\"\n",
    "        return (result and char < result[-1] and count[result[-1]] > 0)\n",
    "    \n",
    "    def solution_function(self, result: list) -> str:\n",
    "        \"\"\"Solution Function: Combine the result into a final string.\"\"\"\n",
    "        return ''.join(result)\n"
   ]
  },
  {
   "cell_type": "code",
   "execution_count": 1,
   "metadata": {},
   "outputs": [],
   "source": [
    "class Solution:\n",
    "    def removeDuplicateLetters(self, s: str) -> str:\n",
    "        # Count the frequency of each character\n",
    "        count = {char: s.count(char) for char in set(s)}\n",
    "        candidate_set = set()\n",
    "        result = []\n",
    "        for char in s:\n",
    "            if char not in candidate_set:\n",
    "                while result:\n",
    "                    if char < result[-1] and count[result[-1]] > 0:\n",
    "                        candidate_set.remove(result.pop())\n",
    "                    else:\n",
    "                        break\n",
    "                result.append(char)\n",
    "                candidate_set.add(char)\n",
    "            count[char] -= 1\n",
    "            \n",
    "        return ''.join(result)"
   ]
  },
  {
   "cell_type": "code",
   "execution_count": 2,
   "metadata": {},
   "outputs": [
    {
     "data": {
      "text/plain": [
       "'abc'"
      ]
     },
     "execution_count": 2,
     "metadata": {},
     "output_type": "execute_result"
    }
   ],
   "source": [
    "Solution().removeDuplicateLetters('babac')"
   ]
  },
  {
   "cell_type": "code",
   "execution_count": 3,
   "metadata": {},
   "outputs": [
    {
     "data": {
      "text/plain": [
       "'zabcde'"
      ]
     },
     "execution_count": 3,
     "metadata": {},
     "output_type": "execute_result"
    }
   ],
   "source": [
    "Solution().removeDuplicateLetters('zabccde')"
   ]
  },
  {
   "cell_type": "code",
   "execution_count": 4,
   "metadata": {},
   "outputs": [
    {
     "data": {
      "text/plain": [
       "'mnop'"
      ]
     },
     "execution_count": 4,
     "metadata": {},
     "output_type": "execute_result"
    }
   ],
   "source": [
    "Solution().removeDuplicateLetters('mnopmn')"
   ]
  }
 ],
 "metadata": {
  "kernelspec": {
   "display_name": "Python 3",
   "language": "python",
   "name": "python3"
  },
  "language_info": {
   "codemirror_mode": {
    "name": "ipython",
    "version": 3
   },
   "file_extension": ".py",
   "mimetype": "text/x-python",
   "name": "python",
   "nbconvert_exporter": "python",
   "pygments_lexer": "ipython3",
   "version": "3.9.6"
  }
 },
 "nbformat": 4,
 "nbformat_minor": 2
}
