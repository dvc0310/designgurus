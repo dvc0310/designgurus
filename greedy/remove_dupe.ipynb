{
 "cells": [
  {
   "cell_type": "code",
   "execution_count": null,
   "metadata": {},
   "outputs": [],
   "source": [
    "class Solution:\n",
    "    def removeDuplicateLetters(self, s: str) -> str:\n",
    "        # Count the frequency of each character for future reference\n",
    "        count = {char: s.count(char) for char in set(s)}\n",
    "        \n",
    "        # CANDIDATE SET:\n",
    "        # In this context, the characters we encounter in 's' form the candidate set—\n",
    "        # the pool of items from which we'll build our final solution. Here, 'candidate_set'\n",
    "        # tracks which characters are currently included in the partial solution.\n",
    "        candidate_set = set()\n",
    "        \n",
    "        # We'll use 'result' as a stack to build the solution incrementally.\n",
    "        result = []\n",
    "        \n",
    "        for char in s:\n",
    "            # Update the frequency since we've now considered this character\n",
    "            count[char] -= 1\n",
    "            \n",
    "            # If the character is already in our partial solution, skip it\n",
    "            if char in candidate_set:\n",
    "                continue\n",
    "            \n",
    "            # SELECTION FUNCTION:\n",
    "            # Decide whether to add the current character or remove previously chosen ones.\n",
    "            # We apply a greedy choice: if the current character is lexicographically smaller\n",
    "            # than the last chosen character, and if that last character can still appear later,\n",
    "            # we remove it to get a better (lexicographically smaller) solution.\n",
    "            \n",
    "            # FEASIBILITY FUNCTION:\n",
    "            # The condition \"count[result[-1]] > 0\" ensures that removing the last character\n",
    "            # is feasible—it will appear again later, so we can safely discard it now.\n",
    "            while result and char < result[-1] and count[result[-1]] > 0:\n",
    "                candidate_set.remove(result.pop())\n",
    "            \n",
    "            # Add the current character to our partial solution\n",
    "            result.append(char)\n",
    "            candidate_set.add(char)\n",
    "        \n",
    "        # OBJECTIVE FUNCTION:\n",
    "        # The objective here is to produce the lexicographically smallest string of unique letters.\n",
    "        # Our greedy steps above ensure that at each stage, we're making the best local decision\n",
    "        # to achieve this objective.\n",
    "        \n",
    "        # SOLUTION FUNCTION:\n",
    "        # Convert our constructed list of characters into the final string (the desired output format).\n",
    "        return ''.join(result)\n"
   ]
  },
  {
   "cell_type": "code",
   "execution_count": 4,
   "metadata": {},
   "outputs": [
    {
     "data": {
      "text/plain": [
       "'abc'"
      ]
     },
     "execution_count": 4,
     "metadata": {},
     "output_type": "execute_result"
    }
   ],
   "source": [
    "Solution().removeDuplicateLetters('babac')"
   ]
  },
  {
   "cell_type": "code",
   "execution_count": 5,
   "metadata": {},
   "outputs": [
    {
     "data": {
      "text/plain": [
       "'zabcde'"
      ]
     },
     "execution_count": 5,
     "metadata": {},
     "output_type": "execute_result"
    }
   ],
   "source": [
    "Solution().removeDuplicateLetters('zabccde')"
   ]
  },
  {
   "cell_type": "code",
   "execution_count": 4,
   "metadata": {},
   "outputs": [
    {
     "data": {
      "text/plain": [
       "'mnop'"
      ]
     },
     "execution_count": 4,
     "metadata": {},
     "output_type": "execute_result"
    }
   ],
   "source": [
    "Solution().removeDuplicateLetters('mnopmn')"
   ]
  }
 ],
 "metadata": {
  "kernelspec": {
   "display_name": "3.9.6",
   "language": "python",
   "name": "python3"
  },
  "language_info": {
   "codemirror_mode": {
    "name": "ipython",
    "version": 3
   },
   "file_extension": ".py",
   "mimetype": "text/x-python",
   "name": "python",
   "nbconvert_exporter": "python",
   "pygments_lexer": "ipython3",
   "version": "3.9.6"
  }
 },
 "nbformat": 4,
 "nbformat_minor": 2
}
