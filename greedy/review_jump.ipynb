{
 "cells": [
  {
   "cell_type": "code",
   "execution_count": 26,
   "metadata": {},
   "outputs": [],
   "source": [
    "def jump(nums):\n",
    "    n = len(nums)\n",
    "    dp = [float('inf')] * n\n",
    "    dp[0] = 0\n",
    "\n",
    "    for i in range(n):\n",
    "        for j in range(i + 1, min(i + nums[i] + 1, n)):\n",
    "            dp[j] = min(dp[j], dp[i] + 1)\n",
    "\n",
    "    return dp[-1]\n"
   ]
  },
  {
   "cell_type": "code",
   "execution_count": 27,
   "metadata": {},
   "outputs": [],
   "source": [
    "def jump(nums):\n",
    "    jumps = 0\n",
    "    farthest = 0\n",
    "    current_end = 0\n",
    "\n",
    "    for i in range(len(nums) - 1):  \n",
    "        farthest = max(farthest, i + nums[i])  \n",
    "\n",
    "        if i == current_end:\n",
    "            if current_end == farthest:\n",
    "                return -1\n",
    "            jumps += 1\n",
    "            current_end = farthest \n",
    "\n",
    "            if current_end >= len(nums) - 1: \n",
    "                break\n",
    "\n",
    "    return jumps if current_end >= len(nums) - 1 else -1\n"
   ]
  },
  {
   "cell_type": "code",
   "execution_count": 28,
   "metadata": {},
   "outputs": [
    {
     "name": "stdout",
     "output_type": "stream",
     "text": [
      "Test Case 1: Passed\n",
      "Test Case 2: Passed\n",
      "Test Case 3: Passed\n",
      "Test Case 4: Passed\n",
      "Test Case 5: Passed\n",
      "Test Case 6: Passed\n",
      "Test Case 7: Passed\n",
      "Test Case 8: Passed\n",
      "Test Case 9: Passed\n"
     ]
    }
   ],
   "source": [
    "# Test Cases\n",
    "test_cases = [\n",
    "    # Basic case\n",
    "    ([2, 3, 1, 1, 4], 2),  # Explanation: Jump from index 0 -> 1 -> 4.\n",
    "\n",
    "    # Case with uniform small jumps\n",
    "    ([1, 1, 1, 1], 3),  # Explanation: Jump 1 step at a time, requiring 3 jumps.\n",
    "\n",
    "    # Case with a large jump early\n",
    "    ([10, 1, 1, 1, 1], 1),  # Explanation: One jump from index 0 to the end.\n",
    "\n",
    "    # Case with a zero that can still be passed\n",
    "    ([2, 3, 0, 1, 4], 2),  # Explanation: Jump from index 0 -> 1 -> 4.\n",
    "\n",
    "    # Minimum input size\n",
    "    ([0], 0),  # Explanation: Already at the last index, no jumps needed.\n",
    "\n",
    "    # Case where all elements are the same\n",
    "    ([3, 3, 3, 3, 3], 2),  # Explanation: Jump from index 0 -> 3 -> end.\n",
    "\n",
    "    # Larger case with multiple possible paths\n",
    "    ([2, 3, 1, 1, 2, 4, 2, 0, 1], 4),  # Explanation: 0 -> 1 -> 4 -> 5 -> end.\n",
    "\n",
    "    # Edge case with long input\n",
    "    ([1] * 100, 99),  # Explanation: Requires 99 jumps for 100 steps.\n",
    "\n",
    "    # Case where the optimal jump skips over multiple indices\n",
    "    ([3, 4, 2, 1, 1, 0, 5], -1),  # Explanation: 0 -> 1 -> 6.\n",
    "]\n",
    "\n",
    "# Helper function to test the solution\n",
    "def run_tests(jump_function):\n",
    "    for i, (nums, expected) in enumerate(test_cases):\n",
    "        result = jump_function(nums)\n",
    "        print(f\"Test Case {i + 1}: {'Passed' if result == expected else 'Failed'}\")\n",
    "        if result != expected:\n",
    "            print(f\"  Input: {nums}\")\n",
    "            print(f\"  Expected: {expected}, Got: {result}\")\n",
    "\n",
    "# Run the tests\n",
    "run_tests(jump)\n"
   ]
  }
 ],
 "metadata": {
  "kernelspec": {
   "display_name": "3.9.6",
   "language": "python",
   "name": "python3"
  },
  "language_info": {
   "codemirror_mode": {
    "name": "ipython",
    "version": 3
   },
   "file_extension": ".py",
   "mimetype": "text/x-python",
   "name": "python",
   "nbconvert_exporter": "python",
   "pygments_lexer": "ipython3",
   "version": "3.9.6"
  }
 },
 "nbformat": 4,
 "nbformat_minor": 2
}
