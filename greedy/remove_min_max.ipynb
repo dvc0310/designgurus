{
 "cells": [
  {
   "cell_type": "code",
   "execution_count": 91,
   "metadata": {},
   "outputs": [],
   "source": [
    "class Solution:\n",
    "    def minMoves(self, nums):\n",
    "        # ToDo: Write Your Code Here.\n",
    "        min_idx, max_idx = self.find_min_max_idx(nums)\n",
    "        \n",
    "        if max_idx > min_idx:\n",
    "            left_all = max_idx + 1\n",
    "            right_all = len(nums) - min_idx\n",
    "            left_ex = min_idx + 1\n",
    "            right_ex = len(nums) - max_idx     \n",
    "        else:\n",
    "            left_all = min_idx + 1\n",
    "            right_all = len(nums) - max_idx\n",
    "            left_ex = max_idx + 1\n",
    "            right_ex = len(nums) - min_idx\n",
    "            \n",
    "        ex_total = left_ex + right_ex\n",
    "\n",
    "        return min(left_all, right_all, ex_total)\n",
    "    \n",
    "    def find_min_max_idx(self, nums):\n",
    "        curr_min = -1\n",
    "        min_idx = -1\n",
    "        curr_max = -1\n",
    "        max_idx = -1\n",
    "        for i in range(len(nums)):\n",
    "            if curr_min == -1 or nums[i] < curr_min:\n",
    "                curr_min = nums[i]\n",
    "                min_idx = i\n",
    "            if curr_max == -1 or nums[i] > curr_max:\n",
    "                curr_max = nums[i]\n",
    "                max_idx = i\n",
    "        \n",
    "        return min_idx, max_idx\n"
   ]
  },
  {
   "cell_type": "code",
   "execution_count": 92,
   "metadata": {},
   "outputs": [
    {
     "data": {
      "text/plain": [
       "5"
      ]
     },
     "execution_count": 92,
     "metadata": {},
     "output_type": "execute_result"
    }
   ],
   "source": [
    "lst = [3, 2, 5, 2, 2, 2, 2, 1, 4]\n",
    "Solution().minMoves(lst)"
   ]
  },
  {
   "cell_type": "code",
   "execution_count": 93,
   "metadata": {},
   "outputs": [
    {
     "data": {
      "text/plain": [
       "3"
      ]
     },
     "execution_count": 93,
     "metadata": {},
     "output_type": "execute_result"
    }
   ],
   "source": [
    "lst = [3, 2, 5, 1, 4]\n",
    "Solution().minMoves(lst)"
   ]
  },
  {
   "cell_type": "code",
   "execution_count": 94,
   "metadata": {},
   "outputs": [
    {
     "data": {
      "text/plain": [
       "2"
      ]
     },
     "execution_count": 94,
     "metadata": {},
     "output_type": "execute_result"
    }
   ],
   "source": [
    "lst = [7, 5, 6, 8, 1]\n",
    "Solution().minMoves(lst)"
   ]
  },
  {
   "cell_type": "code",
   "execution_count": 95,
   "metadata": {},
   "outputs": [
    {
     "data": {
      "text/plain": [
       "1"
      ]
     },
     "execution_count": 95,
     "metadata": {},
     "output_type": "execute_result"
    }
   ],
   "source": [
    "lst = [1]\n",
    "Solution().minMoves(lst)"
   ]
  }
 ],
 "metadata": {
  "kernelspec": {
   "display_name": "3.9.6",
   "language": "python",
   "name": "python3"
  },
  "language_info": {
   "codemirror_mode": {
    "name": "ipython",
    "version": 3
   },
   "file_extension": ".py",
   "mimetype": "text/x-python",
   "name": "python",
   "nbconvert_exporter": "python",
   "pygments_lexer": "ipython3",
   "version": "3.9.6"
  }
 },
 "nbformat": 4,
 "nbformat_minor": 2
}
