{
 "cells": [
  {
   "cell_type": "code",
   "execution_count": 1,
   "metadata": {},
   "outputs": [],
   "source": [
    "class Solution:\n",
    "    def minAddToMakeValid(self, S: str) -> int:\n",
    "        balance, counter = 0, 0\n",
    "        for char in S:\n",
    "            if char == '(':\n",
    "                balance += 1\n",
    "            else:\n",
    "                balance -= 1\n",
    "                \n",
    "            if balance == -1:\n",
    "                counter += 1  \n",
    "                balance += 1 \n",
    "        return counter + balance  "
   ]
  },
  {
   "cell_type": "code",
   "execution_count": 1,
   "metadata": {},
   "outputs": [],
   "source": [
    "class Solution:\n",
    "    def minAddToMakeValid(self, S: str) -> int:\n",
    "        balance = 0     # Keeps track of unmatched '(' parentheses\n",
    "        insertions = 0  # Counts the number of insertions needed\n",
    "        \n",
    "        for char in S:\n",
    "            candidate = self.selection_function(char)\n",
    "            \n",
    "            if self.feasibility_function(candidate, balance):\n",
    "                balance = self.update_balance(candidate, balance)\n",
    "            else:\n",
    "                insertions = self.objective_function(insertions)\n",
    "                balance = self.reset_balance()\n",
    "        \n",
    "        return self.solution_function(insertions, balance)\n",
    "    \n",
    "    def selection_function(self, char: str) -> str:\n",
    "        \"\"\"\n",
    "        Selection Function:\n",
    "        Choose the next character (candidate) to process.\n",
    "        \"\"\"\n",
    "        return char\n",
    "    \n",
    "    def feasibility_function(self, candidate: str, balance: int) -> bool:\n",
    "        \"\"\"\n",
    "        Feasibility Function:\n",
    "        Check if adding the candidate keeps the solution feasible.\n",
    "        For a ')', it's feasible only if there's an unmatched '(' (balance > 0).\n",
    "        \"\"\"\n",
    "        if candidate == '(':\n",
    "            return True  # Always feasible to add an '('\n",
    "        else:\n",
    "            return balance > 0  # Feasible to match ')' only if balance > 0\n",
    "    \n",
    "    def update_balance(self, candidate: str, balance: int) -> int:\n",
    "        \"\"\"\n",
    "        Update the balance based on the candidate.\n",
    "        Increment for '(', decrement for ')'.\n",
    "        \"\"\"\n",
    "        if candidate == '(':\n",
    "            balance += 1\n",
    "        else:\n",
    "            balance -= 1\n",
    "        return balance\n",
    "    \n",
    "    def objective_function(self, insertions: int) -> int:\n",
    "        \"\"\"\n",
    "        Objective Function:\n",
    "        Increment the insertions count when an unmatched ')' is found.\n",
    "        \"\"\"\n",
    "        return insertions + 1\n",
    "    \n",
    "    def reset_balance(self) -> int:\n",
    "        \"\"\"\n",
    "        Reset the balance to zero after accounting for an unmatched ')'.\n",
    "        \"\"\"\n",
    "        return 0  # Reset balance to zero since we've \"added\" an '('\n",
    "    \n",
    "    def solution_function(self, insertions: int, balance: int) -> int:\n",
    "        \"\"\"\n",
    "        Solution Function:\n",
    "        Compute the total number of insertions needed to make the string valid.\n",
    "        \"\"\"\n",
    "        return insertions + balance  # Add unmatched '(' to insertions\n"
   ]
  },
  {
   "cell_type": "code",
   "execution_count": 2,
   "metadata": {},
   "outputs": [
    {
     "data": {
      "text/plain": [
       "4"
      ]
     },
     "execution_count": 2,
     "metadata": {},
     "output_type": "execute_result"
    }
   ],
   "source": [
    "S = \"))((\"\n",
    "Solution().minAddToMakeValid(S)"
   ]
  },
  {
   "cell_type": "code",
   "execution_count": 3,
   "metadata": {},
   "outputs": [
    {
     "data": {
      "text/plain": [
       "1"
      ]
     },
     "execution_count": 3,
     "metadata": {},
     "output_type": "execute_result"
    }
   ],
   "source": [
    "S = \"(()())(\"\n",
    "Solution().minAddToMakeValid(S)"
   ]
  },
  {
   "cell_type": "code",
   "execution_count": 14,
   "metadata": {},
   "outputs": [],
   "source": [
    "from collections import deque \n",
    "\n",
    "class Solution:\n",
    "    def minAddToMakeValid(self, S: str) -> int:\n",
    "        unmatched_left = deque()\n",
    "        unmatched_right = deque()\n",
    "        \n",
    "        left_paren_added = 0\n",
    "        for char in S:\n",
    "            # Selection Function\n",
    "            if char == '(':\n",
    "                unmatched_left.append(char)\n",
    "            elif char == ')':\n",
    "                unmatched_right.append(char)\n",
    "                \n",
    "            # Feasability Function\n",
    "            if len(unmatched_right) > len(unmatched_left):\n",
    "                # Objective Function\n",
    "                unmatched_right.popleft()\n",
    "                left_paren_added += 1\n",
    "                \n",
    "        right_paren_added = 0\n",
    "        \n",
    "        # Feasability Function\n",
    "        while len(unmatched_left) - len(unmatched_right) > 0:\n",
    "            # Objective Function\n",
    "            unmatched_left.popleft()\n",
    "            right_paren_added += 1\n",
    "        \n",
    "        # Solution Function\n",
    "        return left_paren_added + right_paren_added"
   ]
  },
  {
   "cell_type": "code",
   "execution_count": 15,
   "metadata": {},
   "outputs": [
    {
     "data": {
      "text/plain": [
       "1"
      ]
     },
     "execution_count": 15,
     "metadata": {},
     "output_type": "execute_result"
    }
   ],
   "source": [
    "S = \"(()())(\"\n",
    "Solution().minAddToMakeValid(S)"
   ]
  },
  {
   "cell_type": "code",
   "execution_count": 17,
   "metadata": {},
   "outputs": [
    {
     "data": {
      "text/plain": [
       "4"
      ]
     },
     "execution_count": 17,
     "metadata": {},
     "output_type": "execute_result"
    }
   ],
   "source": [
    "S = \"))((\"\n",
    "Solution().minAddToMakeValid(S)"
   ]
  }
 ],
 "metadata": {
  "kernelspec": {
   "display_name": "Python 3",
   "language": "python",
   "name": "python3"
  },
  "language_info": {
   "codemirror_mode": {
    "name": "ipython",
    "version": 3
   },
   "file_extension": ".py",
   "mimetype": "text/x-python",
   "name": "python",
   "nbconvert_exporter": "python",
   "pygments_lexer": "ipython3",
   "version": "3.9.6"
  }
 },
 "nbformat": 4,
 "nbformat_minor": 2
}
