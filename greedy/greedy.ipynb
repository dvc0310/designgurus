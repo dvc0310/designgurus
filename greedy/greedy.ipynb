{
 "cells": [
  {
   "cell_type": "markdown",
   "metadata": {},
   "source": [
    "## No overlap"
   ]
  },
  {
   "cell_type": "code",
   "execution_count": 3,
   "metadata": {},
   "outputs": [],
   "source": [
    "def interval_scheduling_maximization(intervals):\n",
    "    # 1. CANDIDATE SET:\n",
    "    #    The candidate set is the entire list of intervals given as input.\n",
    "    candidate_set = intervals\n",
    "\n",
    "    # 4. SELECTION FUNCTION:\n",
    "    #    Sort the candidate intervals by their finishing times. We will then\n",
    "    #    consider them in ascending order of finish time.\n",
    "    candidate_set.sort(key=lambda interval: interval[1])  # sort by finish_time\n",
    "\n",
    "    # Initialize an empty solution\n",
    "    # 5. SOLUTION SET:\n",
    "    #    Initially empty. As we select intervals, we add them here.\n",
    "    solution_set = []\n",
    "\n",
    "    # Track the finish time of the last added interval\n",
    "    # to maintain feasibility.\n",
    "    last_finish_time = float('-inf')\n",
    "\n",
    "    # 2. FEASIBILITY FUNCTION:\n",
    "    #    Given the current solution, an interval is feasible if it does not\n",
    "    #    overlap with any selected intervals. Since we are building a solution\n",
    "    #    incrementally with intervals sorted by finish time, we just need to \n",
    "    #    ensure the new interval starts after the last selected interval’s finish.\n",
    "    def is_feasible(interval, last_selected_finish):\n",
    "        start, _ = interval\n",
    "        return start >= last_selected_finish\n",
    "\n",
    "    # Iterate over the candidate set in the chosen order\n",
    "    for interval in candidate_set:\n",
    "        # Check feasibility of this interval given the current solution\n",
    "        if is_feasible(interval, last_finish_time):\n",
    "            # If feasible, include this interval in the solution\n",
    "            solution_set.append(interval)\n",
    "            # Update the last_finish_time to ensure future feasibility checks\n",
    "            last_finish_time = interval[1]\n",
    "\n",
    "    # 3. OBJECTIVE FUNCTION:\n",
    "    #    The objective is to maximize the number of selected intervals.\n",
    "    #    At the end of the algorithm, the size of solution_set represents \n",
    "    #    how many intervals we successfully selected.\n",
    "    max_intervals_count = len(solution_set)\n",
    "\n",
    "    return solution_set, max_intervals_count\n"
   ]
  },
  {
   "cell_type": "code",
   "execution_count": 4,
   "metadata": {},
   "outputs": [
    {
     "name": "stdout",
     "output_type": "stream",
     "text": [
      "Selected Intervals (Solution Set): [(1, 2), (2, 5), (6, 7)]\n",
      "Maximum number of non-overlapping intervals: 3\n"
     ]
    }
   ],
   "source": [
    "# Example usage:\n",
    "intervals = [\n",
    "    (1, 3),\n",
    "    (2, 5),\n",
    "    (4, 6),\n",
    "    (6, 7),\n",
    "    (1, 2),\n",
    "    (5, 9)\n",
    "]\n",
    "\n",
    "solution, count = interval_scheduling_maximization(intervals)\n",
    "print(\"Selected Intervals (Solution Set):\", solution)\n",
    "print(\"Maximum number of non-overlapping intervals:\", count)"
   ]
  },
  {
   "cell_type": "markdown",
   "metadata": {},
   "source": [
    "## Objective and Feasability overlap"
   ]
  },
  {
   "cell_type": "code",
   "execution_count": 5,
   "metadata": {},
   "outputs": [],
   "source": [
    "def fractional_knapsack(items, capacity):\n",
    "    # 1. CANDIDATE SET:\n",
    "    #    All items are initially candidates for inclusion in the knapsack.\n",
    "    candidate_set = items\n",
    "    \n",
    "    # 4. SELECTION FUNCTION:\n",
    "    #    Sort items by value-to-weight ratio (v_i / w_i) in descending order.\n",
    "    candidate_set.sort(key=lambda x: x[0] / x[1], reverse=True)\n",
    "\n",
    "    total_value = 0.0  # Tracks the accumulated value in the knapsack.\n",
    "    remaining_capacity = capacity  # Tracks the remaining capacity of the knapsack.\n",
    "    selected_items = []  # 5. SOLUTION SET: To track selected items (and fractions).\n",
    "\n",
    "    # 2. FEASIBILITY FUNCTION:\n",
    "    def add_item_to_knapsack(value, weight, remaining_capacity):\n",
    "        if weight <= remaining_capacity:  # Entire item can fit\n",
    "            return value, weight\n",
    "        else:  # Only a fraction of the item can fit\n",
    "            fraction = remaining_capacity / weight\n",
    "            return value * fraction, remaining_capacity\n",
    "\n",
    "    # Iterate through the candidate set\n",
    "    for value, weight in candidate_set:\n",
    "        if remaining_capacity == 0:\n",
    "            break  # Knapsack is full\n",
    "\n",
    "        # Use the feasibility function to determine how much to add\n",
    "        value_added, weight_used = add_item_to_knapsack(value, weight, remaining_capacity)\n",
    "        total_value += value_added\n",
    "        remaining_capacity -= weight_used\n",
    "        selected_items.append((value_added, weight_used))  # Add item or fraction to the solution set\n",
    "\n",
    "    # 3. OBJECTIVE FUNCTION:\n",
    "    #    The objective is to maximize the total value in the knapsack. This is directly tracked as `total_value`.\n",
    "\n",
    "    return total_value, selected_items\n",
    "\n"
   ]
  },
  {
   "cell_type": "code",
   "execution_count": 6,
   "metadata": {},
   "outputs": [
    {
     "name": "stdout",
     "output_type": "stream",
     "text": [
      "Maximum total value: (240.0, [(60, 10), (100, 20), (80.0, 20)])\n"
     ]
    }
   ],
   "source": [
    "# Example usage:\n",
    "items = [\n",
    "    (60, 10),  # (value, weight)\n",
    "    (100, 20),\n",
    "    (120, 30)\n",
    "]\n",
    "capacity = 50\n",
    "\n",
    "max_value = fractional_knapsack(items, capacity)\n",
    "print(\"Maximum total value:\", max_value)\n"
   ]
  }
 ],
 "metadata": {
  "kernelspec": {
   "display_name": "3.9.6",
   "language": "python",
   "name": "python3"
  },
  "language_info": {
   "codemirror_mode": {
    "name": "ipython",
    "version": 3
   },
   "file_extension": ".py",
   "mimetype": "text/x-python",
   "name": "python",
   "nbconvert_exporter": "python",
   "pygments_lexer": "ipython3",
   "version": "3.9.6"
  }
 },
 "nbformat": 4,
 "nbformat_minor": 2
}
