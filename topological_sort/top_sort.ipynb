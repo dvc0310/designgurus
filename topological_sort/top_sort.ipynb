{
 "cells": [
  {
   "cell_type": "code",
   "execution_count": 1,
   "metadata": {},
   "outputs": [],
   "source": [
    "from collections import deque\n",
    "\n",
    "class Solution:\n",
    "    def sort(self, vertices: int, edges: list[tuple[int, int]]) -> list[int]:\n",
    "        result = []\n",
    "        # TODO: Write your code here\n",
    "        graph = self.construct_graph(vertices, edges)\n",
    "        indegree = self.construct_indegree(graph, vertices)\n",
    "        queue = self.get_zeros(indegree)\n",
    "        count = 0\n",
    "        while queue:\n",
    "            vertex = queue.popleft()\n",
    "            result.append(vertex)\n",
    "            neighbors = graph[vertex]\n",
    "            for neighbor in neighbors:\n",
    "                indegree[neighbor] -= 1\n",
    "                if indegree[neighbor] == 0:\n",
    "                    queue.append(neighbor)\n",
    "            count += 1\n",
    "        if count != vertices:\n",
    "            return []\n",
    "        \n",
    "        return result\n",
    "    \n",
    "    def construct_graph(self, vertices: int, edges: list[tuple[int, int]]) -> dict[int, list[int]]:\n",
    "        graph = {num: [] for num in range(vertices)}\n",
    "        for start, end in edges:\n",
    "            graph[start].append(end)\n",
    "        return graph\n",
    "\n",
    "    \n",
    "    def construct_indegree(self, graph: dict[int, list[int]], vertices: int) -> list[int]:\n",
    "        indegree = [0] * vertices\n",
    "        for _, val in graph.items():\n",
    "            for num in val:\n",
    "                indegree[num] += 1\n",
    "        return indegree\n",
    "    \n",
    "    def get_zeros(self, indegree: list[int]) -> deque:\n",
    "        queue = deque()\n",
    "        for i in range(len(indegree)):\n",
    "            if indegree[i] == 0:\n",
    "                queue.append(i)\n",
    "        return queue\n",
    "        \n",
    "sol = Solution()\n"
   ]
  },
  {
   "cell_type": "code",
   "execution_count": 2,
   "metadata": {},
   "outputs": [
    {
     "data": {
      "text/plain": [
       "[5, 6, 3, 4, 0, 2, 1]"
      ]
     },
     "execution_count": 2,
     "metadata": {},
     "output_type": "execute_result"
    }
   ],
   "source": [
    "vertices = 7\n",
    "edges = [[6, 4], [6, 2], [5, 3], [5, 4], [3, 0], [3, 1], [3, 2], [4, 1]]\n",
    "sol.sort(vertices, edges)"
   ]
  },
  {
   "cell_type": "code",
   "execution_count": 3,
   "metadata": {},
   "outputs": [
    {
     "name": "stdout",
     "output_type": "stream",
     "text": [
      "Topological sort: [5, 6, 3, 4, 0, 2, 1]\n",
      "Topological sort: [3, 2, 0, 1]\n",
      "Topological sort: [4, 2, 3, 0, 1]\n"
     ]
    }
   ],
   "source": [
    "def main():\n",
    "  sol = Solution()\n",
    "  print(\"Topological sort: \" +\n",
    "        str(sol.sort(7, [[6, 4], [6, 2], [5, 3], [5, 4], \\\n",
    "              [3, 0], [3, 1], [3, 2], [4, 1]])))\n",
    "  print(\"Topological sort: \" +\n",
    "        str(sol.sort(4, [[3, 2], [3, 0], [2, 0], [2, 1]])))\n",
    "  print(\"Topological sort: \" +\n",
    "        str(sol.sort(5, [[4, 2], [4, 3], [2, 0], [2, 1], [3, 1]])))\n",
    "\n",
    "main()"
   ]
  },
  {
   "cell_type": "code",
   "execution_count": 4,
   "metadata": {},
   "outputs": [],
   "source": [
    "from collections import deque\n",
    "\n",
    "class Solution:\n",
    "    def isSchedulingPossible(self, tasks, prerequisites):\n",
    "        sorted_lst = self.sort(tasks, prerequisites)\n",
    "        if not sorted_lst:\n",
    "            return False \n",
    "        return True\n",
    "    \n",
    "    def sort(self, vertices: int, edges: list[tuple[int, int]]) -> list[int]:\n",
    "        result = []\n",
    "        # TODO: Write your code here\n",
    "        graph = self.construct_graph(vertices, edges)\n",
    "        indegree = self.construct_indegree(graph, vertices)\n",
    "        queue = self.get_zeros(indegree)\n",
    "        count = 0\n",
    "        while queue:\n",
    "            vertex = queue.popleft()\n",
    "            result.append(vertex)\n",
    "            neighbors = graph[vertex]\n",
    "            for neighbor in neighbors:\n",
    "                indegree[neighbor] -= 1\n",
    "                if indegree[neighbor] == 0:\n",
    "                    queue.append(neighbor)\n",
    "            count += 1\n",
    "        if count != vertices:\n",
    "            return []\n",
    "        \n",
    "        return result\n",
    "    \n",
    "    def construct_graph(self, vertices: int, edges: list[tuple[int, int]]) -> dict[int, list[int]]:\n",
    "        graph = {num: [] for num in range(vertices)}\n",
    "        for start, end in edges:\n",
    "            graph[start].append(end)\n",
    "        return graph\n",
    "\n",
    "    \n",
    "    def construct_indegree(self, graph: dict[int, list[int]], vertices: int) -> list[int]:\n",
    "        indegree = [0] * vertices\n",
    "        for _, val in graph.items():\n",
    "            for num in val:\n",
    "                indegree[num] += 1\n",
    "        return indegree\n",
    "    \n",
    "    def get_zeros(self, indegree: list[int]) -> deque:\n",
    "        queue = deque()\n",
    "        for i in range(len(indegree)):\n",
    "            if indegree[i] == 0:\n",
    "                queue.append(i)\n",
    "        return queue\n",
    "        "
   ]
  }
 ],
 "metadata": {
  "kernelspec": {
   "display_name": "3.9.6",
   "language": "python",
   "name": "python3"
  },
  "language_info": {
   "codemirror_mode": {
    "name": "ipython",
    "version": 3
   },
   "file_extension": ".py",
   "mimetype": "text/x-python",
   "name": "python",
   "nbconvert_exporter": "python",
   "pygments_lexer": "ipython3",
   "version": "3.9.6"
  }
 },
 "nbformat": 4,
 "nbformat_minor": 2
}
