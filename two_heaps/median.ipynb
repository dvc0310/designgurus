{
 "cells": [
  {
   "cell_type": "code",
   "execution_count": 41,
   "metadata": {},
   "outputs": [],
   "source": [
    "from heapq import *\n",
    "\n",
    "class Solution: \n",
    "\n",
    "  def __init__(self):\n",
    "    self.median = None\n",
    "    self.minheap = []\n",
    "    self.maxheap = []\n",
    "    # TODO: Write your code here\n",
    "\n",
    "  def insertNum(self, num):\n",
    "    # TODO: Write your code here\n",
    "    if not self.median:\n",
    "        self.median = num\n",
    "        heappush(self.maxheap, -self.median)\n",
    "        return\n",
    "    \n",
    "    if num > self.median:\n",
    "        heappush(self.minheap, num)\n",
    "    else:\n",
    "        heappush(self.maxheap, -num)\n",
    "    \n",
    "    if len(self.minheap) - len(self.maxheap) > 1:\n",
    "       heappush(self.maxheap, -heappop(self.minheap))\n",
    "\n",
    "    if len(self.maxheap) - len(self.minheap) > 1:\n",
    "       heappush(self.minheap, -heappop(self.maxheap))\n",
    "\n",
    "    if (len(self.minheap) + len(self.maxheap)) % 2 == 0:\n",
    "        self.median = (-self.maxheap[0] + self.minheap[0]) / 2\n",
    "    else:\n",
    "        if len(self.minheap) > len(self.maxheap):\n",
    "            self.median = self.minheap[0]\n",
    "\n",
    "        elif len(self.minheap) < len(self.maxheap):\n",
    "            self.median = -self.maxheap[0]\n",
    "\n",
    "    return\n",
    "\n",
    "  def findMedian(self):\n",
    "    # TODO: Write your code here\n",
    "    return self.median"
   ]
  },
  {
   "cell_type": "code",
   "execution_count": 46,
   "metadata": {},
   "outputs": [
    {
     "data": {
      "text/plain": [
       "4.5"
      ]
     },
     "execution_count": 46,
     "metadata": {},
     "output_type": "execute_result"
    }
   ],
   "source": [
    "sol = Solution()\n",
    "sol.insertNum(3)\n",
    "sol.insertNum(1)\n",
    "sol.insertNum(5)\n",
    "sol.insertNum(4)\n",
    "sol.insertNum(90)\n",
    "sol.insertNum(9)\n",
    "\n",
    "sol.findMedian()"
   ]
  }
 ],
 "metadata": {
  "kernelspec": {
   "display_name": "3.9.6",
   "language": "python",
   "name": "python3"
  },
  "language_info": {
   "codemirror_mode": {
    "name": "ipython",
    "version": 3
   },
   "file_extension": ".py",
   "mimetype": "text/x-python",
   "name": "python",
   "nbconvert_exporter": "python",
   "pygments_lexer": "ipython3",
   "version": "3.9.6"
  }
 },
 "nbformat": 4,
 "nbformat_minor": 2
}
