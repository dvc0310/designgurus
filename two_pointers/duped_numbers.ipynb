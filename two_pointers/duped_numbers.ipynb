{
 "cells": [
  {
   "cell_type": "code",
   "execution_count": 5,
   "metadata": {},
   "outputs": [],
   "source": [
    "def remove_duplicates(nums):\n",
    "    if not nums:\n",
    "        return 0\n",
    "\n",
    "    # Pointer for placing the result in the array\n",
    "    write_index = 1\n",
    "    # Count occurrences of the current number\n",
    "    count = 1\n",
    "\n",
    "    # Start from the second element and iterate\n",
    "    for i in range(1, len(nums)):\n",
    "        # If the current number is the same as the previous one, increment the count\n",
    "        if nums[i] == nums[i - 1]:\n",
    "            count += 1\n",
    "        else:\n",
    "            # Reset count for a new number\n",
    "            count = 1\n",
    "\n",
    "        # Allow at most two occurrences\n",
    "        if count <= 2:\n",
    "            nums[write_index] = nums[i]\n",
    "            write_index += 1\n",
    "\n",
    "    return write_index\n"
   ]
  },
  {
   "cell_type": "code",
   "execution_count": 6,
   "metadata": {},
   "outputs": [
    {
     "name": "stdout",
     "output_type": "stream",
     "text": [
      "5\n",
      "[1, 1, 2, 2, 3]\n"
     ]
    }
   ],
   "source": [
    "nums = [1, 1, 1, 2, 2, 3]\n",
    "k = remove_duplicates(nums)\n",
    "print(k)  # Output: 5\n",
    "print(nums[:k])  # Output: [1, 1, 2, 2, 3]\n"
   ]
  },
  {
   "cell_type": "code",
   "execution_count": 9,
   "metadata": {},
   "outputs": [],
   "source": [
    "def remove_duplicates(nums):\n",
    "    if not nums:\n",
    "        return 0\n",
    "    \n",
    "    write_index = 0\n",
    "    i = 0\n",
    "    \n",
    "    while i < len(nums):\n",
    "        current = nums[i]\n",
    "        count = 0\n",
    "        \n",
    "        # Count occurrences of the current number\n",
    "        while i < len(nums) and nums[i] == current:\n",
    "            if count < 2:\n",
    "                # Swap only if write_index and i are different\n",
    "                if write_index != i:\n",
    "                    nums[write_index], nums[i] = nums[i], nums[write_index]\n",
    "                write_index += 1\n",
    "                count += 1\n",
    "            i += 1\n",
    "            \n",
    "    return write_index\n",
    "\n"
   ]
  },
  {
   "cell_type": "code",
   "execution_count": 10,
   "metadata": {},
   "outputs": [
    {
     "name": "stdout",
     "output_type": "stream",
     "text": [
      "5\n",
      "[1, 1, 2, 2, 3]\n"
     ]
    }
   ],
   "source": [
    "nums = [1, 1, 1, 2, 2, 3]\n",
    "k = remove_duplicates(nums)\n",
    "print(k)  # Output: 5\n",
    "print(nums[:k])  # Output: [1, 1, 2, 2, 3]"
   ]
  }
 ],
 "metadata": {
  "kernelspec": {
   "display_name": "3.9.6",
   "language": "python",
   "name": "python3"
  },
  "language_info": {
   "codemirror_mode": {
    "name": "ipython",
    "version": 3
   },
   "file_extension": ".py",
   "mimetype": "text/x-python",
   "name": "python",
   "nbconvert_exporter": "python",
   "pygments_lexer": "ipython3",
   "version": "3.9.6"
  }
 },
 "nbformat": 4,
 "nbformat_minor": 2
}
