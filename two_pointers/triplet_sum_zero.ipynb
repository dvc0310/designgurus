{
 "cells": [
  {
   "cell_type": "markdown",
   "metadata": {},
   "source": [
    "# Triplet Sum to Zero (medium)\n",
    "\n",
    "## Problem Statement\n",
    "Given an array of unsorted numbers, find all unique triplets in it that add up to zero.\n",
    "\n",
    "```Python\n",
    "Example 1:\n",
    "\n",
    "Input: [-3, 0, 1, 2, -1, 1, -2]\n",
    "Output: [[-3, 1, 2], [-2, 0, 2], [-2, 1, 1], [-1, 0, 1]]\n",
    "Explanation: There are four unique triplets whose sum is equal to zero. smallest sum.\n",
    "Example 2:\n",
    "\n",
    "Input: [-5, 2, -1, -2, 3]\n",
    "Output: [[-5, 2, 3], [-2, -1, 3]]\n",
    "Explanation: There are two unique triplets whose sum is equal to zero.\n",
    "Constraints:\n",
    "\n",
    "3 <= arr.length <= 3000\n",
    "-105 <= arr[i] <= 105\n",
    "```"
   ]
  },
  {
   "cell_type": "code",
   "execution_count": 1,
   "metadata": {},
   "outputs": [],
   "source": [
    "class Solution:\n",
    "    def searchTriplets(self, arr):\n",
    "        triplets = []\n",
    "        arr.sort()\n",
    "        \n",
    "        for i in range(len(arr)):\n",
    "            if i > 0 and arr[i] == arr[i-1]:\n",
    "                continue\n",
    "            self.findTriplets(arr, i, triplets)\n",
    "        \n",
    "        return triplets\n",
    "    \n",
    "    def findTriplets(self, arr, i, triplets):\n",
    "        l = i + 1\n",
    "        r = len(arr) - 1\n",
    "        while l < r:\n",
    "            current_sum = arr[l] + arr[r] + arr[i]\n",
    "            if current_sum < 0:\n",
    "                l += 1\n",
    "            elif current_sum > 0:\n",
    "                r -= 1\n",
    "            else:\n",
    "                triplets.append([arr[i], arr[l], arr[r]])\n",
    "                l += 1\n",
    "                r -= 1\n",
    "                while l < r and arr[l] == arr[l - 1]:\n",
    "                    l += 1  \n",
    "                while l < r and arr[r] == arr[r + 1]:\n",
    "                    r -= 1\n"
   ]
  },
  {
   "cell_type": "code",
   "execution_count": 2,
   "metadata": {},
   "outputs": [
    {
     "data": {
      "text/plain": [
       "[[0, 0, 0]]"
      ]
     },
     "execution_count": 2,
     "metadata": {},
     "output_type": "execute_result"
    }
   ],
   "source": [
    "arr = [0,0,0]\n",
    "Solution().searchTriplets(arr)"
   ]
  },
  {
   "cell_type": "markdown",
   "metadata": {},
   "source": [
    "# Triplet Sum Close to Target (medium)\n",
    "\n",
    "## Problem Statement\n",
    "Given an array of unsorted numbers and a target number, find a triplet in the array whose sum is as close to the target number as possible, return the sum of the triplet. If there are more than one such triplet, return the sum of the triplet with the smallest sum.\n",
    "\n",
    "Example 1:\n",
    "\n",
    "```Python\n",
    "Input: [-1, 0, 2, 3], target=3 \n",
    "Output: 2\n",
    "Explanation: The triplet [-1, 0, 3] has the sum '2' which is closest to the target.\n",
    "There are two triplets with distance '1' from the target: [-1, 0, 3] & [-1, 2, 3]. Between these two triplets, the correct answer will be [-1, 0, 3] as it has a sum '2' which is less than the sum of the other triplet which is '4'. This is because of the following requirement: 'If there are more than one such triplet, return the sum of the triplet with the smallest sum.'\n",
    "```\n",
    "\n",
    "Example 2:\n",
    "\n",
    "```Python \n",
    "Input: [-3, -1, 1, 2], target=1\n",
    "Output: 0\n",
    "Explanation: The triplet [-3, 1, 2] has the closest sum to the target.\n",
    "Example 3:\n",
    "\n",
    "Input: [1, 0, 1, 1], target=100\n",
    "Output: 3\n",
    "Explanation: The triplet [1, 1, 1] has the closest sum to the target.\n",
    "Example 4:\n",
    "\n",
    "Input: [0, 0, 1, 1, 2, 6], target=5\n",
    "Output: 4\n",
    "Explanation: There are two triplets with distance '1' from target: [1, 1, 2] & [0, 0, 6]. Between these two triplets, the correct answer will be [1, 1, 2] as it has a sum '4' which is less than the sum of the other triplet which is '6'. This is because of the following requirement: 'If there are more than one such triplet, return the sum of the triplet with the smallest sum.'\n",
    "```\n",
    "Constraints:\n",
    "\n",
    "```Python\n",
    "3 <= arr.length <= 500\n",
    "-1000 <= arr[i] <= 1000\n",
    "-104 <= target <= 104\n",
    "```"
   ]
  },
  {
   "cell_type": "code",
   "execution_count": 3,
   "metadata": {},
   "outputs": [],
   "source": [
    "class Solution:\n",
    "    def searchTriplet(self, arr, target_sum):\n",
    "        arr.sort()\n",
    "        minSum = float('inf')\n",
    "        for curr in range(len(arr)):\n",
    "            minSum = self.searchPair(arr, target_sum, curr, minSum)\n",
    "        return minSum\n",
    "\n",
    "    def searchPair(self, arr, target_sum, curr, minSum):\n",
    "        l = curr + 1\n",
    "        r = len(arr) - 1\n",
    "        \n",
    "        while l < r:\n",
    "            currSum = arr[curr] + arr[l] + arr[r]\n",
    "            currDiff = target_sum - currSum\n",
    "            \n",
    "            if abs(target_sum - currSum) < abs(target_sum - minSum):\n",
    "                minSum = currSum\n",
    "            if abs(target_sum - currSum) == abs(target_sum - minSum):\n",
    "                minSum = min(currSum, minSum)\n",
    "            \n",
    "            if currDiff < 0:\n",
    "                r -= 1\n",
    "            elif currDiff > 0:\n",
    "                l += 1\n",
    "            else:\n",
    "                return currSum\n",
    "        return minSum"
   ]
  },
  {
   "cell_type": "code",
   "execution_count": 4,
   "metadata": {},
   "outputs": [
    {
     "data": {
      "text/plain": [
       "4"
      ]
     },
     "execution_count": 4,
     "metadata": {},
     "output_type": "execute_result"
    }
   ],
   "source": [
    "arr = [0, 0, 1, 1, 2, 6]\n",
    "target = 5\n",
    "Solution().searchTriplet(arr, target)"
   ]
  },
  {
   "cell_type": "markdown",
   "metadata": {},
   "source": [
    "# Triplets with Smaller Sum (medium)\n",
    "\n",
    "## Problem Statement\n",
    "Given an array arr of unsorted numbers and a target sum, count all triplets in it such that ```arr[i] + arr[j] + arr[k] < target``` where i, j, and k are three different indices. Write a function to return the count of such triplets.\n",
    "\n",
    "Example 1:\n",
    "\n",
    "``` python\n",
    "Input: [-1, 0, 2, 3], target=3\n",
    "Output: 2\n",
    "Explanation: There are two triplets whose sum is less than the target: [-1, 0, 3], [-1, 0, 2]\n",
    "```\n",
    "\n",
    "Example 2:\n",
    "\n",
    "``` python\n",
    "Input: [-1, 4, 2, 1, 3], target=5 \n",
    "Output: 4\n",
    "Explanation: There are four triplets whose sum is less than the target: \n",
    "[-1, 1, 4], [-1, 1, 3], [-1, 1, 2], [-1, 2, 3]\n",
    "```\n",
    "\n",
    "Constraints:\n",
    "\n",
    "```python\n",
    "n == arr.length\n",
    "0 <= n <= 3500\n",
    "-100 <= arr[i] <= 100\n",
    "-100 <= target <= 100\n",
    "```"
   ]
  },
  {
   "cell_type": "code",
   "execution_count": 15,
   "metadata": {},
   "outputs": [],
   "source": [
    "class Solution:\n",
    "  def searchTriplets(self, arr, target):\n",
    "    count = 0\n",
    "    arr.sort()\n",
    "    \n",
    "    for i in range(len(arr)):\n",
    "      count += self.searchPair(arr, target, i)\n",
    "    \n",
    "    return count\n",
    "  \n",
    "  def searchPair(self, arr, target, curr):\n",
    "    l = curr + 1\n",
    "    r = len(arr) - 1\n",
    "    count = 0\n",
    "    \n",
    "    while l < r:\n",
    "      if arr[curr] + arr[l] + arr[r] < target:\n",
    "        count += r - l\n",
    "        l += 1\n",
    "      else:\n",
    "        r -= 1\n",
    "        \n",
    "        \n",
    "    return count"
   ]
  },
  {
   "cell_type": "code",
   "execution_count": 16,
   "metadata": {},
   "outputs": [
    {
     "data": {
      "text/plain": [
       "4"
      ]
     },
     "execution_count": 16,
     "metadata": {},
     "output_type": "execute_result"
    }
   ],
   "source": [
    "arr = [-1, 4, 2, 1, 3]\n",
    "target=5 \n",
    "\n",
    "Solution().searchTriplets(arr, target)"
   ]
  },
  {
   "cell_type": "code",
   "execution_count": 17,
   "metadata": {},
   "outputs": [
    {
     "data": {
      "text/plain": [
       "2"
      ]
     },
     "execution_count": 17,
     "metadata": {},
     "output_type": "execute_result"
    }
   ],
   "source": [
    "arr = [-1, 0, 2, 3]\n",
    "target= 3\n",
    "\n",
    "Solution().searchTriplets(arr, target)"
   ]
  }
 ],
 "metadata": {
  "kernelspec": {
   "display_name": "Python 3",
   "language": "python",
   "name": "python3"
  },
  "language_info": {
   "codemirror_mode": {
    "name": "ipython",
    "version": 3
   },
   "file_extension": ".py",
   "mimetype": "text/x-python",
   "name": "python",
   "nbconvert_exporter": "python",
   "pygments_lexer": "ipython3",
   "version": "3.9.6"
  }
 },
 "nbformat": 4,
 "nbformat_minor": 2
}
