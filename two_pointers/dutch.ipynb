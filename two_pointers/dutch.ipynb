{
 "cells": [
  {
   "cell_type": "code",
   "execution_count": 1,
   "metadata": {},
   "outputs": [],
   "source": [
    "class Solution:\n",
    "  def sort(self, arr):\n",
    "    # all elements < low are 0, and all elements > high are 2\n",
    "    # all elements from >= low < i are 1\n",
    "    low, high = 0, len(arr) - 1\n",
    "    i = 0\n",
    "    while(i <= high):\n",
    "      if arr[i] == 0:\n",
    "        arr[i], arr[low] = arr[low], arr[i]\n",
    "        # increment 'i' and 'low'\n",
    "        i += 1\n",
    "        low += 1\n",
    "      elif arr[i] == 1:\n",
    "        i += 1\n",
    "      else:  # the case for arr[i] == 2\n",
    "        arr[i], arr[high] = arr[high], arr[i]\n",
    "        # decrement 'high' only, after the swap the number at index 'i' could be 0, 1 or 2\n",
    "        high -= 1\n",
    "    return arr"
   ]
  },
  {
   "cell_type": "code",
   "execution_count": 2,
   "metadata": {},
   "outputs": [
    {
     "name": "stdout",
     "output_type": "stream",
     "text": [
      "[0, 0, 1, 1, 2]\n",
      "[0, 0, 1, 2, 2, 2]\n"
     ]
    }
   ],
   "source": [
    "sol = Solution()\n",
    "arr = [1, 0, 2, 1, 0]\n",
    "arr = sol.sort(arr)\n",
    "print(arr)\n",
    "\n",
    "arr = [2, 2, 0, 1, 2, 0]\n",
    "arr = sol.sort(arr)\n",
    "print(arr)\n"
   ]
  },
  {
   "cell_type": "markdown",
   "metadata": {},
   "source": []
  }
 ],
 "metadata": {
  "kernelspec": {
   "display_name": "Python 3",
   "language": "python",
   "name": "python3"
  },
  "language_info": {
   "codemirror_mode": {
    "name": "ipython",
    "version": 3
   },
   "file_extension": ".py",
   "mimetype": "text/x-python",
   "name": "python",
   "nbconvert_exporter": "python",
   "pygments_lexer": "ipython3",
   "version": "3.9.6"
  }
 },
 "nbformat": 4,
 "nbformat_minor": 2
}
