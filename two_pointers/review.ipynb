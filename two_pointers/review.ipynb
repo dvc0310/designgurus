{
 "cells": [
  {
   "cell_type": "code",
   "execution_count": null,
   "metadata": {},
   "outputs": [],
   "source": [
    "class Solution:\n",
    "    def searchTriplets(self, arr):\n",
    "        triplets = []\n",
    "        arr.sort()\n",
    "        for i in range(len(arr)):\n",
    "            if i > 0 and arr[i] == arr[i-1]:\n",
    "                continue\n",
    "            l = i + 1\n",
    "            r = len(arr) - 1\n",
    "            while l < r:\n",
    "                triplet_sum = arr[i] + arr[l] + arr[r]\n",
    "                if triplet_sum < 0:\n",
    "                    l += 1\n",
    "                elif triplet_sum > 0:\n",
    "                    r -= 1\n",
    "                else:\n",
    "                    triplets.append([arr[i], arr[l], arr[r]])\n",
    "                    l += 1\n",
    "                    while l < r and arr[l] == arr[l - 1]:\n",
    "                        l += 1\n",
    "                    r -= 1\n",
    "                    while l < r and arr[r] == arr[r + 1]:\n",
    "                        r -= 1\n",
    "            \n",
    "        return triplets\n",
    "\n",
    "\n",
    "sol = Solution()"
   ]
  },
  {
   "cell_type": "code",
   "execution_count": 12,
   "metadata": {},
   "outputs": [
    {
     "data": {
      "text/plain": [
       "[[-3, 1, 2], [-2, 0, 2], [-2, 1, 1], [-1, 0, 1]]"
      ]
     },
     "execution_count": 12,
     "metadata": {},
     "output_type": "execute_result"
    }
   ],
   "source": [
    "arr = [-3, 0, 1, 2, -1, 1, -2]\n",
    "sol.searchTriplets(arr)"
   ]
  },
  {
   "cell_type": "code",
   "execution_count": 13,
   "metadata": {},
   "outputs": [
    {
     "data": {
      "text/plain": [
       "[[-5, 2, 3], [-2, -1, 3]]"
      ]
     },
     "execution_count": 13,
     "metadata": {},
     "output_type": "execute_result"
    }
   ],
   "source": [
    "arr = [-5, 2, -1, -2, 3]\n",
    "sol.searchTriplets(arr)"
   ]
  }
 ],
 "metadata": {
  "kernelspec": {
   "display_name": "3.9.6",
   "language": "python",
   "name": "python3"
  },
  "language_info": {
   "codemirror_mode": {
    "name": "ipython",
    "version": 3
   },
   "file_extension": ".py",
   "mimetype": "text/x-python",
   "name": "python",
   "nbconvert_exporter": "python",
   "pygments_lexer": "ipython3",
   "version": "3.9.6"
  }
 },
 "nbformat": 4,
 "nbformat_minor": 2
}
