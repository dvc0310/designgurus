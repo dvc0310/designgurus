{
 "cells": [
  {
   "cell_type": "markdown",
   "metadata": {},
   "source": [
    "# Squaring a Sorted Array (easy)\n",
    "\n",
    "## Problem Statement\n",
    "Given a sorted array, create a new array containing squares of all the numbers of the input array in the sorted order.\n",
    "\n",
    "Example 1:\n",
    "``` Python\n",
    "Input: [-2, -1, 0, 2, 3]\n",
    "Output: [0, 1, 4, 4, 9]\n",
    "Example 2:\n",
    "\n",
    "Input: [-3, -1, 0, 1, 2]\n",
    "Output: [0, 1, 1, 4, 9]\n",
    "Constraints:\n",
    "\n",
    "1 <= arr.length <= 104\n",
    "-104 <= arr[i] <= 104\n",
    "arr is sorted in non-decreasing order.\n",
    "```"
   ]
  },
  {
   "cell_type": "code",
   "execution_count": 22,
   "metadata": {},
   "outputs": [
    {
     "data": {
      "text/plain": [
       "[1, 4, 9]"
      ]
     },
     "execution_count": 22,
     "metadata": {},
     "output_type": "execute_result"
    }
   ],
   "source": [
    "def makeSquares(arr):\n",
    "    n = len(arr)\n",
    "    l = 0\n",
    "    squares = [0 for x in range(n)]\n",
    "    r = n - 1\n",
    "    pos = r\n",
    "    # TODO: Write your code here\n",
    "    while l <= r:\n",
    "        right = arr[r] ** 2\n",
    "        left = arr[l] ** 2\n",
    "        if right > left:\n",
    "            squares[pos] = right\n",
    "            r -= 1\n",
    "        else:\n",
    "            squares[pos] = left\n",
    "            l += 1\n",
    "        pos -= 1\n",
    "        \n",
    "    return squares\n",
    "\n",
    "arr = [-3, -2, -1]\n",
    "\n",
    "makeSquares(arr)"
   ]
  },
  {
   "cell_type": "markdown",
   "metadata": {},
   "source": [
    "# Why this works"
   ]
  },
  {
   "cell_type": "markdown",
   "metadata": {},
   "source": [
    "We know that if the array is ordered, the outermost numbers in the array are the largest numbers when it is squared. So all we have to do is use 3 different pointers. We will have the left pointer start at the 0 index and the right pointer at the end of the array. The third pointer will point to the squares array starting from the right. So the algorithm will work like the following:\n",
    "\n",
    "1. Set a pointer ```l``` at the start of the array, and set a pointer ```r``` at the end.\n",
    "2. Create a pointer ```pos``` that will point to the end of the ```squares``` array.\n",
    "3. Create a loop that will keep going until r < l. Here, take the following steps:\n",
    "    - Square the numbers ```left``` = ```arr[r] ** 2``` and ```right``` = ```arr[l] ** 2```\n",
    "    - Compare the squared numbers\n",
    "    - If left > right, then set squared[pos] to left\n",
    "    - If that condition does not hold, set squared[pos] to right\n",
    "    - decrement the ```pos``` variable\n",
    "4. Now the array ```squares``` will have sorted squares"
   ]
  }
 ],
 "metadata": {
  "kernelspec": {
   "display_name": "Python 3",
   "language": "python",
   "name": "python3"
  },
  "language_info": {
   "codemirror_mode": {
    "name": "ipython",
    "version": 3
   },
   "file_extension": ".py",
   "mimetype": "text/x-python",
   "name": "python",
   "nbconvert_exporter": "python",
   "pygments_lexer": "ipython3",
   "version": "3.9.6"
  }
 },
 "nbformat": 4,
 "nbformat_minor": 2
}
