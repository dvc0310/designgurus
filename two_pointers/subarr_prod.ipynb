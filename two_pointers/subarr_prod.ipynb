{
 "cells": [
  {
   "cell_type": "markdown",
   "metadata": {},
   "source": [
    "# Subarrays with Product Less than a Target (medium)\n",
    "\n",
    "## Problem Statement\n",
    "Given an array with positive numbers and a positive target number, find all of its contiguous subarrays whose product is less than the target number.\n",
    "\n",
    "```python\n",
    "Example 1:\n",
    "Input: [2, 5, 3, 10], target=30                                              \n",
    "Output: [2], [5], [2, 5], [3], [5, 3], [10]                           \n",
    "Explanation: There are six contiguous subarrays whose product is less than the target.\n",
    "```\n",
    "\n",
    "```python\n",
    "Example 2:\n",
    "Input: [8, 2, 6, 5], target=50                                              \n",
    "Output: [8], [2], [8, 2], [6], [2, 6], [5], [6, 5]                         \n",
    "Explanation: There are seven contiguous subarrays whose product is less than the target.\n",
    "```\n",
    "\n",
    "```python\n",
    "Constraints:\n",
    "1 <= arr.length <= 3 * 104\n",
    "1 <= arr[i] <= 1000\n",
    "0 <= k <= 106\n",
    "```"
   ]
  },
  {
   "cell_type": "code",
   "execution_count": 24,
   "metadata": {},
   "outputs": [],
   "source": [
    "class Solution:\n",
    "  def findSubarrays(self, arr, target):\n",
    "    result = []\n",
    "    for i in range(len(arr)):\n",
    "        product = arr[i]\n",
    "        if product >= target:\n",
    "            continue\n",
    "        lst = [arr[i]]\n",
    "        result.append(lst.copy())\n",
    "        r = i\n",
    "        while product < target:\n",
    "            r += 1\n",
    "            if r < len(arr) and product * arr[r] < target:\n",
    "                lst.append(arr[r])\n",
    "                result.append(lst.copy())\n",
    "                product *= arr[r]\n",
    "            else:\n",
    "                break\n",
    "\n",
    "    return result"
   ]
  },
  {
   "cell_type": "code",
   "execution_count": 25,
   "metadata": {},
   "outputs": [
    {
     "data": {
      "text/plain": [
       "[[2], [2, 5], [5], [5, 3], [3], [10]]"
      ]
     },
     "execution_count": 25,
     "metadata": {},
     "output_type": "execute_result"
    }
   ],
   "source": [
    "arr = [2, 5, 3, 10]\n",
    "target = 30\n",
    "Solution().findSubarrays(arr, target)"
   ]
  }
 ],
 "metadata": {
  "kernelspec": {
   "display_name": "Python 3",
   "language": "python",
   "name": "python3"
  },
  "language_info": {
   "codemirror_mode": {
    "name": "ipython",
    "version": 3
   },
   "file_extension": ".py",
   "mimetype": "text/x-python",
   "name": "python",
   "nbconvert_exporter": "python",
   "pygments_lexer": "ipython3",
   "version": "3.9.6"
  }
 },
 "nbformat": 4,
 "nbformat_minor": 2
}
