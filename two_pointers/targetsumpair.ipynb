{
 "cells": [
  {
   "cell_type": "markdown",
   "metadata": {},
   "source": [
    "# Pair with Target Sum (easy)"
   ]
  },
  {
   "cell_type": "markdown",
   "metadata": {},
   "source": [
    "\n",
    "## Problem Statement\n",
    "Given an array of numbers sorted in ascending order and a target sum, find a pair in the array whose sum is equal to the given target.\n",
    "\n",
    "Write a function to return the indices of the two numbers (i.e. the pair) such that they add up to the given target. If no such pair exists return [-1, -1].\n",
    "\n",
    "Example 1:\n",
    "\n",
    "```python\n",
    "Input: [1, 2, 3, 4, 6], target=6\n",
    "Output: [1, 3]\n",
    "Explanation: The numbers at index 1 and 3 add up to 6: 2+4=6\n",
    "Example 2:\n",
    "\n",
    "Input: [2, 5, 9, 11], target=11\n",
    "Output: [0, 2]\n",
    "Explanation: The numbers at index 0 and 2 add up to 11: 2+9=11\n",
    "Constraints:\n",
    "\n",
    "2 <= arr.length <= 104\n",
    "-109 <= arr[i] <= 109\n",
    "-109 <= target <= 109\n",
    "Only one valid answer exists.\n",
    "```"
   ]
  },
  {
   "cell_type": "code",
   "execution_count": 7,
   "metadata": {},
   "outputs": [
    {
     "data": {
      "text/plain": [
       "[-1, -1]"
      ]
     },
     "execution_count": 7,
     "metadata": {},
     "output_type": "execute_result"
    }
   ],
   "source": [
    "lst = [1, 2, 3, 4, 5]\n",
    "target = 10\n",
    "\n",
    "def search(arr, target_sum):\n",
    "    right = len(arr) - 1\n",
    "\n",
    "    for left, num in enumerate(arr):\n",
    "        while num + arr[right] > target_sum and left < right:\n",
    "            right -= 1\n",
    "        if num + arr[right] == target_sum and left < right:\n",
    "            return [left, right]\n",
    "    return [-1,-1]\n",
    "\n",
    "search(lst, target)\n"
   ]
  }
 ],
 "metadata": {
  "kernelspec": {
   "display_name": "Python 3",
   "language": "python",
   "name": "python3"
  },
  "language_info": {
   "codemirror_mode": {
    "name": "ipython",
    "version": 3
   },
   "file_extension": ".py",
   "mimetype": "text/x-python",
   "name": "python",
   "nbconvert_exporter": "python",
   "pygments_lexer": "ipython3",
   "version": "3.9.6"
  }
 },
 "nbformat": 4,
 "nbformat_minor": 2
}
