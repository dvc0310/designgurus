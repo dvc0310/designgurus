{
 "cells": [
  {
   "cell_type": "markdown",
   "metadata": {},
   "source": [
    "# Find Non-Duplicate Number Instances (easy)\n",
    "## Problem Statement\n",
    "Given an array of sorted numbers, move all non-duplicate number instances at the beginning of the array in-place. The non-duplicate numbers should be sorted and you should not use any extra space so that the solution has constant space complexity i.e., .\n",
    "\n",
    "Move all the unique number instances at the beginning of the array and after moving return the length of the subarray that has no duplicate in it.\n",
    "\n",
    "```Python\n",
    "Example 1:\n",
    "\n",
    "Input: [2, 3, 3, 3, 6, 9, 9]\n",
    "Output: 4\n",
    "Explanation: The first four elements after moving element will be [2, 3, 6, 9].\n",
    "Example 2:\n",
    "\n",
    "Input: [2, 2, 2, 11]\n",
    "Output: 2\n",
    "Explanation: The first two elements after moving elements will be [2, 11].\n",
    "Constraints:\n",
    "\n",
    "1 <= nums.length <= 3 * 104\n",
    "-100 <= nums[i] <= 100\n",
    "nums is sorted in non-decreasing order.\n",
    "```"
   ]
  },
  {
   "cell_type": "code",
   "execution_count": 20,
   "metadata": {},
   "outputs": [
    {
     "data": {
      "text/plain": [
       "[2, 3, 6, 9, 10, 11, 9, 3, 10, 3]"
      ]
     },
     "execution_count": 20,
     "metadata": {},
     "output_type": "execute_result"
    }
   ],
   "source": [
    "arr = [2, 3, 3, 3, 6, 9, 9, 10, 10, 11]\n",
    "\n",
    "def moveElements(arr):\n",
    "    # Initialize the index for the next non-duplicate element\n",
    "    mark = 1\n",
    "\n",
    "    for i, num in enumerate(arr):\n",
    "        if arr[mark - 1] != num:\n",
    "            arr[mark], arr[i] = num, arr[mark]\n",
    "            mark += 1\n",
    "\n",
    "    return arr\n",
    "\n",
    "moveElements(arr)"
   ]
  },
  {
   "cell_type": "markdown",
   "metadata": {},
   "source": [
    "# Similar Question"
   ]
  },
  {
   "cell_type": "markdown",
   "metadata": {},
   "source": [
    "## Problem 1: \n",
    "\n",
    "Given an unsorted array of numbers and a target ‘key’, remove all instances of ‘key’ in-place and return the new length of the array.\n",
    "\n",
    "```Python\n",
    "Example 1:\n",
    "\n",
    "Input: [3, 2, 3, 6, 3, 10, 9, 3], Key=3\n",
    "Output: 4\n",
    "Explanation: The first four elements after removing every 'Key' will be [2, 6, 10, 9].\n",
    "Example 2:\n",
    "\n",
    "Input: [2, 11, 2, 2, 1], Key=2\n",
    "Output: 2\n",
    "Explanation: The first two elements after removing every 'Key' will be [11, 1].\n",
    "```"
   ]
  },
  {
   "cell_type": "code",
   "execution_count": 35,
   "metadata": {},
   "outputs": [
    {
     "data": {
      "text/plain": [
       "[2, 6, 7, 10, 9, 3, 3, 3, 3, 3]"
      ]
     },
     "execution_count": 35,
     "metadata": {},
     "output_type": "execute_result"
    }
   ],
   "source": [
    "arr = [3, 2, 3, 6, 7, 3, 3, 10, 9, 3]\n",
    "key = 3\n",
    "def moveElements2(arr, key):\n",
    "    # Initialize the index for the next non-duplicate element\n",
    "    mark = 0\n",
    "\n",
    "    for i, num in enumerate(arr):\n",
    "        if num != key:\n",
    "            arr[mark], arr[i] = num, arr[mark]\n",
    "            mark += 1\n",
    "\n",
    "    return arr\n",
    "\n",
    "moveElements2(arr, key)"
   ]
  },
  {
   "cell_type": "markdown",
   "metadata": {},
   "source": [
    "# Why this works"
   ]
  },
  {
   "cell_type": "markdown",
   "metadata": {},
   "source": [
    "The two algorithms shown work because switching ```arr[mark]``` and ```arr[i]``` when ```arr[i]``` meets a certain condition means that ```arr[0:mark+1]``` will strictly contain elements that meet that same condition."
   ]
  },
  {
   "cell_type": "markdown",
   "metadata": {},
   "source": [
    "In the case of ```moveElements```, that condition is that ```arr[mark - 1]``` is not equal to ```arr[i]```. This basically checks whether or not the previously marked duplicate number is not equal to the current number.\n",
    "\n",
    "We check ```arr[mark - 1]``` specifically because we're trying not to swap a new ```arr[i]``` next to a number that IS equal. For example, if we have ```[1,2,2,3]```, and the mark is currently at index 2, and i is at index 3, we're checking to see if ```arr[3] == arr[1]```, so that we don't have consecutive numbers. "
   ]
  }
 ],
 "metadata": {
  "kernelspec": {
   "display_name": "Python 3",
   "language": "python",
   "name": "python3"
  },
  "language_info": {
   "codemirror_mode": {
    "name": "ipython",
    "version": 3
   },
   "file_extension": ".py",
   "mimetype": "text/x-python",
   "name": "python",
   "nbconvert_exporter": "python",
   "pygments_lexer": "ipython3",
   "version": "3.9.6"
  }
 },
 "nbformat": 4,
 "nbformat_minor": 2
}
