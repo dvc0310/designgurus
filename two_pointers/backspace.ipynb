{
 "cells": [
  {
   "cell_type": "markdown",
   "metadata": {},
   "source": [
    "# Problem Challenge 2: Comparing Strings containing Backspaces (medium)\n",
    "\n",
    "## Problem Statement\n",
    "Given two strings containing backspaces (identified by the character ‘#’), check if the two strings are equal.\n",
    "\n",
    "```Python \n",
    "\n",
    "Example 1:\n",
    "Input: str1=\"xy#z\", str2=\"xzz#\"\n",
    "Output: true\n",
    "Explanation: After applying backspaces the strings become \"xz\" and \"xz\" respectively.\n",
    "\n",
    "Example 2:\n",
    "Input: str1=\"xy#z\", str2=\"xyz#\"\n",
    "Output: false\n",
    "Explanation: After applying backspaces the strings become \"xz\" and \"xy\" respectively.\n",
    "\n",
    "Example 3:\n",
    "Input: str1=\"xp#\", str2=\"xyz##\"\n",
    "Output: true\n",
    "Explanation: After applying backspaces the strings become \"x\" and \"x\" respectively.\n",
    "In \"xyz##\", the first '#' removes the character 'z' and the second '#' removes the character 'y'.\n",
    "\n",
    "Example 4:\n",
    "Input: str1=\"xywrrmp\", str2=\"xywrrmu#p\"\n",
    "Output: true\n",
    "Explanation: After applying backspaces the strings become \"xywrrmp\" and \"xywrrmp\" respectively.\n",
    "Constraints:\n",
    "\n",
    "1 <= str1.length, str2.length <= 200\n",
    "str1 and str2 only contain lowercase letters and '#' characters\n",
    "```"
   ]
  },
  {
   "cell_type": "code",
   "execution_count": 8,
   "metadata": {},
   "outputs": [],
   "source": [
    "class Solution:\n",
    "    def compare(self, str1, str2):\n",
    "        return self.backspace(str1) == self.backspace(str2)\n",
    "\n",
    "    def backspace(self, s):\n",
    "        stack = []\n",
    "        \n",
    "        for char in s:\n",
    "            if char == '#':\n",
    "                if stack:\n",
    "                    stack.pop()\n",
    "            else:\n",
    "                stack.append(char)\n",
    "        \n",
    "        return ''.join(stack)\n"
   ]
  },
  {
   "cell_type": "code",
   "execution_count": 9,
   "metadata": {},
   "outputs": [
    {
     "name": "stdout",
     "output_type": "stream",
     "text": [
      "\n"
     ]
    }
   ],
   "source": [
    "s = \"xy#z##\"\n",
    "answer =  ''\n",
    "print(Solution().backspace(s))"
   ]
  },
  {
   "cell_type": "code",
   "execution_count": 1,
   "metadata": {},
   "outputs": [],
   "source": [
    "class Solution:\n",
    "    def compare(self, str1, str2):\n",
    "        p1 = len(str1) - 1\n",
    "        p2 = len(str2) - 1\n",
    "\n",
    "        while p1 >= 0 or p2 >= 0:\n",
    "            p1 = self.find_next_char(str1, p1)\n",
    "            p2 = self.find_next_char(str2, p2)\n",
    "\n",
    "            if p1 >= 0 and p2 >= 0 and str1[p1] != str2[p2]:\n",
    "                return False\n",
    "\n",
    "            if (p1 >= 0) != (p2 >= 0):  # One pointer is at a valid character while the other is not\n",
    "                return False\n",
    "\n",
    "            p1 -= 1\n",
    "            p2 -= 1\n",
    "\n",
    "        return True\n",
    "\n",
    "    def find_next_char(self, s, index):\n",
    "        backspace_count = 0\n",
    "        while index >= 0:\n",
    "            if s[index] == '#':\n",
    "                backspace_count += 1\n",
    "            elif backspace_count > 0:\n",
    "                backspace_count -= 1\n",
    "            else:\n",
    "                break\n",
    "            index -= 1\n",
    "        return index\n"
   ]
  },
  {
   "cell_type": "code",
   "execution_count": 2,
   "metadata": {},
   "outputs": [
    {
     "data": {
      "text/plain": [
       "True"
      ]
     },
     "execution_count": 2,
     "metadata": {},
     "output_type": "execute_result"
    }
   ],
   "source": [
    "Solution().compare(\"xywr#d##bc\", \"xybc\")"
   ]
  },
  {
   "cell_type": "code",
   "execution_count": 5,
   "metadata": {},
   "outputs": [],
   "source": [
    "class Solution:\n",
    "    def compare(self, str1, str2):\n",
    "        return self.backspace(str1) == self.backspace(str2)\n",
    "\n",
    "    def backspace(self, s):\n",
    "        backspace_count = 0\n",
    "        c = len(s) - 1\n",
    "        m_s = ''\n",
    "        while c >= 0:\n",
    "            if s[c] == '#':\n",
    "                backspace_count += 1\n",
    "            else:\n",
    "                if backspace_count == 0:\n",
    "                    m_s = s[c] + m_s\n",
    "                else:\n",
    "                    backspace_count -= 1\n",
    "            c -= 1\n",
    "        \n",
    "        \n",
    "        return m_s\n"
   ]
  },
  {
   "cell_type": "code",
   "execution_count": 6,
   "metadata": {},
   "outputs": [
    {
     "data": {
      "text/plain": [
       "'xybc'"
      ]
     },
     "execution_count": 6,
     "metadata": {},
     "output_type": "execute_result"
    }
   ],
   "source": [
    "sol = Solution()\n",
    "sol.backspace('xywr#d##bc')"
   ]
  }
 ],
 "metadata": {
  "kernelspec": {
   "display_name": "3.9.6",
   "language": "python",
   "name": "python3"
  },
  "language_info": {
   "codemirror_mode": {
    "name": "ipython",
    "version": 3
   },
   "file_extension": ".py",
   "mimetype": "text/x-python",
   "name": "python",
   "nbconvert_exporter": "python",
   "pygments_lexer": "ipython3",
   "version": "3.9.6"
  }
 },
 "nbformat": 4,
 "nbformat_minor": 2
}
