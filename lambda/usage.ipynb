{
 "cells": [
  {
   "cell_type": "code",
   "execution_count": 50,
   "metadata": {},
   "outputs": [],
   "source": [
    "from lambda_ import *\n",
    "\n",
    "# (* TESTS *)\n",
    "m1 = App(Var(\"x\"), Var(\"y\"))\n",
    "m2 = App(Lam(\"z\", Var(\"z\")), Var(\"w\"))\n",
    "m3 = App(Lam(\"z\", Var(\"x\")), Var(\"w\"))\n",
    "m4 = App(App(Lam(\"z\", Var(\"z\")), Lam(\"x\", Var(\"x\"))), Var(\"w\"))\n",
    "\n",
    "m1_zforx = subst(m1, \"x\", Var(\"z\"))\n",
    "m1_m2fory = subst(m1, \"y\", m2)\n",
    "m2_ughforz = subst(m2, \"z\", Var(\"ugh\"))\n",
    "m3_zforx = subst(m3, \"x\", Var(\"z\"))\n",
    "m1_m3fory = subst(m1, \"y\", m3)"
   ]
  },
  {
   "cell_type": "code",
   "execution_count": 51,
   "metadata": {},
   "outputs": [],
   "source": [
    "first =   App(\n",
    "    Lam(\"x\", Lam(\"y\", Var(\"x\"))),     \n",
    "    Lam(\"x\", Lam(\"y\", Var(\"y\")))      \n",
    "  )\n",
    "second = Lam(\"x\", Lam(\"y\", Var(\"x\")))"
   ]
  },
  {
   "cell_type": "code",
   "execution_count": 52,
   "metadata": {},
   "outputs": [
    {
     "data": {
      "text/plain": [
       "Lam(y, Lam(x, Lam(y, Var(y))))"
      ]
     },
     "execution_count": 52,
     "metadata": {},
     "output_type": "execute_result"
    }
   ],
   "source": [
    "r1 = reduce(first)\n",
    "r1"
   ]
  },
  {
   "cell_type": "code",
   "execution_count": 53,
   "metadata": {},
   "outputs": [
    {
     "data": {
      "text/plain": [
       "Lam(x, Lam(y, Var(x)))"
      ]
     },
     "execution_count": 53,
     "metadata": {},
     "output_type": "execute_result"
    }
   ],
   "source": [
    "r2 = reduce(second)\n",
    "r2"
   ]
  },
  {
   "cell_type": "code",
   "execution_count": 54,
   "metadata": {},
   "outputs": [
    {
     "data": {
      "text/plain": [
       "Lam(x, Lam(y, Var(y)))"
      ]
     },
     "execution_count": 54,
     "metadata": {},
     "output_type": "execute_result"
    }
   ],
   "source": [
    "t = App(\n",
    "  App(\n",
    "    Lam(\"x\", Lam(\"y\", Var(\"x\"))),     \n",
    "    Lam(\"x\", Lam(\"y\", Var(\"y\")))      \n",
    "  ),\n",
    "  Lam(\"x\", Lam(\"y\", Var(\"x\")))       \n",
    ")\n",
    "\n",
    "reduce_multi(t)"
   ]
  },
  {
   "cell_type": "code",
   "execution_count": 55,
   "metadata": {},
   "outputs": [
    {
     "data": {
      "text/plain": [
       "Lam(y, Lam(y, Var(y)))"
      ]
     },
     "execution_count": 55,
     "metadata": {},
     "output_type": "execute_result"
    }
   ],
   "source": [
    "t2 = App(Lam(\"x\", Lam(\"y\", Var(\"x\"))), Lam(\"y\", Var(\"y\")))\n",
    "reduce_multi(t2)"
   ]
  },
  {
   "cell_type": "code",
   "execution_count": 56,
   "metadata": {},
   "outputs": [
    {
     "data": {
      "text/plain": [
       "Var(b)"
      ]
     },
     "execution_count": 56,
     "metadata": {},
     "output_type": "execute_result"
    }
   ],
   "source": [
    "t3 = App(\n",
    "    App(\n",
    "        Lam(\"x\", Lam(\"y\", Var(\"y\"))),  # Outer lambda: λx.λy.y\n",
    "        Var(\"a\")                        # First argument: a\n",
    "    ),\n",
    "    Var(\"b\")                            # Second argument: b\n",
    ")\n",
    "\n",
    "reduce_multi(t3)\n"
   ]
  },
  {
   "cell_type": "code",
   "execution_count": 57,
   "metadata": {},
   "outputs": [
    {
     "name": "stdout",
     "output_type": "stream",
     "text": [
      "App(Var(u), Var(1))\n"
     ]
    }
   ],
   "source": [
    "t1 = App(\n",
    "    Lam(\"x\", App(Var(\"x\"), Var(\"1\"))),  # λx. (x + 1)\n",
    "    Var(\"u\")                            # Argument: u\n",
    ")\n",
    "\n",
    "result = reduce_multi(t1)\n",
    "print(result)\n",
    "# Expected Output: App(Var(\"u\"), Var(\"1\")) (substitution applied to the body)\n"
   ]
  },
  {
   "cell_type": "code",
   "execution_count": 58,
   "metadata": {},
   "outputs": [
    {
     "name": "stdout",
     "output_type": "stream",
     "text": [
      "App(Var(f), Var(z))\n"
     ]
    }
   ],
   "source": [
    "t2 = App(\n",
    "    Lam(\"x\", App(Var(\"f\"), Var(\"x\"))),  # λx. (f x)\n",
    "    Var(\"z\")                            # Argument: z\n",
    ")\n",
    "\n",
    "result = reduce_multi(t2)\n",
    "print(result)\n",
    "# Expected Output: App(Var(\"f\"), Var(\"z\")) (z substituted for x in the body)\n"
   ]
  },
  {
   "cell_type": "code",
   "execution_count": 59,
   "metadata": {},
   "outputs": [
    {
     "name": "stdout",
     "output_type": "stream",
     "text": [
      "App(Var(y), Var(x))\n"
     ]
    }
   ],
   "source": [
    "t3 = App(\n",
    "    Lam(\"x\", App(Var(\"y\"), Var(\"x\"))),  # λx. (y x)\n",
    "    Var(\"x\")                            # Argument: x\n",
    ")\n",
    "\n",
    "result = reduce_multi(t3)\n",
    "print(result)\n",
    "# Expected Output: Lam(\"v0\", App(Var(\"x\"), Var(\"v0\"))) (alpha-conversion applied)\n"
   ]
  },
  {
   "cell_type": "code",
   "execution_count": 60,
   "metadata": {},
   "outputs": [
    {
     "name": "stdout",
     "output_type": "stream",
     "text": [
      "Lam(z, App(Var(y), Var(z)))\n"
     ]
    }
   ],
   "source": [
    "t3 = App(\n",
    "    Lam(\"x\", Lam(\"z\", App(Var(\"x\"), Var(\"z\")))),  # λx. (y x)\n",
    "    Var(\"y\")                            # Argument: x\n",
    ")\n",
    "\n",
    "result = reduce_multi(t3)\n",
    "print(result)"
   ]
  },
  {
   "cell_type": "code",
   "execution_count": 61,
   "metadata": {},
   "outputs": [
    {
     "name": "stdout",
     "output_type": "stream",
     "text": [
      "Lam(x, Var(x))\n"
     ]
    }
   ],
   "source": [
    "t3 = App(\n",
    "    Lam(\"x\", Lam(\"x\", Var(\"x\"))),  # λx. (y x)\n",
    "    Var(\"a\")                            # Argument: x\n",
    ")\n",
    "\n",
    "result = reduce_multi(t3)\n",
    "print(result)"
   ]
  },
  {
   "cell_type": "code",
   "execution_count": 62,
   "metadata": {},
   "outputs": [
    {
     "name": "stdout",
     "output_type": "stream",
     "text": [
      "Lam(z39, Var(x))\n"
     ]
    }
   ],
   "source": [
    "# Total: (λy. (λx. y)) x\n",
    "# lambda y. (lambda x. y)\n",
    "outer = Lam(\n",
    "    \"y\",\n",
    "    Lam(\"x\", Var(\"y\"))\n",
    ")\n",
    "\n",
    "# The application: (outer) x \n",
    "t = App(\n",
    "    outer,      # (lambda y. (lambda x. y))\n",
    "    Var(\"x\")    # argument: x\n",
    ")\n",
    "\n",
    "\n",
    "result = reduce(t)\n",
    "print(result)"
   ]
  }
 ],
 "metadata": {
  "kernelspec": {
   "display_name": "3.9.6",
   "language": "python",
   "name": "python3"
  },
  "language_info": {
   "codemirror_mode": {
    "name": "ipython",
    "version": 3
   },
   "file_extension": ".py",
   "mimetype": "text/x-python",
   "name": "python",
   "nbconvert_exporter": "python",
   "pygments_lexer": "ipython3",
   "version": "3.9.6"
  }
 },
 "nbformat": 4,
 "nbformat_minor": 2
}
