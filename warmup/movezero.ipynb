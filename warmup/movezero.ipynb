{
 "cells": [
  {
   "cell_type": "markdown",
   "metadata": {},
   "source": [
    "# Move Zeros"
   ]
  },
  {
   "cell_type": "code",
   "execution_count": 12,
   "metadata": {},
   "outputs": [],
   "source": [
    "class Solution(object):\n",
    "    def moveZeroes(self, nums):\n",
    "        \"\"\"\n",
    "        :type nums: List[int]\n",
    "        :rtype: None Do not return anything, modify nums in-place instead.\n",
    "        \"\"\"\n",
    "        if len(nums) == 0 or len(nums) == 1:\n",
    "            return nums\n",
    "\n",
    "        i = 0\n",
    "        while i < len(nums) and nums[i] != 0:\n",
    "            i += 1\n",
    "        if i == len(nums):\n",
    "            return\n",
    "        j = i\n",
    "\n",
    "        while j < len(nums):\n",
    "            if nums[j] != 0:\n",
    "                nums[i], nums[j] = nums[j], nums[i]\n",
    "                i += 1\n",
    "            j += 1\n",
    "        \n",
    "                "
   ]
  },
  {
   "cell_type": "code",
   "execution_count": 10,
   "metadata": {},
   "outputs": [],
   "source": [
    "nums = [2,1]"
   ]
  },
  {
   "cell_type": "code",
   "execution_count": 13,
   "metadata": {},
   "outputs": [],
   "source": [
    "Solution().moveZeroes(nums)"
   ]
  },
  {
   "cell_type": "code",
   "execution_count": 8,
   "metadata": {},
   "outputs": [
    {
     "name": "stdout",
     "output_type": "stream",
     "text": [
      "[1, 3, 12, 0, 0]\n"
     ]
    }
   ],
   "source": [
    "print(nums)"
   ]
  },
  {
   "cell_type": "markdown",
   "metadata": {},
   "source": [
    "# Maximum Average Subarray I"
   ]
  },
  {
   "cell_type": "code",
   "execution_count": 47,
   "metadata": {},
   "outputs": [],
   "source": [
    "class Solution(object):\n",
    "    def findMaxAverage(self, nums, k):\n",
    "        \"\"\"\n",
    "        :type nums: List[int]\n",
    "        :type k: int\n",
    "        :rtype: float\n",
    "        \"\"\"\n",
    "        start = 0\n",
    "        end = start + k\n",
    "        max_total = sum(nums[start:end])\n",
    "        total = sum(nums[start:end])\n",
    "        for start in range(1,len(nums)):\n",
    "            end = start + k\n",
    "            if end > len(nums):\n",
    "                return max_total / k\n",
    "            total = total - nums[start-1] + nums[end-1]\n",
    "            max_total = max(max_total, total)\n",
    "        return max_total / k"
   ]
  },
  {
   "cell_type": "code",
   "execution_count": 49,
   "metadata": {},
   "outputs": [],
   "source": [
    "nums = [1,12,-5,-6,50,3]\n",
    "\n",
    "k = 4"
   ]
  },
  {
   "cell_type": "code",
   "execution_count": 50,
   "metadata": {},
   "outputs": [
    {
     "name": "stdout",
     "output_type": "stream",
     "text": [
      "12.75\n"
     ]
    }
   ],
   "source": [
    "print(Solution().findMaxAverage(nums, k))"
   ]
  },
  {
   "cell_type": "markdown",
   "metadata": {},
   "source": [
    "# Reverse Linked List"
   ]
  },
  {
   "cell_type": "code",
   "execution_count": 16,
   "metadata": {},
   "outputs": [],
   "source": [
    "# Definition for singly-linked list.\n",
    "class ListNode(object):\n",
    "    def __init__(self, val=0, next=None):\n",
    "         self.val = val\n",
    "         self.next = next\n",
    "    def __str__(self):\n",
    "        # Function to convert the linked list to string representation\n",
    "        result = \"\"\n",
    "        current = self\n",
    "        while current:\n",
    "            result += str(current.val)\n",
    "            if current.next:\n",
    "                result += \" -> \"\n",
    "            current = current.next\n",
    "        return result\n",
    "        \n",
    "    def __repr__(self):\n",
    "        # Function to provide a debug-mode string representation\n",
    "        return f\"ListNode(val={self.val}, next={self.next})\""
   ]
  },
  {
   "cell_type": "code",
   "execution_count": 17,
   "metadata": {},
   "outputs": [],
   "source": [
    "def create_linked_list(arr):\n",
    "    if not arr:\n",
    "        return None\n",
    "    \n",
    "    # Initialize the head of the linked list\n",
    "    head = ListNode(arr[0])\n",
    "    current = head\n",
    "    \n",
    "    # Iterate through the array starting from the second element\n",
    "    for val in arr[1:]:\n",
    "        current.next = ListNode(val)\n",
    "        current = current.next\n",
    "    \n",
    "    return head"
   ]
  },
  {
   "cell_type": "code",
   "execution_count": 30,
   "metadata": {},
   "outputs": [],
   "source": [
    "class Solution(object):\n",
    "    def reverseList(self, head):\n",
    "        \"\"\"\n",
    "        :type head: ListNode\n",
    "        :rtype: ListNode\n",
    "        \"\"\"\n",
    "        prev = head\n",
    "        curr = head.next\n",
    "        while curr != None:\n",
    "            temp = curr.val\n",
    "            curr.val = prev.val\n",
    "            prev.val = temp\n",
    "            prev = prev.next\n",
    "            curr = curr.next\n",
    "\n",
    "        return head"
   ]
  },
  {
   "cell_type": "code",
   "execution_count": 31,
   "metadata": {},
   "outputs": [
    {
     "name": "stdout",
     "output_type": "stream",
     "text": [
      "1 -> 2 -> 3 -> 4 -> 5\n"
     ]
    }
   ],
   "source": [
    "head = create_linked_list([1,2,3,4,5])\n",
    "print(head)"
   ]
  },
  {
   "cell_type": "code",
   "execution_count": 32,
   "metadata": {},
   "outputs": [
    {
     "name": "stdout",
     "output_type": "stream",
     "text": [
      "2 -> 3 -> 4 -> 5 -> 1\n"
     ]
    }
   ],
   "source": [
    "print(Solution().reverseList(head))"
   ]
  },
  {
   "cell_type": "code",
   "execution_count": 7,
   "metadata": {},
   "outputs": [],
   "source": [
    "class Solution2(object):\n",
    "    def reverseList(self, head):\n",
    "        \"\"\"\n",
    "        :type head: ListNode\n",
    "        :rtype: ListNode\n",
    "        \"\"\"\n",
    "        return self.mergesort(head)\n",
    "    \n",
    "    def getMiddle(self, head):\n",
    "        if head == None:\n",
    "            return head\n",
    "        slow = head\n",
    "        fast = head\n",
    "        while fast.next != None and fast.next.next != None:\n",
    "            slow = slow.next\n",
    "            fast = fast.next.next\n",
    "        return slow\n",
    "    def mergesort(self, head):\n",
    "        if head == None or head.next == None:\n",
    "            return head\n",
    "        mid = self.getMiddle(head)\n",
    "        temp = mid.next\n",
    "        mid.next = None\n",
    "        left = self.mergesort(head)\n",
    "        right = self.mergesort(temp)\n",
    "        return self.merge(left, right)\n",
    "        \n",
    "    def merge(self, left, right):\n",
    "        result = None\n",
    "        if left == None:\n",
    "            return right\n",
    "        if right == None:\n",
    "            return left\n",
    "        if left.val > right.val:\n",
    "            result = left\n",
    "            result.next = self.merge(left.next, right)\n",
    "        else:\n",
    "            result = right\n",
    "            result.next = self.merge(left, right.next)\n",
    "        return result\n",
    "\n",
    "            \n",
    "\n",
    "        "
   ]
  },
  {
   "cell_type": "code",
   "execution_count": 8,
   "metadata": {},
   "outputs": [
    {
     "name": "stdout",
     "output_type": "stream",
     "text": [
      "1 -> 2 -> 3 -> 4 -> 5\n"
     ]
    }
   ],
   "source": [
    "head = create_linked_list([1,2,3,4,5])\n",
    "print(head)"
   ]
  },
  {
   "cell_type": "code",
   "execution_count": 9,
   "metadata": {},
   "outputs": [
    {
     "name": "stdout",
     "output_type": "stream",
     "text": [
      "5 -> 4 -> 3 -> 2 -> 1\n"
     ]
    }
   ],
   "source": [
    "print(Solution2().reverseList(head))"
   ]
  }
 ],
 "metadata": {
  "kernelspec": {
   "display_name": "Python 3",
   "language": "python",
   "name": "python3"
  },
  "language_info": {
   "codemirror_mode": {
    "name": "ipython",
    "version": 3
   },
   "file_extension": ".py",
   "mimetype": "text/x-python",
   "name": "python",
   "nbconvert_exporter": "python",
   "pygments_lexer": "ipython3",
   "version": "3.9.6"
  }
 },
 "nbformat": 4,
 "nbformat_minor": 2
}
