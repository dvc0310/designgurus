{
 "cells": [
  {
   "cell_type": "markdown",
   "metadata": {},
   "source": [
    "# Merge Sorted Array\n",
    "\n",
    "Given two integer arrays `nums1` and `nums2`, sorted in non-decreasing order, along with two integers `m` and `n` representing the number of elements in `nums1` and `nums2` respectively, the goal is to merge `nums1` and `nums2` into a single array sorted in non-decreasing order.\n",
    "\n",
    "The final sorted array should not be returned by the function but instead be stored inside the array `nums1`. `nums1` has a length of `m + n`, where the first `m` elements denote the elements that should be merged, and the last `n` elements are set to 0 and should be ignored. `nums2` has a length of `n`.\n",
    "\n",
    "## Examples\n",
    "\n",
    "### Example 1\n",
    "**Input**: `nums1 = [1,2,3,0,0,0]`, `m = 3`, `nums2 = [2,5,6]`, `n = 3`  \n",
    "**Output**: `[1,2,2,3,5,6]`  \n",
    "**Explanation**: The arrays we are merging are `[1,2,3]` and `[2,5,6]`. The result of the merge is `[1,2,2,3,5,6]` with the underlined elements coming from `nums1`.\n",
    "\n",
    "### Example 2\n",
    "**Input**: `nums1 = [1]`, `m = 1`, `nums2 = []`, `n = 0`  \n",
    "**Output**: `[1]`  \n",
    "**Explanation**: The arrays we are merging are `[1]` and `[]`. The result of the merge is `[1]`.\n",
    "\n",
    "### Example 3\n",
    "**Input**: `nums1 = [0]`, `m = 0`, `nums2 = [1]`, `n = 1`  \n",
    "**Output**: `[1]`  \n",
    "**Explanation**: The arrays we are merging are `[]` and `[1]`. The result of the merge is `[1]`. Note that because `m = 0`, there are no elements in `nums1`. The `0` is only there to ensure the merge result can fit in `nums1`.\n",
    "\n",
    "## Constraints\n",
    "- `nums1.length == m + n`\n",
    "- `nums2.length == n`\n",
    "- `0 <= m, n <= 200`\n",
    "- `1 <= m + n <= 200`\n",
    "- `-10^9 <= nums1[i], nums2[j] <= 10^9`\n",
    "  \n",
    "## Follow-up\n",
    "Can you come up with an algorithm that runs in O(m + n) time?\n"
   ]
  },
  {
   "cell_type": "code",
   "execution_count": 6,
   "metadata": {},
   "outputs": [],
   "source": [
    "def merge(nums1, m, nums2, n):\n",
    "    i = 0\n",
    "    j = 0\n",
    "    \n",
    "    \n",
    "    return nums1"
   ]
  },
  {
   "cell_type": "code",
   "execution_count": 10,
   "metadata": {},
   "outputs": [],
   "source": []
  },
  {
   "cell_type": "code",
   "execution_count": 11,
   "metadata": {},
   "outputs": [],
   "source": [
    "nums1 = [1,2,3,0,0,0]\n",
    "m = 3\n",
    "nums2 = [2,5,6]\n",
    "n = 3\n",
    "merge(nums1, m, nums2, n)  "
   ]
  },
  {
   "cell_type": "code",
   "execution_count": 3,
   "metadata": {},
   "outputs": [],
   "source": [
    "class Solution(object):\n",
    "    def pivotArray(self, nums, pivot):\n",
    "        \"\"\"\n",
    "        :type nums: List[int]\n",
    "        :type pivot: int\n",
    "        :rtype: List[int]\n",
    "        \"\"\"\n",
    "        less = []\n",
    "        more = []\n",
    "        equal = []\n",
    "        for num in nums:\n",
    "            if num < pivot:\n",
    "                less.append(num)\n",
    "            elif num > pivot:\n",
    "                more.append(num)\n",
    "            else:\n",
    "                equal.append(num)\n",
    "        less.extend(equal)\n",
    "        less.extend(more)\n",
    "        return less\n",
    "        "
   ]
  },
  {
   "cell_type": "code",
   "execution_count": 13,
   "metadata": {},
   "outputs": [],
   "source": [
    "class Solution:\n",
    "    def pivotArray(self, nums, pivot):\n",
    "        n=len(nums)\n",
    "        a=[0]*n\n",
    "        l,r=0,n-1\n",
    "        for i in range(n):\n",
    "            if nums[i]<pivot:\n",
    "                a[l]=nums[i]\n",
    "                l+=1\n",
    "            if nums[n-i-1]>pivot:\n",
    "                a[r]=nums[n-i-1]\n",
    "                r-=1\n",
    "        while l<=r:\n",
    "            a[l]=pivot\n",
    "            l+=1\n",
    "        return a"
   ]
  },
  {
   "cell_type": "code",
   "execution_count": 14,
   "metadata": {},
   "outputs": [
    {
     "data": {
      "text/plain": [
       "[9, 5, 3, 10, 10, 12, 14]"
      ]
     },
     "execution_count": 14,
     "metadata": {},
     "output_type": "execute_result"
    }
   ],
   "source": [
    "nums = [9,12,5,10,14,3,10]\n",
    "pivot = 10\n",
    "\n",
    "Solution().pivotArray(nums, pivot)"
   ]
  },
  {
   "cell_type": "code",
   "execution_count": 54,
   "metadata": {},
   "outputs": [],
   "source": [
    "def integerReplacement(n):\n",
    "    cache = {}\n",
    "    def integer(n, cache):\n",
    " \n",
    "        if n <= 1:\n",
    "            return 0\n",
    "        if n in cache:\n",
    "            return cache[n]\n",
    "        if n%2 == 0:\n",
    "            cache[n] = 1 + integer(n // 2, cache)\n",
    "        else:\n",
    "            cache[n] = 2 + min(integer((n - 1) // 2,  cache), integer((n + 1) // 2, cache))\n",
    "        return cache[n]\n",
    "    return integer(n,  cache)\n"
   ]
  },
  {
   "cell_type": "code",
   "execution_count": 55,
   "metadata": {},
   "outputs": [
    {
     "data": {
      "text/plain": [
       "9"
      ]
     },
     "execution_count": 55,
     "metadata": {},
     "output_type": "execute_result"
    }
   ],
   "source": [
    "integerReplacement(101)"
   ]
  }
 ],
 "metadata": {
  "kernelspec": {
   "display_name": "Python 3",
   "language": "python",
   "name": "python3"
  },
  "language_info": {
   "codemirror_mode": {
    "name": "ipython",
    "version": 3
   },
   "file_extension": ".py",
   "mimetype": "text/x-python",
   "name": "python",
   "nbconvert_exporter": "python",
   "pygments_lexer": "ipython3",
   "version": "3.9.6"
  }
 },
 "nbformat": 4,
 "nbformat_minor": 2
}
