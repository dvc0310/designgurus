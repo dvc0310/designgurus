{
 "cells": [
  {
   "cell_type": "markdown",
   "metadata": {},
   "source": [
    "# Shortest Distance\n",
    "\n",
    "This problem can be tackled with the two pointer approach. The steps:\n",
    "\n",
    "1. Set the initial distance variable 'd' to infinity.\n",
    "2. Set both pointer 1 (p1) and pointer 2 (p2) to infinity.\n",
    "3. Loop over the list of words. Here we will take the following steps:\n",
    "    - Check if the current word matches word 1 or word 2\n",
    "    - If the current word is equal to word 1, then set p1 to the current index\n",
    "    - If the current word is equal to word 2, then set p2 to the current index\n",
    "    - If neither the of the pointer variables are infinity, check if |p1 - p2| < d. \n",
    "    - If |p1 - p2| < d is true, then set d to |p1 - p2|\n",
    "4. return d"
   ]
  },
  {
   "cell_type": "code",
   "execution_count": 7,
   "metadata": {},
   "outputs": [],
   "source": [
    "words = [\"one\", \"two\", \"three\", \"four\", \"five\"]\n",
    "word1 = \"five\"\n",
    "word2 = \"one\""
   ]
  },
  {
   "cell_type": "code",
   "execution_count": 10,
   "metadata": {},
   "outputs": [
    {
     "data": {
      "text/plain": [
       "4"
      ]
     },
     "execution_count": 10,
     "metadata": {},
     "output_type": "execute_result"
    }
   ],
   "source": [
    "p1 = float('inf')\n",
    "p2 = float('inf')\n",
    "d = float('inf')\n",
    "for idx, c in enumerate(words):\n",
    "    if c == word1:\n",
    "        p1 = idx\n",
    "    if c == word2:\n",
    "        p2 = idx\n",
    "    d = min(d, abs(p1-p2))\n",
    "d"
   ]
  }
 ],
 "metadata": {
  "kernelspec": {
   "display_name": "Python 3",
   "language": "python",
   "name": "python3"
  },
  "language_info": {
   "codemirror_mode": {
    "name": "ipython",
    "version": 3
   },
   "file_extension": ".py",
   "mimetype": "text/x-python",
   "name": "python",
   "nbconvert_exporter": "python",
   "pygments_lexer": "ipython3",
   "version": "3.9.6"
  }
 },
 "nbformat": 4,
 "nbformat_minor": 2
}
