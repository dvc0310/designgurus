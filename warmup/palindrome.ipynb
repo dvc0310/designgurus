{
 "cells": [
  {
   "cell_type": "markdown",
   "metadata": {},
   "source": [
    "# Check Palindrome"
   ]
  },
  {
   "cell_type": "markdown",
   "metadata": {},
   "source": [
    "This problem is pretty straightforward, and we just need to:\n",
    "\n",
    "1. Find the middle character index\n",
    "2. Obtain a substring s2 from the middle index to the end index\n",
    "3. Obtain a substring s1 from the 0 index to the middle index\n",
    "4. Reverse s2 and then check for equality\n",
    "\n",
    "It's important to note that there are two cases we need to handle. The length of the string can either be odd or even, and this distinction is important. We will have slightly differing code in even and odd cases. In even cases, we will have two middle indices, while with odd cases, we will have one middle index."
   ]
  },
  {
   "cell_type": "markdown",
   "metadata": {},
   "source": [
    "### Case: Even"
   ]
  },
  {
   "cell_type": "markdown",
   "metadata": {},
   "source": [
    "Suppose that the length of the string we're working with is even. Then, if we have a variable mid = len(sentence) // 2, we will obtain the \"second\" middle index. For example, the string \"raceecar\" has a first middle index in position 3, and the second in position 4. Thus, we can split the string into two from positions 0 to mid, and mid to end. Note that with python, the character at the end index will not be included, so in effect, first = lst[0:mid] is a substring that does not include the character at \"mid\", and only includes the first middle index.\n"
   ]
  },
  {
   "cell_type": "code",
   "execution_count": 58,
   "metadata": {},
   "outputs": [
    {
     "name": "stdout",
     "output_type": "stream",
     "text": [
      "True\n"
     ]
    }
   ],
   "source": [
    "sentence = \"raceecar\"\n",
    "lst = ''.join([c.lower() for c in sentence if c.isalpha()])\n",
    "mid = len(lst) // 2\n",
    "end = len(lst)\n",
    "\n",
    "first = lst[0:mid]\n",
    "second = lst[mid:end][::-1]\n",
    "\n",
    "if first != second:\n",
    "    print('False')\n",
    "else:\n",
    "    print('True')"
   ]
  },
  {
   "cell_type": "markdown",
   "metadata": {},
   "source": [
    "### Case: Even\n",
    "\n",
    "Suppose that the length of the string we're working with is eodd. Then, if we have a variable mid = len(sentence) // 2, we will obtain a single middle index. Thus, we can split the string into two from positions 0 to mid + 1, and mid to end. Note that with python, the character at the end index will not be included.    "
   ]
  },
  {
   "cell_type": "code",
   "execution_count": 60,
   "metadata": {},
   "outputs": [
    {
     "name": "stdout",
     "output_type": "stream",
     "text": [
      "True\n"
     ]
    }
   ],
   "source": [
    "sentence = \"racecar\"\n",
    "lst = ''.join([c.lower() for c in sentence if c.isalpha()])\n",
    "mid = len(lst) // 2\n",
    "end = len(lst)\n",
    "\n",
    "first = lst[0:mid+1]\n",
    "second = lst[mid:end][::-1]\n",
    "\n",
    "if first != second:\n",
    "    print('False')\n",
    "else:\n",
    "    print('True')"
   ]
  }
 ],
 "metadata": {
  "kernelspec": {
   "display_name": "Python 3",
   "language": "python",
   "name": "python3"
  },
  "language_info": {
   "codemirror_mode": {
    "name": "ipython",
    "version": 3
   },
   "file_extension": ".py",
   "mimetype": "text/x-python",
   "name": "python",
   "nbconvert_exporter": "python",
   "pygments_lexer": "ipython3",
   "version": "3.9.6"
  }
 },
 "nbformat": 4,
 "nbformat_minor": 2
}
