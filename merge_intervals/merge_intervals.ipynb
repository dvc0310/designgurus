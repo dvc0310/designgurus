{
 "cells": [
  {
   "cell_type": "code",
   "execution_count": 1,
   "metadata": {},
   "outputs": [],
   "source": [
    "from intervals import Interval, convert_to_intervals\n",
    "\n",
    "class Solution:\n",
    "  def merge(self, intervals):\n",
    "    mergedIntervals = []\n",
    "    intervals.sort(key=lambda x:x.start)\n",
    "    saved = intervals[0]\n",
    "    for i in range(1, len(intervals)):\n",
    "        curr = intervals[i]  \n",
    "        if curr.start <= saved.end:\n",
    "            if curr.end >= saved.end:\n",
    "                saved.end = curr.end\n",
    "        else:\n",
    "            mergedIntervals.append(saved)\n",
    "            saved = curr\n",
    "    mergedIntervals.append(saved)\n",
    "    return mergedIntervals\n",
    "\n",
    "        \n",
    "        "
   ]
  },
  {
   "cell_type": "code",
   "execution_count": 2,
   "metadata": {},
   "outputs": [
    {
     "data": {
      "text/plain": [
       "[[2, 4], [5, 9]]"
      ]
     },
     "execution_count": 2,
     "metadata": {},
     "output_type": "execute_result"
    }
   ],
   "source": [
    "intervals = [[6,7], [2,4], [5,9]]\n",
    "intervals = convert_to_intervals(intervals)\n",
    "Solution().merge(intervals)"
   ]
  }
 ],
 "metadata": {
  "kernelspec": {
   "display_name": "Python 3",
   "language": "python",
   "name": "python3"
  },
  "language_info": {
   "codemirror_mode": {
    "name": "ipython",
    "version": 3
   },
   "file_extension": ".py",
   "mimetype": "text/x-python",
   "name": "python",
   "nbconvert_exporter": "python",
   "pygments_lexer": "ipython3",
   "version": "3.9.6"
  }
 },
 "nbformat": 4,
 "nbformat_minor": 2
}
