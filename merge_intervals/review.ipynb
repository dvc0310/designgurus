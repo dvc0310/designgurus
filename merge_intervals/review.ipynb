{
 "cells": [
  {
   "cell_type": "code",
   "execution_count": 14,
   "metadata": {},
   "outputs": [
    {
     "data": {
      "text/plain": [
       "[[2, 4], [6, 9]]"
      ]
     },
     "execution_count": 14,
     "metadata": {},
     "output_type": "execute_result"
    }
   ],
   "source": [
    "class Solution:\n",
    "    def merge(self, intervals):\n",
    "        intervals.sort(key=lambda x: x[1])\n",
    "        curr_start, curr_end = intervals[0]\n",
    "        lst = []\n",
    "        for x, y in intervals[1:]:\n",
    "            if curr_end < y and x < curr_end:\n",
    "                curr_end = y\n",
    "            else:\n",
    "                lst.append([curr_start, curr_end])\n",
    "                curr_start = x\n",
    "                curr_end = y\n",
    "        lst.append([curr_start, curr_end])\n",
    "        return lst\n",
    "\n",
    "intervals = [[6,7], [2,4], [5,9]]\n",
    "#intervals = convert_to_intervals(intervals)\n",
    "Solution().merge(intervals)"
   ]
  },
  {
   "cell_type": "code",
   "execution_count": 15,
   "metadata": {},
   "outputs": [
    {
     "data": {
      "text/plain": [
       "[[1, 6]]"
      ]
     },
     "execution_count": 15,
     "metadata": {},
     "output_type": "execute_result"
    }
   ],
   "source": [
    "intervals = [[1,4], [2,6], [3,5]]\n",
    "Solution().merge(intervals)"
   ]
  },
  {
   "cell_type": "code",
   "execution_count": 16,
   "metadata": {},
   "outputs": [
    {
     "data": {
      "text/plain": [
       "[[2, 4], [6, 9]]"
      ]
     },
     "execution_count": 16,
     "metadata": {},
     "output_type": "execute_result"
    }
   ],
   "source": [
    "intervals = [[6,7], [2,4], [5,9]]\n",
    "Solution().merge(intervals)"
   ]
  },
  {
   "cell_type": "code",
   "execution_count": null,
   "metadata": {},
   "outputs": [],
   "source": [
    "import heapq\n",
    "from typing import List\n",
    "from intervals import convert_to_intervals\n",
    "from collections import deque\n",
    "\n",
    "class Solution:\n",
    "    def findMinimumMeetingRooms(self, meetings) -> int:\n",
    "        if not meetings:\n",
    "            return 0\n",
    "        meetings.sort(key=lambda x: x.start)\n",
    "        meetings = deque(meetings)\n",
    "        heap = []\n",
    "        heapq.heappush(heap, meetings.popleft().end)\n",
    "        while meetings:\n",
    "            current = meetings.popleft()\n",
    "            if current.start < heap[0]:\n",
    "                heapq.heappush(heap, current.end)\n",
    "            else:\n",
    "                heapq.heappop(heap)\n",
    "                heapq.heappush(heap, current.end)\n",
    "        \n",
    "        return len(heap)\n",
    "\n"
   ]
  },
  {
   "cell_type": "code",
   "execution_count": 16,
   "metadata": {},
   "outputs": [
    {
     "data": {
      "text/plain": [
       "2"
      ]
     },
     "execution_count": 16,
     "metadata": {},
     "output_type": "execute_result"
    }
   ],
   "source": [
    "meetings = [[1,4], [2,5], [7,9]]\n",
    "meetings = convert_to_intervals(meetings)\n",
    "Solution().findMinimumMeetingRooms(meetings)"
   ]
  },
  {
   "cell_type": "code",
   "execution_count": 17,
   "metadata": {},
   "outputs": [
    {
     "data": {
      "text/plain": [
       "2"
      ]
     },
     "execution_count": 17,
     "metadata": {},
     "output_type": "execute_result"
    }
   ],
   "source": [
    "meetings = [[4,5], [2,3], [2,4], [3,5]]\n",
    "meetings = convert_to_intervals(meetings)\n",
    "Solution().findMinimumMeetingRooms(meetings)"
   ]
  }
 ],
 "metadata": {
  "kernelspec": {
   "display_name": "3.9.6",
   "language": "python",
   "name": "python3"
  },
  "language_info": {
   "codemirror_mode": {
    "name": "ipython",
    "version": 3
   },
   "file_extension": ".py",
   "mimetype": "text/x-python",
   "name": "python",
   "nbconvert_exporter": "python",
   "pygments_lexer": "ipython3",
   "version": "3.9.6"
  }
 },
 "nbformat": 4,
 "nbformat_minor": 2
}
