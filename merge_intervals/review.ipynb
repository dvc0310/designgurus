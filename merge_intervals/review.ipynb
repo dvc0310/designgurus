{
 "cells": [
  {
   "cell_type": "code",
   "execution_count": 35,
   "metadata": {},
   "outputs": [],
   "source": [
    "from intervals import convert_to_intervals, Interval\n",
    "\n",
    "class Solution:\n",
    "  def insert(self, intervals, new_interval):\n",
    "    merged = []\n",
    "    i = 0\n",
    "    while i < len(intervals) and new_interval.start > intervals[i].end:\n",
    "      merged.append(intervals[i])\n",
    "      i += 1\n",
    "    \n",
    "    while i < len(intervals) and new_interval.end >= intervals[i].start:\n",
    "      if new_interval.start >= intervals[i].start:\n",
    "        new_interval.start = intervals[i].start\n",
    "      if new_interval.end <= intervals[i].end:\n",
    "        new_interval.end = intervals[i].end\n",
    "      i += 1\n",
    "    \n",
    "    merged.append(new_interval)\n",
    "    while i < len(intervals):\n",
    "      merged.append(intervals[i])\n",
    "      i += 1\n",
    "    \n",
    "    return merged\n",
    "    "
   ]
  },
  {
   "cell_type": "code",
   "execution_count": 24,
   "metadata": {},
   "outputs": [
    {
     "data": {
      "text/plain": [
       "[[1, 3], [4, 7], [8, 12]]"
      ]
     },
     "execution_count": 24,
     "metadata": {},
     "output_type": "execute_result"
    }
   ],
   "source": [
    "intervals=[[1,3], [5,7], [8,12]]\n",
    "new_interval = Interval(4, 6)\n",
    "intervals = convert_to_intervals(intervals)\n",
    "Solution().insert(intervals, new_interval)"
   ]
  },
  {
   "cell_type": "code",
   "execution_count": 25,
   "metadata": {},
   "outputs": [
    {
     "data": {
      "text/plain": [
       "[[1, 3], [4, 12]]"
      ]
     },
     "execution_count": 25,
     "metadata": {},
     "output_type": "execute_result"
    }
   ],
   "source": [
    "intervals=[[1,3], [5,7], [8,12]]\n",
    "new_interval = Interval(4, 10)\n",
    "intervals = convert_to_intervals(intervals)\n",
    "Solution().insert(intervals, new_interval)"
   ]
  },
  {
   "cell_type": "code",
   "execution_count": 26,
   "metadata": {},
   "outputs": [
    {
     "data": {
      "text/plain": [
       "[[1, 4], [5, 7]]"
      ]
     },
     "execution_count": 26,
     "metadata": {},
     "output_type": "execute_result"
    }
   ],
   "source": [
    "intervals = [[2,3],[5,7]]\n",
    "new_interval = Interval(1, 4)\n",
    "intervals = convert_to_intervals(intervals)\n",
    "Solution().insert(intervals, new_interval)"
   ]
  },
  {
   "cell_type": "code",
   "execution_count": 27,
   "metadata": {},
   "outputs": [
    {
     "data": {
      "text/plain": [
       "[[1, 3], [5, 7], [8, 12], [13, 15]]"
      ]
     },
     "execution_count": 27,
     "metadata": {},
     "output_type": "execute_result"
    }
   ],
   "source": [
    "intervals = [[1,3], [5,7], [8,12]]\n",
    "new_interval = Interval(13, 15)\n",
    "intervals = convert_to_intervals(intervals)\n",
    "Solution().insert(intervals, new_interval)"
   ]
  },
  {
   "cell_type": "code",
   "execution_count": 36,
   "metadata": {},
   "outputs": [
    {
     "data": {
      "text/plain": [
       "[[1, 6]]"
      ]
     },
     "execution_count": 36,
     "metadata": {},
     "output_type": "execute_result"
    }
   ],
   "source": [
    "intervals = [[1,2], [3,4], [5,6]]\n",
    "new_interval = Interval(2, 5)\n",
    "intervals = convert_to_intervals(intervals)\n",
    "Solution().insert(intervals, new_interval)"
   ]
  },
  {
   "cell_type": "code",
   "execution_count": 37,
   "metadata": {},
   "outputs": [
    {
     "data": {
      "text/plain": [
       "[[1, 5], [6, 7], [10, 15], [20, 25]]"
      ]
     },
     "execution_count": 37,
     "metadata": {},
     "output_type": "execute_result"
    }
   ],
   "source": [
    "intervals = [[1,5], [10,15], [20,25]]\n",
    "new_interval = Interval(6, 7)\n",
    "intervals = convert_to_intervals(intervals)\n",
    "Solution().insert(intervals, new_interval)"
   ]
  }
 ],
 "metadata": {
  "kernelspec": {
   "display_name": "Python 3",
   "language": "python",
   "name": "python3"
  },
  "language_info": {
   "codemirror_mode": {
    "name": "ipython",
    "version": 3
   },
   "file_extension": ".py",
   "mimetype": "text/x-python",
   "name": "python",
   "nbconvert_exporter": "python",
   "pygments_lexer": "ipython3",
   "version": "3.9.6"
  }
 },
 "nbformat": 4,
 "nbformat_minor": 2
}
