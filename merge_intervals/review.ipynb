{
 "cells": [
  {
   "cell_type": "code",
   "execution_count": 6,
   "metadata": {},
   "outputs": [
    {
     "data": {
      "text/plain": [
       "[[2, 4], [2, 4]]"
      ]
     },
     "execution_count": 6,
     "metadata": {},
     "output_type": "execute_result"
    }
   ],
   "source": [
    "from intervals import convert_to_intervals\n",
    "\n",
    "class Solution:\n",
    "    def merge(self, intervals):\n",
    "        intervals.sort(key=lambda x: x[0])\n",
    "        curr = intervals[0]\n",
    "        lst = []\n",
    "        for i, (x, y) in enumerate(intervals[1:]):\n",
    "            if curr[1] < y and x < curr[1]:\n",
    "                curr[1] = y\n",
    "            else:\n",
    "                lst.append(curr)\n",
    "        return lst\n",
    "\n",
    "intervals = [[6,7], [2,4], [5,9]]\n",
    "#intervals = convert_to_intervals(intervals)\n",
    "Solution().merge(intervals)"
   ]
  }
 ],
 "metadata": {
  "kernelspec": {
   "display_name": "Python 3",
   "language": "python",
   "name": "python3"
  },
  "language_info": {
   "codemirror_mode": {
    "name": "ipython",
    "version": 3
   },
   "file_extension": ".py",
   "mimetype": "text/x-python",
   "name": "python",
   "nbconvert_exporter": "python",
   "pygments_lexer": "ipython3",
   "version": "3.9.6"
  }
 },
 "nbformat": 4,
 "nbformat_minor": 2
}
