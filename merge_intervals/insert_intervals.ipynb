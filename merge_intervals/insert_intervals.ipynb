{
 "cells": [
  {
   "cell_type": "code",
   "execution_count": 16,
   "metadata": {},
   "outputs": [],
   "source": [
    "from intervals import convert_to_intervals, Interval\n",
    "\n",
    "class Solution:\n",
    "  def insert(self, intervals, new_interval):\n",
    "    merged = []\n",
    "    inserted = False\n",
    "    # TODO: Write your code here\n",
    "    for i in range(len(intervals)):\n",
    "        x, y = intervals[i].start, intervals[i].end\n",
    "        if new_interval.start > y:\n",
    "            merged.append(Interval(x, y))\n",
    "            continue\n",
    "        else:\n",
    "            if not inserted:\n",
    "                if x > new_interval.end:\n",
    "                    merged.append(new_interval)\n",
    "                    merged.append(Interval(x, y))\n",
    "                    inserted = True\n",
    "                    continue\n",
    "                if y < new_interval.start:\n",
    "                    merged.append(Interval(x, y))\n",
    "                    merged.append(new_interval)\n",
    "                    inserted = True\n",
    "                    continue     \n",
    "\n",
    "                if x >= new_interval.start:\n",
    "                    x = new_interval.start\n",
    "                if y <= new_interval.end:\n",
    "                    y = new_interval.end\n",
    "                \n",
    "                inserted = True\n",
    "            else:\n",
    "                if x <= merged[-1].end:\n",
    "                    if y >= merged[-1].end:\n",
    "                        merged[-1].end = y \n",
    "                    continue\n",
    "            \n",
    "        merged.append(Interval(x, y))\n",
    "    if not inserted:\n",
    "        merged.append(new_interval)\n",
    "\n",
    "    return merged\n"
   ]
  },
  {
   "cell_type": "code",
   "execution_count": null,
   "metadata": {},
   "outputs": [],
   "source": [
    "class Solution:\n",
    "    def insert(self, intervals, new_interval):\n",
    "        result = []\n",
    "        i = 0\n",
    "        n = len(intervals)\n",
    "\n",
    "        # Add all intervals ending before new_interval starts\n",
    "        while i < n and intervals[i].end < new_interval.start:\n",
    "            result.append(intervals[i])\n",
    "            i += 1\n",
    "\n",
    "        # Merge all overlapping intervals with new_interval\n",
    "        while i < n and intervals[i].start <= new_interval.end:\n",
    "            new_interval.start = min(new_interval.start, intervals[i].start)\n",
    "            new_interval.end = max(new_interval.end, intervals[i].end)\n",
    "            i += 1\n",
    "\n",
    "        # Add the merged new_interval\n",
    "        result.append(new_interval)\n",
    "\n",
    "        # Add remaining intervals\n",
    "        while i < n:\n",
    "            result.append(intervals[i])\n",
    "            i += 1\n",
    "\n",
    "        return result\n"
   ]
  },
  {
   "cell_type": "code",
   "execution_count": 17,
   "metadata": {},
   "outputs": [
    {
     "data": {
      "text/plain": [
       "[[1, 3], [4, 7], [8, 12]]"
      ]
     },
     "execution_count": 17,
     "metadata": {},
     "output_type": "execute_result"
    }
   ],
   "source": [
    "intervals=[[1,3], [5,7], [8,12]]\n",
    "new_interval = Interval(4, 6)\n",
    "intervals = convert_to_intervals(intervals)\n",
    "Solution().insert(intervals, new_interval)"
   ]
  },
  {
   "cell_type": "code",
   "execution_count": 18,
   "metadata": {},
   "outputs": [
    {
     "data": {
      "text/plain": [
       "[[1, 3], [4, 12]]"
      ]
     },
     "execution_count": 18,
     "metadata": {},
     "output_type": "execute_result"
    }
   ],
   "source": [
    "intervals=[[1,3], [5,7], [8,12]]\n",
    "new_interval = Interval(4, 10)\n",
    "intervals = convert_to_intervals(intervals)\n",
    "Solution().insert(intervals, new_interval)"
   ]
  },
  {
   "cell_type": "code",
   "execution_count": 19,
   "metadata": {},
   "outputs": [
    {
     "data": {
      "text/plain": [
       "[[1, 4], [5, 7]]"
      ]
     },
     "execution_count": 19,
     "metadata": {},
     "output_type": "execute_result"
    }
   ],
   "source": [
    "intervals = [[2,3],[5,7]]\n",
    "new_interval = Interval(1, 4)\n",
    "intervals = convert_to_intervals(intervals)\n",
    "Solution().insert(intervals, new_interval)"
   ]
  },
  {
   "cell_type": "code",
   "execution_count": 20,
   "metadata": {},
   "outputs": [
    {
     "data": {
      "text/plain": [
       "[[1, 3], [5, 7], [8, 12], [13, 15]]"
      ]
     },
     "execution_count": 20,
     "metadata": {},
     "output_type": "execute_result"
    }
   ],
   "source": [
    "intervals = [[1,3], [5,7], [8,12]]\n",
    "new_interval = Interval(13, 15)\n",
    "intervals = convert_to_intervals(intervals)\n",
    "Solution().insert(intervals, new_interval)"
   ]
  },
  {
   "cell_type": "code",
   "execution_count": 21,
   "metadata": {},
   "outputs": [
    {
     "data": {
      "text/plain": [
       "[[1, 6]]"
      ]
     },
     "execution_count": 21,
     "metadata": {},
     "output_type": "execute_result"
    }
   ],
   "source": [
    "intervals = [[1,2], [3,4], [5,6]]\n",
    "new_interval = Interval(2, 5)\n",
    "intervals = convert_to_intervals(intervals)\n",
    "Solution().insert(intervals, new_interval)"
   ]
  },
  {
   "cell_type": "code",
   "execution_count": 22,
   "metadata": {},
   "outputs": [
    {
     "data": {
      "text/plain": [
       "[[1, 5], [6, 7], [10, 15], [20, 25]]"
      ]
     },
     "execution_count": 22,
     "metadata": {},
     "output_type": "execute_result"
    }
   ],
   "source": [
    "intervals = [[1,5], [10,15], [20,25]]\n",
    "new_interval = Interval(6, 7)\n",
    "intervals = convert_to_intervals(intervals)\n",
    "Solution().insert(intervals, new_interval)"
   ]
  }
 ],
 "metadata": {
  "kernelspec": {
   "display_name": "Python 3",
   "language": "python",
   "name": "python3"
  },
  "language_info": {
   "codemirror_mode": {
    "name": "ipython",
    "version": 3
   },
   "file_extension": ".py",
   "mimetype": "text/x-python",
   "name": "python",
   "nbconvert_exporter": "python",
   "pygments_lexer": "ipython3",
   "version": "3.9.6"
  }
 },
 "nbformat": 4,
 "nbformat_minor": 2
}
