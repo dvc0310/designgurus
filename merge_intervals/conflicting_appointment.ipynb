{
 "cells": [
  {
   "cell_type": "code",
   "execution_count": 5,
   "metadata": {},
   "outputs": [],
   "source": [
    "from intervals import Interval, convert_to_intervals\n",
    "\n",
    "class Solution:\n",
    "    def canAttendAllAppointments(self, intervals):\n",
    "        if len(intervals) <= 1:\n",
    "            return True\n",
    "        \n",
    "        intervals.sort(key=lambda x: x.end)\n",
    "        \n",
    "        curr_interval = intervals[0]\n",
    "        \n",
    "        for interval in intervals[1:]:\n",
    "            if curr_interval.end > interval.start:\n",
    "                return False\n",
    "            else:\n",
    "                curr_interval = interval\n",
    "            \n",
    "        \n",
    "        return True\n"
   ]
  },
  {
   "cell_type": "code",
   "execution_count": 6,
   "metadata": {},
   "outputs": [
    {
     "data": {
      "text/plain": [
       "False"
      ]
     },
     "execution_count": 6,
     "metadata": {},
     "output_type": "execute_result"
    }
   ],
   "source": [
    "intervals = [[1,4], [2,5], [7,9]]\n",
    "intervals = convert_to_intervals(intervals)\n",
    "\n",
    "Solution().canAttendAllAppointments(intervals)"
   ]
  },
  {
   "cell_type": "code",
   "execution_count": 7,
   "metadata": {},
   "outputs": [
    {
     "data": {
      "text/plain": [
       "True"
      ]
     },
     "execution_count": 7,
     "metadata": {},
     "output_type": "execute_result"
    }
   ],
   "source": [
    "intervals = [[6,7], [2,4], [13, 14], [8,12], [45, 47]]\n",
    "intervals = convert_to_intervals(intervals)\n",
    "\n",
    "Solution().canAttendAllAppointments(intervals)"
   ]
  },
  {
   "cell_type": "code",
   "execution_count": 8,
   "metadata": {},
   "outputs": [
    {
     "data": {
      "text/plain": [
       "False"
      ]
     },
     "execution_count": 8,
     "metadata": {},
     "output_type": "execute_result"
    }
   ],
   "source": [
    "intervals = [[4,5], [2,3], [3,6]]\n",
    "intervals = convert_to_intervals(intervals)\n",
    "\n",
    "Solution().canAttendAllAppointments(intervals)"
   ]
  }
 ],
 "metadata": {
  "kernelspec": {
   "display_name": "Python 3",
   "language": "python",
   "name": "python3"
  },
  "language_info": {
   "codemirror_mode": {
    "name": "ipython",
    "version": 3
   },
   "file_extension": ".py",
   "mimetype": "text/x-python",
   "name": "python",
   "nbconvert_exporter": "python",
   "pygments_lexer": "ipython3",
   "version": "3.9.6"
  }
 },
 "nbformat": 4,
 "nbformat_minor": 2
}
