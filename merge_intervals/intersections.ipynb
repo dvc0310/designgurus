{
 "cells": [
  {
   "cell_type": "code",
   "execution_count": 1,
   "metadata": {},
   "outputs": [],
   "source": [
    "from intervals import convert_to_intervals, Interval\n",
    "\n",
    "class Solution:\n",
    "  def insert(self, intervals, new_interval):\n",
    "    merged = []\n",
    "    i = 0\n",
    "    n = len(intervals)\n",
    "    while i < n and new_interval.start > intervals[0].end:\n",
    "      merged.append(intervals[i])\n",
    "      i += 1\n",
    "\n",
    "    while i < n and intervals[i].start <= new_interval.end:\n",
    "        new_interval.start = min(new_interval.start, intervals[i].start)\n",
    "        new_interval.end = max(new_interval.end, intervals[i].end)\n",
    "        i += 1\n",
    "\n",
    "    merged.append(new_interval)\n",
    "    \n",
    "    while i < n:\n",
    "        merged.append(intervals[i])\n",
    "        i += 1\n",
    "\n",
    "    return merged"
   ]
  },
  {
   "cell_type": "code",
   "execution_count": null,
   "metadata": {},
   "outputs": [],
   "source": [
    "intervals=[[1,3], [5,7], [8,12]]\n",
    "new_interval = Interval(4, 6)\n",
    "intervals = convert_to_intervals(intervals)\n",
    "Solution().insert(intervals, new_interval)"
   ]
  },
  {
   "cell_type": "code",
   "execution_count": null,
   "metadata": {},
   "outputs": [],
   "source": [
    "intervals=[[1,3], [5,7], [8,12]]\n",
    "new_interval = Interval(4, 10)\n",
    "intervals = convert_to_intervals(intervals)\n",
    "Solution().insert(intervals, new_interval)"
   ]
  },
  {
   "cell_type": "code",
   "execution_count": null,
   "metadata": {},
   "outputs": [],
   "source": [
    "intervals = [[2,3],[5,7]]\n",
    "new_interval = Interval(1, 4)\n",
    "intervals = convert_to_intervals(intervals)\n",
    "Solution().insert(intervals, new_interval)"
   ]
  },
  {
   "cell_type": "code",
   "execution_count": null,
   "metadata": {},
   "outputs": [],
   "source": [
    "intervals = [[1,3], [5,7], [8,12]]\n",
    "new_interval = Interval(13, 15)\n",
    "intervals = convert_to_intervals(intervals)\n",
    "Solution().insert(intervals, new_interval)"
   ]
  },
  {
   "cell_type": "code",
   "execution_count": 2,
   "metadata": {},
   "outputs": [
    {
     "data": {
      "text/plain": [
       "[[1, 6]]"
      ]
     },
     "execution_count": 2,
     "metadata": {},
     "output_type": "execute_result"
    }
   ],
   "source": [
    "intervals = [[1,2], [3,4], [5,6]]\n",
    "new_interval = Interval(2, 5)\n",
    "intervals = convert_to_intervals(intervals)\n",
    "Solution().insert(intervals, new_interval)"
   ]
  },
  {
   "cell_type": "code",
   "execution_count": null,
   "metadata": {},
   "outputs": [],
   "source": [
    "intervals = [[1,5], [10,15], [20,25]]\n",
    "new_interval = Interval(6, 7)\n",
    "intervals = convert_to_intervals(intervals)\n",
    "Solution().insert(intervals, new_interval)"
   ]
  },
  {
   "cell_type": "code",
   "execution_count": 23,
   "metadata": {},
   "outputs": [],
   "source": [
    "class Solution:\n",
    "  def merge(self, intervals_a, intervals_b):\n",
    "    result = []\n",
    "    i = 0\n",
    "    j = 0\n",
    "    while i < len(intervals_a) and j < len(intervals_b):\n",
    "        if intervals_a[i].end < intervals_b[j].start:\n",
    "          i += 1\n",
    "          continue\n",
    "        if intervals_a[i].start > intervals_b[j].end:\n",
    "          j += 1\n",
    "          continue\n",
    "\n",
    "        x = max(intervals_a[i].start, intervals_b[j].start)\n",
    "        y = min(intervals_a[i].end, intervals_b[j].end)\n",
    "        result.append(Interval(x, y))\n",
    "        \n",
    "        if intervals_a[i].end < intervals_b[j].end:\n",
    "            i += 1\n",
    "        else:\n",
    "            j += 1\n",
    "\n",
    "\n",
    "    return result"
   ]
  },
  {
   "cell_type": "code",
   "execution_count": 24,
   "metadata": {},
   "outputs": [
    {
     "data": {
      "text/plain": [
       "[[2, 3], [5, 6], [7, 7], [8, 9]]"
      ]
     },
     "execution_count": 24,
     "metadata": {},
     "output_type": "execute_result"
    }
   ],
   "source": [
    "intervals_a = [[1, 3], [5, 6], [7, 9]]\n",
    "intervals_b = [[2, 3], [5, 7], [8, 10]]\n",
    "intervals_a = convert_to_intervals(intervals_a)\n",
    "intervals_b = convert_to_intervals(intervals_b)\n",
    "\n",
    "Solution().merge(intervals_a, intervals_b)"
   ]
  },
  {
   "cell_type": "code",
   "execution_count": 25,
   "metadata": {},
   "outputs": [
    {
     "data": {
      "text/plain": [
       "[[5, 7], [9, 10]]"
      ]
     },
     "execution_count": 25,
     "metadata": {},
     "output_type": "execute_result"
    }
   ],
   "source": [
    "intervals_a = [[1, 3], [5, 7], [9, 12]]\n",
    "intervals_b = [[5, 10]]\n",
    "intervals_a = convert_to_intervals(intervals_a)\n",
    "intervals_b = convert_to_intervals(intervals_b)\n",
    "\n",
    "Solution().merge(intervals_a, intervals_b)"
   ]
  }
 ],
 "metadata": {
  "kernelspec": {
   "display_name": "3.9.6",
   "language": "python",
   "name": "python3"
  },
  "language_info": {
   "codemirror_mode": {
    "name": "ipython",
    "version": 3
   },
   "file_extension": ".py",
   "mimetype": "text/x-python",
   "name": "python",
   "nbconvert_exporter": "python",
   "pygments_lexer": "ipython3",
   "version": "3.9.6"
  }
 },
 "nbformat": 4,
 "nbformat_minor": 2
}
