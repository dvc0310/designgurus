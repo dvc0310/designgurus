{
 "cells": [
  {
   "cell_type": "code",
   "execution_count": 6,
   "metadata": {},
   "outputs": [],
   "source": [
    "from intervals import convert_to_intervals, Interval\n",
    "\n",
    "class Solution:\n",
    "  def insert(self, intervals, new_interval):\n",
    "    merged = []\n",
    "    i = 0\n",
    "    n = len(intervals)\n",
    "    while i < n and new_interval.start > intervals[0].end:\n",
    "      merged.append(intervals[i])\n",
    "      i += 1\n",
    "\n",
    "    while i < n and intervals[i].start <= new_interval.end:\n",
    "        new_interval.start = min(new_interval.start, intervals[i].start)\n",
    "        new_interval.end = max(new_interval.end, intervals[i].end)\n",
    "        i += 1\n",
    "\n",
    "    merged.append(new_interval)\n",
    "    \n",
    "    while i < n:\n",
    "        merged.append(intervals[i])\n",
    "        i += 1\n",
    "\n",
    "    return merged"
   ]
  },
  {
   "cell_type": "code",
   "execution_count": 7,
   "metadata": {},
   "outputs": [
    {
     "data": {
      "text/plain": [
       "[[1, 3], [5, 7], [8, 12], [4, 6]]"
      ]
     },
     "execution_count": 7,
     "metadata": {},
     "output_type": "execute_result"
    }
   ],
   "source": [
    "intervals=[[1,3], [5,7], [8,12]]\n",
    "new_interval = Interval(4, 6)\n",
    "intervals = convert_to_intervals(intervals)\n",
    "Solution().insert(intervals, new_interval)"
   ]
  },
  {
   "cell_type": "code",
   "execution_count": 8,
   "metadata": {},
   "outputs": [
    {
     "data": {
      "text/plain": [
       "[[1, 3], [5, 7], [8, 12], [4, 10]]"
      ]
     },
     "execution_count": 8,
     "metadata": {},
     "output_type": "execute_result"
    }
   ],
   "source": [
    "intervals=[[1,3], [5,7], [8,12]]\n",
    "new_interval = Interval(4, 10)\n",
    "intervals = convert_to_intervals(intervals)\n",
    "Solution().insert(intervals, new_interval)"
   ]
  },
  {
   "cell_type": "code",
   "execution_count": 9,
   "metadata": {},
   "outputs": [
    {
     "data": {
      "text/plain": [
       "[[1, 4], [5, 7]]"
      ]
     },
     "execution_count": 9,
     "metadata": {},
     "output_type": "execute_result"
    }
   ],
   "source": [
    "intervals = [[2,3],[5,7]]\n",
    "new_interval = Interval(1, 4)\n",
    "intervals = convert_to_intervals(intervals)\n",
    "Solution().insert(intervals, new_interval)"
   ]
  },
  {
   "cell_type": "code",
   "execution_count": 10,
   "metadata": {},
   "outputs": [
    {
     "data": {
      "text/plain": [
       "[[1, 3], [5, 7], [8, 12], [13, 15]]"
      ]
     },
     "execution_count": 10,
     "metadata": {},
     "output_type": "execute_result"
    }
   ],
   "source": [
    "intervals = [[1,3], [5,7], [8,12]]\n",
    "new_interval = Interval(13, 15)\n",
    "intervals = convert_to_intervals(intervals)\n",
    "Solution().insert(intervals, new_interval)"
   ]
  },
  {
   "cell_type": "code",
   "execution_count": 11,
   "metadata": {},
   "outputs": [
    {
     "data": {
      "text/plain": [
       "[[1, 6]]"
      ]
     },
     "execution_count": 11,
     "metadata": {},
     "output_type": "execute_result"
    }
   ],
   "source": [
    "intervals = [[1,2], [3,4], [5,6]]\n",
    "new_interval = Interval(2, 5)\n",
    "intervals = convert_to_intervals(intervals)\n",
    "Solution().insert(intervals, new_interval)"
   ]
  },
  {
   "cell_type": "code",
   "execution_count": 12,
   "metadata": {},
   "outputs": [
    {
     "data": {
      "text/plain": [
       "[[1, 5], [10, 15], [20, 25], [6, 7]]"
      ]
     },
     "execution_count": 12,
     "metadata": {},
     "output_type": "execute_result"
    }
   ],
   "source": [
    "intervals = [[1,5], [10,15], [20,25]]\n",
    "new_interval = Interval(6, 7)\n",
    "intervals = convert_to_intervals(intervals)\n",
    "Solution().insert(intervals, new_interval)"
   ]
  },
  {
   "cell_type": "code",
   "execution_count": 13,
   "metadata": {},
   "outputs": [],
   "source": [
    "class Solution:\n",
    "  def merge(self, intervals_a, intervals_b):\n",
    "    result = []\n",
    "    i = 0\n",
    "    j = 0\n",
    "    while i < len(intervals_a) and j < len(intervals_b):\n",
    "        if intervals_a[i].end < intervals_b[j].start:\n",
    "          i += 1\n",
    "          continue\n",
    "        if intervals_a[i].start > intervals_b[j].end:\n",
    "          j += 1\n",
    "          continue\n",
    "\n",
    "        x = max(intervals_a[i].start, intervals_b[j].start)\n",
    "        y = min(intervals_a[i].end, intervals_b[j].end)\n",
    "        result.append(Interval(x, y))\n",
    "        \n",
    "        if intervals_a[i].end < intervals_b[j].end:\n",
    "            i += 1\n",
    "        else:\n",
    "            j += 1\n",
    "\n",
    "\n",
    "    return result"
   ]
  },
  {
   "cell_type": "code",
   "execution_count": 14,
   "metadata": {},
   "outputs": [
    {
     "data": {
      "text/plain": [
       "[[2, 3], [5, 6], [7, 7], [8, 9]]"
      ]
     },
     "execution_count": 14,
     "metadata": {},
     "output_type": "execute_result"
    }
   ],
   "source": [
    "intervals_a = [[1, 3], [5, 6], [7, 9]]\n",
    "intervals_b = [[2, 3], [5, 7], [8, 10]]\n",
    "intervals_a = convert_to_intervals(intervals_a)\n",
    "intervals_b = convert_to_intervals(intervals_b)\n",
    "\n",
    "Solution().merge(intervals_a, intervals_b)"
   ]
  },
  {
   "cell_type": "code",
   "execution_count": 15,
   "metadata": {},
   "outputs": [
    {
     "data": {
      "text/plain": [
       "[[5, 7], [9, 10]]"
      ]
     },
     "execution_count": 15,
     "metadata": {},
     "output_type": "execute_result"
    }
   ],
   "source": [
    "intervals_a = [[1, 3], [5, 7], [9, 12]]\n",
    "intervals_b = [[5, 10]]\n",
    "intervals_a = convert_to_intervals(intervals_a)\n",
    "intervals_b = convert_to_intervals(intervals_b)\n",
    "\n",
    "Solution().merge(intervals_a, intervals_b)"
   ]
  },
  {
   "cell_type": "code",
   "execution_count": 16,
   "metadata": {},
   "outputs": [],
   "source": [
    "class Solution:\n",
    "  def merge(self, intervals):\n",
    "    if len(intervals) < 2:\n",
    "      return intervals\n",
    "\n",
    "    # sort the intervals on the start time\n",
    "    intervals.sort(key=lambda x: x.start)\n",
    "\n",
    "    mergedIntervals = []\n",
    "    start = intervals[0].start\n",
    "    end = intervals[0].end\n",
    "    for i in range(1, len(intervals)):\n",
    "      interval = intervals[i]\n",
    "      if interval.start <= end:  # overlapping intervals, adjust the 'end'\n",
    "        end = max(interval.end, end)\n",
    "      else:  # non-overlapping interval, add the previous interval and reset\n",
    "        mergedIntervals.append(Interval(start, end))\n",
    "        start = interval.start\n",
    "        end = interval.end\n",
    "\n",
    "    # add the last interval\n",
    "    mergedIntervals.append(Interval(start, end))\n",
    "    return mergedIntervals\n"
   ]
  },
  {
   "cell_type": "code",
   "execution_count": 17,
   "metadata": {},
   "outputs": [
    {
     "ename": "TypeError",
     "evalue": "merge() takes 2 positional arguments but 3 were given",
     "output_type": "error",
     "traceback": [
      "\u001b[1;31m---------------------------------------------------------------------------\u001b[0m",
      "\u001b[1;31mTypeError\u001b[0m                                 Traceback (most recent call last)",
      "Cell \u001b[1;32mIn[17], line 6\u001b[0m\n\u001b[0;32m      3\u001b[0m intervals_a \u001b[38;5;241m=\u001b[39m convert_to_intervals(intervals_a)\n\u001b[0;32m      4\u001b[0m intervals_b \u001b[38;5;241m=\u001b[39m convert_to_intervals(intervals_b)\n\u001b[1;32m----> 6\u001b[0m \u001b[43mSolution\u001b[49m\u001b[43m(\u001b[49m\u001b[43m)\u001b[49m\u001b[38;5;241;43m.\u001b[39;49m\u001b[43mmerge\u001b[49m\u001b[43m(\u001b[49m\u001b[43mintervals_a\u001b[49m\u001b[43m,\u001b[49m\u001b[43m \u001b[49m\u001b[43mintervals_b\u001b[49m\u001b[43m)\u001b[49m\n",
      "\u001b[1;31mTypeError\u001b[0m: merge() takes 2 positional arguments but 3 were given"
     ]
    }
   ],
   "source": [
    "intervals_a = [[1, 3], [5, 6], [7, 9]]\n",
    "intervals_b = [[2, 3], [5, 7], [8, 10]]\n",
    "intervals_a = convert_to_intervals(intervals_a)\n",
    "intervals_b = convert_to_intervals(intervals_b)\n",
    "\n",
    "Solution().merge(intervals_a, intervals_b)"
   ]
  }
 ],
 "metadata": {
  "kernelspec": {
   "display_name": "3.9.6",
   "language": "python",
   "name": "python3"
  },
  "language_info": {
   "codemirror_mode": {
    "name": "ipython",
    "version": 3
   },
   "file_extension": ".py",
   "mimetype": "text/x-python",
   "name": "python",
   "nbconvert_exporter": "python",
   "pygments_lexer": "ipython3",
   "version": "3.9.6"
  }
 },
 "nbformat": 4,
 "nbformat_minor": 2
}
