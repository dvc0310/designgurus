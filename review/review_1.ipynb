{
 "cells": [
  {
   "cell_type": "code",
   "execution_count": 7,
   "metadata": {},
   "outputs": [],
   "source": [
    "def ceiling_num(arr, key):\n",
    "    l = 0\n",
    "    r = len(arr) - 1\n",
    "\n",
    "    while l <= r:\n",
    "        m = l + (r - l) // 2\n",
    "        if arr[m] < key:\n",
    "            l = m + 1\n",
    "        elif arr[m] > key:\n",
    "            r = m - 1\n",
    "        else:\n",
    "            return arr[m]\n",
    "\n",
    "    return arr[l]"
   ]
  },
  {
   "cell_type": "code",
   "execution_count": 8,
   "metadata": {},
   "outputs": [
    {
     "data": {
      "text/plain": [
       "15"
      ]
     },
     "execution_count": 8,
     "metadata": {},
     "output_type": "execute_result"
    }
   ],
   "source": [
    "arr = [1, 3, 8, 10, 15]\n",
    "key = 12\n",
    "ceiling_num(arr, key)"
   ]
  },
  {
   "cell_type": "code",
   "execution_count": 9,
   "metadata": {},
   "outputs": [],
   "source": [
    "def find_subsets(array):\n",
    "    # Step 1: Initialize the list of subsets with an empty subset.\n",
    "    subsets = [[]]\n",
    "\n",
    "    # Step 2: Loop through each element in the input array.\n",
    "    for element in array:\n",
    "        # Step 3: Create new subsets by adding the current element to existing subsets.\n",
    "        new_subsets = add_element_to_subsets(subsets, element)\n",
    "        # Step 4: Add the new subsets to the main list of subsets.\n",
    "        subsets.extend(new_subsets)\n",
    "    \n",
    "    # Step 5: Return the complete list of subsets.\n",
    "    return subsets\n",
    "\n",
    "def add_element_to_subsets(subsets, element):\n",
    "    # Step 1: Create an empty list to store new subsets.\n",
    "    new_subsets = []\n",
    "    # Step 2: Loop through each subset in the current list.\n",
    "    for subset in subsets:\n",
    "        # Step 3: Copy the current subset and add the new element to it.\n",
    "        extended_subset = list(subset)\n",
    "        extended_subset.append(element)\n",
    "        # Step 4: Add the extended subset to the new list.\n",
    "        new_subsets.append(extended_subset)\n",
    "    # Step 5: Return the new list of subsets.\n",
    "    return new_subsets\n"
   ]
  },
  {
   "cell_type": "code",
   "execution_count": 10,
   "metadata": {},
   "outputs": [
    {
     "data": {
      "text/plain": [
       "[[], [1], [5], [1, 5], [3], [1, 3], [5, 3], [1, 5, 3]]"
      ]
     },
     "execution_count": 10,
     "metadata": {},
     "output_type": "execute_result"
    }
   ],
   "source": [
    "arr = [1, 5, 3]\n",
    "find_subsets(arr)"
   ]
  },
  {
   "cell_type": "code",
   "execution_count": 16,
   "metadata": {},
   "outputs": [],
   "source": [
    "def remove_dupes(nums):\n",
    "    write = 0\n",
    "    i = 0\n",
    "    count = 0\n",
    "    curr = nums[0]\n",
    "    while i < len(nums):\n",
    "        count = 0\n",
    "        curr = nums[i]\n",
    "        while i < len(nums) and nums[i] == curr:\n",
    "            if count < 2:\n",
    "                if nums[i] != nums[write]:\n",
    "                    nums[i], nums[write] = nums[write], nums[i]\n",
    "                write += 1\n",
    "            count += 1\n",
    "            i += 1\n",
    "        \n",
    "\n",
    "    return write\n"
   ]
  },
  {
   "cell_type": "code",
   "execution_count": 17,
   "metadata": {},
   "outputs": [
    {
     "data": {
      "text/plain": [
       "7"
      ]
     },
     "execution_count": 17,
     "metadata": {},
     "output_type": "execute_result"
    }
   ],
   "source": [
    "nums = [0,0,1,1,1,1,2,3,3]\n",
    "remove_dupes(nums)"
   ]
  },
  {
   "cell_type": "code",
   "execution_count": 18,
   "metadata": {},
   "outputs": [],
   "source": [
    "def remove_duplicates_swap(nums):\n",
    "    if not nums:\n",
    "        return 0\n",
    "    \n",
    "    write_index = 0\n",
    "    i = 0\n",
    "    \n",
    "    while i < len(nums):\n",
    "        current = nums[i]\n",
    "        count = 0\n",
    "        \n",
    "        # Process occurrences of the current number\n",
    "        while i < len(nums) and nums[i] == current:\n",
    "            if count < 2:\n",
    "                # Swap only if necessary\n",
    "                if write_index != i:\n",
    "                    nums[write_index], nums[i] = nums[i], nums[write_index]\n",
    "                write_index += 1\n",
    "                count += 1\n",
    "            i += 1  # Always increment `i`\n",
    "    \n",
    "    return write_index\n"
   ]
  },
  {
   "cell_type": "code",
   "execution_count": 19,
   "metadata": {},
   "outputs": [
    {
     "data": {
      "text/plain": [
       "7"
      ]
     },
     "execution_count": 19,
     "metadata": {},
     "output_type": "execute_result"
    }
   ],
   "source": [
    "nums = [0,0,1,1,1,1,2,3,3]\n",
    "remove_duplicates_swap(nums)"
   ]
  },
  {
   "cell_type": "code",
   "execution_count": null,
   "metadata": {},
   "outputs": [],
   "source": [
    "def remove_duplicates(nums):\n",
    "    if not nums:\n",
    "        return 0\n",
    "    \n",
    "    write_index = 0\n",
    "    current_index = 0\n",
    "    length = len(nums)\n",
    "    not_at_end = current_index < length\n",
    "    while not_at_end:\n",
    "        current = nums[current_index]\n",
    "        # Process the current number and update write_index and i\n",
    "        write_index, current_index = process_number(nums, current, write_index, current_index, length)\n",
    "    \n",
    "    return write_index\n",
    "\n",
    "def process_number(nums, current, write_index, i, length):\n",
    "    count = 0\n",
    "    at_same_number = i < length and nums[i] == current\n",
    "    not_at_end = i < length\n",
    "    while not_at_end and at_same_number:\n",
    "        if count < 2:\n",
    "            write_index = swap_if_needed(nums, write_index, i)\n",
    "        count += 1\n",
    "        i += 1\n",
    "    return write_index, i\n",
    "\n",
    "def swap_if_needed(nums, write_index, i):\n",
    "    if write_index != i:\n",
    "        nums[write_index], nums[i] = nums[i], nums[write_index]\n",
    "    return write_index + 1\n"
   ]
  },
  {
   "cell_type": "code",
   "execution_count": null,
   "metadata": {},
   "outputs": [],
   "source": [
    "nums = [0,0,1,1,1,1,2,3,3]\n",
    "remove_duplicates(nums)"
   ]
  }
 ],
 "metadata": {
  "kernelspec": {
   "display_name": "3.9.6",
   "language": "python",
   "name": "python3"
  },
  "language_info": {
   "codemirror_mode": {
    "name": "ipython",
    "version": 3
   },
   "file_extension": ".py",
   "mimetype": "text/x-python",
   "name": "python",
   "nbconvert_exporter": "python",
   "pygments_lexer": "ipython3",
   "version": "3.9.6"
  }
 },
 "nbformat": 4,
 "nbformat_minor": 2
}
