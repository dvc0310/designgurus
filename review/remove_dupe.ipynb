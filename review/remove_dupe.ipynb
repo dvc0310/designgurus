{
 "cells": [
  {
   "cell_type": "code",
   "execution_count": 17,
   "metadata": {},
   "outputs": [],
   "source": [
    "class Solution:\n",
    "    def max_substrings(self, s):\n",
    "        self.all_lst = []\n",
    "        self.backtrack(s, 0, set(), [])\n",
    "        return self.all_lst\n",
    "    \n",
    "    def backtrack(self, s, start, candidate, curr_lst):\n",
    "        if start == len(s):\n",
    "            self.all_lst.append(curr_lst[:])  # Use a copy of `curr_lst` to avoid mutation\n",
    "            return \n",
    "        \n",
    "        for end in range(start + 1, len(s) + 1):\n",
    "            if s[start:end] not in candidate:\n",
    "                candidate.add(s[start:end])\n",
    "                curr_lst.append(s[start:end])\n",
    "                \n",
    "                self.backtrack(s, end, candidate, curr_lst)\n",
    "                \n",
    "                # Backtrack: remove the last added substring\n",
    "                curr_lst.pop()\n",
    "                candidate.remove(s[start:end])\n",
    "\n",
    "\n",
    "                \n",
    "       "
   ]
  },
  {
   "cell_type": "code",
   "execution_count": 18,
   "metadata": {},
   "outputs": [
    {
     "data": {
      "text/plain": [
       "[['a', 'b', 'c', 'abc'],\n",
       " ['a', 'b', 'ca', 'bc'],\n",
       " ['a', 'b', 'cab', 'c'],\n",
       " ['a', 'b', 'cabc'],\n",
       " ['a', 'bc', 'ab', 'c'],\n",
       " ['a', 'bc', 'abc'],\n",
       " ['a', 'bca', 'b', 'c'],\n",
       " ['a', 'bca', 'bc'],\n",
       " ['a', 'bcab', 'c'],\n",
       " ['a', 'bcabc'],\n",
       " ['ab', 'c', 'a', 'bc'],\n",
       " ['ab', 'c', 'abc'],\n",
       " ['ab', 'ca', 'b', 'c'],\n",
       " ['ab', 'ca', 'bc'],\n",
       " ['ab', 'cab', 'c'],\n",
       " ['ab', 'cabc'],\n",
       " ['abc', 'a', 'b', 'c'],\n",
       " ['abc', 'a', 'bc'],\n",
       " ['abc', 'ab', 'c'],\n",
       " ['abca', 'b', 'c'],\n",
       " ['abca', 'bc'],\n",
       " ['abcab', 'c'],\n",
       " ['abcabc']]"
      ]
     },
     "execution_count": 18,
     "metadata": {},
     "output_type": "execute_result"
    }
   ],
   "source": [
    "s = 'abcabc'\n",
    "Solution().max_substrings(s)"
   ]
  }
 ],
 "metadata": {
  "kernelspec": {
   "display_name": "3.9.6",
   "language": "python",
   "name": "python3"
  },
  "language_info": {
   "codemirror_mode": {
    "name": "ipython",
    "version": 3
   },
   "file_extension": ".py",
   "mimetype": "text/x-python",
   "name": "python",
   "nbconvert_exporter": "python",
   "pygments_lexer": "ipython3",
   "version": "3.9.6"
  }
 },
 "nbformat": 4,
 "nbformat_minor": 2
}
