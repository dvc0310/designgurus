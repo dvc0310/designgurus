{
 "cells": [
  {
   "cell_type": "code",
   "execution_count": 15,
   "metadata": {},
   "outputs": [],
   "source": [
    "from heapq import *\n",
    "\n",
    "class Solution:\n",
    "    def __init__(self, nums, k):\n",
    "        self.k = k\n",
    "        self.min_heap = []  # Min-heap to store the k largest elements\n",
    "        \n",
    "        # Add each number to the heap\n",
    "        for num in nums:\n",
    "            self.add(num)\n",
    "\n",
    "    def add(self, num):\n",
    "        # Add the number to the min-heap\n",
    "        heappush(self.min_heap, num)\n",
    "        \n",
    "        # If the heap size exceeds k, remove the smallest element\n",
    "        if len(self.min_heap) > self.k:\n",
    "            heappop(self.min_heap)\n",
    "        \n",
    "        # Return the kth largest element (root of the heap)\n",
    "        return self.min_heap[0]\n",
    "\n"
   ]
  },
  {
   "cell_type": "code",
   "execution_count": 16,
   "metadata": {},
   "outputs": [],
   "source": [
    "nums = [3, 1, 5, 12, 2, 11]\n",
    "k = 1\n",
    "sol = Solution(nums, k)"
   ]
  },
  {
   "cell_type": "code",
   "execution_count": 17,
   "metadata": {},
   "outputs": [
    {
     "name": "stdout",
     "output_type": "stream",
     "text": [
      "12\n",
      "[12]\n"
     ]
    }
   ],
   "source": [
    "print(sol.add(10))\n",
    "print(sol.min_heap)"
   ]
  },
  {
   "cell_type": "code",
   "execution_count": 18,
   "metadata": {},
   "outputs": [],
   "source": [
    "from heapq import heappush, heappop\n",
    "\n",
    "class MedianFinder:\n",
    "    def __init__(self):\n",
    "        # Max-heap for the left half (negating numbers to simulate max-heap)\n",
    "        self.max_heap = []  \n",
    "        # Min-heap for the right half\n",
    "        self.min_heap = []\n",
    "\n",
    "    def addNum(self, num):\n",
    "        # Add to max-heap (left half first)\n",
    "        heappush(self.max_heap, -num)\n",
    "        \n",
    "        # Ensure balance: largest in max_heap <= smallest in min_heap\n",
    "        if self.max_heap and self.min_heap and (-self.max_heap[0] > self.min_heap[0]):\n",
    "            heappush(self.min_heap, -heappop(self.max_heap))\n",
    "        \n",
    "        # Maintain size property: max_heap can have at most 1 more element than min_heap\n",
    "        if len(self.max_heap) > len(self.min_heap) + 1:\n",
    "            heappush(self.min_heap, -heappop(self.max_heap))\n",
    "        elif len(self.min_heap) > len(self.max_heap):\n",
    "            heappush(self.max_heap, -heappop(self.min_heap))\n",
    "\n",
    "    def findMedian(self):\n",
    "        # If even number of elements, return the smaller of the two middle elements\n",
    "        if len(self.max_heap) == len(self.min_heap):\n",
    "            return -self.max_heap[0]  # Root of max-heap (left half)\n",
    "        \n",
    "        # If odd, return the root of the larger heap\n",
    "        return -self.max_heap[0]\n"
   ]
  },
  {
   "cell_type": "code",
   "execution_count": 19,
   "metadata": {},
   "outputs": [
    {
     "name": "stdout",
     "output_type": "stream",
     "text": [
      "1\n",
      "2\n",
      "2\n"
     ]
    }
   ],
   "source": [
    "medianFinder = MedianFinder()\n",
    "medianFinder.addNum(1)\n",
    "medianFinder.addNum(2)\n",
    "print(medianFinder.findMedian())  # Output: 1\n",
    "medianFinder.addNum(3)\n",
    "print(medianFinder.findMedian())  # Output: 2\n",
    "medianFinder.addNum(4)\n",
    "print(medianFinder.findMedian())  # Output: 2\n"
   ]
  }
 ],
 "metadata": {
  "kernelspec": {
   "display_name": "3.9.6",
   "language": "python",
   "name": "python3"
  },
  "language_info": {
   "codemirror_mode": {
    "name": "ipython",
    "version": 3
   },
   "file_extension": ".py",
   "mimetype": "text/x-python",
   "name": "python",
   "nbconvert_exporter": "python",
   "pygments_lexer": "ipython3",
   "version": "3.9.6"
  }
 },
 "nbformat": 4,
 "nbformat_minor": 2
}
