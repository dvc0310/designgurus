{
 "cells": [
  {
   "cell_type": "code",
   "execution_count": 13,
   "metadata": {},
   "outputs": [],
   "source": [
    "from heapq import *\n",
    "\n",
    "class Solution:\n",
    "    def sortCharacterByFrequency(self, str):\n",
    "        heap = []\n",
    "        counter = {}\n",
    "        for char in str:\n",
    "            if char not in counter:\n",
    "                counter[char] = 1\n",
    "            else:\n",
    "                counter[char] += 1\n",
    "        \n",
    "        for char, count in counter.items():\n",
    "            heappush(heap, (-count, -ord(char), char))\n",
    "            \n",
    "        a = ''\n",
    "        while heap:\n",
    "            count, _, char = heappop(heap)\n",
    "            count = -count\n",
    "            \n",
    "            for _ in range(count):\n",
    "                a += char\n",
    "        return a\n",
    "\n",
    "sol = Solution()"
   ]
  },
  {
   "cell_type": "code",
   "execution_count": 14,
   "metadata": {},
   "outputs": [
    {
     "data": {
      "text/plain": [
       "'ggmmrrainoP'"
      ]
     },
     "execution_count": 14,
     "metadata": {},
     "output_type": "execute_result"
    }
   ],
   "source": [
    "s = \"Programming\"\n",
    "sol.sortCharacterByFrequency(s)"
   ]
  }
 ],
 "metadata": {
  "kernelspec": {
   "display_name": "3.9.6",
   "language": "python",
   "name": "python3"
  },
  "language_info": {
   "codemirror_mode": {
    "name": "ipython",
    "version": 3
   },
   "file_extension": ".py",
   "mimetype": "text/x-python",
   "name": "python",
   "nbconvert_exporter": "python",
   "pygments_lexer": "ipython3",
   "version": "3.9.6"
  }
 },
 "nbformat": 4,
 "nbformat_minor": 2
}
