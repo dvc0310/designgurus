{
 "cells": [
  {
   "cell_type": "code",
   "execution_count": 17,
   "metadata": {},
   "outputs": [],
   "source": [
    "from heapq import *\n",
    "from point import Point, convert_to_points\n",
    "\n",
    "\n",
    "class Solution:\n",
    "  def findClosestPoints(self, points: list[Point], k: int) -> list[Point]:\n",
    "    heap = []\n",
    "    for i in range(len(points)):\n",
    "        heappush(heap, points[i])\n",
    "        \n",
    "    res = []\n",
    "    for i in range(k):\n",
    "        res.append(heappop(heap))\n",
    "    \n",
    "    return res"
   ]
  },
  {
   "cell_type": "code",
   "execution_count": 18,
   "metadata": {},
   "outputs": [],
   "source": [
    "from heapq import nsmallest\n",
    "\n",
    "class Solution:\n",
    "    def findClosestPoints(self, points: list[Point], k: int) -> list[Point]:\n",
    "        # Use nsmallest to find the k points with the smallest distances from the origin\n",
    "        return nsmallest(k, points, key=lambda point: point.distance_from_origin())\n"
   ]
  },
  {
   "cell_type": "code",
   "execution_count": 19,
   "metadata": {},
   "outputs": [
    {
     "data": {
      "text/plain": [
       "[Point(x=2, y=-1), Point(x=1, y=3)]"
      ]
     },
     "execution_count": 19,
     "metadata": {},
     "output_type": "execute_result"
    }
   ],
   "source": [
    "points = convert_to_points([[1, 3], [3, 4], [2, -1]])\n",
    "K = 2\n",
    "sol = Solution()\n",
    "sol.findClosestPoints(points, K)"
   ]
  }
 ],
 "metadata": {
  "kernelspec": {
   "display_name": "Python 3",
   "language": "python",
   "name": "python3"
  },
  "language_info": {
   "codemirror_mode": {
    "name": "ipython",
    "version": 3
   },
   "file_extension": ".py",
   "mimetype": "text/x-python",
   "name": "python",
   "nbconvert_exporter": "python",
   "pygments_lexer": "ipython3",
   "version": "3.9.6"
  }
 },
 "nbformat": 4,
 "nbformat_minor": 2
}
