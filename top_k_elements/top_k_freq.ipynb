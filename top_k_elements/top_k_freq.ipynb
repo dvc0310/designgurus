{
 "cells": [
  {
   "cell_type": "code",
   "execution_count": 66,
   "metadata": {},
   "outputs": [],
   "source": [
    "from heapq import heappush, heappop\n",
    "\n",
    "class Solution:\n",
    "  def findTopKFrequentNumbers(self, nums, k):\n",
    "    # Step 1: Build the frequency map manually\n",
    "    numFrequencyMap = {}\n",
    "    for num in nums:\n",
    "      numFrequencyMap[num] = numFrequencyMap.get(num, 0) + 1\n",
    "\n",
    "    # Step 2: Use a min-heap to keep track of the top k frequent elements\n",
    "    minHeap = []\n",
    "    for num, frequency in numFrequencyMap.items():\n",
    "      heappush(minHeap, (frequency, num))\n",
    "      if len(minHeap) > k:\n",
    "        heappop(minHeap)\n",
    "\n",
    "    # Step 3: Extract the numbers from the heap\n",
    "    return [x[1] for x in minHeap]\n",
    "\n",
    "    \n",
    "sol = Solution()"
   ]
  },
  {
   "cell_type": "code",
   "execution_count": 67,
   "metadata": {},
   "outputs": [
    {
     "data": {
      "text/plain": [
       "[11, 12]"
      ]
     },
     "execution_count": 67,
     "metadata": {},
     "output_type": "execute_result"
    }
   ],
   "source": [
    "arr = [1, 3, 5, 12, 11, 12, 11]\n",
    "K = 2\n",
    "sol.findTopKFrequentNumbers(arr, K)"
   ]
  },
  {
   "cell_type": "code",
   "execution_count": 68,
   "metadata": {},
   "outputs": [
    {
     "data": {
      "text/plain": [
       "[12, 11]"
      ]
     },
     "execution_count": 68,
     "metadata": {},
     "output_type": "execute_result"
    }
   ],
   "source": [
    "arr = [5, 12, 11, 3, 11]\n",
    "K = 2\n",
    "sol.findTopKFrequentNumbers(arr, K)"
   ]
  },
  {
   "cell_type": "code",
   "execution_count": 69,
   "metadata": {},
   "outputs": [
    {
     "data": {
      "text/plain": [
       "[10, 20]"
      ]
     },
     "execution_count": 69,
     "metadata": {},
     "output_type": "execute_result"
    }
   ],
   "source": [
    "arr = [10,20,10,20,10,20,10,20,30,40,30,40]\n",
    "K = 2\n",
    "sol.findTopKFrequentNumbers(arr, K)"
   ]
  }
 ],
 "metadata": {
  "kernelspec": {
   "display_name": "3.9.6",
   "language": "python",
   "name": "python3"
  },
  "language_info": {
   "codemirror_mode": {
    "name": "ipython",
    "version": 3
   },
   "file_extension": ".py",
   "mimetype": "text/x-python",
   "name": "python",
   "nbconvert_exporter": "python",
   "pygments_lexer": "ipython3",
   "version": "3.9.6"
  }
 },
 "nbformat": 4,
 "nbformat_minor": 2
}
