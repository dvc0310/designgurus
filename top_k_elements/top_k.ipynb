{
 "cells": [
  {
   "cell_type": "code",
   "execution_count": null,
   "metadata": {},
   "outputs": [],
   "source": [
    "from heapq import *\n",
    "\n",
    "class Solution :\n",
    "  def findKLargestNumbers(self, nums, k):\n",
    "    heap = []\n",
    "    for i in range(len(nums)):\n",
    "        heappush(heap, -nums[i])\n",
    "    \n",
    "    i = 0\n",
    "    lst = []\n",
    "    while i < k:\n",
    "        lst.append(-heappop(heap))\n",
    "        i += 1\n",
    "\n",
    "    return lst\n",
    "sol = Solution()"
   ]
  },
  {
   "cell_type": "code",
   "execution_count": 4,
   "metadata": {},
   "outputs": [
    {
     "data": {
      "text/plain": [
       "[12, 11, 5]"
      ]
     },
     "execution_count": 4,
     "metadata": {},
     "output_type": "execute_result"
    }
   ],
   "source": [
    "arr = [3, 1, 5, 12, 2, 11]\n",
    "K = 3\n",
    "sol.findKLargestNumbers(arr, K)"
   ]
  }
 ],
 "metadata": {
  "kernelspec": {
   "display_name": "Python 3",
   "language": "python",
   "name": "python3"
  },
  "language_info": {
   "codemirror_mode": {
    "name": "ipython",
    "version": 3
   },
   "file_extension": ".py",
   "mimetype": "text/x-python",
   "name": "python",
   "nbconvert_exporter": "python",
   "pygments_lexer": "ipython3",
   "version": "3.9.6"
  }
 },
 "nbformat": 4,
 "nbformat_minor": 2
}
