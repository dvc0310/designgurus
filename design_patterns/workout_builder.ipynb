{
 "cells": [
  {
   "cell_type": "code",
   "execution_count": 13,
   "metadata": {},
   "outputs": [],
   "source": [
    "class Exercise:\n",
    "    def __init__(self, name, sets, reps, rest_time):\n",
    "        self.name = name\n",
    "        self.sets = sets\n",
    "        self.reps = reps\n",
    "        self.rest_time = rest_time\n",
    "\n",
    "    def __str__(self):\n",
    "        return f\"{self.name}: {self.sets} sets x {self.reps} reps (Rest: {self.rest_time} seconds)\"\n",
    "\n",
    "class WorkoutPlanBuilder:\n",
    "    def __init__(self):\n",
    "        self.exercises = []\n",
    "\n",
    "    def add_exercise(self, name, sets, reps, rest_time=60):\n",
    "        exercise = Exercise(name, sets, reps, rest_time)\n",
    "        self.exercises.append(exercise)\n",
    "        return self\n",
    "\n",
    "    def build(self):\n",
    "        return WorkoutPlan(self.exercises)\n",
    "\n",
    "class WorkoutPlan:\n",
    "    def __init__(self, exercises):\n",
    "        self.exercises = exercises\n",
    "\n",
    "    def __str__(self):\n",
    "        return \"\\n\".join(str(exercise) for exercise in self.exercises)\n",
    "\n",
    "class WorkoutDirector:\n",
    "    def __init__(self, builder:WorkoutPlanBuilder):\n",
    "        self.builder = builder\n",
    "\n",
    "    def build_full_body_beginner(self):\n",
    "        return (self.builder\n",
    "                .add_exercise(\"Squat\", 3, 10, 90)\n",
    "                .add_exercise(\"Bench Press\", 3, 8, 90)\n",
    "                .add_exercise(\"Lat Pulldown\", 3, 12, 60)\n",
    "                .add_exercise(\"Shoulder Press\", 3, 10, 60)\n",
    "                .add_exercise(\"Bicep Curl\", 3, 15, 45)\n",
    "                .build())\n",
    "\n",
    "    def build_strength_training(self):\n",
    "        return (self.builder\n",
    "                .add_exercise(\"Deadlift\", 4, 6, 120)\n",
    "                .add_exercise(\"Squat\", 4, 6, 120)\n",
    "                .add_exercise(\"Bench Press\", 4, 6, 120)\n",
    "                .add_exercise(\"Barbell Row\", 4, 8, 90)\n",
    "                .build())\n"
   ]
  },
  {
   "cell_type": "code",
   "execution_count": 15,
   "metadata": {},
   "outputs": [
    {
     "name": "stdout",
     "output_type": "stream",
     "text": [
      "Beginner Full-Body Workout:\n",
      " Squat: 3 sets x 10 reps (Rest: 90 seconds)\n",
      "Bench Press: 3 sets x 8 reps (Rest: 90 seconds)\n",
      "Lat Pulldown: 3 sets x 12 reps (Rest: 60 seconds)\n",
      "Shoulder Press: 3 sets x 10 reps (Rest: 60 seconds)\n",
      "Bicep Curl: 3 sets x 15 reps (Rest: 45 seconds)\n",
      "\n",
      "Strength Training Workout:\n",
      " Squat: 3 sets x 10 reps (Rest: 90 seconds)\n",
      "Bench Press: 3 sets x 8 reps (Rest: 90 seconds)\n",
      "Lat Pulldown: 3 sets x 12 reps (Rest: 60 seconds)\n",
      "Shoulder Press: 3 sets x 10 reps (Rest: 60 seconds)\n",
      "Bicep Curl: 3 sets x 15 reps (Rest: 45 seconds)\n",
      "Deadlift: 4 sets x 6 reps (Rest: 120 seconds)\n",
      "Squat: 4 sets x 6 reps (Rest: 120 seconds)\n",
      "Bench Press: 4 sets x 6 reps (Rest: 120 seconds)\n",
      "Barbell Row: 4 sets x 8 reps (Rest: 90 seconds)\n"
     ]
    }
   ],
   "source": [
    "builder = WorkoutPlanBuilder()\n",
    "director = WorkoutDirector(builder)\n",
    "\n",
    "# Generate a pre-configured beginner full-body workout\n",
    "beginner_workout = director.build_full_body_beginner()\n",
    "print(\"Beginner Full-Body Workout:\\n\",beginner_workout)\n",
    "\n",
    "# Generate a pre-configured strength training workout\n",
    "strength_workout = director.build_strength_training()\n",
    "print(\"\\nStrength Training Workout:\\n\",strength_workout)\n"
   ]
  }
 ],
 "metadata": {
  "kernelspec": {
   "display_name": "Python 3",
   "language": "python",
   "name": "python3"
  },
  "language_info": {
   "codemirror_mode": {
    "name": "ipython",
    "version": 3
   },
   "file_extension": ".py",
   "mimetype": "text/x-python",
   "name": "python",
   "nbconvert_exporter": "python",
   "pygments_lexer": "ipython3",
   "version": "3.9.6"
  }
 },
 "nbformat": 4,
 "nbformat_minor": 2
}
