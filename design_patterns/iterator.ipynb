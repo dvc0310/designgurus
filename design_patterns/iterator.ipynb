{
 "cells": [
  {
   "cell_type": "code",
   "execution_count": 5,
   "metadata": {},
   "outputs": [],
   "source": [
    "from abc import ABC, abstractmethod\n",
    "\n",
    "# 1. Iterator Interface\n",
    "class Iterator(ABC):\n",
    "    @abstractmethod\n",
    "    def has_next(self) -> bool:\n",
    "        pass\n",
    "\n",
    "    @abstractmethod\n",
    "    def next(self):\n",
    "        pass\n",
    "\n",
    "# 2. Concrete Iterator\n",
    "class BookIterator(Iterator):\n",
    "    def __init__(self, books):\n",
    "        self._books = books\n",
    "        self._index = 0\n",
    "\n",
    "    def has_next(self) -> bool:\n",
    "        return self._index < len(self._books)\n",
    "\n",
    "    def next(self):\n",
    "        if self.has_next():\n",
    "            book = self._books[self._index]\n",
    "            self._index += 1\n",
    "            return book\n",
    "        else:\n",
    "            raise StopIteration(\"No more books in the collection.\")\n",
    "\n",
    "# 3. Aggregate Interface\n",
    "class BookCollection(ABC):\n",
    "    @abstractmethod\n",
    "    def create_iterator(self) -> Iterator:\n",
    "        pass\n",
    "\n",
    "# 4. Concrete Aggregate\n",
    "class Library(BookCollection):\n",
    "    def __init__(self):\n",
    "        self._books = []\n",
    "\n",
    "    def add_book(self, book: str):\n",
    "        self._books.append(book)\n",
    "        print(f\"Library: Added '{book}' to the collection.\")\n",
    "\n",
    "    def remove_book(self, book: str):\n",
    "        if book in self._books:\n",
    "            self._books.remove(book)\n",
    "            print(f\"Library: Removed '{book}' from the collection.\")\n",
    "        else:\n",
    "            print(f\"Library: Book '{book}' not found in the collection.\")\n",
    "\n",
    "    def create_iterator(self) -> Iterator:\n",
    "        return BookIterator(self._books)\n"
   ]
  },
  {
   "cell_type": "code",
   "execution_count": 6,
   "metadata": {},
   "outputs": [
    {
     "name": "stdout",
     "output_type": "stream",
     "text": [
      "Library: Added 'The Great Gatsby' to the collection.\n",
      "Library: Added '1984' to the collection.\n",
      "Library: Added 'To Kill a Mockingbird' to the collection.\n",
      "Library: Added 'Pride and Prejudice' to the collection.\n",
      "Library: Added 'The Catcher in the Rye' to the collection.\n",
      "\n",
      "--- Iterating through the library books ---\n",
      "Client: Book found - 'The Great Gatsby'\n",
      "Client: Book found - '1984'\n",
      "Client: Book found - 'To Kill a Mockingbird'\n",
      "Client: Book found - 'Pride and Prejudice'\n",
      "Client: Book found - 'The Catcher in the Rye'\n"
     ]
    }
   ],
   "source": [
    "# 5. Client\n",
    "if __name__ == \"__main__\":\n",
    "    # Creating the library and adding books\n",
    "    library = Library()\n",
    "    library.add_book(\"The Great Gatsby\")\n",
    "    library.add_book(\"1984\")\n",
    "    library.add_book(\"To Kill a Mockingbird\")\n",
    "    library.add_book(\"Pride and Prejudice\")\n",
    "    library.add_book(\"The Catcher in the Rye\")\n",
    "\n",
    "    print(\"\\n--- Iterating through the library books ---\")\n",
    "    # Creating an iterator\n",
    "    iterator = library.create_iterator()\n",
    "\n",
    "    # Using the iterator to traverse the collection\n",
    "    while iterator.has_next():\n",
    "        book = iterator.next()\n",
    "        print(f\"Client: Book found - '{book}'\")\n"
   ]
  }
 ],
 "metadata": {
  "kernelspec": {
   "display_name": "3.9.6",
   "language": "python",
   "name": "python3"
  },
  "language_info": {
   "codemirror_mode": {
    "name": "ipython",
    "version": 3
   },
   "file_extension": ".py",
   "mimetype": "text/x-python",
   "name": "python",
   "nbconvert_exporter": "python",
   "pygments_lexer": "ipython3",
   "version": "3.9.6"
  }
 },
 "nbformat": 4,
 "nbformat_minor": 2
}
