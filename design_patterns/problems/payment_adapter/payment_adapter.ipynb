{
 "cells": [
  {
   "cell_type": "code",
   "execution_count": 7,
   "metadata": {},
   "outputs": [],
   "source": [
    "from abc import ABC, abstractmethod\n",
    "\n",
    "class PaymentProcessor(ABC):\n",
    "    @abstractmethod\n",
    "    def process_payment(self, amount: float) -> bool:\n",
    "        raise NotImplementedError(\"This method should be overridden by subclasses\")\n",
    "\n",
    "class ExternalPaymentService:\n",
    "    def make_payment(self, cents: int) -> int:\n",
    "        print(f\"Payment of {cents} cents has been processed by the external service.\")\n",
    "        # Simulate a successful payment with a return value (e.g., 1 for success)\n",
    "        return 1\n",
    "\n",
    "class PaymentAdapter(PaymentProcessor):\n",
    "    def __init__(self, payment_service: ExternalPaymentService):\n",
    "        self.payment_service: ExternalPaymentService = payment_service\n",
    "    \n",
    "    def process_payment(self, amount: float) -> bool:\n",
    "        if amount > 0:\n",
    "            cents: int = int(round(amount * 100, 2))  # Round to ensure two decimal places before converting\n",
    "            result: int = self.payment_service.make_payment(cents)\n",
    "            return result == 1  # Return True if the payment was successful\n",
    "        else:\n",
    "            print(\"Amount must be greater than 0.\")\n",
    "            return False"
   ]
  },
  {
   "cell_type": "code",
   "execution_count": null,
   "metadata": {},
   "outputs": [
    {
     "name": "stdout",
     "output_type": "stream",
     "text": [
      "Payment of 5075 cents has been processed by the external service.\n"
     ]
    }
   ],
   "source": [
    "# Main method\n",
    "if __name__ == \"__main__\":\n",
    "    external_service = ExternalPaymentService()\n",
    "    payment_adapter = PaymentAdapter(external_service)\n",
    "\n",
    "    # Test processing a payment in dollars\n",
    "    payment_amount: float = 50.75  # Amount in dollars\n",
    "    payment_adapter.process_payment(payment_amount)"
   ]
  }
 ],
 "metadata": {
  "kernelspec": {
   "display_name": "3.9.6",
   "language": "python",
   "name": "python3"
  },
  "language_info": {
   "codemirror_mode": {
    "name": "ipython",
    "version": 3
   },
   "file_extension": ".py",
   "mimetype": "text/x-python",
   "name": "python",
   "nbconvert_exporter": "python",
   "pygments_lexer": "ipython3",
   "version": "3.9.6"
  }
 },
 "nbformat": 4,
 "nbformat_minor": 2
}
