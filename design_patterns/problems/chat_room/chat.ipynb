{
 "cells": [
  {
   "cell_type": "code",
   "execution_count": 3,
   "metadata": {},
   "outputs": [],
   "source": [
    "from abc import ABC, abstractmethod\n",
    "\n",
    "class User:\n",
    "    def __init__(self, name: str):\n",
    "        self.__name: str = name\n",
    "        \n",
    "    def get_name(self) -> str:\n",
    "        return self.__name\n",
    "    \n",
    "    def send_message(self, message: str, mediator) -> None:\n",
    "        if not isinstance(mediator, Mediator):\n",
    "            raise TypeError(\"mediator should be of type Mediator\")\n",
    "        print(f\"{self.__name} sends: {message}\")\n",
    "        mediator.send_message(self, message)\n",
    "        \n",
    "    def receive_message(self, message: str) -> None:\n",
    "        print(f\"{self.__name} receives: {message}\")\n",
    "\n",
    "class Mediator(ABC):\n",
    "    @abstractmethod\n",
    "    def add_user(self, user: User) -> bool:\n",
    "        pass\n",
    "    \n",
    "    @abstractmethod\n",
    "    def send_message(self, user: User, message: str) -> None:\n",
    "        pass\n",
    "    \n",
    "class ChatRoomMediator(Mediator):\n",
    "    def __init__(self):\n",
    "        self.__users: list[User] = []\n",
    "        \n",
    "    def add_user(self, user: User) -> bool:\n",
    "        self.__users.append(user)\n",
    "        return True\n",
    "    \n",
    "    def send_message(self, sender: User, message: str) -> None:\n",
    "        for other_user in self.__users:\n",
    "            if other_user != sender:\n",
    "                other_user.receive_message(message)\n",
    "\n",
    "\n",
    "\n"
   ]
  },
  {
   "cell_type": "code",
   "execution_count": 4,
   "metadata": {},
   "outputs": [
    {
     "name": "stdout",
     "output_type": "stream",
     "text": [
      "Alice sends: Hello, everyone!\n",
      "Bob receives: Hello, everyone!\n",
      "Charlie receives: Hello, everyone!\n"
     ]
    }
   ],
   "source": [
    "# Create mediator\n",
    "chat_room = ChatRoomMediator()\n",
    "\n",
    "# Create users\n",
    "user1 = User(\"Alice\")\n",
    "user2 = User(\"Bob\")\n",
    "user3 = User(\"Charlie\")\n",
    "\n",
    "# Add users to the chat room\n",
    "chat_room.add_user(user1)\n",
    "chat_room.add_user(user2)\n",
    "chat_room.add_user(user3)\n",
    "\n",
    "# User sends a message\n",
    "user1.send_message(\"Hello, everyone!\", chat_room)"
   ]
  }
 ],
 "metadata": {
  "kernelspec": {
   "display_name": "3.9.6",
   "language": "python",
   "name": "python3"
  },
  "language_info": {
   "codemirror_mode": {
    "name": "ipython",
    "version": 3
   },
   "file_extension": ".py",
   "mimetype": "text/x-python",
   "name": "python",
   "nbconvert_exporter": "python",
   "pygments_lexer": "ipython3",
   "version": "3.9.6"
  }
 },
 "nbformat": 4,
 "nbformat_minor": 2
}
