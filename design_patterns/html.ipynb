{
 "cells": [
  {
   "cell_type": "code",
   "execution_count": 9,
   "metadata": {},
   "outputs": [],
   "source": [
    "from abc import ABC, abstractmethod\n",
    "\n",
    "class HtmlElement(ABC):\n",
    "    def __init__(self, tag_name, content=\"\"):\n",
    "        self.tag_name = tag_name\n",
    "        self.content = content\n",
    "        self.children: list[HtmlElement] = []\n",
    "\n",
    "    def add(self, child):\n",
    "        self.children.append(child)\n",
    "\n",
    "    @abstractmethod\n",
    "    def render(self, indent=0):\n",
    "        pass\n",
    "    \n",
    "class Span(HtmlElement):\n",
    "    def __init__(self, content=\"\"):\n",
    "        super().__init__(tag_name=\"span\", content=content)\n",
    "        \n",
    "    def render(self, indent=0):\n",
    "        print(\" \" * indent + f\"<{self.tag_name}>{self.content}</{self.tag_name}>\")\n",
    "    \n",
    "class Div(HtmlElement):\n",
    "    def __init__(self, content=\"\"):\n",
    "        super().__init__(tag_name=\"div\", content=content)\n",
    "    \n",
    "    def render(self, indent=0):\n",
    "        print(\" \" * indent + f\"<{self.tag_name}>\")\n",
    "        for child in self.children:\n",
    "            child.render(indent + 4)\n",
    "        print(\" \" * indent + f\"</{self.tag_name}>\")\n",
    "        \n",
    "class Body(HtmlElement):\n",
    "    def __init__(self):\n",
    "        super().__init__(tag_name=\"body\")\n",
    "\n",
    "    def render(self, indent=0):\n",
    "        print(\" \" * indent + f\"<{self.tag_name}>\")\n",
    "        for child in self.children:\n",
    "            child.render(indent + 4)\n",
    "        print(\" \" * indent + f\"</{self.tag_name}>\")\n",
    "\n",
    "# Composite Class for <html> Element\n",
    "class Html(HtmlElement):\n",
    "    def __init__(self):\n",
    "        super().__init__(tag_name=\"html\")\n",
    "\n",
    "    def render(self, indent=0):\n",
    "        print(\" \" * indent + f\"<{self.tag_name}>\")\n",
    "        for child in self.children:\n",
    "            child.render(indent + 4)\n",
    "        print(\" \" * indent + f\"</{self.tag_name}>\")\n",
    "\n",
    "    "
   ]
  },
  {
   "cell_type": "code",
   "execution_count": 11,
   "metadata": {},
   "outputs": [
    {
     "name": "stdout",
     "output_type": "stream",
     "text": [
      "<html>\n",
      "    <body>\n",
      "        <div>\n",
      "            <span>Hello, world!</span>\n",
      "            <span>This is a span inside a div.</span>\n",
      "        </div>\n",
      "        <div>\n",
      "            <span>Hello, world! (Again)</span>\n",
      "            <span>This is a span inside a div. (Again)</span>\n",
      "        </div>\n",
      "    </body>\n",
      "</html>\n"
     ]
    }
   ],
   "source": [
    "# Build the HTML document\n",
    "html = Html()\n",
    "body = Body()\n",
    "div = Div()\n",
    "span1 = Span(\"Hello, world!\")\n",
    "span2 = Span(\"This is a span inside a div.\")\n",
    "div2 = Div()\n",
    "span3 = Span(\"Hello, world! (Again)\")\n",
    "span4 = Span(\"This is a span inside a div. (Again)\")\n",
    "\n",
    "# Nest the elements\n",
    "div.add(span1)\n",
    "div.add(span2)\n",
    "body.add(div)\n",
    "body.add(div2)\n",
    "div2.add(span3)\n",
    "div2.add(span4)\n",
    "html.add(body)\n",
    "\n",
    "# Render the document\n",
    "html.render()\n"
   ]
  }
 ],
 "metadata": {
  "kernelspec": {
   "display_name": "Python 3",
   "language": "python",
   "name": "python3"
  },
  "language_info": {
   "codemirror_mode": {
    "name": "ipython",
    "version": 3
   },
   "file_extension": ".py",
   "mimetype": "text/x-python",
   "name": "python",
   "nbconvert_exporter": "python",
   "pygments_lexer": "ipython3",
   "version": "3.9.6"
  }
 },
 "nbformat": 4,
 "nbformat_minor": 2
}
