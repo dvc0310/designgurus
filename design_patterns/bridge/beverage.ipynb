{
 "cells": [
  {
   "cell_type": "code",
   "execution_count": 6,
   "metadata": {},
   "outputs": [],
   "source": [
    "# Abstract Component\n",
    "class Beverage:\n",
    "    def get_description(self):\n",
    "        return \"Unknown Beverage\"\n",
    "\n",
    "    def cost(self):\n",
    "        pass\n",
    "\n",
    "# Concrete Components\n",
    "class Espresso(Beverage):\n",
    "    def get_description(self):\n",
    "        return \"Espresso\"\n",
    "    \n",
    "    def cost(self):\n",
    "        return 1.99\n",
    "\n",
    "class HouseBlend(Beverage):\n",
    "    def get_description(self):\n",
    "        return \"House Blend Coffee\"\n",
    "    \n",
    "    def cost(self):\n",
    "        return 0.89\n",
    "\n",
    "class DarkRoast(Beverage):\n",
    "    def get_description(self):\n",
    "        return \"Dark Roast Coffee\"\n",
    "    \n",
    "    def cost(self):\n",
    "        return 0.99\n",
    "\n",
    "class Decaf(Beverage):\n",
    "    def get_description(self):\n",
    "        return \"Decaf Coffee\"\n",
    "    \n",
    "    def cost(self):\n",
    "        return 1.05\n",
    "\n",
    "# Abstract Decorator\n",
    "class CondimentDecorator(Beverage):\n",
    "    def __init__(self, beverage: Beverage):\n",
    "        self._beverage = beverage\n",
    "    \n",
    "    def get_description(self):\n",
    "        pass\n",
    "    \n",
    "    def cost(self):\n",
    "        pass\n",
    "\n",
    "# Concrete Decorators\n",
    "class Milk(CondimentDecorator):\n",
    "    def get_description(self):\n",
    "        return self._beverage.get_description() + \", Milk\"\n",
    "    \n",
    "    def cost(self):\n",
    "        return self._beverage.cost() + 0.10\n",
    "\n",
    "class Soy(CondimentDecorator):\n",
    "    def get_description(self):\n",
    "        return self._beverage.get_description() + \", Soy\"\n",
    "    \n",
    "    def cost(self):\n",
    "        return self._beverage.cost() + 0.15\n",
    "\n",
    "class Mocha(CondimentDecorator):\n",
    "    def get_description(self):\n",
    "        return self._beverage.get_description() + \", Mocha\"\n",
    "    \n",
    "    def cost(self):\n",
    "        return self._beverage.cost() + 0.20\n",
    "\n",
    "class Whip(CondimentDecorator):\n",
    "    def get_description(self):\n",
    "        return self._beverage.get_description() + \", Whip\"\n",
    "    \n",
    "    def cost(self):\n",
    "        return self._beverage.cost() + 0.10\n",
    "\n"
   ]
  },
  {
   "cell_type": "code",
   "execution_count": 7,
   "metadata": {},
   "outputs": [
    {
     "name": "stdout",
     "output_type": "stream",
     "text": [
      "Espresso $1.99\n",
      "Dark Roast Coffee, Mocha, Whip, Soy $1.44\n"
     ]
    }
   ],
   "source": [
    "# Order an Espresso with no add-ons\n",
    "beverage = Espresso()\n",
    "print(f\"{beverage.get_description()} ${beverage.cost():.2f}\")\n",
    "\n",
    "# Order a Dark Roast with Mocha, Whip, and Soy\n",
    "beverage2 = DarkRoast()\n",
    "beverage2 = Mocha(beverage2)\n",
    "beverage2 = Whip(beverage2)\n",
    "beverage2 = Soy(beverage2)\n",
    "print(f\"{beverage2.get_description()} ${beverage2.cost():.2f}\")\n"
   ]
  }
 ],
 "metadata": {
  "kernelspec": {
   "display_name": "Python 3",
   "language": "python",
   "name": "python3"
  },
  "language_info": {
   "codemirror_mode": {
    "name": "ipython",
    "version": 3
   },
   "file_extension": ".py",
   "mimetype": "text/x-python",
   "name": "python",
   "nbconvert_exporter": "python",
   "pygments_lexer": "ipython3",
   "version": "3.9.6"
  }
 },
 "nbformat": 4,
 "nbformat_minor": 2
}
