{
 "cells": [
  {
   "cell_type": "code",
   "execution_count": 2,
   "metadata": {},
   "outputs": [
    {
     "name": "stdout",
     "output_type": "stream",
     "text": [
      "compute took 0.02s\n"
     ]
    },
    {
     "data": {
      "text/plain": [
       "499999500000"
      ]
     },
     "execution_count": 2,
     "metadata": {},
     "output_type": "execute_result"
    }
   ],
   "source": [
    "def timer_decorator(func):\n",
    "    import time\n",
    "    def wrapper(*args, **kwargs):\n",
    "        start = time.time()\n",
    "        result = func(*args, **kwargs)\n",
    "        print(f\"{func.__name__} took {time.time() - start:.2f}s\")\n",
    "        return result\n",
    "    return wrapper()\n",
    "\n",
    "class MyClass:\n",
    "    def compute(self):\n",
    "        return sum(range(10**6))\n",
    "\n",
    "obj = MyClass()\n",
    "timer_decorator(obj.compute)  # Temporarily decorate\n"
   ]
  },
  {
   "cell_type": "code",
   "execution_count": 3,
   "metadata": {},
   "outputs": [
    {
     "data": {
      "text/plain": [
       "499999500000"
      ]
     },
     "execution_count": 3,
     "metadata": {},
     "output_type": "execute_result"
    }
   ],
   "source": [
    "obj.compute()  # Logs the execution time\n"
   ]
  },
  {
   "cell_type": "code",
   "execution_count": 6,
   "metadata": {},
   "outputs": [
    {
     "name": "stdout",
     "output_type": "stream",
     "text": [
      "Logging: my_method was called\n",
      "Method executed\n",
      "Method executed\n"
     ]
    }
   ],
   "source": [
    "def logging_decorator(func):\n",
    "    def wrapper(*args, **kwargs):\n",
    "        print(f\"Logging: {func.__name__} was called\")\n",
    "        return func(*args, **kwargs)\n",
    "    wrapper.original_function = func  # Store the original function\n",
    "    return wrapper\n",
    "\n",
    "class MyClass:\n",
    "    @logging_decorator\n",
    "    def my_method(self):\n",
    "        return \"Method executed\"\n",
    "\n",
    "# Usage\n",
    "obj = MyClass()\n",
    "\n",
    "# Normal call (decorated)\n",
    "print(obj.my_method())  # Logs the call and executes the method\n",
    "\n",
    "# Undecorate by rebinding the original function\n",
    "obj.my_method = obj.my_method.original_function.__get__(obj, MyClass)\n",
    "print(obj.my_method())  # Executes the original method without logging\n",
    "\n",
    "\n"
   ]
  }
 ],
 "metadata": {
  "kernelspec": {
   "display_name": "3.9.6",
   "language": "python",
   "name": "python3"
  },
  "language_info": {
   "codemirror_mode": {
    "name": "ipython",
    "version": 3
   },
   "file_extension": ".py",
   "mimetype": "text/x-python",
   "name": "python",
   "nbconvert_exporter": "python",
   "pygments_lexer": "ipython3",
   "version": "3.9.6"
  }
 },
 "nbformat": 4,
 "nbformat_minor": 2
}
