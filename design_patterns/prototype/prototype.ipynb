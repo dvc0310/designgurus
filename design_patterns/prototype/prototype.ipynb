{
 "cells": [
  {
   "cell_type": "code",
   "execution_count": 2,
   "metadata": {},
   "outputs": [
    {
     "name": "stdout",
     "output_type": "stream",
     "text": [
      "Car customized with color: Red and accessories: Sunroof\n"
     ]
    }
   ],
   "source": [
    "from abc import ABC, abstractmethod\n",
    "import copy\n",
    "\n",
    "class Car(ABC):\n",
    "    def __init__(self):\n",
    "        self._model = None\n",
    "        self._color = None\n",
    "\n",
    "    @abstractmethod\n",
    "    def customize(self, color, accessories):\n",
    "        pass\n",
    "\n",
    "    def clone(self):\n",
    "        try:\n",
    "            return copy.deepcopy(self)\n",
    "        except Exception as e:\n",
    "            print(\"Cloning not supported:\", e)\n",
    "            return None\n",
    "\n",
    "class BasicCar(Car):\n",
    "    def __init__(self):\n",
    "        super().__init__()\n",
    "        self._model = \"Basic\"\n",
    "        self._color = \"White\"\n",
    "\n",
    "    def customize(self, color, accessories):\n",
    "        self._color = color\n",
    "        print(f\"Car customized with color: {color} and accessories: {accessories}\")\n",
    "\n",
    "# Main code execution\n",
    "if __name__ == \"__main__\":\n",
    "    basic_car = BasicCar()\n",
    "    customer_car = basic_car.clone()\n",
    "    \n",
    "    if customer_car:\n",
    "        customer_car.customize(\"Red\", \"Sunroof\")\n"
   ]
  }
 ],
 "metadata": {
  "kernelspec": {
   "display_name": "Python 3",
   "language": "python",
   "name": "python3"
  },
  "language_info": {
   "codemirror_mode": {
    "name": "ipython",
    "version": 3
   },
   "file_extension": ".py",
   "mimetype": "text/x-python",
   "name": "python",
   "nbconvert_exporter": "python",
   "pygments_lexer": "ipython3",
   "version": "3.9.6"
  }
 },
 "nbformat": 4,
 "nbformat_minor": 2
}
