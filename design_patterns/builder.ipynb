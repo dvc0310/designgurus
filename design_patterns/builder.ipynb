{
 "cells": [
  {
   "cell_type": "code",
   "execution_count": 1,
   "metadata": {},
   "outputs": [
    {
     "name": "stdout",
     "output_type": "stream",
     "text": [
      "Pizza Size: Large, Crust: Thin, Toppings: Ham and Pineapple\n"
     ]
    }
   ],
   "source": [
    "class Pizza:\n",
    "    def __init__(self, size=\"default\", crust=\"default\", toppings=\"default\"):\n",
    "        self.size = size\n",
    "        self.crust = crust\n",
    "        self.toppings = toppings\n",
    "\n",
    "    def show_pizza(self):\n",
    "        print(f\"Pizza Size: {self.size}, Crust: {self.crust}, Toppings: {self.toppings}\")\n",
    "\n",
    "\n",
    "class PizzaBuilder:\n",
    "    def __init__(self):\n",
    "        self.pizza = Pizza()\n",
    "\n",
    "    def build_size(self): pass\n",
    "    def build_crust(self): pass\n",
    "    def build_toppings(self): pass\n",
    "\n",
    "\n",
    "class HawaiianPizzaBuilder(PizzaBuilder):\n",
    "    def build_size(self):\n",
    "        self.pizza.size = \"Large\"\n",
    "\n",
    "    def build_crust(self):\n",
    "        self.pizza.crust = \"Thin\"\n",
    "\n",
    "    def build_toppings(self):\n",
    "        self.pizza.toppings = \"Ham and Pineapple\"\n",
    "\n",
    "\n",
    "class Waiter:\n",
    "    def __init__(self, pizza_builder):\n",
    "        self.pizza_builder = pizza_builder\n",
    "\n",
    "    def construct_pizza(self):\n",
    "        self.pizza_builder.build_size()\n",
    "        self.pizza_builder.build_crust()\n",
    "        self.pizza_builder.build_toppings()\n",
    "\n",
    "    def get_pizza(self):\n",
    "        return self.pizza_builder.pizza\n",
    "\n",
    "\n",
    "if __name__ == \"__main__\":\n",
    "    waiter = Waiter(HawaiianPizzaBuilder())\n",
    "    waiter.construct_pizza()\n",
    "    pizza = waiter.get_pizza()\n",
    "    pizza.show_pizza()\n"
   ]
  }
 ],
 "metadata": {
  "kernelspec": {
   "display_name": "Python 3",
   "language": "python",
   "name": "python3"
  },
  "language_info": {
   "codemirror_mode": {
    "name": "ipython",
    "version": 3
   },
   "file_extension": ".py",
   "mimetype": "text/x-python",
   "name": "python",
   "nbconvert_exporter": "python",
   "pygments_lexer": "ipython3",
   "version": "3.9.6"
  }
 },
 "nbformat": 4,
 "nbformat_minor": 2
}
