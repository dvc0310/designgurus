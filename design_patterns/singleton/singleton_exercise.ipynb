{
 "cells": [
  {
   "cell_type": "markdown",
   "metadata": {},
   "source": [
    "Exercises for the **Singleton Pattern**:\n",
    "\n",
    "### Problem 1:\n",
    "You are tasked with creating a **logging system** for a web application. This logging system needs to ensure that only one instance of the logger is used throughout the application to avoid redundant logging resources and ensure consistent logging across various modules.\n",
    "\n",
    "#### Requirements:\n",
    "1. The logging system should allow other parts of the application to log messages (error, warning, and info) but there should only ever be one instance of the logger.\n",
    "2. Ensure that the logger can write logs to a file (you can simulate this by writing to the console for now).\n",
    "3. The logger should also have methods like `logInfo()`, `logWarning()`, and `logError()` that each format the log message appropriately.\n",
    "\n",
    "### Task:\n",
    "1. Implement a `Logger` class using the **Singleton Pattern**.\n",
    "2. Create a function that simulates multiple parts of the web application (perhaps by calling different modules) and ensures they all use the same logger instance.\n",
    "3. Demonstrate how the `logInfo()`, `logWarning()`, and `logError()` methods work within this Singleton logger.\n",
    "\n",
    "Test your implementation by simulating log messages from various parts of the application and verifying that only one instance of the `Logger` class is created."
   ]
  },
  {
   "cell_type": "code",
   "execution_count": 1,
   "metadata": {},
   "outputs": [
    {
     "name": "stdout",
     "output_type": "stream",
     "text": [
      "[INFO] 2024-10-21 15:28:34.601203 - Application started.\n",
      "[WARNING] 2024-10-21 15:28:34.602205 - Low disk space.\n",
      "Logger instances are the same: True\n",
      "[ERROR] 2024-10-21 15:28:34.603688 - Failed to connect to database.\n"
     ]
    }
   ],
   "source": [
    "import datetime\n",
    "\n",
    "class Logger():\n",
    "    _instance = None\n",
    "    \n",
    "    def __new__(cls):\n",
    "        if cls._instance is None:\n",
    "            cls._instance = super(Logger, cls).__new__(cls)\n",
    "        return cls._instance\n",
    "    \n",
    "    def logInfo(self, message):\n",
    "        timestamp = datetime.datetime.now()\n",
    "        print(f\"[INFO] {timestamp} - {message}\")\n",
    "\n",
    "    def logWarning(self, message):\n",
    "        timestamp = datetime.datetime.now()\n",
    "        print(f\"[WARNING] {timestamp} - {message}\")\n",
    "\n",
    "    def logError(self, message):\n",
    "        timestamp = datetime.datetime.now()\n",
    "        print(f\"[ERROR] {timestamp} - {message}\")\n",
    "    \n",
    "class MyApplication:\n",
    "    @staticmethod\n",
    "    def main():\n",
    "        logger = Logger()\n",
    "        logger.logInfo(\"Application started.\")\n",
    "\n",
    "        # Simulate another module in the application\n",
    "        another_logger = Logger()\n",
    "        another_logger.logWarning(\"Low disk space.\")\n",
    "\n",
    "        # Check if both logger instances are the same\n",
    "        print(f\"Logger instances are the same: {logger is another_logger}\")\n",
    "\n",
    "        # Simulate an error\n",
    "        logger.logError(\"Failed to connect to database.\")\n",
    "\n",
    "if __name__ == \"__main__\":\n",
    "    MyApplication.main()"
   ]
  },
  {
   "cell_type": "markdown",
   "metadata": {},
   "source": [
    "### Problem:\n",
    "You are tasked with creating a **database connection manager** for an application. This connection manager should ensure that only one instance of the database connection is created and reused throughout the application. This will avoid the overhead of creating multiple database connections.\n",
    "\n",
    "#### Requirements:\n",
    "1. The connection manager should implement the **Singleton Pattern**, ensuring only one instance of the connection manager is used.\n",
    "2. Simulate the connection to the database (you don't need to use a real database, just simulate with print statements like \"Connecting to database...\" or \"Connection already exists\").\n",
    "3. Include a `connect()` method that simulates establishing a database connection and a `disconnect()` method that closes the connection.\n",
    "4. Ensure that multiple attempts to create a connection will only return the existing connection, and the `disconnect()` method will close the connection correctly.\n",
    "   \n",
    "### Task:\n",
    "1. Implement a `DatabaseConnectionManager` class using the Singleton Pattern.\n",
    "2. Simulate a scenario where different parts of the application try to connect to the database.\n",
    "3. Demonstrate that only one connection is established, even if multiple connection attempts are made.\n",
    "4. Test that after calling `disconnect()`, a new connection can be established correctly.\n",
    "\n",
    "This will help solidify your understanding of controlling resource access through the Singleton pattern."
   ]
  },
  {
   "cell_type": "code",
   "execution_count": 4,
   "metadata": {},
   "outputs": [],
   "source": [
    "import sqlite3\n",
    "\n",
    "class DatabaseConnectionManager:\n",
    "    _instance = None\n",
    "    _connection = None\n",
    "    def __new__(cls):\n",
    "        if cls._instance is None:\n",
    "            cls._instance = super().__new__(cls)\n",
    "        return cls._instance\n",
    "    \n",
    "    def connect(self, db_name=\"example.db\"):\n",
    "        if self._connection is None:\n",
    "            try:\n",
    "                self._connection = sqlite3.connect(db_name) \n",
    "                print(f\"[INFO] {datetime.datetime.now()} - Connected to the database: {db_name}.\")\n",
    "\n",
    "            except sqlite3.Error as e:\n",
    "                print(f\"[ERROR] {datetime.datetime.now()} - Error connecting to the database: {str(e)}\")\n",
    "        else:\n",
    "            print(f\"[INFO] {datetime.datetime.now()} - Reusing existing database connection.\")\n",
    "        return self._connection\n",
    "\n",
    "    def disconnect(self):\n",
    "        if self._connection:\n",
    "            self._connection.close()\n",
    "            print(f\"[INFO] {datetime.datetime.now()} - Database connection closed.\")\n",
    "            self._connection = None\n",
    "        else:\n",
    "            print(f\"[INFO] {datetime.datetime.now()} - No connection to close.\")"
   ]
  },
  {
   "cell_type": "code",
   "execution_count": 5,
   "metadata": {},
   "outputs": [
    {
     "name": "stdout",
     "output_type": "stream",
     "text": [
      "[INFO] 2024-10-21 15:40:05.370581 - Connected to the database: example.db.\n",
      "[INFO] 2024-10-21 15:40:05.371599 - Reusing existing database connection.\n",
      "Both connection managers are the same: True\n",
      "Both connections are the same: True\n",
      "[INFO] 2024-10-21 15:40:05.372598 - Database connection closed.\n",
      "[INFO] 2024-10-21 15:40:05.373611 - Connected to the database: example.db.\n"
     ]
    }
   ],
   "source": [
    "# Simulating different parts of the application\n",
    "class MyApplication:\n",
    "    @staticmethod\n",
    "    def main():\n",
    "        # First connection attempt\n",
    "        db_manager1 = DatabaseConnectionManager()\n",
    "        conn1 = db_manager1.connect()\n",
    "\n",
    "        # Simulate another part of the application\n",
    "        db_manager2 = DatabaseConnectionManager()\n",
    "        conn2 = db_manager2.connect()\n",
    "\n",
    "        # Check if both connection managers are the same instance\n",
    "        print(f\"Both connection managers are the same: {db_manager1 is db_manager2}\")\n",
    "        print(f\"Both connections are the same: {conn1 is conn2}\")\n",
    "\n",
    "        # Disconnect the database\n",
    "        db_manager1.disconnect()\n",
    "\n",
    "        # Try reconnecting after disconnect\n",
    "        conn3 = db_manager2.connect()\n",
    "\n",
    "if __name__ == \"__main__\":\n",
    "    MyApplication.main()"
   ]
  }
 ],
 "metadata": {
  "kernelspec": {
   "display_name": "Python 3",
   "language": "python",
   "name": "python3"
  },
  "language_info": {
   "codemirror_mode": {
    "name": "ipython",
    "version": 3
   },
   "file_extension": ".py",
   "mimetype": "text/x-python",
   "name": "python",
   "nbconvert_exporter": "python",
   "pygments_lexer": "ipython3",
   "version": "3.9.6"
  }
 },
 "nbformat": 4,
 "nbformat_minor": 2
}
