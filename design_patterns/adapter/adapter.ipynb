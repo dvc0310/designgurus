{
 "cells": [
  {
   "cell_type": "code",
   "execution_count": 1,
   "metadata": {},
   "outputs": [
    {
     "name": "stdout",
     "output_type": "stream",
     "text": [
      "Speaking in French: Bonjour! Merci for the meeting.\n"
     ]
    }
   ],
   "source": [
    "# Adaptee (existing interface)\n",
    "class FrenchSpeaker:\n",
    "    def speak_french(self, message):\n",
    "        print(f\"Speaking in French: {message}\")\n",
    "\n",
    "# Target Interface\n",
    "class EnglishSpeaker:\n",
    "    def speak_english(self, message):\n",
    "        pass\n",
    "\n",
    "# Adapter\n",
    "class Translator(EnglishSpeaker):\n",
    "    def __init__(self, french_speaker):\n",
    "        self.french_speaker = french_speaker\n",
    "\n",
    "    def speak_english(self, message):\n",
    "        # Translate English to French\n",
    "        french_message = self._translate_to_french(message)\n",
    "        self.french_speaker.speak_french(french_message)\n",
    "\n",
    "    def _translate_to_french(self, message):\n",
    "        # Simplified translation logic\n",
    "        return message.replace(\"Hello\", \"Bonjour\").replace(\"Thank you\", \"Merci\")\n",
    "\n",
    "# Client\n",
    "class EnglishClient:\n",
    "    def __init__(self, speaker):\n",
    "        self.speaker = speaker\n",
    "\n",
    "    def express(self, message):\n",
    "        self.speaker.speak_english(message)\n",
    "\n",
    "# Usage\n",
    "french_speaker = FrenchSpeaker()\n",
    "translator = Translator(french_speaker)\n",
    "english_client = EnglishClient(translator)\n",
    "\n",
    "# The English client speaks English, but the French speaker receives the message in French\n",
    "english_client.express(\"Hello! Thank you for the meeting.\")\n"
   ]
  }
 ],
 "metadata": {
  "kernelspec": {
   "display_name": "Python 3",
   "language": "python",
   "name": "python3"
  },
  "language_info": {
   "codemirror_mode": {
    "name": "ipython",
    "version": 3
   },
   "file_extension": ".py",
   "mimetype": "text/x-python",
   "name": "python",
   "nbconvert_exporter": "python",
   "pygments_lexer": "ipython3",
   "version": "3.9.6"
  }
 },
 "nbformat": 4,
 "nbformat_minor": 2
}
