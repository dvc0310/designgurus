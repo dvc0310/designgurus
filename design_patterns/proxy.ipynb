{
 "cells": [
  {
   "cell_type": "code",
   "execution_count": 1,
   "metadata": {},
   "outputs": [],
   "source": [
    "class Subject:\n",
    "    \"\"\"\n",
    "    The Subject interface declares common operations for both RealSubject and Proxy.\n",
    "    \"\"\"\n",
    "    def request(self):\n",
    "        pass\n",
    "\n",
    "\n",
    "class RealSubject(Subject):\n",
    "    \"\"\"\n",
    "    The RealSubject contains the core business logic.\n",
    "    \"\"\"\n",
    "    def request(self):\n",
    "        print(\"RealSubject: Handling the request.\")\n",
    "\n",
    "\n",
    "class Proxy(Subject):\n",
    "    \"\"\"\n",
    "    The Proxy controls access to the RealSubject and can add additional behavior.\n",
    "    \"\"\"\n",
    "    def __init__(self, real_subject):\n",
    "        self._real_subject = real_subject\n",
    "\n",
    "    def check_access(self):\n",
    "        # Simulate an access check.\n",
    "        print(\"Proxy: Checking access prior to firing a real request.\")\n",
    "        # For simplicity, we'll allow access in this example.\n",
    "        return True\n",
    "\n",
    "    def log_access(self):\n",
    "        # Log the access to the real subject.\n",
    "        print(\"Proxy: Logging the time of request.\")\n",
    "\n",
    "    def request(self):\n",
    "        if self.check_access():\n",
    "            self._real_subject.request()\n",
    "            self.log_access()\n",
    "        else:\n",
    "            print(\"Proxy: Access denied.\")\n",
    "\n",
    "\n",
    "# Client code that works with subjects directly and through a proxy.\n",
    "def client_code(subject):\n",
    "    subject.request()\n"
   ]
  },
  {
   "cell_type": "code",
   "execution_count": 2,
   "metadata": {},
   "outputs": [
    {
     "name": "stdout",
     "output_type": "stream",
     "text": [
      "Client: Executing client code with a real subject:\n",
      "RealSubject: Handling the request.\n",
      "\n",
      "Client: Executing the same client code with a proxy:\n",
      "Proxy: Checking access prior to firing a real request.\n",
      "RealSubject: Handling the request.\n",
      "Proxy: Logging the time of request.\n"
     ]
    }
   ],
   "source": [
    "if __name__ == \"__main__\":\n",
    "    print(\"Client: Executing client code with a real subject:\")\n",
    "    real_subject = RealSubject()\n",
    "    client_code(real_subject)\n",
    "\n",
    "    print(\"\\nClient: Executing the same client code with a proxy:\")\n",
    "    proxy = Proxy(real_subject)\n",
    "    client_code(proxy)"
   ]
  }
 ],
 "metadata": {
  "kernelspec": {
   "display_name": "Python 3",
   "language": "python",
   "name": "python3"
  },
  "language_info": {
   "codemirror_mode": {
    "name": "ipython",
    "version": 3
   },
   "file_extension": ".py",
   "mimetype": "text/x-python",
   "name": "python",
   "nbconvert_exporter": "python",
   "pygments_lexer": "ipython3",
   "version": "3.9.6"
  }
 },
 "nbformat": 4,
 "nbformat_minor": 2
}
