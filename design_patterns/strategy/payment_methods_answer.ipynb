{
 "cells": [
  {
   "cell_type": "code",
   "execution_count": null,
   "metadata": {},
   "outputs": [],
   "source": [
    "from abc import ABC, abstractmethod\n",
    "\n",
    "class PaymentStrategy(ABC):\n",
    "    @abstractmethod\n",
    "    def process_payment(self, amount):\n",
    "        pass\n"
   ]
  },
  {
   "cell_type": "code",
   "execution_count": null,
   "metadata": {},
   "outputs": [],
   "source": [
    "class PaymentDecorator(PaymentStrategy):\n",
    "    def __init__(self, payment_strategy: PaymentStrategy):\n",
    "        self._wrapped_strategy = payment_strategy\n",
    "\n",
    "    @abstractmethod\n",
    "    def process_payment(self, amount):\n",
    "        pass\n",
    "\n",
    "class DiscountDecorator(PaymentDecorator):\n",
    "    def __init__(self, payment_strategy, discount_rate):\n",
    "        super().__init__(payment_strategy)\n",
    "        self.discount_rate = discount_rate  # e.g., 0.10 for 10% discount\n",
    "\n",
    "    def process_payment(self, amount):\n",
    "        discounted_amount = amount * (1 - self.discount_rate)\n",
    "        print(f\"Applying a discount of {self.discount_rate * 100:.0f}%\")\n",
    "        return self._wrapped_strategy.process_payment(discounted_amount)\n",
    "      \n",
    "class FeeDecorator(PaymentDecorator):\n",
    "    def __init__(self, payment_strategy, fee_rate):\n",
    "        super().__init__(payment_strategy)\n",
    "        self.fee_rate = fee_rate  # e.g., 0.02 for 2% fee\n",
    "\n",
    "    def process_payment(self, amount):\n",
    "        fee = amount * self.fee_rate\n",
    "        amount_with_fee = amount + fee\n",
    "        print(f\"Applying a fee of {self.fee_rate * 100:.0f}% (${fee:.2f})\")\n",
    "        return self._wrapped_strategy.process_payment(amount_with_fee)"
   ]
  },
  {
   "cell_type": "code",
   "execution_count": 9,
   "metadata": {},
   "outputs": [],
   "source": [
    "class CreditCardPayment(PaymentStrategy):\n",
    "    def process_payment(self, amount):\n",
    "        print(f\"Processing credit card payment of ${amount:.2f}\")\n",
    "        return amount\n",
    "\n",
    "class PayPalPayment(PaymentStrategy):\n",
    "    def process_payment(self, amount):\n",
    "        print(f\"Processing PayPal payment of ${amount:.2f}\")\n",
    "        return amount\n",
    "\n",
    "class CryptoPayment(PaymentStrategy):\n",
    "    def process_payment(self, amount):\n",
    "        print(f\"Processing cryptocurrency payment of ${amount:.2f}\")\n",
    "        return amount"
   ]
  },
  {
   "cell_type": "code",
   "execution_count": null,
   "metadata": {},
   "outputs": [],
   "source": [
    "class PaymentContext:\n",
    "    def __init__(self, payment_strategy: PaymentStrategy = None):\n",
    "        self.payment_strategy = payment_strategy\n",
    "\n",
    "    def set_payment_strategy(self, payment_strategy):\n",
    "        self.payment_strategy = payment_strategy\n",
    "\n",
    "    def process_payment(self, amount):\n",
    "        if not self.payment_strategy:\n",
    "            print(\"No payment strategy set.\")\n",
    "            return\n",
    "        return self.payment_strategy.process_payment(amount)\n"
   ]
  },
  {
   "cell_type": "code",
   "execution_count": 12,
   "metadata": {},
   "outputs": [
    {
     "name": "stdout",
     "output_type": "stream",
     "text": [
      "\n",
      "Select a payment method:\n",
      "1. Credit Card\n",
      "2. PayPal\n",
      "3. Cryptocurrency\n",
      "Applying a fee of 2% ($18000.00)\n",
      "Applying a discount of 20%\n",
      "Processing credit card payment of $734400.00\n",
      "Initial Price: $900000.00\n",
      "Payment Method: Credit Card\n",
      "Total amount charged: $734400.00\n"
     ]
    }
   ],
   "source": [
    "def main():\n",
    "    # Original payment strategies\n",
    "    credit_card_payment = CreditCardPayment()\n",
    "    paypal_payment = PayPalPayment()\n",
    "    crypto_payment = CryptoPayment()\n",
    "\n",
    "    # User selects payment method\n",
    "    payment_methods = {\n",
    "        \"1\": (\"Credit Card\", credit_card_payment),\n",
    "        \"2\": (\"PayPal\", paypal_payment),\n",
    "        \"3\": (\"Cryptocurrency\", crypto_payment)\n",
    "    }\n",
    "\n",
    "    print(\"\\nSelect a payment method:\")\n",
    "    for key, (name, _) in payment_methods.items():\n",
    "        print(f\"{key}. {name}\")\n",
    "\n",
    "    choice = input(\"Enter the number of your choice: \")\n",
    "\n",
    "    if choice not in payment_methods:\n",
    "        print(\"Invalid choice\")\n",
    "        return\n",
    "\n",
    "    selected_name, selected_strategy = payment_methods[choice]\n",
    "\n",
    "    amount = float(input(\"Enter the amount to be paid: $\"))\n",
    "\n",
    "    # Ask if user wants to apply a discount\n",
    "    apply_discount = input(\"Apply discount? (y/n): \").lower() == 'y'\n",
    "    if apply_discount:\n",
    "        discount_rate = float(input(\"Enter discount rate (e.g., 0.10 for 10%): \"))\n",
    "        selected_strategy = DiscountDecorator(selected_strategy, discount_rate)\n",
    "\n",
    "    # Ask if user wants to apply a fee\n",
    "    apply_fee = input(\"Apply transaction fee? (y/n): \").lower() == 'y'\n",
    "    if apply_fee:\n",
    "        fee_rate = float(input(\"Enter fee rate (e.g., 0.02 for 2%): \"))\n",
    "        selected_strategy = FeeDecorator(selected_strategy, fee_rate)\n",
    "\n",
    "    # Process payment\n",
    "    total_paid = selected_strategy.process_payment(amount)\n",
    "    print(f\"Initial Price: ${amount:.2f}\")\n",
    "    print(f\"Payment Method: {selected_name}\")\n",
    "    print(f\"Total amount charged: ${total_paid:.2f}\")\n",
    "\n",
    "if __name__ == \"__main__\":\n",
    "    main()\n"
   ]
  }
 ],
 "metadata": {
  "kernelspec": {
   "display_name": "Python 3",
   "language": "python",
   "name": "python3"
  },
  "language_info": {
   "codemirror_mode": {
    "name": "ipython",
    "version": 3
   },
   "file_extension": ".py",
   "mimetype": "text/x-python",
   "name": "python",
   "nbconvert_exporter": "python",
   "pygments_lexer": "ipython3",
   "version": "3.9.6"
  }
 },
 "nbformat": 4,
 "nbformat_minor": 2
}
