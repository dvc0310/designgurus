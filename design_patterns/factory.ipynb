{
 "cells": [
  {
   "cell_type": "code",
   "execution_count": 21,
   "metadata": {},
   "outputs": [],
   "source": [
    "from abc import ABC, abstractmethod\n",
    "\n",
    "class GUIFactory(ABC):\n",
    "    @abstractmethod\n",
    "    def create_button(self):\n",
    "        pass\n",
    "    \n",
    "    @abstractmethod\n",
    "    def create_text_field(self):\n",
    "        pass\n",
    "\n",
    "    @abstractmethod\n",
    "    def create_checkbox(self):\n",
    "        pass\n",
    "    \n",
    "class Button(ABC):\n",
    "    @abstractmethod\n",
    "    def __init__(self):\n",
    "        super().__init__()\n",
    "    \n",
    "    @abstractmethod\n",
    "    def click(self):\n",
    "        pass\n",
    "    \n",
    "\n",
    "  \n",
    "class TextField(ABC):\n",
    "    @abstractmethod\n",
    "    def set_text(self, text):\n",
    "        pass  \n",
    "\n",
    "class CheckBox(ABC):\n",
    "    @abstractmethod\n",
    "    def check(self):\n",
    "        pass  \n",
    "\n",
    "    \n",
    "class WindowsButton(Button):\n",
    "    def __init__(self, width, height):\n",
    "        super().__init__()\n",
    "        self.width = width\n",
    "        self.height = height\n",
    "        \n",
    "    def click(self):\n",
    "        print(\"Clicked Windows Button\")\n",
    "        return super().click()\n",
    "    \n",
    "    def setWidth(self, width):\n",
    "        self.width = width\n",
    "        \n",
    "    def setHeight(self, height):\n",
    "        self.height = height\n",
    "        \n",
    "class MacButton(Button):\n",
    "    def __init__(self, radius):\n",
    "        super().__init__()\n",
    "        self.radius = radius\n",
    "        \n",
    "    def click(self):\n",
    "        print(\"Clicked Windows Mac Button\")\n",
    "        return super().click()\n",
    "    \n",
    "    def setRadius(self, radius):\n",
    "        self.radius = radius\n",
    "        \n",
    "class WindowsFactory(GUIFactory):\n",
    "    button_classes = {\n",
    "        'rectangle': WindowsButton\n",
    "        # Add more button types here\n",
    "    }\n",
    "    \n",
    "    def create_button(self, button_type, **kwargs):\n",
    "        button_class = self.button_classes.get(button_type)\n",
    "        if not button_class:\n",
    "            raise ValueError(f\"Unknown button type: {button_type}\")\n",
    "        return button_class(**kwargs)\n",
    "        \n",
    "    def create_text_field():\n",
    "        pass\n",
    "    \n",
    "    def create_checkbox():\n",
    "        pass\n",
    "    \n",
    "            \n",
    "class MacFactory(GUIFactory):\n",
    "    button_classes = {\n",
    "        'circle': MacButton\n",
    "        # Add more button types here\n",
    "    }\n",
    "    \n",
    "    def create_button(self, button_type, **kwargs):\n",
    "        button_class = self.button_classes.get(button_type)\n",
    "        if not button_class:\n",
    "            raise ValueError(f\"Unknown button type: {button_type}\")\n",
    "        return button_class(**kwargs)\n",
    "        \n",
    "    def create_text_field():\n",
    "        pass\n",
    "    \n",
    "    def create_checkbox():\n",
    "        pass"
   ]
  },
  {
   "cell_type": "code",
   "execution_count": 19,
   "metadata": {},
   "outputs": [
    {
     "name": "stdout",
     "output_type": "stream",
     "text": [
      "Clicked Windows Button\n"
     ]
    }
   ],
   "source": [
    "windows_factory = WindowsFactory()\n",
    "button1 = windows_factory.create_button(\"rectangle\", width=4, height=5)\n",
    "button1.click()"
   ]
  },
  {
   "cell_type": "code",
   "execution_count": 22,
   "metadata": {},
   "outputs": [
    {
     "name": "stdout",
     "output_type": "stream",
     "text": [
      "Clicked Windows Mac Button\n"
     ]
    }
   ],
   "source": [
    "mac_factory = MacFactory()\n",
    "button2 = mac_factory.create_button(\"circle\", radius=5)\n",
    "button2.click()"
   ]
  },
  {
   "cell_type": "code",
   "execution_count": 24,
   "metadata": {},
   "outputs": [],
   "source": [
    "import platform\n",
    "# Factory Registry\n",
    "class FactoryRegistry:\n",
    "    factories = {}\n",
    "\n",
    "    @classmethod\n",
    "    def register_factory(cls, os_name, factory):\n",
    "        cls.factories[os_name.lower()] = factory\n",
    "\n",
    "    @classmethod\n",
    "    def get_factory(cls, os_name):\n",
    "        factory = cls.factories.get(os_name.lower())\n",
    "        if not factory:\n",
    "            raise ValueError(f\"No factory found for OS: {os_name}\")\n",
    "        return factory()\n",
    "\n",
    "# Register Factories\n",
    "FactoryRegistry.register_factory('Windows', WindowsFactory)\n",
    "FactoryRegistry.register_factory('Darwin', MacFactory)  \n",
    "\n",
    "\n"
   ]
  },
  {
   "cell_type": "code",
   "execution_count": 29,
   "metadata": {},
   "outputs": [
    {
     "name": "stdout",
     "output_type": "stream",
     "text": [
      "Detected OS: Windows\n",
      "Clicked Windows Button\n"
     ]
    }
   ],
   "source": [
    "# Client Code\n",
    "class Application:\n",
    "    def __init__(self, factory: GUIFactory):\n",
    "        self.factory = factory\n",
    "        self.button = self.factory.create_button(\"rectangle\", width=4, height=5)\n",
    "        #self.text_field = self.factory.create_text_field()\n",
    "        #self.checkbox = self.factory.create_checkbox()\n",
    "\n",
    "    def run(self):\n",
    "        self.button.click()\n",
    "        #self.text_field.set_text(\"Hello World!\")\n",
    "        #self.checkbox.check()\n",
    "\n",
    "def main():\n",
    "    os_name = platform.system()\n",
    "    print(f\"Detected OS: {os_name}\")\n",
    "\n",
    "    try:\n",
    "        factory = FactoryRegistry.get_factory(os_name)\n",
    "        app = Application(factory)\n",
    "        app.run()\n",
    "    except ValueError as e:\n",
    "        print(e)\n",
    "\n",
    "if __name__ == \"__main__\":\n",
    "    main()\n"
   ]
  }
 ],
 "metadata": {
  "kernelspec": {
   "display_name": "Python 3",
   "language": "python",
   "name": "python3"
  },
  "language_info": {
   "codemirror_mode": {
    "name": "ipython",
    "version": 3
   },
   "file_extension": ".py",
   "mimetype": "text/x-python",
   "name": "python",
   "nbconvert_exporter": "python",
   "pygments_lexer": "ipython3",
   "version": "3.9.6"
  }
 },
 "nbformat": 4,
 "nbformat_minor": 2
}
