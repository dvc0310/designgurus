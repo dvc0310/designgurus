{
 "cells": [
  {
   "cell_type": "code",
   "execution_count": 1,
   "metadata": {},
   "outputs": [],
   "source": [
    "class TreeType:\n",
    "    \"\"\"\n",
    "    Flyweight class that stores intrinsic state shared among trees.\n",
    "    \"\"\"\n",
    "    def __init__(self, name, color, texture):\n",
    "        self.name = name\n",
    "        self.color = color\n",
    "        self.texture = texture\n",
    "\n",
    "    def draw(self, x, y):\n",
    "        # Simulate drawing the tree at a location.\n",
    "        print(f'Drawing a {self.color} {self.name} tree with {self.texture} texture at ({x}, {y}).')\n",
    "\n",
    "\n",
    "class TreeFactory:\n",
    "    \"\"\"\n",
    "    Flyweight Factory that creates and manages flyweight objects.\n",
    "    \"\"\"\n",
    "    _tree_types = {}\n",
    "\n",
    "    @classmethod\n",
    "    def get_tree_type(cls, name, color, texture):\n",
    "        key = (name, color, texture)\n",
    "        if key not in cls._tree_types:\n",
    "            # If the tree type doesn't exist, create a new one and add it to the pool.\n",
    "            cls._tree_types[key] = TreeType(name, color, texture)\n",
    "            print(f'Creating new tree type: {name}, {color}, {texture}')\n",
    "        else:\n",
    "            print(f'Reusing existing tree type: {name}, {color}, {texture}')\n",
    "        return cls._tree_types[key]\n",
    "\n",
    "\n",
    "class Tree:\n",
    "    \"\"\"\n",
    "    The context class that stores extrinsic state (position).\n",
    "    \"\"\"\n",
    "    def __init__(self, x, y, tree_type):\n",
    "        self.x = x  # Extrinsic state\n",
    "        self.y = y  # Extrinsic state\n",
    "        self.tree_type = tree_type  # Shared intrinsic state\n",
    "\n",
    "    def draw(self):\n",
    "        # Delegate the draw call to the shared TreeType instance.\n",
    "        self.tree_type.draw(self.x, self.y)\n",
    "\n",
    "\n",
    "class Forest:\n",
    "    \"\"\"\n",
    "    The client that manages trees and uses the flyweight objects.\n",
    "    \"\"\"\n",
    "    def __init__(self):\n",
    "        self.trees = []\n",
    "\n",
    "    def plant_tree(self, x, y, name, color, texture):\n",
    "        tree_type = TreeFactory.get_tree_type(name, color, texture)\n",
    "        tree = Tree(x, y, tree_type)\n",
    "        self.trees.append(tree)\n",
    "\n",
    "    def draw(self):\n",
    "        for tree in self.trees:\n",
    "            tree.draw()\n",
    "\n"
   ]
  },
  {
   "cell_type": "code",
   "execution_count": 2,
   "metadata": {},
   "outputs": [
    {
     "name": "stdout",
     "output_type": "stream",
     "text": [
      "Creating new tree type: Oak, green, rough\n",
      "Creating new tree type: Pine, dark green, smooth\n",
      "Reusing existing tree type: Oak, green, rough\n",
      "Creating new tree type: Birch, white, smooth\n",
      "Reusing existing tree type: Pine, dark green, smooth\n",
      "Creating new tree type: Cherry Blossom, pink, delicate\n",
      "\n",
      "Drawing all trees in the forest:\n",
      "Drawing a green Oak tree with rough texture at (10, 20).\n",
      "Drawing a dark green Pine tree with smooth texture at (15, 25).\n",
      "Drawing a green Oak tree with rough texture at (10, 20).\n",
      "Drawing a white Birch tree with smooth texture at (30, 40).\n",
      "Drawing a dark green Pine tree with smooth texture at (15, 25).\n",
      "Drawing a pink Cherry Blossom tree with delicate texture at (50, 60).\n"
     ]
    }
   ],
   "source": [
    "if __name__ == '__main__':\n",
    "    forest = Forest()\n",
    "    # Plant trees in the forest.\n",
    "    forest.plant_tree(10, 20, 'Oak', 'green', 'rough')\n",
    "    forest.plant_tree(15, 25, 'Pine', 'dark green', 'smooth')\n",
    "    forest.plant_tree(10, 20, 'Oak', 'green', 'rough')  # This should reuse the existing 'Oak' TreeType.\n",
    "    forest.plant_tree(30, 40, 'Birch', 'white', 'smooth')\n",
    "    forest.plant_tree(15, 25, 'Pine', 'dark green', 'smooth')  # Reuses 'Pine' TreeType.\n",
    "    forest.plant_tree(50, 60, 'Cherry Blossom', 'pink', 'delicate')\n",
    "\n",
    "    print(\"\\nDrawing all trees in the forest:\")\n",
    "    forest.draw()"
   ]
  }
 ],
 "metadata": {
  "kernelspec": {
   "display_name": "Python 3",
   "language": "python",
   "name": "python3"
  },
  "language_info": {
   "codemirror_mode": {
    "name": "ipython",
    "version": 3
   },
   "file_extension": ".py",
   "mimetype": "text/x-python",
   "name": "python",
   "nbconvert_exporter": "python",
   "pygments_lexer": "ipython3",
   "version": "3.9.6"
  }
 },
 "nbformat": 4,
 "nbformat_minor": 2
}
