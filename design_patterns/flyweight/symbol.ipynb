{
 "cells": [
  {
   "cell_type": "code",
   "execution_count": 15,
   "metadata": {},
   "outputs": [],
   "source": [
    "# Flyweight\n",
    "class CharacterType:\n",
    "    def __init__(self, font_family, font_size, font_style):\n",
    "        self.font_family = font_family\n",
    "        self.font_size = font_size\n",
    "        self.font_style = font_style\n",
    "\n",
    "    def getCharacterProperties(self, symbol, position):\n",
    "        print(f'Character: {symbol}')\n",
    "        print(f'Position: {position}')\n",
    "        print(f'Font Family: {self.font_family}')\n",
    "        print(f'Font Size: {self.font_size}')\n",
    "        print(f'Font Style: {self.font_style}')\n",
    "\n",
    "class Character:\n",
    "    def __init__(self, symbol, position, character_type: CharacterType):\n",
    "        self.symbol = symbol  # Extrinsic state\n",
    "        self.position = position\n",
    "        self.character_type = character_type\n",
    "\n",
    "    def getCharacterProperties(self):\n",
    "        self.character_type.getCharacterProperties(self.symbol, self.position)\n",
    "\n",
    "class CharacterFactory:\n",
    "    _character_types = {}\n",
    "    \n",
    "    @classmethod\n",
    "    def get_character_type(cls, family, size, style):\n",
    "        key = (family, size, style)\n",
    "        if key not in cls._character_types:\n",
    "            cls._character_types[key] = CharacterType(family, size, style)\n",
    "            print(f'Creating new character type: {family}, {size}, {style}')\n",
    "        else:\n",
    "            print(f'Reusing existing character type: {family}, {size}, {style}')\n",
    "        return cls._character_types[key]\n",
    "\n",
    "class TextEditor:\n",
    "    def __init__(self):\n",
    "        self.characters: list[Character] = []\n",
    "\n",
    "    def type_character(self, symbol, position, family, size, style):\n",
    "        character_type = CharacterFactory.get_character_type(family, size, style)\n",
    "        character = Character(symbol, position, character_type)\n",
    "        self.characters.append(character)\n",
    "\n",
    "    def draw(self):\n",
    "        for c in self.characters:\n",
    "            c.getCharacterProperties()\n"
   ]
  },
  {
   "cell_type": "code",
   "execution_count": 16,
   "metadata": {},
   "outputs": [
    {
     "name": "stdout",
     "output_type": "stream",
     "text": [
      "Creating new character type: bleh, 90, cool\n",
      "Reusing existing character type: bleh, 90, cool\n",
      "Creating new character type: dumb, 90, weird\n",
      "Creating new character type: ok, 90, cool\n",
      "Reusing existing character type: bleh, 90, cool\n"
     ]
    }
   ],
   "source": [
    "text_editor = TextEditor()\n",
    "text_editor.type_character('a', 2, \"bleh\", 90, \"cool\")\n",
    "text_editor.type_character('b', 3, \"bleh\", 90, \"cool\")\n",
    "text_editor.type_character('b', 30, \"dumb\", 90, \"weird\")\n",
    "\n",
    "text_editor.type_character('b', 10, \"ok\", 90, \"cool\")\n",
    "\n",
    "text_editor.type_character('c', 4, \"bleh\", 90, \"cool\")\n"
   ]
  },
  {
   "cell_type": "markdown",
   "metadata": {},
   "source": [
    "# ChatGPT's answer"
   ]
  },
  {
   "cell_type": "code",
   "execution_count": 17,
   "metadata": {},
   "outputs": [],
   "source": [
    "from abc import ABC, abstractmethod\n",
    "from dataclasses import dataclass\n",
    "\n",
    "# Flyweight Interface\n",
    "class Flyweight(ABC):\n",
    "    @abstractmethod\n",
    "    def display(self, position: tuple):\n",
    "        pass\n",
    "\n",
    "# Concrete Flyweight\n",
    "@dataclass(frozen=True)\n",
    "class Character(Flyweight):\n",
    "    char: str\n",
    "    font_family: str\n",
    "    font_size: int\n",
    "    font_style: str\n",
    "\n",
    "    def display(self, position: tuple):\n",
    "        print(f\"Character '{self.char}' at position {position} with \"\n",
    "              f\"font '{self.font_family}', size {self.font_size}, style '{self.font_style}'.\")\n",
    "\n"
   ]
  },
  {
   "cell_type": "code",
   "execution_count": 18,
   "metadata": {},
   "outputs": [],
   "source": [
    "class CharacterFactory:\n",
    "    _characters = {}\n",
    "\n",
    "    @classmethod\n",
    "    def get_character(cls, char, font_family, font_size, font_style):\n",
    "        key = (char, font_family, font_size, font_style)\n",
    "        if key not in cls._characters:\n",
    "            cls._characters[key] = Character(char, font_family, font_size, font_style)\n",
    "            print(f\"Created new Character: {cls._characters[key]}\")\n",
    "        else:\n",
    "            print(f\"Reusing existing Character: {cls._characters[key]}\")\n",
    "        return cls._characters[key]\n",
    "\n",
    "    @classmethod\n",
    "    def get_total_characters(cls):\n",
    "        return len(cls._characters)\n"
   ]
  },
  {
   "cell_type": "code",
   "execution_count": 19,
   "metadata": {},
   "outputs": [],
   "source": [
    "class TextEditor:\n",
    "    def __init__(self):\n",
    "        self.characters = []  # List of tuples: (Character, position)\n",
    "\n",
    "    def add_character(self, char, font_family, font_size, font_style, position):\n",
    "        character = CharacterFactory.get_character(char, font_family, font_size, font_style)\n",
    "        self.characters.append((character, position))\n",
    "\n",
    "    def display_text(self):\n",
    "        for character, position in self.characters:\n",
    "            character.display(position)\n",
    "\n",
    "    def get_unique_character_count(self):\n",
    "        return CharacterFactory.get_total_characters()\n"
   ]
  },
  {
   "cell_type": "code",
   "execution_count": 20,
   "metadata": {},
   "outputs": [
    {
     "name": "stdout",
     "output_type": "stream",
     "text": [
      "Created new Character: Character(char='H', font_family='Arial', font_size=12, font_style='Regular')\n",
      "Created new Character: Character(char='e', font_family='Arial', font_size=12, font_style='Regular')\n",
      "Created new Character: Character(char='l', font_family='Arial', font_size=12, font_style='Regular')\n",
      "Reusing existing Character: Character(char='l', font_family='Arial', font_size=12, font_style='Regular')\n",
      "Created new Character: Character(char='o', font_family='Arial', font_size=12, font_style='Regular')\n",
      "Created new Character: Character(char=' ', font_family='Arial', font_size=12, font_style='Regular')\n",
      "Created new Character: Character(char='F', font_family='Arial', font_size=12, font_style='Regular')\n",
      "Reusing existing Character: Character(char='l', font_family='Arial', font_size=12, font_style='Regular')\n",
      "Created new Character: Character(char='y', font_family='Arial', font_size=12, font_style='Regular')\n",
      "Created new Character: Character(char='w', font_family='Arial', font_size=12, font_style='Regular')\n",
      "Reusing existing Character: Character(char='e', font_family='Arial', font_size=12, font_style='Regular')\n",
      "Created new Character: Character(char='i', font_family='Arial', font_size=12, font_style='Regular')\n",
      "Created new Character: Character(char='g', font_family='Arial', font_size=12, font_style='Regular')\n",
      "Created new Character: Character(char='h', font_family='Arial', font_size=12, font_style='Regular')\n",
      "Created new Character: Character(char='t', font_family='Arial', font_size=12, font_style='Regular')\n",
      "Reusing existing Character: Character(char=' ', font_family='Arial', font_size=12, font_style='Regular')\n",
      "Created new Character: Character(char='P', font_family='Arial', font_size=12, font_style='Regular')\n",
      "Created new Character: Character(char='a', font_family='Arial', font_size=12, font_style='Regular')\n",
      "Reusing existing Character: Character(char='t', font_family='Arial', font_size=12, font_style='Regular')\n",
      "Reusing existing Character: Character(char='t', font_family='Arial', font_size=12, font_style='Regular')\n",
      "Reusing existing Character: Character(char='e', font_family='Arial', font_size=12, font_style='Regular')\n",
      "Created new Character: Character(char='r', font_family='Arial', font_size=12, font_style='Regular')\n",
      "Created new Character: Character(char='n', font_family='Arial', font_size=12, font_style='Regular')\n",
      "Created new Character: Character(char='!', font_family='Arial', font_size=12, font_style='Regular')\n",
      "Character 'H' at position (0, 0) with font 'Arial', size 12, style 'Regular'.\n",
      "Character 'e' at position (1, 0) with font 'Arial', size 12, style 'Regular'.\n",
      "Character 'l' at position (2, 0) with font 'Arial', size 12, style 'Regular'.\n",
      "Character 'l' at position (3, 0) with font 'Arial', size 12, style 'Regular'.\n",
      "Character 'o' at position (4, 0) with font 'Arial', size 12, style 'Regular'.\n",
      "Character ' ' at position (5, 0) with font 'Arial', size 12, style 'Regular'.\n",
      "Character 'F' at position (6, 0) with font 'Arial', size 12, style 'Regular'.\n",
      "Character 'l' at position (7, 0) with font 'Arial', size 12, style 'Regular'.\n",
      "Character 'y' at position (8, 0) with font 'Arial', size 12, style 'Regular'.\n",
      "Character 'w' at position (9, 0) with font 'Arial', size 12, style 'Regular'.\n",
      "Character 'e' at position (10, 0) with font 'Arial', size 12, style 'Regular'.\n",
      "Character 'i' at position (11, 0) with font 'Arial', size 12, style 'Regular'.\n",
      "Character 'g' at position (12, 0) with font 'Arial', size 12, style 'Regular'.\n",
      "Character 'h' at position (13, 0) with font 'Arial', size 12, style 'Regular'.\n",
      "Character 't' at position (14, 0) with font 'Arial', size 12, style 'Regular'.\n",
      "Character ' ' at position (15, 0) with font 'Arial', size 12, style 'Regular'.\n",
      "Character 'P' at position (16, 0) with font 'Arial', size 12, style 'Regular'.\n",
      "Character 'a' at position (17, 0) with font 'Arial', size 12, style 'Regular'.\n",
      "Character 't' at position (18, 0) with font 'Arial', size 12, style 'Regular'.\n",
      "Character 't' at position (19, 0) with font 'Arial', size 12, style 'Regular'.\n",
      "Character 'e' at position (20, 0) with font 'Arial', size 12, style 'Regular'.\n",
      "Character 'r' at position (21, 0) with font 'Arial', size 12, style 'Regular'.\n",
      "Character 'n' at position (22, 0) with font 'Arial', size 12, style 'Regular'.\n",
      "Character '!' at position (23, 0) with font 'Arial', size 12, style 'Regular'.\n"
     ]
    }
   ],
   "source": [
    "editor = TextEditor()\n",
    "\n",
    "# Sample text with repeated characters and varying positions\n",
    "text = \"Hello Flyweight Pattern!\"\n",
    "font_family = \"Arial\"\n",
    "font_size = 12\n",
    "font_style = \"Regular\"\n",
    "\n",
    "for index, char in enumerate(text):\n",
    "    position = (index, 0)  # Simple horizontal layout\n",
    "    editor.add_character(char, font_family, font_size, font_style, position)\n",
    "\n",
    "editor.display_text()\n"
   ]
  },
  {
   "cell_type": "code",
   "execution_count": 21,
   "metadata": {},
   "outputs": [
    {
     "name": "stdout",
     "output_type": "stream",
     "text": [
      "\n",
      "Total unique Character objects created: 17\n"
     ]
    }
   ],
   "source": [
    "print(f\"\\nTotal unique Character objects created: {editor.get_unique_character_count()}\")\n"
   ]
  }
 ],
 "metadata": {
  "kernelspec": {
   "display_name": "Python 3",
   "language": "python",
   "name": "python3"
  },
  "language_info": {
   "codemirror_mode": {
    "name": "ipython",
    "version": 3
   },
   "file_extension": ".py",
   "mimetype": "text/x-python",
   "name": "python",
   "nbconvert_exporter": "python",
   "pygments_lexer": "ipython3",
   "version": "3.9.6"
  }
 },
 "nbformat": 4,
 "nbformat_minor": 2
}
