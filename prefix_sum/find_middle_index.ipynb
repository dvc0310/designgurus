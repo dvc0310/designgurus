{
 "cells": [
  {
   "cell_type": "code",
   "execution_count": 10,
   "metadata": {},
   "outputs": [],
   "source": [
    "class Solution:\n",
    "    def findMiddleIndex(self, nums) -> int:\n",
    "        # ToDo: Write Your Code Here.\n",
    "        nums1 = []\n",
    "        nums2 = []\n",
    "        l = 0\n",
    "        r = len(nums) - 1\n",
    "        right_sum = 0\n",
    "        while r >= 0:\n",
    "            right_sum += nums[r]\n",
    "            nums1.append(right_sum)\n",
    "            r -= 1\n",
    "        left_sum = 0\n",
    "        while l < len(nums):\n",
    "            left_sum += nums[l]\n",
    "            nums2.append(left_sum)\n",
    "            l += 1            \n",
    "        for i in range(len(nums)):\n",
    "            if nums1[i] == nums2[i]:\n",
    "                return i\n",
    "        return -1\n",
    "\n",
    "sol = Solution()"
   ]
  },
  {
   "cell_type": "code",
   "execution_count": 11,
   "metadata": {},
   "outputs": [],
   "source": [
    "class Solution:\n",
    "    def findMiddleIndex(self, nums) -> int:\n",
    "        totalSum = sum(nums)\n",
    "        leftSum = 0\n",
    "        for i, num in enumerate(nums):\n",
    "            next_left = leftSum + num\n",
    "            rightSum = totalSum - next_left\n",
    "            if leftSum == rightSum:\n",
    "                return i\n",
    "            leftSum = next_left\n",
    "        return -1\n",
    "sol = Solution()"
   ]
  },
  {
   "cell_type": "code",
   "execution_count": 12,
   "metadata": {},
   "outputs": [
    {
     "data": {
      "text/plain": [
       "3"
      ]
     },
     "execution_count": 12,
     "metadata": {},
     "output_type": "execute_result"
    }
   ],
   "source": [
    "nums = [1, 7, 3, 6, 5, 6]\n",
    "sol.findMiddleIndex(nums)"
   ]
  }
 ],
 "metadata": {
  "kernelspec": {
   "display_name": "3.9.6",
   "language": "python",
   "name": "python3"
  },
  "language_info": {
   "codemirror_mode": {
    "name": "ipython",
    "version": 3
   },
   "file_extension": ".py",
   "mimetype": "text/x-python",
   "name": "python",
   "nbconvert_exporter": "python",
   "pygments_lexer": "ipython3",
   "version": "3.9.6"
  }
 },
 "nbformat": 4,
 "nbformat_minor": 2
}
