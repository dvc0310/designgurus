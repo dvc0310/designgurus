{
 "cells": [
  {
   "cell_type": "code",
   "execution_count": 4,
   "metadata": {},
   "outputs": [
    {
     "name": "stdout",
     "output_type": "stream",
     "text": [
      "Prefix Sums: [1, 3, 6, 10]\n",
      "Sum of elements from index 1 to 3: 9\n"
     ]
    }
   ],
   "source": [
    "class Solution:\n",
    "    def compute_prefix_sum(self, arr):\n",
    "        # Step 1: Initialize the prefix array with zeros\n",
    "        prefix = [0] * len(arr)\n",
    "        \n",
    "        # Step 2: Set the first element of the prefix array to the first element of the input array\n",
    "        prefix[0] = arr[0]\n",
    "        \n",
    "        # Step 3: Compute the prefix sum for each subsequent element\n",
    "        for i in range(1, len(arr)):\n",
    "            prefix[i] = prefix[i - 1] + arr[i]\n",
    "        \n",
    "        # Step 4: Return the computed prefix sum array\n",
    "        return prefix\n",
    "\n",
    "    def range_sum_query(self, prefix, i, j):\n",
    "        # Step 5: Calculate the sum of elements between indices i and j using the prefix array\n",
    "        if i == 0:\n",
    "            return prefix[j]\n",
    "        return prefix[j] - prefix[i - 1]\n",
    "\n",
    "if __name__ == \"__main__\":\n",
    "    sol = Solution()\n",
    "    arr = [1, 2, 3, 4]\n",
    "    prefix_sum = sol.compute_prefix_sum(arr)\n",
    "    range_sum = sol.range_sum_query(prefix_sum, 1, 3)\n",
    "    print(\"Prefix Sums:\", prefix_sum)\n",
    "    print(\"Sum of elements from index 1 to 3:\", range_sum)  # Output: 9\n"
   ]
  }
 ],
 "metadata": {
  "kernelspec": {
   "display_name": "3.9.6",
   "language": "python",
   "name": "python3"
  },
  "language_info": {
   "codemirror_mode": {
    "name": "ipython",
    "version": 3
   },
   "file_extension": ".py",
   "mimetype": "text/x-python",
   "name": "python",
   "nbconvert_exporter": "python",
   "pygments_lexer": "ipython3",
   "version": "3.9.6"
  }
 },
 "nbformat": 4,
 "nbformat_minor": 2
}
