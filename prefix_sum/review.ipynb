{
 "cells": [
  {
   "cell_type": "code",
   "execution_count": 72,
   "metadata": {},
   "outputs": [],
   "source": [
    "def middle(nums):\n",
    "    total_sum = sum(nums)\n",
    "    right_sum = total_sum\n",
    "    left_sum = 0\n",
    "    for i, num in enumerate(nums):\n",
    "        right_sum = total_sum - left_sum - num\n",
    "        if right_sum == left_sum:\n",
    "            return i\n",
    "        left_sum += num \n",
    "    \n",
    "    return -1"
   ]
  },
  {
   "cell_type": "code",
   "execution_count": 73,
   "metadata": {},
   "outputs": [
    {
     "data": {
      "text/plain": [
       "3"
      ]
     },
     "execution_count": 73,
     "metadata": {},
     "output_type": "execute_result"
    }
   ],
   "source": [
    "nums = [1, 7, 3, 6, 5, 6]\n",
    "middle(nums)"
   ]
  },
  {
   "cell_type": "code",
   "execution_count": 74,
   "metadata": {},
   "outputs": [],
   "source": [
    "class Solution2:\n",
    "    def findDifferenceArray(self, nums):\n",
    "        n = len(nums)\n",
    "        if n == 0:\n",
    "            return []\n",
    "        differenceArray = [0] * n\n",
    "        total_sum = sum(nums)\n",
    "        left_sum = 0\n",
    "        for i, num in enumerate(nums):\n",
    "            right_sum = total_sum - num - left_sum\n",
    "            differenceArray[i] = abs(right_sum - left_sum)\n",
    "            left_sum += num\n",
    "        return differenceArray\n"
   ]
  },
  {
   "cell_type": "code",
   "execution_count": 75,
   "metadata": {},
   "outputs": [],
   "source": [
    "class Solution:\n",
    "    def findLeftRightArray(self, nums):\n",
    "        n = len(nums)\n",
    "        if n == 0:\n",
    "            return []\n",
    "        left = [0] * n\n",
    "        right = [0] * n\n",
    "        total_sum = sum(nums)\n",
    "        left_sum = 0\n",
    "        for i, num in enumerate(nums):\n",
    "            right_sum = total_sum - num - left_sum\n",
    "            right[i] = right_sum\n",
    "            left_sum += num\n",
    "            left[i] = left_sum\n",
    "        return left, right"
   ]
  },
  {
   "cell_type": "code",
   "execution_count": 76,
   "metadata": {},
   "outputs": [
    {
     "data": {
      "text/plain": [
       "([3, 7, 15, 17, 13, 14, 18, 20], [17, 13, 5, 3, 7, 6, 2, 0])"
      ]
     },
     "execution_count": 76,
     "metadata": {},
     "output_type": "execute_result"
    }
   ],
   "source": [
    "nums = [3, 4, 8, 2, -4, 1, 4, 2]\n",
    "Solution().findLeftRightArray(nums)"
   ]
  },
  {
   "cell_type": "code",
   "execution_count": 77,
   "metadata": {},
   "outputs": [
    {
     "data": {
      "text/plain": [
       "[17, 10, 1, 10, 9, 7, 12, 18]"
      ]
     },
     "execution_count": 77,
     "metadata": {},
     "output_type": "execute_result"
    }
   ],
   "source": [
    "nums = [3, 4, 7, 2, -3, 1, 4, 2]\n",
    "Solution2().findDifferenceArray(nums)"
   ]
  },
  {
   "cell_type": "code",
   "execution_count": 78,
   "metadata": {},
   "outputs": [
    {
     "data": {
      "text/plain": [
       "([1, 3, 6, 4, 9], [8, 6, 3, 5, 0])"
      ]
     },
     "execution_count": 78,
     "metadata": {},
     "output_type": "execute_result"
    }
   ],
   "source": [
    "nums = [1, 2, 3, -2, 5]\n",
    "Solution().findLeftRightArray(nums)"
   ]
  },
  {
   "cell_type": "code",
   "execution_count": 79,
   "metadata": {},
   "outputs": [
    {
     "data": {
      "text/plain": [
       "[8, 5, 0, 1, 4]"
      ]
     },
     "execution_count": 79,
     "metadata": {},
     "output_type": "execute_result"
    }
   ],
   "source": [
    "Solution2().findDifferenceArray(nums)"
   ]
  },
  {
   "cell_type": "code",
   "execution_count": 80,
   "metadata": {},
   "outputs": [
    {
     "data": {
      "text/plain": [
       "([-2, -3, -1, 0], [2, 3, 1, 0])"
      ]
     },
     "execution_count": 80,
     "metadata": {},
     "output_type": "execute_result"
    }
   ],
   "source": [
    "nums = [-2, -1, 2, 1]\n",
    "Solution().findLeftRightArray(nums)"
   ]
  },
  {
   "cell_type": "code",
   "execution_count": 81,
   "metadata": {},
   "outputs": [
    {
     "data": {
      "text/plain": [
       "[2, 5, 4, 1]"
      ]
     },
     "execution_count": 81,
     "metadata": {},
     "output_type": "execute_result"
    }
   ],
   "source": [
    "Solution2().findDifferenceArray(nums)"
   ]
  },
  {
   "cell_type": "code",
   "execution_count": 82,
   "metadata": {},
   "outputs": [],
   "source": [
    "class Solution:\n",
    "    def maxSubArrayLen(self, nums, k):\n",
    "        # Create a dictionary to store cumulative sums and their earliest indices\n",
    "        cum_map = {}\n",
    "        cum_sum = 0  # Initialize cumulative sum\n",
    "        max_len = 0  # Initialize max length of subarray with sum k\n",
    "\n",
    "        # Iterate through the array\n",
    "        for i in range(len(nums)):\n",
    "            cum_sum += nums[i]  # Update cumulative sum\n",
    "\n",
    "            # Check if cumulative sum equals k\n",
    "            if cum_sum == k:\n",
    "                max_len = i + 1  # Update max length\n",
    "\n",
    "            # Check if there is a subarray with sum k\n",
    "            if (cum_sum - k) in cum_map:\n",
    "                max_len = max(max_len, i - cum_map[cum_sum - k])  # Update max length\n",
    "\n",
    "            # Store the cumulative sum and its index\n",
    "            if cum_sum not in cum_map:\n",
    "                cum_map[cum_sum] = i\n",
    "\n",
    "        return max_len  # Return the maximum length"
   ]
  },
  {
   "cell_type": "code",
   "execution_count": 83,
   "metadata": {},
   "outputs": [
    {
     "name": "stdout",
     "output_type": "stream",
     "text": [
      "2\n",
      "2\n",
      "4\n"
     ]
    }
   ],
   "source": [
    "if __name__ == \"__main__\":\n",
    "    sol = Solution()\n",
    "\n",
    "    # Test cases\n",
    "    nums1 = [1, 2, 3, -2, 5]\n",
    "    k1 = 5\n",
    "    print(sol.maxSubArrayLen(nums1, k1))  # Output: 2\n",
    "\n",
    "    nums2 = [-2, -1, 2, 1]\n",
    "    k2 = 1\n",
    "    print(sol.maxSubArrayLen(nums2, k2))  # Output: 2\n",
    "\n",
    "    nums3 = [3, 4, 7, 2, -3, 1, 4, 2]\n",
    "    k3 = 7\n",
    "    print(sol.maxSubArrayLen(nums3, k3))  # Output: 4\n"
   ]
  },
  {
   "cell_type": "code",
   "execution_count": 84,
   "metadata": {},
   "outputs": [],
   "source": [
    "class Solution:\n",
    "    def maxSubArray(self, nums, k):\n",
    "        # Create a dictionary to store cumulative sums and their earliest indices\n",
    "        cum_map = {}\n",
    "        cum_sum = 0  # Initialize cumulative sum\n",
    "        max_len = 0  # Initialize max length of subarray with sum k\n",
    "        start, end = -1, -1  # To track the indices of the maximum subarray\n",
    "\n",
    "        # Iterate through the array\n",
    "        for i in range(len(nums)):\n",
    "            cum_sum += nums[i]  # Update cumulative sum\n",
    "\n",
    "            # Check if cumulative sum equals k\n",
    "            if cum_sum == k:\n",
    "                max_len = i + 1  # Update max length\n",
    "                start, end = 0, i  # Update subarray indices\n",
    "\n",
    "            # Check if there is a subarray with sum k\n",
    "            if (cum_sum - k) in cum_map:\n",
    "                if i - cum_map[cum_sum - k] > max_len:\n",
    "                    max_len = i - cum_map[cum_sum - k]  # Update max length\n",
    "                    start, end = cum_map[cum_sum - k] + 1, i  # Update subarray indices\n",
    "\n",
    "            # Store the cumulative sum and its index\n",
    "            if cum_sum not in cum_map:\n",
    "                cum_map[cum_sum] = i\n",
    "\n",
    "        # Return the maximum subarray\n",
    "        return nums[start:end + 1] if start != -1 else []  # Return the subarray or empty if none found\n"
   ]
  },
  {
   "cell_type": "code",
   "execution_count": 85,
   "metadata": {},
   "outputs": [
    {
     "name": "stdout",
     "output_type": "stream",
     "text": [
      "[8, 2, -4, 1]\n"
     ]
    }
   ],
   "source": [
    "sol = Solution()\n",
    "nums3 = [3, 4, 8, 2, -4, 1, 4, 2]\n",
    "k3 = 7\n",
    "print(sol.maxSubArray(nums3, k3))"
   ]
  },
  {
   "cell_type": "code",
   "execution_count": 86,
   "metadata": {},
   "outputs": [],
   "source": [
    "class Solution:\n",
    "    def numSubarraysWithSum(self, nums, goal):\n",
    "        count = 0  # Initialize count of subarrays\n",
    "        prefix = {}\n",
    "        curr_sum = 0\n",
    "        for idx, num in enumerate(nums):\n",
    "            curr_sum += num\n",
    "            \n",
    "            if curr_sum == goal:\n",
    "                count += 1    \n",
    "            if curr_sum - goal in prefix:\n",
    "                count += prefix[curr_sum - goal]\n",
    "                \n",
    "            if curr_sum not in prefix:\n",
    "                prefix[curr_sum] = 1\n",
    "            elif num == 0:\n",
    "                prefix[curr_sum] += 1\n",
    "            \n",
    "          \n",
    "                \n",
    "        \n",
    "        return count  \n",
    "\n"
   ]
  },
  {
   "cell_type": "code",
   "execution_count": 87,
   "metadata": {},
   "outputs": [
    {
     "data": {
      "text/plain": [
       "5"
      ]
     },
     "execution_count": 87,
     "metadata": {},
     "output_type": "execute_result"
    }
   ],
   "source": [
    "Solution().numSubarraysWithSum([1, 1, 0, 1, 1], 2)"
   ]
  },
  {
   "cell_type": "code",
   "execution_count": 88,
   "metadata": {},
   "outputs": [
    {
     "data": {
      "text/plain": [
       "4"
      ]
     },
     "execution_count": 88,
     "metadata": {},
     "output_type": "execute_result"
    }
   ],
   "source": [
    "Solution().numSubarraysWithSum([1, 1, 1, 1, 0, 0], 3)"
   ]
  },
  {
   "cell_type": "code",
   "execution_count": 92,
   "metadata": {},
   "outputs": [
    {
     "data": {
      "text/plain": [
       "3"
      ]
     },
     "execution_count": 92,
     "metadata": {},
     "output_type": "execute_result"
    }
   ],
   "source": [
    "Solution().numSubarraysWithSum([0, 0, 1, 1], 2)"
   ]
  },
  {
   "cell_type": "code",
   "execution_count": 91,
   "metadata": {},
   "outputs": [
    {
     "data": {
      "text/plain": [
       "12"
      ]
     },
     "execution_count": 91,
     "metadata": {},
     "output_type": "execute_result"
    }
   ],
   "source": [
    "nums = [0, 0, 0, 0, 1, 0, 1]\n",
    "goal = 1\n",
    "Solution().numSubarraysWithSum(nums, goal)"
   ]
  }
 ],
 "metadata": {
  "kernelspec": {
   "display_name": "3.9.6",
   "language": "python",
   "name": "python3"
  },
  "language_info": {
   "codemirror_mode": {
    "name": "ipython",
    "version": 3
   },
   "file_extension": ".py",
   "mimetype": "text/x-python",
   "name": "python",
   "nbconvert_exporter": "python",
   "pygments_lexer": "ipython3",
   "version": "3.9.6"
  }
 },
 "nbformat": 4,
 "nbformat_minor": 2
}
