{
 "cells": [
  {
   "cell_type": "code",
   "execution_count": 1,
   "metadata": {},
   "outputs": [
    {
     "data": {
      "text/plain": [
       "[Tok_Int(104),\n",
       " Tok_Add(),\n",
       " Tok_Int(2),\n",
       " Tok_DoubleSemi(),\n",
       " Tok_Int(330),\n",
       " Tok_ID(dlet)]"
      ]
     },
     "execution_count": 1,
     "metadata": {},
     "output_type": "execute_result"
    }
   ],
   "source": [
    "from lexer import tokenize\n",
    "\n",
    "program = \"104+ 2;;330dlet\"\n",
    "tokens = tokenize(program)\n",
    "tokens"
   ]
  },
  {
   "cell_type": "code",
   "execution_count": 2,
   "metadata": {},
   "outputs": [
    {
     "data": {
      "text/plain": [
       "[Tok_ID(let103)]"
      ]
     },
     "execution_count": 2,
     "metadata": {},
     "output_type": "execute_result"
    }
   ],
   "source": [
    "program = \"let103\"\n",
    "tokens = tokenize(program)\n",
    "tokens"
   ]
  },
  {
   "cell_type": "code",
   "execution_count": 3,
   "metadata": {},
   "outputs": [
    {
     "data": {
      "text/plain": [
       "[Tok_LParen(),\n",
       " Tok_Int(-1000),\n",
       " Tok_Sub(),\n",
       " Tok_Int(1000),\n",
       " Tok_RParen(),\n",
       " Tok_ID(let103)]"
      ]
     },
     "execution_count": 3,
     "metadata": {},
     "output_type": "execute_result"
    }
   ],
   "source": [
    "program = \"((-1000)-1000)let103\"\n",
    "tokens = tokenize(program)\n",
    "tokens"
   ]
  },
  {
   "cell_type": "code",
   "execution_count": 4,
   "metadata": {},
   "outputs": [
    {
     "data": {
      "text/plain": [
       "[Tok_LParen(),\n",
       " Tok_LParen(),\n",
       " Tok_Sub(),\n",
       " Tok_Int(10001),\n",
       " Tok_ID(a),\n",
       " Tok_RParen(),\n",
       " Tok_Sub(),\n",
       " Tok_Int(1000),\n",
       " Tok_RParen(),\n",
       " Tok_ID(let103)]"
      ]
     },
     "execution_count": 4,
     "metadata": {},
     "output_type": "execute_result"
    }
   ],
   "source": [
    "program = \"((-10001a)-1000)let103\"\n",
    "tokens = tokenize(program)\n",
    "tokens"
   ]
  },
  {
   "cell_type": "code",
   "execution_count": 5,
   "metadata": {},
   "outputs": [
    {
     "data": {
      "text/plain": [
       "[Tok_ID(letdef)]"
      ]
     },
     "execution_count": 5,
     "metadata": {},
     "output_type": "execute_result"
    }
   ],
   "source": [
    "program = \"letdef\"\n",
    "tokens = tokenize(program)\n",
    "tokens"
   ]
  },
  {
   "cell_type": "code",
   "execution_count": 6,
   "metadata": {},
   "outputs": [
    {
     "data": {
      "text/plain": [
       "[Tok_Let(), Tok_Def()]"
      ]
     },
     "execution_count": 6,
     "metadata": {},
     "output_type": "execute_result"
    }
   ],
   "source": [
    "program = \"let def\"\n",
    "tokens = tokenize(program)\n",
    "tokens"
   ]
  },
  {
   "cell_type": "code",
   "execution_count": 7,
   "metadata": {},
   "outputs": [
    {
     "data": {
      "text/plain": [
       "[Tok_Let(),\n",
       " Tok_LParen(),\n",
       " Tok_LParen(),\n",
       " Tok_Sub(),\n",
       " Tok_Int(10001),\n",
       " Tok_ID(a),\n",
       " Tok_RParen(),\n",
       " Tok_Sub(),\n",
       " Tok_Int(1000),\n",
       " Tok_RParen(),\n",
       " Tok_ID(let103)]"
      ]
     },
     "execution_count": 7,
     "metadata": {},
     "output_type": "execute_result"
    }
   ],
   "source": [
    "program = \"let((-10001a)-1000)let103\"\n",
    "tokens = tokenize(program)\n",
    "tokens"
   ]
  },
  {
   "cell_type": "code",
   "execution_count": 8,
   "metadata": {},
   "outputs": [
    {
     "data": {
      "text/plain": [
       "[Tok_Let(),\n",
       " Tok_Rec(),\n",
       " Tok_ID(ex),\n",
       " Tok_Equal(),\n",
       " Tok_Fun(),\n",
       " Tok_ID(x),\n",
       " Tok_Arrow(),\n",
       " Tok_ID(x),\n",
       " Tok_Or(),\n",
       " Tok_Bool(True),\n",
       " Tok_DoubleSemi()]"
      ]
     },
     "execution_count": 8,
     "metadata": {},
     "output_type": "execute_result"
    }
   ],
   "source": [
    "program = \"let rec ex = fun x -> x || true;;\"\n",
    "tokens = tokenize(program)\n",
    "tokens"
   ]
  },
  {
   "cell_type": "code",
   "execution_count": 9,
   "metadata": {},
   "outputs": [
    {
     "data": {
      "text/plain": [
       "[Tok_Int(1), Tok_Add(), Tok_Int(-1)]"
      ]
     },
     "execution_count": 9,
     "metadata": {},
     "output_type": "execute_result"
    }
   ],
   "source": [
    "program = \"1 +(-1)\"\n",
    "tokens = tokenize(program)\n",
    "tokens\n"
   ]
  },
  {
   "cell_type": "code",
   "execution_count": 10,
   "metadata": {},
   "outputs": [
    {
     "data": {
      "text/plain": [
       "[Tok_LParen(),\n",
       " Tok_Int(1),\n",
       " Tok_Add(),\n",
       " Tok_Int(2),\n",
       " Tok_Add(),\n",
       " Tok_Int(3),\n",
       " Tok_RParen(),\n",
       " Tok_Mult()]"
      ]
     },
     "execution_count": 10,
     "metadata": {},
     "output_type": "execute_result"
    }
   ],
   "source": [
    "program = \"(1 + 2 + 3) * 3\"\n",
    "tokens = tokenize(program)\n",
    "tokens = tokens[:len(tokens)-1]\n",
    "tokens"
   ]
  },
  {
   "cell_type": "code",
   "execution_count": 11,
   "metadata": {},
   "outputs": [
    {
     "data": {
      "text/plain": [
       "[Tok_Def(),\n",
       " Tok_ID(x),\n",
       " Tok_Equal(),\n",
       " Tok_Let(),\n",
       " Tok_ID(a),\n",
       " Tok_Equal(),\n",
       " Tok_Int(3),\n",
       " Tok_In(),\n",
       " Tok_If(),\n",
       " Tok_ID(a),\n",
       " Tok_NotEqual(),\n",
       " Tok_Int(3),\n",
       " Tok_Then(),\n",
       " Tok_Int(0),\n",
       " Tok_Else(),\n",
       " Tok_Int(-1),\n",
       " Tok_DoubleSemi()]"
      ]
     },
     "execution_count": 11,
     "metadata": {},
     "output_type": "execute_result"
    }
   ],
   "source": [
    "from parser__ import *\n",
    "prog = \"def x = let a = 3 in if a <> 3 then 0 else (-1);;\"\n",
    "tokens = tokenize(prog)\n",
    "tokens\n"
   ]
  },
  {
   "cell_type": "code",
   "execution_count": 12,
   "metadata": {},
   "outputs": [
    {
     "data": {
      "text/plain": [
       "([],\n",
       " Def(x, Let(a, rec=False, Int(3), If(Binop(Op.NOT_EQUAL, ID(a), Int(3)), Then Int(0) Else Int(-1)))))"
      ]
     },
     "execution_count": 12,
     "metadata": {},
     "output_type": "execute_result"
    }
   ],
   "source": [
    "parse_mutop(tokens)"
   ]
  },
  {
   "cell_type": "code",
   "execution_count": 13,
   "metadata": {},
   "outputs": [
    {
     "data": {
      "text/plain": [
       "[Tok_LParen(),\n",
       " Tok_Fun(),\n",
       " Tok_ID(x),\n",
       " Tok_Arrow(),\n",
       " Tok_String((),\n",
       " Tok_Concat(),\n",
       " Tok_ID(x),\n",
       " Tok_Concat(),\n",
       " Tok_String()),\n",
       " Tok_RParen(),\n",
       " Tok_String(parenthesis),\n",
       " Tok_DoubleSemi()]"
      ]
     },
     "execution_count": 13,
     "metadata": {},
     "output_type": "execute_result"
    }
   ],
   "source": [
    "from parser__ import *\n",
    "prog = \"\"\"(fun x -> \"(\" ^ x ^ \")\") \"parenthesis\";;\"\"\"\n",
    "\n",
    "tokens = tokenize(prog)\n",
    "tokens"
   ]
  },
  {
   "cell_type": "code",
   "execution_count": 14,
   "metadata": {},
   "outputs": [
    {
     "data": {
      "text/plain": [
       "([],\n",
       " Expr(App(Fun(x, Binop(Op.CONCAT, String((), Binop(Op.CONCAT, ID(x), String())))), String(parenthesis))))"
      ]
     },
     "execution_count": 14,
     "metadata": {},
     "output_type": "execute_result"
    }
   ],
   "source": [
    "parse_mutop(tokens)"
   ]
  },
  {
   "cell_type": "code",
   "execution_count": 15,
   "metadata": {},
   "outputs": [
    {
     "data": {
      "text/plain": [
       "[Tok_Def(),\n",
       " Tok_ID(f),\n",
       " Tok_Equal(),\n",
       " Tok_Fun(),\n",
       " Tok_ID(x),\n",
       " Tok_Arrow(),\n",
       " Tok_If(),\n",
       " Tok_ID(x),\n",
       " Tok_Greater(),\n",
       " Tok_Int(0),\n",
       " Tok_Then(),\n",
       " Tok_ID(f),\n",
       " Tok_LParen(),\n",
       " Tok_ID(x),\n",
       " Tok_Sub(),\n",
       " Tok_Int(1),\n",
       " Tok_RParen(),\n",
       " Tok_Else(),\n",
       " Tok_String(done),\n",
       " Tok_DoubleSemi()]"
      ]
     },
     "execution_count": 15,
     "metadata": {},
     "output_type": "execute_result"
    }
   ],
   "source": [
    "prog = \"\"\"def f = fun x -> if x > 0 then f (x-1) else \"done\";;\"\"\"\n",
    "tokens = tokenize(prog)\n",
    "tokens"
   ]
  },
  {
   "cell_type": "code",
   "execution_count": 16,
   "metadata": {},
   "outputs": [
    {
     "data": {
      "text/plain": [
       "([],\n",
       " Def(f, Fun(x, If(Binop(Op.GREATER, ID(x), Int(0)), Then App(ID(f), Binop(Op.SUB, ID(x), Int(1))) Else String(done)))))"
      ]
     },
     "execution_count": 16,
     "metadata": {},
     "output_type": "execute_result"
    }
   ],
   "source": [
    "prog = \"\"\"def f = fun x -> if x > 0 then f (x-1) else \"done\";;\"\"\"\n",
    "tokens = tokenize(prog)\n",
    "parse_mutop(tokens)"
   ]
  },
  {
   "cell_type": "code",
   "execution_count": 17,
   "metadata": {},
   "outputs": [
    {
     "data": {
      "text/plain": [
       "True"
      ]
     },
     "execution_count": 17,
     "metadata": {},
     "output_type": "execute_result"
    }
   ],
   "source": [
    "from eval import *\n",
    "\n",
    "eval_expr([(\"x\", BoolExpr(True))], NotExpr(NotExpr(IDExpr(\"x\"))))"
   ]
  },
  {
   "cell_type": "code",
   "execution_count": 18,
   "metadata": {},
   "outputs": [
    {
     "data": {
      "text/plain": [
       "False"
      ]
     },
     "execution_count": 18,
     "metadata": {},
     "output_type": "execute_result"
    }
   ],
   "source": [
    "eval_expr([(\"x\", BoolExpr(True))], (NotExpr(IDExpr(\"x\"))))"
   ]
  },
  {
   "cell_type": "code",
   "execution_count": 19,
   "metadata": {},
   "outputs": [],
   "source": [
    "e = BinopExpr(\n",
    "    Op.ADD, \n",
    "    IntExpr(3), \n",
    "    BinopExpr(Op.MULT, IntExpr(4), IntExpr(5))\n",
    ")\n"
   ]
  },
  {
   "cell_type": "code",
   "execution_count": 20,
   "metadata": {},
   "outputs": [
    {
     "data": {
      "text/plain": [
       "Binop(Op.ADD, Int(3), Binop(Op.MULT, Int(4), Int(5)))"
      ]
     },
     "execution_count": 20,
     "metadata": {},
     "output_type": "execute_result"
    }
   ],
   "source": [
    "e                                                                                                                                                                                                                                                                                                                                                                                                                                                                     "
   ]
  },
  {
   "cell_type": "code",
   "execution_count": 21,
   "metadata": {},
   "outputs": [
    {
     "name": "stdout",
     "output_type": "stream",
     "text": [
      "Result: 35\n"
     ]
    }
   ],
   "source": [
    "# Define the environment (empty for this example since no variables are used)\n",
    "env = []\n",
    "tokens = tokenize(\"(3 + 4) * 5\")\n",
    "e, _ = parse_expr(tokens)\n",
    "# Construct the AST for 3 + (4 * 5)\n",
    "\n",
    "# Evaluate the expression\n",
    "result = eval_expr(env, e)\n",
    "print(f\"Result: {result}\")\n"
   ]
  },
  {
   "cell_type": "code",
   "execution_count": 22,
   "metadata": {},
   "outputs": [
    {
     "data": {
      "text/plain": [
       "Binop(Op.MULT, Binop(Op.ADD, Int(3), Int(4)), Int(5))"
      ]
     },
     "execution_count": 22,
     "metadata": {},
     "output_type": "execute_result"
    }
   ],
   "source": [
    "e"
   ]
  },
  {
   "cell_type": "code",
   "execution_count": 23,
   "metadata": {},
   "outputs": [
    {
     "name": "stdout",
     "output_type": "stream",
     "text": [
      "Result: True\n"
     ]
    }
   ],
   "source": [
    "e = IfExpr(\n",
    "    BinopExpr(Op.EQUAL, IntExpr(3), IntExpr(3)),\n",
    "    BoolExpr(True),\n",
    "    BoolExpr(False)\n",
    ")\n",
    "result = eval_expr(env, e)\n",
    "print(f\"Result: {result}\")"
   ]
  },
  {
   "cell_type": "code",
   "execution_count": 30,
   "metadata": {},
   "outputs": [
    {
     "name": "stdout",
     "output_type": "stream",
     "text": [
      "Result: 19\n"
     ]
    }
   ],
   "source": [
    "# Define the environment (empty for this example since no variables are used)\n",
    "env = []\n",
    "tokens = tokenize(\"let x = 9 in let y = x + 8 in let x = 2 in x + y\")\n",
    "e, _ = parse_expr(tokens)\n",
    "# Construct the AST for 3 + (4 * 5)\n",
    "# Evaluate the expression\n",
    "result = eval_expr(env, e)\n",
    "print(f\"Result: {result}\")\n"
   ]
  },
  {
   "cell_type": "code",
   "execution_count": 29,
   "metadata": {},
   "outputs": [
    {
     "name": "stdout",
     "output_type": "stream",
     "text": [
      "Result: 120\n"
     ]
    }
   ],
   "source": [
    "# Define the environment (empty for this example since no variables are used)\n",
    "env = []\n",
    "prg = \"\"\"\n",
    "let rec f =\n",
    "  fun n ->\n",
    "    if n = 0 then\n",
    "      1\n",
    "    else\n",
    "      n * f (n - 1)\n",
    "in\n",
    "  f 5\n",
    "\"\"\"\n",
    "tokens = tokenize(prg)\n",
    "e, _ = parse_expr(tokens)\n",
    "# Construct the AST for 3 + (4 * 5)\n",
    "# Evaluate the expression\n",
    "result = eval_expr(env, e)\n",
    "print(f\"Result: {result}\")"
   ]
  },
  {
   "cell_type": "code",
   "execution_count": 43,
   "metadata": {},
   "outputs": [
    {
     "name": "stdout",
     "output_type": "stream",
     "text": [
      "Result: David123bleh\n"
     ]
    }
   ],
   "source": [
    "# Define the environment (empty for this example since no variables are used)\n",
    "env = []\n",
    "prg = \"\"\"\n",
    "let david = \"David\" in\n",
    "let num = \"123\" in\n",
    "let f = fun n -> fun i -> \n",
    "  n ^ i ^ \"bleh\"\n",
    "in\n",
    "  (f david) num\n",
    "\"\"\"\n",
    "tokens = tokenize(prg)\n",
    "e, _ = parse_expr(tokens)\n",
    "# Construct the AST for 3 + (4 * 5)\n",
    "# Evaluate the expression\n",
    "result = eval_expr(env, e)\n",
    "print(f\"Result: {result}\")"
   ]
  }
 ],
 "metadata": {
  "kernelspec": {
   "display_name": "3.9.6",
   "language": "python",
   "name": "python3"
  },
  "language_info": {
   "codemirror_mode": {
    "name": "ipython",
    "version": 3
   },
   "file_extension": ".py",
   "mimetype": "text/x-python",
   "name": "python",
   "nbconvert_exporter": "python",
   "pygments_lexer": "ipython3",
   "version": "3.9.6"
  }
 },
 "nbformat": 4,
 "nbformat_minor": 2
}
