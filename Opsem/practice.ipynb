{
 "cells": [
  {
   "cell_type": "code",
   "execution_count": 16,
   "metadata": {},
   "outputs": [],
   "source": [
    "class ParseError(Exception):\n",
    "    pass\n",
    "\n",
    "def lookahead(tokens):\n",
    "    if not tokens:\n",
    "        raise ParseError(\"no tokens\")\n",
    "    return tokens[0]\n",
    "\n",
    "def match_tok(tokens, expected):\n",
    "    if not tokens:\n",
    "        raise ParseError(\"bad match\")\n",
    "    if tokens[0] == expected:\n",
    "        return tokens[1:]\n",
    "    else:\n",
    "        raise ParseError(\"bad match\")\n",
    "    \n",
    "def parse_S(tokens):\n",
    "    tokens_after_a = match_tok(tokens, \"a\")\n",
    "    next_tok = lookahead(tokens_after_a)\n",
    "    \n",
    "    if next_tok == \"b\":\n",
    "        tokens_after_b = match_tok(tokens_after_a, \"b\")        \n",
    "        tokens_after_subS = parse_S(tokens_after_b)\n",
    "        tokens_after_c = match_tok(tokens_after_subS, \"c\")\n",
    "        return tokens_after_c\n",
    "    elif next_tok == \"d\":\n",
    "        tokens_after_d = match_tok(tokens_after_a, \"d\")        \n",
    "        tokens_after_subS = parse_S(tokens_after_d)\n",
    "        tokens_after_e = match_tok(tokens_after_subS, \"e\")\n",
    "        return tokens_after_e\n",
    "    else:\n",
    "        tokens_after_subX = parse_X(tokens_after_a)\n",
    "        return tokens_after_subX\n",
    "       \n",
    "\n",
    "def parse_X(tokens):\n",
    "    next_tok = lookahead(tokens)\n",
    "    if next_tok == 'f':\n",
    "        tokens_after_f = match_tok(tokens, \"f\")\n",
    "        return tokens_after_f\n",
    "    elif next_tok == 'g':\n",
    "        tokens_after_g = match_tok(tokens, \"g\")\n",
    "        return tokens_after_g  \n",
    "    raise ParseError(\"bad match\")\n",
    "\n",
    "def parse(tokens):\n",
    "    if not tokens:\n",
    "        raise ParseError(f\"no tokens\")\n",
    "\n",
    "    remaining = parse_S(tokens)\n",
    "    if remaining:\n",
    "        raise ParseError(f\"Leftover tokens after parsing S: {remaining}\")\n",
    "    return \"Parse succeeded!\"\n"
   ]
  },
  {
   "cell_type": "code",
   "execution_count": 17,
   "metadata": {},
   "outputs": [],
   "source": [
    "tokens = [\"a\", \"b\", \"a\", \"f\", \"c\"]"
   ]
  },
  {
   "cell_type": "code",
   "execution_count": 18,
   "metadata": {},
   "outputs": [
    {
     "name": "stdout",
     "output_type": "stream",
     "text": [
      "Parse succeeded!\n"
     ]
    }
   ],
   "source": [
    "try:\n",
    "    parse(tokens)\n",
    "    print(\"Parse succeeded!\")\n",
    "except ParseError as e:\n",
    "    print(f\"Parse failed: {e}\")\n"
   ]
  },
  {
   "cell_type": "code",
   "execution_count": 19,
   "metadata": {},
   "outputs": [
    {
     "name": "stdout",
     "output_type": "stream",
     "text": [
      "Test case 1: Passed (Result: Parse succeeded!)\n",
      "Test case 2: Passed (Result: Parse succeeded!)\n",
      "Test case 3: Passed (Result: Parse succeeded!)\n",
      "Test case 4: Passed (Result: Parse succeeded!)\n",
      "Test case 5: Passed (Result: Parse succeeded!)\n",
      "Test case 6: Passed (Result: Parse succeeded!)\n",
      "Test case 7: Passed (Result: Parse failed: bad match)\n",
      "Test case 8: Passed (Result: Parse failed: bad match)\n",
      "Test case 9: Passed (Result: Parse failed: bad match)\n",
      "Test case 10: Passed (Result: Parse failed: bad match)\n",
      "Test case 11: Passed (Result: Parse failed: no tokens)\n"
     ]
    }
   ],
   "source": [
    "# Define test cases: (input tokens, expected output)\n",
    "test_cases = [\n",
    "    # Valid cases\n",
    "    ([\"a\", \"f\"], \"Parse succeeded!\"),  # S → a X, X → f\n",
    "    ([\"a\", \"g\"], \"Parse succeeded!\"),  # S → a X, X → g\n",
    "    ([\"a\", \"b\", \"a\", \"f\", \"c\"], \"Parse succeeded!\"),  # S → a b S c, S → a X\n",
    "    ([\"a\", \"d\", \"a\", \"f\", \"e\"], \"Parse succeeded!\"),  # S → a d S e, S → a X\n",
    "    ([\"a\", \"b\", \"a\", \"d\", \"a\", \"f\", \"e\", \"c\"], \"Parse succeeded!\"),  # Nested S → a b S c, S → a d S e\n",
    "    ([\"a\", \"b\", \"a\", \"b\", \"a\", \"f\", \"c\", \"c\"], \"Parse succeeded!\"),  # Deeply nested S → a b S c\n",
    "    \n",
    "    # Invalid cases\n",
    "    ([\"a\", \"b\", \"c\"], \"Parse failed: bad match\"),  # Missing S between b and c\n",
    "    ([\"a\", \"d\", \"c\"], \"Parse failed: bad match\"),  # Missing S after d\n",
    "    ([\"a\", \"z\"], \"Parse failed: bad match\"),  # Invalid token after a\n",
    "    ([\"f\", \"g\"], \"Parse failed: bad match\"),  # Missing initial a\n",
    "    ([], \"Parse failed: no tokens\"),  # Empty input\n",
    "]\n",
    "\n",
    "# Run the test cases\n",
    "for i, (tokens, expected) in enumerate(test_cases):\n",
    "    try:\n",
    "        result = parse(tokens)\n",
    "        print(f\"Test case {i + 1}: Passed (Result: {result})\")\n",
    "    except ParseError as e:\n",
    "        result = f\"Parse failed: {e}\"\n",
    "        if result == expected:\n",
    "            print(f\"Test case {i + 1}: Passed (Result: {result})\")\n",
    "        else:\n",
    "            print(f\"Test case {i + 1}: Failed (Expected: {expected}, Got: {result})\")\n"
   ]
  }
 ],
 "metadata": {
  "kernelspec": {
   "display_name": "3.9.6",
   "language": "python",
   "name": "python3"
  },
  "language_info": {
   "codemirror_mode": {
    "name": "ipython",
    "version": 3
   },
   "file_extension": ".py",
   "mimetype": "text/x-python",
   "name": "python",
   "nbconvert_exporter": "python",
   "pygments_lexer": "ipython3",
   "version": "3.9.6"
  }
 },
 "nbformat": 4,
 "nbformat_minor": 2
}
