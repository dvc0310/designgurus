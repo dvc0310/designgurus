{
 "cells": [
  {
   "cell_type": "code",
   "execution_count": 64,
   "metadata": {},
   "outputs": [],
   "source": [
    "class ParseError(Exception):\n",
    "    pass\n",
    "\n",
    "def lookahead(tokens):\n",
    "    if not tokens:\n",
    "        raise ParseError(\"no tokens\")\n",
    "    return tokens[0]\n",
    "\n",
    "def match_tok(tokens, expected):\n",
    "    if not tokens:\n",
    "        raise ParseError(\"bad match\")\n",
    "    if tokens[0] == expected:\n",
    "        return tokens[1:]\n",
    "    else:\n",
    "        raise ParseError(\"bad match\")\n",
    "\n",
    "def parse_T(tokens):\n",
    "    \"\"\"\n",
    "    Parse T → w T | ε\n",
    "    Matches zero or more 'w' tokens.\n",
    "    \"\"\"\n",
    "    if tokens and lookahead(tokens) == \"w\":\n",
    "        # Match 'w' and recurse\n",
    "        return parse_T(match_tok(tokens, \"w\"))\n",
    "    else:\n",
    "        # ε case: do nothing, return tokens\n",
    "        return tokens\n",
    "\n",
    "def parse_S(tokens):\n",
    "    \"\"\"\n",
    "    Parse S → x y S z | x T y z\n",
    "    Uses LL(2) lookahead to decide.\n",
    "    \"\"\"\n",
    "    tokens_after_x = match_tok(tokens, \"x\")  # Match 'x'\n",
    "    next_tok = lookahead(tokens_after_x)    # Look ahead at 1 token\n",
    "\n",
    "    if next_tok == \"y\":\n",
    "        # Look ahead at the second token\n",
    "        tokens_after_y = match_tok(tokens_after_x, \"y\")\n",
    "        next_next_tok = lookahead(tokens_after_y)\n",
    "\n",
    "        if next_next_tok == \"x\":\n",
    "            # xySz branch\n",
    "            tokens_after_subS = parse_S(tokens_after_y)\n",
    "            tokens_after_z = match_tok(tokens_after_subS, \"z\")\n",
    "            return tokens_after_z\n",
    "        else:\n",
    "            # xTyz branch\n",
    "            tokens_after_T = parse_T(tokens_after_x)\n",
    "            tokens_after_y = match_tok(tokens_after_T, \"y\")\n",
    "            tokens_after_z = match_tok(tokens_after_y, \"z\")\n",
    "            return tokens_after_z\n",
    "\n",
    "    elif next_tok == \"w\":\n",
    "        # Definitely the xTyz branch\n",
    "        tokens_after_T = parse_T(tokens_after_x)\n",
    "        tokens_after_y = match_tok(tokens_after_T, \"y\")\n",
    "        tokens_after_z = match_tok(tokens_after_y, \"z\")\n",
    "        return tokens_after_z\n",
    "\n",
    "    else:\n",
    "        raise ParseError(f\"Expected 'y' or 'w' after 'x', got '{next_tok}'\")\n",
    "\n",
    "def parse(tokens):\n",
    "    remaining = parse_S(tokens)\n",
    "    if remaining:\n",
    "        raise ParseError(f\"Leftover tokens after parsing S: {remaining}\")\n",
    "    return \"Parse succeeded!\"\n"
   ]
  },
  {
   "cell_type": "code",
   "execution_count": 67,
   "metadata": {},
   "outputs": [
    {
     "name": "stdout",
     "output_type": "stream",
     "text": [
      "Parse succeeded!\n"
     ]
    }
   ],
   "source": [
    "# Example input tokens\n",
    "tokens = [\"x\", \"y\", \"x\", \"y\", \"z\", \"z\"]\n",
    "\n",
    "# Try parsing and handle any errors\n",
    "try:\n",
    "    result = parse(tokens)\n",
    "    print(result)  # Should print \"Parse succeeded!\" if the input is valid\n",
    "except ParseError as e:\n",
    "    print(f\"Parse failed: {e}\")\n"
   ]
  },
  {
   "cell_type": "code",
   "execution_count": 66,
   "metadata": {},
   "outputs": [
    {
     "name": "stdout",
     "output_type": "stream",
     "text": [
      "Test case 1: Passed (Result: Parse succeeded!)\n",
      "Test case 2: Passed (Result: Parse succeeded!)\n",
      "Test case 3: Passed (Result: Parse succeeded!)\n",
      "Test case 4: Passed (Result: Parse succeeded!)\n",
      "Test case 5: Passed (Result: Parse failed: Expected 'y' or 'w' after 'x', got 'z')\n",
      "Test case 6: Passed (Result: Parse failed: bad match)\n",
      "Test case 7: Passed (Result: Parse failed: Leftover tokens after parsing S: ['x'])\n",
      "Test case 8: Passed (Result: Parse failed: bad match)\n"
     ]
    }
   ],
   "source": [
    "# Define test cases\n",
    "test_cases = [\n",
    "    # Valid cases\n",
    "    ([\"x\", \"y\", \"z\"], \"Parse succeeded!\"),  # S → x T y z (T → ε)\n",
    "    ([\"x\", \"w\", \"y\", \"z\"], \"Parse succeeded!\"),  # S → x T y z (T → w T)\n",
    "    ([\"x\", \"y\", \"x\", \"y\", \"z\", \"z\"], \"Parse succeeded!\"),  # S → x y S z\n",
    "    ([\"x\", \"w\", \"w\", \"y\", \"z\"], \"Parse succeeded!\"),  # S → x T y z (T → ww)\n",
    "    \n",
    "    # Invalid cases\n",
    "    ([\"x\", \"z\"], \"Parse failed: Expected 'y' or 'w' after 'x', got 'z'\"),  # Missing 'y'\n",
    "    ([\"y\", \"x\", \"y\", \"z\"], \"Parse failed: bad match\"),  # Missing 'x' at start\n",
    "    ([\"x\", \"y\", \"z\", \"x\"], \"Parse failed: Leftover tokens after parsing S: ['x']\"),  # Extra token\n",
    "    ([], \"Parse failed: bad match\"),  # Empty input\n",
    "]\n",
    "\n",
    "# Run the test cases\n",
    "for i, (tokens, expected) in enumerate(test_cases):\n",
    "    try:\n",
    "        result = parse(tokens)\n",
    "        print(f\"Test case {i + 1}: Passed (Result: {result})\")\n",
    "    except ParseError as e:\n",
    "        result = f\"Parse failed: {e}\"\n",
    "        if result == expected:\n",
    "            print(f\"Test case {i + 1}: Passed (Result: {result})\")\n",
    "        else:\n",
    "            print(f\"Test case {i + 1}: Failed (Expected: {expected}, Got: {result})\")\n"
   ]
  }
 ],
 "metadata": {
  "kernelspec": {
   "display_name": "3.9.6",
   "language": "python",
   "name": "python3"
  },
  "language_info": {
   "codemirror_mode": {
    "name": "ipython",
    "version": 3
   },
   "file_extension": ".py",
   "mimetype": "text/x-python",
   "name": "python",
   "nbconvert_exporter": "python",
   "pygments_lexer": "ipython3",
   "version": "3.9.6"
  }
 },
 "nbformat": 4,
 "nbformat_minor": 2
}
