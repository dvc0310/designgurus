{
 "cells": [
  {
   "cell_type": "code",
   "execution_count": 3,
   "metadata": {},
   "outputs": [],
   "source": [
    "from heapq import *\n",
    "\n",
    "class Node:\n",
    "    def __init__(self, value):\n",
    "        self.val = value\n",
    "        self.next = None\n",
    "\n",
    "    def __lt__(self, other):\n",
    "        return self.val < other.val\n",
    "\n",
    "    def __repr__(self):\n",
    "        return f\"Node(val={self.val}, next={repr(self.next)})\"\n",
    "    \n",
    "class Solution:\n",
    "  def merge(self, lists):\n",
    "    minHeap = []\n",
    "\n",
    "    # put the root of each list in the min heap\n",
    "    for root in lists:\n",
    "      if root is not None:\n",
    "        heappush(minHeap, root)\n",
    "\n",
    "    # take the smallest(top) element form the min-heap and add it to the result\n",
    "    # if the top element has a next element add it to the heap\n",
    "    resultHead, resultTail = None, None\n",
    "    while minHeap:\n",
    "      node = heappop(minHeap)\n",
    "      if resultHead is None:\n",
    "        resultHead = resultTail = node\n",
    "      else:\n",
    "        resultTail.next = node\n",
    "        resultTail = resultTail.next\n",
    "\n",
    "      if node.next is not None:\n",
    "        heappush(minHeap, node.next)\n",
    "\n",
    "    return resultHead\n",
    "\n"
   ]
  },
  {
   "cell_type": "code",
   "execution_count": 4,
   "metadata": {},
   "outputs": [
    {
     "name": "stdout",
     "output_type": "stream",
     "text": [
      "Here are the elements form the merged list: 1 2 3 3 4 6 6 7 8 "
     ]
    }
   ],
   "source": [
    "def main():\n",
    "  sol = Solution()\n",
    "  l1 = Node(2)\n",
    "  l1.next = Node(6)\n",
    "  l1.next.next = Node(8)\n",
    "\n",
    "  l2 = Node(3)\n",
    "  l2.next = Node(6)\n",
    "  l2.next.next = Node(7)\n",
    "\n",
    "  l3 = Node(1)\n",
    "  l3.next = Node(3)\n",
    "  l3.next.next = Node(4)\n",
    "\n",
    "  result = sol.merge([l1, l2, l3])\n",
    "  print(\"Here are the elements form the merged list: \", end='')\n",
    "  while result is not None:\n",
    "    print(str(result.val) + \" \", end='')\n",
    "    result = result.next\n",
    "\n",
    "\n",
    "main()\n"
   ]
  }
 ],
 "metadata": {
  "kernelspec": {
   "display_name": "Python 3",
   "language": "python",
   "name": "python3"
  },
  "language_info": {
   "codemirror_mode": {
    "name": "ipython",
    "version": 3
   },
   "file_extension": ".py",
   "mimetype": "text/x-python",
   "name": "python",
   "nbconvert_exporter": "python",
   "pygments_lexer": "ipython3",
   "version": "3.9.6"
  }
 },
 "nbformat": 4,
 "nbformat_minor": 2
}
