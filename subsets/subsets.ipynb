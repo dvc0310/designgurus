{
 "cells": [
  {
   "cell_type": "code",
   "execution_count": 1,
   "metadata": {},
   "outputs": [],
   "source": [
    "from collections import deque\n",
    "\n",
    "class Solution:\n",
    "    def find_subsets(self, nums):\n",
    "        subsets = self.bfs(nums)\n",
    "        return subsets\n",
    "\n",
    "    def bfs(self, nums):\n",
    "        queue = deque()\n",
    "        final_lst = [[]]\n",
    "        \n",
    "        for i in range(len(nums)):\n",
    "            queue.append([nums[i]])  # Start each subset with one element\n",
    "        \n",
    "        while queue:\n",
    "            curr = queue.popleft()\n",
    "            final_lst.append(list(curr))  # Add the current subset to the result\n",
    "            \n",
    "            last_index = nums.index(curr[-1])  # Find the index of the last element in `curr`\n",
    "            \n",
    "            for i in range(last_index + 1, len(nums)):  # Add subsequent elements to form new subsets\n",
    "                new_subset = curr + [nums[i]]\n",
    "                queue.append(new_subset)\n",
    "        \n",
    "        return final_lst\n",
    "\n"
   ]
  },
  {
   "cell_type": "code",
   "execution_count": 4,
   "metadata": {},
   "outputs": [
    {
     "data": {
      "text/plain": [
       "[[], [1], [5], [3], [1, 5], [1, 3], [5, 3], [1, 5, 3]]"
      ]
     },
     "execution_count": 4,
     "metadata": {},
     "output_type": "execute_result"
    }
   ],
   "source": [
    "nums = [1, 5, 3]\n",
    "Solution().find_subsets(nums)"
   ]
  }
 ],
 "metadata": {
  "kernelspec": {
   "display_name": "3.9.6",
   "language": "python",
   "name": "python3"
  },
  "language_info": {
   "codemirror_mode": {
    "name": "ipython",
    "version": 3
   },
   "file_extension": ".py",
   "mimetype": "text/x-python",
   "name": "python",
   "nbconvert_exporter": "python",
   "pygments_lexer": "ipython3",
   "version": "3.9.6"
  }
 },
 "nbformat": 4,
 "nbformat_minor": 2
}
