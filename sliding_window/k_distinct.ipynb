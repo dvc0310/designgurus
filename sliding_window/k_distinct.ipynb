{
 "cells": [
  {
   "cell_type": "code",
   "execution_count": 13,
   "metadata": {},
   "outputs": [],
   "source": [
    "class Solution:\n",
    "    def findLength(self, str1, k):\n",
    "        max_length = 0\n",
    "        counter = {}\n",
    "        start = 0\n",
    "        for curr, letter in enumerate(str1):\n",
    "            counter[letter] = counter.get(letter, 0) + 1\n",
    "            while len(counter) > k:\n",
    "                start_letter = str1[start]\n",
    "                counter[start_letter] = counter.get(start_letter, 0) - 1\n",
    "                if counter[start_letter] <= 0:\n",
    "                    del counter[start_letter]\n",
    "                start += 1\n",
    "            max_length = max(curr - start + 1, max_length)\n",
    "                        \n",
    "        return max_length"
   ]
  },
  {
   "cell_type": "code",
   "execution_count": 15,
   "metadata": {},
   "outputs": [
    {
     "data": {
      "text/plain": [
       "4"
      ]
     },
     "execution_count": 15,
     "metadata": {},
     "output_type": "execute_result"
    }
   ],
   "source": [
    "s = \"araaci\"\n",
    "k = 2\n",
    "Solution().findLength(s, k) "
   ]
  }
 ],
 "metadata": {
  "kernelspec": {
   "display_name": "3.9.6",
   "language": "python",
   "name": "python3"
  },
  "language_info": {
   "codemirror_mode": {
    "name": "ipython",
    "version": 3
   },
   "file_extension": ".py",
   "mimetype": "text/x-python",
   "name": "python",
   "nbconvert_exporter": "python",
   "pygments_lexer": "ipython3",
   "version": "3.9.6"
  }
 },
 "nbformat": 4,
 "nbformat_minor": 2
}
