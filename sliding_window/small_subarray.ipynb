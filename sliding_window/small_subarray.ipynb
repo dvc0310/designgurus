{
 "cells": [
  {
   "cell_type": "code",
   "execution_count": 1,
   "metadata": {},
   "outputs": [],
   "source": [
    "import math\n",
    "\n",
    "class Solution:\n",
    "  def findMinSubArray(self, s, arr):\n",
    "    # TODO: Write your code here\n",
    "    min_len = 0\n",
    "    start_idx = 0\n",
    "    curr_len = 0\n",
    "    curr_sum = 0\n",
    "\n",
    "    for end_idx in range(len(arr)):\n",
    "        curr_sum += arr[end_idx]\n",
    "        while curr_sum >= s:\n",
    "            curr_len = end_idx - start_idx + 1\n",
    "            if min_len == 0:\n",
    "                min_len = curr_len\n",
    "            else:\n",
    "                min_len = min(min_len, curr_len)\n",
    "            curr_sum -= arr[start_idx]\n",
    "            start_idx += 1\n",
    "    return min_len      \n"
   ]
  },
  {
   "cell_type": "code",
   "execution_count": 2,
   "metadata": {},
   "outputs": [
    {
     "data": {
      "text/plain": [
       "2"
      ]
     },
     "execution_count": 2,
     "metadata": {},
     "output_type": "execute_result"
    }
   ],
   "source": [
    "arr = [2, 1, 5, 2, 3, 2]\n",
    "S = 7\n",
    "Solution().findMinSubArray(S, arr)"
   ]
  },
  {
   "cell_type": "code",
   "execution_count": 3,
   "metadata": {},
   "outputs": [
    {
     "data": {
      "text/plain": [
       "1"
      ]
     },
     "execution_count": 3,
     "metadata": {},
     "output_type": "execute_result"
    }
   ],
   "source": [
    "arr = [2, 1, 5, 2, 8]\n",
    "S = 7\n",
    "Solution().findMinSubArray(S, arr)"
   ]
  }
 ],
 "metadata": {
  "kernelspec": {
   "display_name": "Python 3",
   "language": "python",
   "name": "python3"
  },
  "language_info": {
   "codemirror_mode": {
    "name": "ipython",
    "version": 3
   },
   "file_extension": ".py",
   "mimetype": "text/x-python",
   "name": "python",
   "nbconvert_exporter": "python",
   "pygments_lexer": "ipython3",
   "version": "3.9.6"
  }
 },
 "nbformat": 4,
 "nbformat_minor": 2
}
