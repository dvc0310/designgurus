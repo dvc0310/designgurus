{
 "cells": [
  {
   "cell_type": "markdown",
   "metadata": {},
   "source": [
    "# Introduction to Sliding Window Pattern"
   ]
  },
  {
   "cell_type": "markdown",
   "metadata": {},
   "source": [
    "## Given an array, find the average of each subarray of ‘K’ contiguous elements in it.\n",
    "\n",
    "### Example\n",
    "Array: [1, 3, 2, 6, -1, 4, 1, 8, 2], K=5\n",
    "\n",
    "Output: [2.2, 2.8, 2.4, 3.6, 2.8]\n"
   ]
  },
  {
   "cell_type": "code",
   "execution_count": 5,
   "metadata": {},
   "outputs": [],
   "source": [
    "class Solution:\n",
    "  def findAverages(self, K, arr):\n",
    "      summed = sum(arr[:K])\n",
    "      avg_arr = [summed]\n",
    "      for i in range(1, len(arr) - K + 1):\n",
    "          summed -= arr[i-1]\n",
    "          summed += arr[K + i - 1]\n",
    "          avg_arr.append(summed)\n",
    "          \n",
    "      return [summed / K for summed in avg_arr]"
   ]
  },
  {
   "cell_type": "code",
   "execution_count": 6,
   "metadata": {},
   "outputs": [
    {
     "data": {
      "text/plain": [
       "[2.2, 2.8, 2.4, 3.6, 2.8]"
      ]
     },
     "execution_count": 6,
     "metadata": {},
     "output_type": "execute_result"
    }
   ],
   "source": [
    "arr = [1, 3, 2, 6, -1, 4, 1, 8, 2]\n",
    "K=5\n",
    "\n",
    "Solution().findAverages(K, arr)"
   ]
  },
  {
   "cell_type": "code",
   "execution_count": 8,
   "metadata": {},
   "outputs": [
    {
     "name": "stdout",
     "output_type": "stream",
     "text": [
      "11\n"
     ]
    }
   ],
   "source": [
    "arr = [1, 3, 2, 6, -1, 4, 1, 8, 2]\n",
    "K = 5\n",
    "summed = sum(arr[:K])\n",
    "print(summed)  # Should output 11\n"
   ]
  }
 ],
 "metadata": {
  "kernelspec": {
   "display_name": "3.9.6",
   "language": "python",
   "name": "python3"
  },
  "language_info": {
   "codemirror_mode": {
    "name": "ipython",
    "version": 3
   },
   "file_extension": ".py",
   "mimetype": "text/x-python",
   "name": "python",
   "nbconvert_exporter": "python",
   "pygments_lexer": "ipython3",
   "version": "3.9.6"
  }
 },
 "nbformat": 4,
 "nbformat_minor": 2
}
