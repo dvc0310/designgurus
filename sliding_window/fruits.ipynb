{
 "cells": [
  {
   "cell_type": "code",
   "execution_count": 7,
   "metadata": {},
   "outputs": [],
   "source": [
    "class Solution:\n",
    "    def findLength(self, fruits):\n",
    "        max_length = 0\n",
    "        start = 0\n",
    "        counter = {}\n",
    "        for i in range(len(fruits)):\n",
    "            counter[fruits[i]] = counter.get(fruits[i], 0) + 1\n",
    "            while len(counter.keys()) > 2:\n",
    "                counter[fruits[start]] -= 1\n",
    "                if counter[fruits[start]] == 0:\n",
    "                    del counter[fruits[start]]\n",
    "                start += 1\n",
    "            max_length = max(i - start + 1, max_length)\n",
    "        return max_length\n"
   ]
  },
  {
   "cell_type": "code",
   "execution_count": 9,
   "metadata": {},
   "outputs": [
    {
     "data": {
      "text/plain": [
       "4"
      ]
     },
     "execution_count": 9,
     "metadata": {},
     "output_type": "execute_result"
    }
   ],
   "source": [
    "arr = [\"A\", \"A\", \"A\", \"B\", \"C\", \"C\", \"C\"]\n",
    "Solution().findLength(arr)"
   ]
  }
 ],
 "metadata": {
  "kernelspec": {
   "display_name": "Python 3",
   "language": "python",
   "name": "python3"
  },
  "language_info": {
   "codemirror_mode": {
    "name": "ipython",
    "version": 3
   },
   "file_extension": ".py",
   "mimetype": "text/x-python",
   "name": "python",
   "nbconvert_exporter": "python",
   "pygments_lexer": "ipython3",
   "version": "3.9.6"
  }
 },
 "nbformat": 4,
 "nbformat_minor": 2
}
