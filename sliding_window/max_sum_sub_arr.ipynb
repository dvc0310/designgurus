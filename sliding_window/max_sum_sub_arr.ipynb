{
 "cells": [
  {
   "cell_type": "markdown",
   "metadata": {},
   "source": [
    "# Maximum Sum Subarray of Size K (easy)\n"
   ]
  },
  {
   "cell_type": "markdown",
   "metadata": {},
   "source": [
    "## Problem Statement\n",
    "***\n",
    "Given an array of positive numbers and a positive number 'k,' find the maximum sum of any contiguous subarray of size 'k'.\n",
    "\n",
    "### Example 1:\n",
    "\n",
    "```\n",
    "Input: arr = [2, 1, 5, 1, 3, 2], k=3 \n",
    "Output: 9\n",
    "Explanation: Subarray with maximum sum is [5, 1, 3].\n",
    "```\n",
    "\n",
    "### Example 2:\n",
    "\n",
    "```\n",
    "Input: arr = [2, 3, 4, 1, 5], k=2 \n",
    "Output: 7\n",
    "Explanation: Subarray with maximum sum is [3, 4].\n",
    "```"
   ]
  },
  {
   "cell_type": "code",
   "execution_count": 1,
   "metadata": {},
   "outputs": [],
   "source": [
    "class Solution:\n",
    "    def findMaxSumSubArray(self, k, arr):\n",
    "        curr_sum = sum(arr[:k])\n",
    "        max_sum = curr_sum\n",
    "        for i in range(1, len(arr) - k + 1):\n",
    "            curr_sum -= arr[i - 1]\n",
    "            curr_sum += arr[k + i - 1]\n",
    "            max_sum = max(max_sum, curr_sum)\n",
    "        return max_sum"
   ]
  },
  {
   "cell_type": "code",
   "execution_count": 3,
   "metadata": {},
   "outputs": [
    {
     "data": {
      "text/plain": [
       "7"
      ]
     },
     "execution_count": 3,
     "metadata": {},
     "output_type": "execute_result"
    }
   ],
   "source": [
    "arr = [2, 3, 4, 1, 5]\n",
    "k = 2\n",
    "\n",
    "Solution().findMaxSumSubArray(k, arr)"
   ]
  }
 ],
 "metadata": {
  "kernelspec": {
   "display_name": "Python 3",
   "language": "python",
   "name": "python3"
  },
  "language_info": {
   "codemirror_mode": {
    "name": "ipython",
    "version": 3
   },
   "file_extension": ".py",
   "mimetype": "text/x-python",
   "name": "python",
   "nbconvert_exporter": "python",
   "pygments_lexer": "ipython3",
   "version": "3.9.6"
  }
 },
 "nbformat": 4,
 "nbformat_minor": 2
}
