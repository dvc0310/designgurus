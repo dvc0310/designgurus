{
 "cells": [
  {
   "cell_type": "code",
   "execution_count": 14,
   "metadata": {},
   "outputs": [],
   "source": [
    "class NotificationService:\n",
    "    def send_email(self, user_email, message):\n",
    "        print(f\"Sending email to {user_email} with message: {message}\")\n",
    "\n",
    "\n",
    "def notify_user(notification_service, user_email):\n",
    "    message = \"Hello! You've got a notification.\"\n",
    "    notification_service.send_email(user_email, message)\n"
   ]
  },
  {
   "cell_type": "code",
   "execution_count": 15,
   "metadata": {},
   "outputs": [
    {
     "name": "stdout",
     "output_type": "stream",
     "text": [
      "Sending email to user@example.com with message: Hello! You've got a notification.\n"
     ]
    }
   ],
   "source": [
    "notif = NotificationService()\n",
    "notif.send_email(\"user@example.com\", \"Hello! You've got a notification.\")\n"
   ]
  },
  {
   "cell_type": "code",
   "execution_count": 16,
   "metadata": {},
   "outputs": [
    {
     "name": "stdout",
     "output_type": "stream",
     "text": [
      "Test passed: send_email was called once with the correct arguments.\n",
      "Call arguments: call('user@example.com', \"Hello! You've got a notification.\")\n"
     ]
    }
   ],
   "source": [
    "from unittest.mock import Mock\n",
    "\n",
    "# Create a mock for NotificationService\n",
    "notification_service_mock = Mock()\n",
    "\n",
    "# Call the function under test with the mock\n",
    "notify_user(notification_service_mock, \"user@example.com\")\n",
    "\n",
    "# Verify that send_email was called once with the correct arguments\n",
    "try:\n",
    "    notification_service_mock.send_email.assert_called_once_with(\n",
    "        \"user@example.com\", \"Hello! You've got a notification.\"\n",
    "    )\n",
    "    print(\"Test passed: send_email was called once with the correct arguments.\")\n",
    "except AssertionError as e:\n",
    "    print(f\"Test failed: {e}\")\n",
    "\n",
    "# Optional: Print call details for debugging\n",
    "print(\"Call arguments:\", notification_service_mock.send_email.call_args)"
   ]
  },
  {
   "cell_type": "code",
   "execution_count": 17,
   "metadata": {},
   "outputs": [],
   "source": [
    "# Function under test with a bug\n",
    "def notify_user(notification_service, user_email):\n",
    "    # Incorrect message being passed\n",
    "    message = \"Oops! This is the wrong message.\"\n",
    "    notification_service.send_email(user_email, message)\n"
   ]
  },
  {
   "cell_type": "code",
   "execution_count": 18,
   "metadata": {},
   "outputs": [
    {
     "name": "stdout",
     "output_type": "stream",
     "text": [
      "Test failed: expected call not found.\n",
      "Expected: send_email('user@example.com', \"Hello! You've got a notification.\")\n",
      "Actual: send_email('user@example.com', 'Oops! This is the wrong message.')\n",
      "Actual call arguments: call('user@example.com', 'Oops! This is the wrong message.')\n"
     ]
    }
   ],
   "source": [
    "from unittest.mock import Mock\n",
    "\n",
    "# Create a mock for NotificationService\n",
    "notification_service_mock = Mock()\n",
    "\n",
    "# Call the function under test with the mock\n",
    "notify_user(notification_service_mock, \"user@example.com\")\n",
    "\n",
    "# Verify that send_email was called with the correct arguments\n",
    "try:\n",
    "    notification_service_mock.send_email.assert_called_once_with(\n",
    "        \"user@example.com\", \"Hello! You've got a notification.\"\n",
    "    )\n",
    "    print(\"Test passed: send_email was called once with the correct arguments.\")\n",
    "except AssertionError as e:\n",
    "    print(f\"Test failed: {e}\")\n",
    "\n",
    "# Print the actual call arguments for debugging\n",
    "print(\"Actual call arguments:\", notification_service_mock.send_email.call_args)\n"
   ]
  },
  {
   "cell_type": "markdown",
   "metadata": {},
   "source": [
    "# Using both stubs and mocks"
   ]
  },
  {
   "cell_type": "code",
   "execution_count": 19,
   "metadata": {},
   "outputs": [
    {
     "name": "stdout",
     "output_type": "stream",
     "text": [
      "Test passed: send_email was called with the correct arguments.\n"
     ]
    }
   ],
   "source": [
    "from unittest.mock import Mock\n",
    "\n",
    "# Stub: Define APIClient behavior\n",
    "class APIClientStub:\n",
    "    def get_user(self, user_id):\n",
    "        return {\"id\": user_id, \"name\": \"Stubbed User\"}\n",
    "\n",
    "# Mock: Track interactions with another dependency\n",
    "notification_service_mock = Mock()\n",
    "\n",
    "def process_and_notify(api_client, notification_service, user_id):\n",
    "    user_data = api_client.get_user(user_id)\n",
    "    notification_service.send_email(user_data[\"id\"], f\"Welcome {user_data['name']}!\")\n",
    "\n",
    "# Replace dependencies\n",
    "api_client_stub = APIClientStub()\n",
    "\n",
    "# Call the function under test\n",
    "process_and_notify(api_client_stub, notification_service_mock, 1)\n",
    "\n",
    "# Try-Catch for Assertions\n",
    "try:\n",
    "    # Verify interactions with the mock\n",
    "    notification_service_mock.send_email.assert_called_once_with(\n",
    "        1, \"Welcome Stubbed User!\"\n",
    "    )\n",
    "    print(\"Test passed: send_email was called with the correct arguments.\")\n",
    "except AssertionError as e:\n",
    "    print(f\"Test failed: {e}\")\n",
    "\n"
   ]
  },
  {
   "cell_type": "code",
   "execution_count": 20,
   "metadata": {},
   "outputs": [
    {
     "name": "stdout",
     "output_type": "stream",
     "text": [
      "Test failed: expected call not found.\n",
      "Expected: send_email(1, 'Welcome Stubbed User!')\n",
      "Actual: send_email(1, 'Hello Stubbed User!')\n"
     ]
    }
   ],
   "source": [
    "from unittest.mock import Mock\n",
    "\n",
    "# Stub: Define APIClient behavior\n",
    "class APIClientStub:\n",
    "    def get_user(self, user_id):\n",
    "        return {\"id\": user_id, \"name\": \"Stubbed User\"}\n",
    "\n",
    "# Mock: Track interactions with another dependency\n",
    "notification_service_mock = Mock()\n",
    "\n",
    "def process_and_notify(api_client, notification_service, user_id):\n",
    "    user_data = api_client.get_user(user_id)\n",
    "    # Bug: Incorrect message format\n",
    "    notification_service.send_email(user_data[\"id\"], f\"Hello {user_data['name']}!\")  # Incorrect message\n",
    "\n",
    "# Replace dependencies\n",
    "api_client_stub = APIClientStub()\n",
    "\n",
    "# Call the function under test\n",
    "process_and_notify(api_client_stub, notification_service_mock, 1)\n",
    "\n",
    "# Try-Catch for Assertions\n",
    "try:\n",
    "    # Verify interactions with the mock\n",
    "    notification_service_mock.send_email.assert_called_once_with(\n",
    "        1, \"Welcome Stubbed User!\"  # Expected message\n",
    "    )\n",
    "    print(\"Test passed: send_email was called with the correct arguments.\")\n",
    "except AssertionError as e:\n",
    "    print(f\"Test failed: {e}\")\n"
   ]
  }
 ],
 "metadata": {
  "kernelspec": {
   "display_name": "3.9.6",
   "language": "python",
   "name": "python3"
  },
  "language_info": {
   "codemirror_mode": {
    "name": "ipython",
    "version": 3
   },
   "file_extension": ".py",
   "mimetype": "text/x-python",
   "name": "python",
   "nbconvert_exporter": "python",
   "pygments_lexer": "ipython3",
   "version": "3.9.6"
  }
 },
 "nbformat": 4,
 "nbformat_minor": 2
}
