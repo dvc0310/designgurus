{
 "cells": [
  {
   "cell_type": "code",
   "execution_count": 90,
   "metadata": {},
   "outputs": [],
   "source": [
    "from collections import deque\n",
    "class Solution(object):\n",
    "    def kthFactor(self, n, k):\n",
    "        factors = []\n",
    "        for i in range(1, int(n**0.5) + 1):\n",
    "            if n % i == 0:\n",
    "                factors.append(i)  # Add the smaller factor\n",
    "                if i != n // i:   # Add the larger factor if it's different\n",
    "                    factors.append(n // i)\n",
    "        \n",
    "        # Sort factors and return the k-th smallest\n",
    "        factors.sort()  # Sorting is O(√n * log(√n)), negligible compared to O(n)\n",
    "        return factors[k-1] if k <= len(factors) else -1\n",
    "\n",
    "   \n",
    "sol = Solution()"
   ]
  },
  {
   "cell_type": "code",
   "execution_count": 94,
   "metadata": {},
   "outputs": [
    {
     "name": "stdout",
     "output_type": "stream",
     "text": [
      "3\n",
      "7\n",
      "-1\n"
     ]
    }
   ],
   "source": [
    "# Test cases\n",
    "print(sol.kthFactor(12, 3))  # Output: 3\n",
    "print(sol.kthFactor(7, 2))   # Output: 7\n",
    "print(sol.kthFactor(4, 4))   # Output: -1"
   ]
  },
  {
   "cell_type": "code",
   "execution_count": 92,
   "metadata": {},
   "outputs": [
    {
     "data": {
      "text/plain": [
       "-1"
      ]
     },
     "execution_count": 92,
     "metadata": {},
     "output_type": "execute_result"
    }
   ],
   "source": [
    "sol.kthFactor(4, 4)"
   ]
  },
  {
   "cell_type": "code",
   "execution_count": 93,
   "metadata": {},
   "outputs": [
    {
     "data": {
      "text/plain": [
       "7"
      ]
     },
     "execution_count": 93,
     "metadata": {},
     "output_type": "execute_result"
    }
   ],
   "source": [
    "sol.kthFactor(7, 2)"
   ]
  }
 ],
 "metadata": {
  "kernelspec": {
   "display_name": "3.9.6",
   "language": "python",
   "name": "python3"
  },
  "language_info": {
   "codemirror_mode": {
    "name": "ipython",
    "version": 3
   },
   "file_extension": ".py",
   "mimetype": "text/x-python",
   "name": "python",
   "nbconvert_exporter": "python",
   "pygments_lexer": "ipython3",
   "version": "3.9.6"
  }
 },
 "nbformat": 4,
 "nbformat_minor": 2
}
