{
 "cells": [
  {
   "cell_type": "code",
   "execution_count": 8,
   "metadata": {},
   "outputs": [],
   "source": [
    "class APIClient:\n",
    "    def get_user(self, user_id):\n",
    "        # Simulates a real API call to fetch user data\n",
    "        pass\n",
    "\n",
    "def process_user(api_client, user_id):\n",
    "    user_data = api_client.get_user(user_id)\n",
    "    return user_data[\"name\"].upper()\n"
   ]
  },
  {
   "cell_type": "code",
   "execution_count": 11,
   "metadata": {},
   "outputs": [
    {
     "name": "stdout",
     "output_type": "stream",
     "text": [
      "Test passed: Result is 'TEST USER'.\n"
     ]
    }
   ],
   "source": [
    "class APIClientStub:\n",
    "    def get_user(self, user_id):\n",
    "        # Stub returns predefined user data\n",
    "        return {\"id\": user_id, \"name\": \"Test User\"}\n",
    "\n",
    "# Replace the real APIClient with the stub\n",
    "api_client_stub = APIClientStub()\n",
    "\n",
    "# Call the function under test\n",
    "result = process_user(api_client_stub, 1)\n",
    "\n",
    "try:\n",
    "    assert result == \"TEST USER\"\n",
    "    print(\"Test passed: Result is 'TEST USER'.\")\n",
    "except AssertionError:\n",
    "    print(\"Test failed: Result is not 'TEST USER'.\")\n",
    "\n",
    "\n"
   ]
  },
  {
   "cell_type": "code",
   "execution_count": 10,
   "metadata": {},
   "outputs": [
    {
     "name": "stdout",
     "output_type": "stream",
     "text": [
      "Test failed: Result is not 'TEST USER'.\n"
     ]
    }
   ],
   "source": [
    "class APIClientStub:\n",
    "    def get_user(self, user_id):\n",
    "        # Stub returns predefined user data\n",
    "        return {\"id\": user_id, \"name\": \"Test User3\"}\n",
    "\n",
    "# Replace the real APIClient with the stub\n",
    "api_client_stub = APIClientStub()\n",
    "\n",
    "# Call the function under test\n",
    "result = process_user(api_client_stub, 1)\n",
    "\n",
    "try:\n",
    "    assert result == \"TEST USER\"\n",
    "    print(\"Test passed: Result is 'TEST USER'.\")\n",
    "except AssertionError:\n",
    "    print(\"Test failed: Result is not 'TEST USER'.\")\n"
   ]
  }
 ],
 "metadata": {
  "kernelspec": {
   "display_name": "3.9.6",
   "language": "python",
   "name": "python3"
  },
  "language_info": {
   "codemirror_mode": {
    "name": "ipython",
    "version": 3
   },
   "file_extension": ".py",
   "mimetype": "text/x-python",
   "name": "python",
   "nbconvert_exporter": "python",
   "pygments_lexer": "ipython3",
   "version": "3.9.6"
  }
 },
 "nbformat": 4,
 "nbformat_minor": 2
}
