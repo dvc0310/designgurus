{
 "cells": [
  {
   "cell_type": "code",
   "execution_count": 7,
   "metadata": {},
   "outputs": [],
   "source": [
    "from collections import defaultdict\n",
    "\n",
    "class Solution:\n",
    "    def mergeSimilarItems(self, items1, items2):\n",
    "        # Using defaultdict to automatically handle non-existing keys\n",
    "        merged_items = defaultdict(int)\n",
    "\n",
    "        # Process items from the first list\n",
    "        for item, value in items1:\n",
    "            merged_items[item] += value\n",
    "\n",
    "        # Process items from the second list\n",
    "        for item, value in items2:\n",
    "            merged_items[item] += value\n",
    "\n",
    "        # Sort and return the result based on item ID\n",
    "        return sorted([[item, value] for item, value in merged_items.items()])\n"
   ]
  },
  {
   "cell_type": "code",
   "execution_count": 8,
   "metadata": {},
   "outputs": [
    {
     "data": {
      "text/plain": [
       "[[1, 2], [2, 1], [3, 4], [4, 6]]"
      ]
     },
     "execution_count": 8,
     "metadata": {},
     "output_type": "execute_result"
    }
   ],
   "source": [
    "items1 = [[1,2],[4,3]]\n",
    "items2 = [[2,1],[4,3],[3,4]]\n",
    "Solution().mergeSimilarItems(items1, items2)"
   ]
  }
 ],
 "metadata": {
  "kernelspec": {
   "display_name": "3.9.6",
   "language": "python",
   "name": "python3"
  },
  "language_info": {
   "codemirror_mode": {
    "name": "ipython",
    "version": 3
   },
   "file_extension": ".py",
   "mimetype": "text/x-python",
   "name": "python",
   "nbconvert_exporter": "python",
   "pygments_lexer": "ipython3",
   "version": "3.9.6"
  }
 },
 "nbformat": 4,
 "nbformat_minor": 2
}
