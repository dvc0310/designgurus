{
 "cells": [
  {
   "cell_type": "code",
   "execution_count": 1,
   "metadata": {},
   "outputs": [],
   "source": [
    "class OrderedSetPython:\n",
    "    def __init__(self):\n",
    "        self.set = []\n",
    "\n",
    "    def add(self, element):\n",
    "        if element not in self.set:\n",
    "            self.set.append(element)\n",
    "            self.set.sort(reverse=True)\n",
    "\n",
    "    def find_by_order(self, k):\n",
    "        if k < 0 or k >= len(self.set):\n",
    "            return None\n",
    "        return self.set[k]\n",
    "\n",
    "    def order_of_key(self, element):\n",
    "        return sum(1 for x in self.set if x > element)"
   ]
  },
  {
   "cell_type": "code",
   "execution_count": 3,
   "metadata": {},
   "outputs": [
    {
     "name": "stdout",
     "output_type": "stream",
     "text": [
      "2\n",
      "1\n",
      "[5, 2, 1]\n"
     ]
    }
   ],
   "source": [
    "orderedSet = OrderedSetPython()\n",
    "orderedSet.add(5)\n",
    "orderedSet.add(1)\n",
    "orderedSet.add(2)\n",
    "\n",
    "print(orderedSet.find_by_order(1))  # Find 2nd element in descending order\n",
    "print(orderedSet.order_of_key(3))   # Elements greater than 3 in descending order\n",
    "print(orderedSet.set)"
   ]
  }
 ],
 "metadata": {
  "kernelspec": {
   "display_name": "3.9.6",
   "language": "python",
   "name": "python3"
  },
  "language_info": {
   "codemirror_mode": {
    "name": "ipython",
    "version": 3
   },
   "file_extension": ".py",
   "mimetype": "text/x-python",
   "name": "python",
   "nbconvert_exporter": "python",
   "pygments_lexer": "ipython3",
   "version": "3.9.6"
  }
 },
 "nbformat": 4,
 "nbformat_minor": 2
}
