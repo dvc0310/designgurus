{
 "cells": [
  {
   "cell_type": "code",
   "execution_count": 32,
   "metadata": {},
   "outputs": [],
   "source": [
    "class Node:\n",
    "    def __init__(self, value, children=None):\n",
    "        self.value = value\n",
    "        self.children = children if children is not None else []\n",
    "\n",
    "    def __repr__(self):\n",
    "        return f\"Node({self.value}, {self.children})\"\n"
   ]
  },
  {
   "cell_type": "code",
   "execution_count": 33,
   "metadata": {},
   "outputs": [],
   "source": [
    "def decode(lst):\n",
    "    stack = []\n",
    "    \n",
    "    while lst:\n",
    "        curr_val, curr_count = lst.pop()  \n",
    "        node = Node(curr_val, [])       \n",
    "        \n",
    "        while curr_count > 0:\n",
    "            child = stack.pop()          \n",
    "            node.children.append(child)  \n",
    "            curr_count -= 1\n",
    "        \n",
    "        stack.append(node)               \n",
    "    return stack.pop()\n"
   ]
  },
  {
   "cell_type": "code",
   "execution_count": 37,
   "metadata": {},
   "outputs": [],
   "source": [
    "def decode(lst):\n",
    "    def build_tree(stack, remaining_list):\n",
    "        if not remaining_list:\n",
    "            return stack[0]\n",
    "\n",
    "        curr_val, curr_count = remaining_list[0]\n",
    "        remaining_list = remaining_list[1:]\n",
    "\n",
    "        def add_children(acc, num_children, stack):\n",
    "            if num_children == 0:\n",
    "                return acc, stack\n",
    "            \n",
    "            child = stack[0]\n",
    "            stack = stack[1:]\n",
    "\n",
    "            return add_children([child] + acc, num_children - 1, stack)\n",
    "        \n",
    "        children, updated_stack = add_children([], curr_count, stack)\n",
    "        \n",
    "        return build_tree([Node(curr_val, children)] + updated_stack, remaining_list)\n",
    "\n",
    "    return build_tree([], list(reversed(lst.copy())))\n"
   ]
  },
  {
   "cell_type": "code",
   "execution_count": 38,
   "metadata": {},
   "outputs": [
    {
     "data": {
      "text/plain": [
       "Node(a, [Node(g, [Node(x, [])]), Node(b, [Node(e, []), Node(d, [Node(f, [])]), Node(c, [])])])"
      ]
     },
     "execution_count": 38,
     "metadata": {},
     "output_type": "execute_result"
    }
   ],
   "source": [
    "lst = [(\"a\", 2), (\"b\", 3), (\"c\", 0), (\"d\", 1), (\"f\", 0), (\"e\", 0), (\"g\", 1), (\"x\", 0)]\n",
    "decode(lst)"
   ]
  }
 ],
 "metadata": {
  "kernelspec": {
   "display_name": "3.9.6",
   "language": "python",
   "name": "python3"
  },
  "language_info": {
   "codemirror_mode": {
    "name": "ipython",
    "version": 3
   },
   "file_extension": ".py",
   "mimetype": "text/x-python",
   "name": "python",
   "nbconvert_exporter": "python",
   "pygments_lexer": "ipython3",
   "version": "3.9.6"
  }
 },
 "nbformat": 4,
 "nbformat_minor": 2
}
