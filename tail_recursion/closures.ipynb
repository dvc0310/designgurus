{
 "cells": [
  {
   "cell_type": "code",
   "execution_count": 12,
   "metadata": {},
   "outputs": [],
   "source": [
    "def make_f():\n",
    "    y = [0]  # Using a list to mimic a mutable reference\n",
    "\n",
    "    def f(z):\n",
    "        y[0] += z  # Update the value in the \"reference\"\n",
    "        return y[0]\n",
    "\n",
    "    return f\n",
    "\n",
    "f = make_f()\n"
   ]
  },
  {
   "cell_type": "code",
   "execution_count": 13,
   "metadata": {},
   "outputs": [
    {
     "name": "stdout",
     "output_type": "stream",
     "text": [
      "1\n",
      "3\n",
      "6\n",
      "10\n"
     ]
    }
   ],
   "source": [
    "f = make_f()\n",
    "\n",
    "print(f(1))  # First call: y = 0 + 1 = 1, prints 1\n",
    "print(f(2))  # Second call: y = 1 + 2 = 3, prints 3\n",
    "print(f(3))  # Third call: y = 3 + 3 = 6, prints 6\n",
    "print(f(4))  "
   ]
  }
 ],
 "metadata": {
  "kernelspec": {
   "display_name": "3.9.6",
   "language": "python",
   "name": "python3"
  },
  "language_info": {
   "codemirror_mode": {
    "name": "ipython",
    "version": 3
   },
   "file_extension": ".py",
   "mimetype": "text/x-python",
   "name": "python",
   "nbconvert_exporter": "python",
   "pygments_lexer": "ipython3",
   "version": "3.9.6"
  }
 },
 "nbformat": 4,
 "nbformat_minor": 2
}
