{
 "cells": [
  {
   "cell_type": "code",
   "execution_count": 102,
   "metadata": {},
   "outputs": [],
   "source": [
    "def traverse_matrix(matrix):\n",
    "    i = 0\n",
    "    while i < len(matrix):\n",
    "        j = 0\n",
    "        while j < len(matrix[i]):\n",
    "            print(matrix[i][j])\n",
    "            j += 1\n",
    "        i += 1\n"
   ]
  },
  {
   "cell_type": "code",
   "execution_count": 103,
   "metadata": {},
   "outputs": [],
   "source": [
    "def recursive_traverse_matrix(matrix):\n",
    "    def outer_loop(remaining, acc):\n",
    "        if not remaining:\n",
    "            return acc\n",
    "        curr_lst = remaining[0]\n",
    "        remaining = remaining[1:]\n",
    "        def inner_loop(acc, rem_lst):\n",
    "            if not rem_lst:\n",
    "                return acc\n",
    "            curr_num = rem_lst[0]\n",
    "            rem_lst = rem_lst[1:]\n",
    "            return inner_loop([curr_num] + acc, rem_lst)\n",
    "        acc_lst = inner_loop([], curr_lst)\n",
    "        return outer_loop(remaining, acc_lst + acc)\n",
    "    return outer_loop(matrix, [])\n",
    "        "
   ]
  },
  {
   "cell_type": "code",
   "execution_count": 104,
   "metadata": {},
   "outputs": [
    {
     "data": {
      "text/plain": [
       "[9, 8, 7, 6, 5, 4, 3, 2, 1]"
      ]
     },
     "execution_count": 104,
     "metadata": {},
     "output_type": "execute_result"
    }
   ],
   "source": [
    "matrix = [\n",
    "    [1, 2, 3],\n",
    "    [4, 5, 6],\n",
    "    [7, 8, 9]\n",
    "]\n",
    "\n",
    "# Recursive function usage\n",
    "recursive_traverse_matrix(matrix)\n"
   ]
  },
  {
   "cell_type": "code",
   "execution_count": 105,
   "metadata": {},
   "outputs": [],
   "source": [
    "def dfs(graph, start):\n",
    "    visited = set()\n",
    "    stack = [start]\n",
    "    while stack:\n",
    "        vertex = stack.pop()\n",
    "        if vertex not in visited:\n",
    "            print(vertex)\n",
    "            visited.add(vertex)\n",
    "            i = 0\n",
    "            while i < len(graph[vertex]):\n",
    "                stack.append(graph[vertex][i])\n",
    "                i += 1\n"
   ]
  },
  {
   "cell_type": "code",
   "execution_count": 106,
   "metadata": {},
   "outputs": [
    {
     "name": "stdout",
     "output_type": "stream",
     "text": [
      "A\n",
      "C\n",
      "F\n",
      "B\n",
      "E\n",
      "D\n"
     ]
    }
   ],
   "source": [
    "graph = {\n",
    "    'A': ['B', 'C'],\n",
    "    'B': ['D', 'E'],\n",
    "    'C': ['F'],\n",
    "    'D': [],\n",
    "    'E': ['F'],\n",
    "    'F': []\n",
    "}\n",
    "\n",
    "# Start DFS from node 'A'\n",
    "dfs(graph, 'A')"
   ]
  },
  {
   "cell_type": "code",
   "execution_count": 107,
   "metadata": {},
   "outputs": [],
   "source": [
    "def recursive_dfs(graph, start):\n",
    "    def outer(stack, visited, acc):\n",
    "        if not stack:\n",
    "            return [start] + acc\n",
    "        curr = stack[0]\n",
    "        tail = stack[1:]\n",
    "        if curr not in visited:\n",
    "            visited.add(curr)\n",
    "            def inner(neighbors, acc, stack):\n",
    "                if not neighbors:\n",
    "                    return acc, stack\n",
    "                neighbor = neighbors[0]\n",
    "                rem_neighbors = neighbors[1:]\n",
    "                if neighbor not in visited:\n",
    "                    return inner(rem_neighbors, [neighbor] + acc, [neighbor] + stack)\n",
    "                else:\n",
    "                    return inner(rem_neighbors, acc, stack)\n",
    "            \n",
    "            new_acc, new_stack = inner(graph[curr], acc, tail)\n",
    "            return outer(new_stack, visited, new_acc)\n",
    "        else:\n",
    "            return outer(tail, visited, acc)\n",
    "    return outer([start], set(), [])\n",
    "                      "
   ]
  },
  {
   "cell_type": "markdown",
   "metadata": {},
   "source": [
    "```Ocaml\n",
    "let recursive_dfs graph start =\n",
    "  let rec outer stack visited acc_reversed =\n",
    "    match stack with\n",
    "    | [] -> List.rev acc_reversed (* Reverse at the end *)\n",
    "    | curr :: tail ->\n",
    "        if not (Hashtbl.mem visited curr) then\n",
    "          begin\n",
    "            Hashtbl.add visited curr (); (* Mark as visited *)\n",
    "            let rec inner neighbors acc_reversed stack =\n",
    "              match neighbors with\n",
    "              | [] -> acc_reversed, stack\n",
    "              | neighbor :: rem_neighbors ->\n",
    "                  if not (Hashtbl.mem visited neighbor) then\n",
    "                    inner rem_neighbors (neighbor :: acc_reversed) (neighbor :: stack)\n",
    "                  else\n",
    "                    inner rem_neighbors acc_reversed stack\n",
    "            in\n",
    "            let new_acc_reversed, new_stack = inner (Hashtbl.find graph curr) acc_reversed tail in\n",
    "            outer new_stack visited (curr :: new_acc_reversed) (* Efficient prepend *)\n",
    "          end\n",
    "        else\n",
    "          outer tail visited acc_reversed\n",
    "  in\n",
    "  outer [start] (Hashtbl.create 16) [] (* Initial stack, visited set, and reversed accumulator *)\n",
    "\n",
    "```"
   ]
  },
  {
   "cell_type": "code",
   "execution_count": 109,
   "metadata": {},
   "outputs": [
    {
     "data": {
      "text/plain": [
       "['A', 'E', 'D', 'F', 'C', 'B']"
      ]
     },
     "execution_count": 109,
     "metadata": {},
     "output_type": "execute_result"
    }
   ],
   "source": [
    "graph = {\n",
    "    'A': ['B', 'C'],\n",
    "    'B': ['D', 'E'],\n",
    "    'C': ['F'],\n",
    "    'D': [],\n",
    "    'E': ['F'],\n",
    "    'F': []\n",
    "}\n",
    "\n",
    "# Start DFS from node 'A'\n",
    "recursive_dfs(graph, 'A')\n"
   ]
  }
 ],
 "metadata": {
  "kernelspec": {
   "display_name": "3.9.6",
   "language": "python",
   "name": "python3"
  },
  "language_info": {
   "codemirror_mode": {
    "name": "ipython",
    "version": 3
   },
   "file_extension": ".py",
   "mimetype": "text/x-python",
   "name": "python",
   "nbconvert_exporter": "python",
   "pygments_lexer": "ipython3",
   "version": "3.9.6"
  }
 },
 "nbformat": 4,
 "nbformat_minor": 2
}
